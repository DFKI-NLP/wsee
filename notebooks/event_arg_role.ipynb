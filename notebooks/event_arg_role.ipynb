{
 "cells": [
  {
   "cell_type": "markdown",
   "metadata": {},
   "source": [
    "# Transform the data to work with Snorkel: Part 2 - Event Role\n",
    "\n",
    "Here we will do most of the work creating a labeling model that assigns labels to argument roles in event mentions.\n",
    "We need to create a row for each pair of trigger and entity mention.\n",
    "\n",
    "For this we need to create 2 additional columns:\n",
    "- trigger_id\n",
    "- argument_id\n",
    "\n",
    "Everything else we can pull from the other columns using Snorkel preprocessor functions."
   ]
  },
  {
   "cell_type": "code",
   "execution_count": 3,
   "metadata": {},
   "outputs": [],
   "source": [
    "import sys\n",
    "sys.path.append(\"../\")\n",
    "from wsee.utils import utils\n",
    "from wsee.data.pipeline import load_data, build_event_trigger_examples\n",
    "\n",
    "DATA_DIR = '/Users/phuc/data/snorkel-daystreamv5'  # replace path to corpus\n",
    "use_defaults = True\n",
    "suffix = '_with_events_and_defaults.jsonl' if use_defaults else '_with_events.jsonl'"
   ]
  },
  {
   "cell_type": "code",
   "execution_count": 4,
   "metadata": {},
   "outputs": [],
   "source": [
    "loaded_data = load_data(DATA_DIR)\n",
    "sd_train = loaded_data['train']\n",
    "sd_dev = loaded_data['dev']\n",
    "sd_test = loaded_data['test']\n",
    "\n",
    "daystream = loaded_data['daystream']"
   ]
  },
  {
   "cell_type": "code",
   "execution_count": 5,
   "metadata": {},
   "outputs": [
    {
     "data": {
      "text/html": [
       "<div>\n",
       "<style scoped>\n",
       "    .dataframe tbody tr th:only-of-type {\n",
       "        vertical-align: middle;\n",
       "    }\n",
       "\n",
       "    .dataframe tbody tr th {\n",
       "        vertical-align: top;\n",
       "    }\n",
       "\n",
       "    .dataframe thead th {\n",
       "        text-align: right;\n",
       "    }\n",
       "</style>\n",
       "<table border=\"1\" class=\"dataframe\">\n",
       "  <thead>\n",
       "    <tr style=\"text-align: right;\">\n",
       "      <th></th>\n",
       "      <th>id</th>\n",
       "      <th>text</th>\n",
       "      <th>tokens</th>\n",
       "      <th>pos_tags</th>\n",
       "      <th>ner_tags</th>\n",
       "      <th>entities</th>\n",
       "      <th>event_triggers</th>\n",
       "      <th>event_roles</th>\n",
       "    </tr>\n",
       "  </thead>\n",
       "  <tbody>\n",
       "    <tr>\n",
       "      <th>0</th>\n",
       "      <td>http://www.viz-info.de/LMS-BR_r_LMS-BR_60517@2...</td>\n",
       "      <td>Unfall\\nAbschnitt: Marzahn (Berlin)\\nGültig ab...</td>\n",
       "      <td>[Unfall, Abschnitt, :, Marzahn, (, Berlin, ), ...</td>\n",
       "      <td>[NN, NN, $., NE, TRUNC, NE, TRUNC, NN, PTKVZ, ...</td>\n",
       "      <td>[B-TRIGGER, O, O, B-LOCATION, O, B-LOCATION_CI...</td>\n",
       "      <td>[{'id': 'c/e6ad8c7f-24a4-4742-a52d-90207de04f0...</td>\n",
       "      <td>[{'id': 'c/e6ad8c7f-24a4-4742-a52d-90207de04f0...</td>\n",
       "      <td>[{'trigger': 'c/e6ad8c7f-24a4-4742-a52d-90207d...</td>\n",
       "    </tr>\n",
       "    <tr>\n",
       "      <th>1</th>\n",
       "      <td>http://www.deutschlandradio.de/#17@2016-04-04T...</td>\n",
       "      <td>Vorsicht auf der A7 Ulm Richtung Füssen zwisch...</td>\n",
       "      <td>[Vorsicht, auf, der, A7, Ulm, Richtung, Füssen...</td>\n",
       "      <td>[NN, APPR, ART, NE, NE, NN, NN, APPR, NN, NE, ...</td>\n",
       "      <td>[O, O, O, B-LOCATION_STREET, B-LOCATION_CITY, ...</td>\n",
       "      <td>[{'id': 'c/2db85836-812f-4ced-90d3-46df9495782...</td>\n",
       "      <td>[]</td>\n",
       "      <td>[]</td>\n",
       "    </tr>\n",
       "    <tr>\n",
       "      <th>2</th>\n",
       "      <td>667383197769048064</td>\n",
       "      <td>Genau in dem Bus sitzen, der im Stau steht. Fü...</td>\n",
       "      <td>[Genau, in, dem, Bus, sitzen, ,, der, im, Stau...</td>\n",
       "      <td>[ADV, APPR, ART, NN, VVFIN, $,, PRELS, APPRART...</td>\n",
       "      <td>[O, O, O, O, O, O, O, O, O, O, O, O, O, O, O]</td>\n",
       "      <td>[]</td>\n",
       "      <td>[]</td>\n",
       "      <td>[]</td>\n",
       "    </tr>\n",
       "    <tr>\n",
       "      <th>3</th>\n",
       "      <td>603844236484550658</td>\n",
       "      <td>Große Carsharing-Übernahme: Der französische C...</td>\n",
       "      <td>[Große, Carsharing, -, Übernahme, :, Der, fran...</td>\n",
       "      <td>[ADJA, NN, $[, NN, $., ART, ADJA, NN, $[, NN, ...</td>\n",
       "      <td>[O, O, O, O, O, O, B-LOCATION, O, O, O, B-ORGA...</td>\n",
       "      <td>[{'id': 'c/f0fdb663-677e-4353-9159-8a9530f9777...</td>\n",
       "      <td>[]</td>\n",
       "      <td>[]</td>\n",
       "    </tr>\n",
       "    <tr>\n",
       "      <th>4</th>\n",
       "      <td>http://bauarbeiten.bahn.de/fernverkehr/Linie/I...</td>\n",
       "      <td>an mehreren Terminen\\n an den Freitagen, 3. un...</td>\n",
       "      <td>[an, mehreren, Terminen, an, den, Freitagen, ,...</td>\n",
       "      <td>[APPR, PIAT, NN, APPR, ART, NN, $,, CARD, $., ...</td>\n",
       "      <td>[O, O, O, O, O, B-DATE, I-DATE, I-DATE, I-DATE...</td>\n",
       "      <td>[{'id': 'c/f46384bf-20c6-47f5-a019-2a11fc52079...</td>\n",
       "      <td>[{'id': 'c/f84a50a1-b58f-4077-a68c-ae95a4f81e3...</td>\n",
       "      <td>[{'trigger': 'c/f84a50a1-b58f-4077-a68c-ae95a4...</td>\n",
       "    </tr>\n",
       "  </tbody>\n",
       "</table>\n",
       "</div>"
      ],
      "text/plain": [
       "                                                  id  \\\n",
       "0  http://www.viz-info.de/LMS-BR_r_LMS-BR_60517@2...   \n",
       "1  http://www.deutschlandradio.de/#17@2016-04-04T...   \n",
       "2                                 667383197769048064   \n",
       "3                                 603844236484550658   \n",
       "4  http://bauarbeiten.bahn.de/fernverkehr/Linie/I...   \n",
       "\n",
       "                                                text  \\\n",
       "0  Unfall\\nAbschnitt: Marzahn (Berlin)\\nGültig ab...   \n",
       "1  Vorsicht auf der A7 Ulm Richtung Füssen zwisch...   \n",
       "2  Genau in dem Bus sitzen, der im Stau steht. Fü...   \n",
       "3  Große Carsharing-Übernahme: Der französische C...   \n",
       "4  an mehreren Terminen\\n an den Freitagen, 3. un...   \n",
       "\n",
       "                                              tokens  \\\n",
       "0  [Unfall, Abschnitt, :, Marzahn, (, Berlin, ), ...   \n",
       "1  [Vorsicht, auf, der, A7, Ulm, Richtung, Füssen...   \n",
       "2  [Genau, in, dem, Bus, sitzen, ,, der, im, Stau...   \n",
       "3  [Große, Carsharing, -, Übernahme, :, Der, fran...   \n",
       "4  [an, mehreren, Terminen, an, den, Freitagen, ,...   \n",
       "\n",
       "                                            pos_tags  \\\n",
       "0  [NN, NN, $., NE, TRUNC, NE, TRUNC, NN, PTKVZ, ...   \n",
       "1  [NN, APPR, ART, NE, NE, NN, NN, APPR, NN, NE, ...   \n",
       "2  [ADV, APPR, ART, NN, VVFIN, $,, PRELS, APPRART...   \n",
       "3  [ADJA, NN, $[, NN, $., ART, ADJA, NN, $[, NN, ...   \n",
       "4  [APPR, PIAT, NN, APPR, ART, NN, $,, CARD, $., ...   \n",
       "\n",
       "                                            ner_tags  \\\n",
       "0  [B-TRIGGER, O, O, B-LOCATION, O, B-LOCATION_CI...   \n",
       "1  [O, O, O, B-LOCATION_STREET, B-LOCATION_CITY, ...   \n",
       "2      [O, O, O, O, O, O, O, O, O, O, O, O, O, O, O]   \n",
       "3  [O, O, O, O, O, O, B-LOCATION, O, O, O, B-ORGA...   \n",
       "4  [O, O, O, O, O, B-DATE, I-DATE, I-DATE, I-DATE...   \n",
       "\n",
       "                                            entities  \\\n",
       "0  [{'id': 'c/e6ad8c7f-24a4-4742-a52d-90207de04f0...   \n",
       "1  [{'id': 'c/2db85836-812f-4ced-90d3-46df9495782...   \n",
       "2                                                 []   \n",
       "3  [{'id': 'c/f0fdb663-677e-4353-9159-8a9530f9777...   \n",
       "4  [{'id': 'c/f46384bf-20c6-47f5-a019-2a11fc52079...   \n",
       "\n",
       "                                      event_triggers  \\\n",
       "0  [{'id': 'c/e6ad8c7f-24a4-4742-a52d-90207de04f0...   \n",
       "1                                                 []   \n",
       "2                                                 []   \n",
       "3                                                 []   \n",
       "4  [{'id': 'c/f84a50a1-b58f-4077-a68c-ae95a4f81e3...   \n",
       "\n",
       "                                         event_roles  \n",
       "0  [{'trigger': 'c/e6ad8c7f-24a4-4742-a52d-90207d...  \n",
       "1                                                 []  \n",
       "2                                                 []  \n",
       "3                                                 []  \n",
       "4  [{'trigger': 'c/f84a50a1-b58f-4077-a68c-ae95a4...  "
      ]
     },
     "execution_count": 5,
     "metadata": {},
     "output_type": "execute_result"
    }
   ],
   "source": [
    "sd_train.head()"
   ]
  },
  {
   "cell_type": "markdown",
   "metadata": {},
   "source": [
    "Example .jsonl file\n",
    "```json\n",
    "{\n",
    "  \"id\": \"754201930264633344\",\n",
    "  \"text\": \"■ #A1 #Bremen Richtung #Hamburg zwischen Horster Dreieck und #Stillhorn 9 km #Stau.  Dort ist wegen #Bauarbeiten nur eine Spur frei.\\n\",\n",
    "  \"entities\": [\n",
    "    {\n",
    "      \"id\": \"c/82bf4c32-861d-4e09-b8d1-bf7adc488f2b\",\n",
    "      \"text\": \"#A1\",\n",
    "      \"entity_type\": \"location_street\",\n",
    "      \"start\": 1,\n",
    "      \"end\": 2,\n",
    "      \"char_start\": 2,\n",
    "      \"char_end\": 5\n",
    "    },\n",
    "    ...\n",
    "  ],\n",
    "  \"event_triggers\": [\n",
    "    {\n",
    "      \"id\": \"c/3958da47-7b47-414f-8210-5b2c487de9df\",\n",
    "      \"event_type_probs\": [ 0.0, ..., 1.0, 0.0 ]\n",
    "    }\n",
    "  ],\n",
    "  \"event_roles\": [\n",
    "    {\n",
    "      \"trigger\": \"c/3958da47-7b47-414f-8210-5b2c487de9df\",\n",
    "      \"argument\": \"c/82bf4c32-861d-4e09-b8d1-bf7adc488f2b\",\n",
    "      \"event_argument_probs\": [ 1.0, 0.0, ..., 0.0 ]\n",
    "    },\n",
    "    \n",
    "  ]\n",
    "}\n",
    "```"
   ]
  },
  {
   "cell_type": "code",
   "execution_count": 8,
   "metadata": {},
   "outputs": [
    {
     "name": "stderr",
     "output_type": "stream",
     "text": [
      "103it [00:00, 1021.42it/s]"
     ]
    },
    {
     "name": "stdout",
     "output_type": "stream",
     "text": [
      "DataFrame has 1273 rows\n"
     ]
    },
    {
     "name": "stderr",
     "output_type": "stream",
     "text": [
      "1273it [00:01, 1060.32it/s]\n"
     ]
    },
    {
     "name": "stdout",
     "output_type": "stream",
     "text": [
      "Number of events: 487\n"
     ]
    }
   ],
   "source": [
    "event_role_rows, event_role_rows_y = build_event_trigger_examples(sd_train)"
   ]
  },
  {
   "cell_type": "code",
   "execution_count": 9,
   "metadata": {},
   "outputs": [
    {
     "data": {
      "text/plain": [
       "(817,)"
      ]
     },
     "execution_count": 9,
     "metadata": {},
     "output_type": "execute_result"
    }
   ],
   "source": [
    "event_role_rows_y.shape"
   ]
  },
  {
   "cell_type": "markdown",
   "metadata": {},
   "source": [
    "## Step 2: Configure Snorkel"
   ]
  },
  {
   "cell_type": "code",
   "execution_count": null,
   "metadata": {},
   "outputs": [],
   "source": [
    "from wsee import ROLE_LABELS\n",
    "print(ROLE_LABELS)"
   ]
  },
  {
   "cell_type": "code",
   "execution_count": null,
   "metadata": {},
   "outputs": [],
   "source": [
    "from wsee.labeling.event_argument_role_lfs import lf_event_patterns, lf_event_patterns_general_location, lf_date_type, lf_stanford_separate_sentence, lf_spacy_separate_sentence"
   ]
  },
  {
   "cell_type": "markdown",
   "metadata": {},
   "source": [
    "### Apply the labeling functions"
   ]
  },
  {
   "cell_type": "code",
   "execution_count": null,
   "metadata": {},
   "outputs": [],
   "source": [
    "from snorkel.labeling import PandasLFApplier\n",
    "\n",
    "lfs = [\n",
    "    lf_event_patterns,\n",
    "    lf_event_patterns_general_location,\n",
    "    lf_date_type,\n",
    "    lf_stanford_separate_sentence,\n",
    "    lf_spacy_separate_sentence\n",
    "]\n",
    "\n",
    "applier = PandasLFApplier(lfs)\n",
    "L_valid = applier.apply(event_role_rows)"
   ]
  },
  {
   "cell_type": "code",
   "execution_count": null,
   "metadata": {},
   "outputs": [],
   "source": [
    "from snorkel.labeling import LFAnalysis\n",
    "\n",
    "Y_valid = event_role_rows_y\n",
    "LFAnalysis(L_valid, lfs).lf_summary(Y_valid)"
   ]
  },
  {
   "cell_type": "code",
   "execution_count": null,
   "metadata": {},
   "outputs": [],
   "source": []
  }
 ],
 "metadata": {
  "kernelspec": {
   "display_name": "Python 3.6 (master)",
   "language": "python",
   "name": "master"
  },
  "language_info": {
   "codemirror_mode": {
    "name": "ipython",
    "version": 3
   },
   "file_extension": ".py",
   "mimetype": "text/x-python",
   "name": "python",
   "nbconvert_exporter": "python",
   "pygments_lexer": "ipython3",
   "version": "3.6.10"
  },
  "pycharm": {
   "stem_cell": {
    "cell_type": "raw",
    "metadata": {
     "collapsed": false
    },
    "source": []
   }
  }
 },
 "nbformat": 4,
 "nbformat_minor": 4
}
