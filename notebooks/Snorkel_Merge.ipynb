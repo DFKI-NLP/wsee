{
 "cells": [
  {
   "cell_type": "code",
   "execution_count": null,
   "metadata": {},
   "outputs": [],
   "source": [
    "import sys\n",
    "sys.path.append(\"../\")\n",
    "import warnings\n",
    "import pickle\n",
    "from pathlib import Path\n",
    "from wsee.utils import utils\n",
    "from wsee.data import pipeline\n",
    "import pandas as pd"
   ]
  },
  {
   "cell_type": "code",
   "execution_count": null,
   "metadata": {},
   "outputs": [],
   "source": [
    "warnings.filterwarnings(action='once')\n",
    "pd.set_option('display.max_colwidth', None)\n",
    "\n",
    "DATA_DIR = '/Users/phuc/data/daystream_corpus'  # replace path to corpus\n",
    "WITH_ABSTAINS = True"
   ]
  },
  {
   "cell_type": "code",
   "execution_count": null,
   "metadata": {},
   "outputs": [],
   "source": [
    "loaded_data = pipeline.load_data(DATA_DIR)\n",
    "sd_train = loaded_data['train']\n",
    "sd_dev = loaded_data['dev']\n",
    "sd_test = loaded_data['test']\n",
    "\n",
    "daystream = loaded_data['daystream']"
   ]
  },
  {
   "cell_type": "code",
   "execution_count": null,
   "metadata": {},
   "outputs": [],
   "source": [
    "merged_event_trigger_examples = pd.read_json(DATA_DIR + '/save_daystreamv6_triggers.jsonl', lines=True, encoding='utf8')\n",
    "if WITH_ABSTAINS:\n",
    "    merged_event_role_examples = pd.read_json(DATA_DIR + '/save_daystreamv6_roles_with_abstains.jsonl', lines=True, encoding='utf8')\n",
    "else:\n",
    "    merged_event_role_examples = pd.read_json(DATA_DIR + '/save_daystreamv6_roles.jsonl', lines=True, encoding='utf8')\n",
    "merged_examples: pd.DataFrame = utils.get_deep_copy(daystream)"
   ]
  },
  {
   "cell_type": "code",
   "execution_count": null,
   "metadata": {},
   "outputs": [],
   "source": [
    "for idx, row in merged_examples.iterrows():\n",
    "    row['event_triggers'] = []\n",
    "    row['event_roles'] = []\n",
    "if 'id' in merged_examples:\n",
    "    merged_examples.set_index('id', inplace=True)\n",
    "\n",
    "triggers = merged_event_trigger_examples.set_index('id')[['event_triggers']]\n",
    "roles = merged_event_role_examples.set_index('id')[['event_roles']]"
   ]
  },
  {
   "cell_type": "code",
   "execution_count": null,
   "metadata": {},
   "outputs": [],
   "source": [
    "merged_examples.update(triggers)\n",
    "merged_examples.update(roles)\n",
    "print(len(merged_examples))\n",
    "len(merged_examples[merged_examples['event_triggers'].map(len) > 0])\n",
    "merged_examples.reset_index(level=0, inplace=True)\n",
    "# Removes rows with no events\n",
    "merged_examples = merged_examples[merged_examples['event_triggers'].map(lambda d: len(d)) > 0]"
   ]
  },
  {
   "cell_type": "code",
   "execution_count": null,
   "metadata": {},
   "outputs": [],
   "source": [
    "from wsee.utils.utils import has_events"
   ]
  },
  {
   "cell_type": "code",
   "execution_count": null,
   "metadata": {},
   "outputs": [],
   "source": [
    "examples_with_events = merged_examples.apply(\n",
    "        lambda document: utils.has_events(document, include_negatives=False), axis=1)"
   ]
  },
  {
   "cell_type": "code",
   "execution_count": null,
   "metadata": {},
   "outputs": [],
   "source": [
    "sum(list(examples_with_events))"
   ]
  },
  {
   "cell_type": "code",
   "execution_count": null,
   "metadata": {},
   "outputs": [],
   "source": [
    "if WITH_ABSTAINS:\n",
    "    merged_examples.to_json(DATA_DIR + '/daystream_snorkeled_with_abstains.jsonl', orient='records', lines=True, force_ascii=False)\n",
    "else:\n",
    "    merged_examples.to_json(DATA_DIR + '/daystream_snorkeled.jsonl', orient='records', lines=True, force_ascii=False)"
   ]
  },
  {
   "cell_type": "code",
   "execution_count": null,
   "metadata": {},
   "outputs": [],
   "source": [
    "merged_examples[['text', 'entities', 'event_triggers', 'event_roles']]"
   ]
  },
  {
   "cell_type": "code",
   "execution_count": null,
   "metadata": {},
   "outputs": [],
   "source": []
  }
 ],
 "metadata": {
  "kernelspec": {
   "display_name": "Python3.6 (wsee)",
   "language": "python",
   "name": "wsee"
  },
  "language_info": {
   "codemirror_mode": {
    "name": "ipython",
    "version": 3
   },
   "file_extension": ".py",
   "mimetype": "text/x-python",
   "name": "python",
   "nbconvert_exporter": "python",
   "pygments_lexer": "ipython3",
   "version": "3.6.10"
  }
 },
 "nbformat": 4,
 "nbformat_minor": 4
}
