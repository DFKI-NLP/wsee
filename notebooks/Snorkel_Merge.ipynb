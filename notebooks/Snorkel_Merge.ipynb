{
 "cells": [
  {
   "cell_type": "code",
   "execution_count": 8,
   "metadata": {},
   "outputs": [],
   "source": [
    "import sys\n",
    "sys.path.append(\"../\")\n",
    "import warnings\n",
    "import pickle\n",
    "from pathlib import Path\n",
    "from wsee.utils import utils\n",
    "from wsee.data import pipeline\n",
    "import pandas as pd\n",
    "pd.set_option('display.max_colwidth', -1)"
   ]
  },
  {
   "cell_type": "code",
   "execution_count": 9,
   "metadata": {},
   "outputs": [],
   "source": [
    "warnings.filterwarnings(action='once')\n",
    "\n",
    "DATA_DIR = '/Users/phuc/data/snorkel-daystreamv6-end_loc_fix'  # replace path to corpus"
   ]
  },
  {
   "cell_type": "code",
   "execution_count": 10,
   "metadata": {},
   "outputs": [
    {
     "name": "stderr",
     "output_type": "stream",
     "text": [
      "INFO:root:Reading train data from: /Users/phuc/data/snorkel-daystreamv6-end_loc_fix/train/train_with_events_and_defaults.jsonl\n",
      "INFO:root:Reading dev data from: /Users/phuc/data/snorkel-daystreamv6-end_loc_fix/dev/dev_with_events_and_defaults.jsonl\n",
      "INFO:root:Reading test data from: /Users/phuc/data/snorkel-daystreamv6-end_loc_fix/test/test_with_events_and_defaults.jsonl\n",
      "INFO:root:Reading daystream data from: /Users/phuc/data/snorkel-daystreamv6-end_loc_fix/daystream.jsonl\n"
     ]
    }
   ],
   "source": [
    "loaded_data = pipeline.load_data(DATA_DIR)\n",
    "sd_train = loaded_data['train']\n",
    "sd_dev = loaded_data['dev']\n",
    "sd_test = loaded_data['test']\n",
    "\n",
    "daystream = loaded_data['daystream']"
   ]
  },
  {
   "cell_type": "code",
   "execution_count": 11,
   "metadata": {},
   "outputs": [],
   "source": [
    "merged_event_trigger_examples = pd.read_json(DATA_DIR + '/save_daystreamv6_triggers.jsonl', lines=True, encoding='utf8')\n",
    "merged_event_role_examples = pd.read_json(DATA_DIR + '/save_daystreamv6_roles.jsonl', lines=True, encoding='utf8')"
   ]
  },
  {
   "cell_type": "code",
   "execution_count": 12,
   "metadata": {},
   "outputs": [],
   "source": [
    "merged_examples: pd.DataFrame = utils.get_deep_copy(daystream)\n",
    "for idx, row in merged_examples.iterrows():\n",
    "    row['event_triggers'] = []\n",
    "    row['event_roles'] = []\n",
    "if 'id' in merged_examples:\n",
    "    merged_examples.set_index('id', inplace=True)\n",
    "\n",
    "merged_examples.update(merged_event_trigger_examples.set_index('id'))\n",
    "merged_examples.update(merged_event_role_examples.set_index('id'))\n",
    "len(merged_examples[merged_examples['event_triggers'].map(len) > 0])\n",
    "merged_examples.reset_index(level=0, inplace=True)\n",
    "# Removes rows with no events\n",
    "merged_examples = merged_examples[merged_examples['event_triggers'].map(lambda d: len(d)) > 0]\n",
    "\n",
    "merged_examples.to_json(DATA_DIR + '/daystream_snorkeled.jsonl', orient='records', lines=True, force_ascii=False)"
   ]
  },
  {
   "cell_type": "code",
   "execution_count": null,
   "metadata": {},
   "outputs": [],
   "source": []
  }
 ],
 "metadata": {
  "kernelspec": {
   "display_name": "Python3.6 (wsee)",
   "language": "python",
   "name": "wsee"
  },
  "language_info": {
   "codemirror_mode": {
    "name": "ipython",
    "version": 3
   },
   "file_extension": ".py",
   "mimetype": "text/x-python",
   "name": "python",
   "nbconvert_exporter": "python",
   "pygments_lexer": "ipython3",
   "version": "3.6.10"
  }
 },
 "nbformat": 4,
 "nbformat_minor": 4
}
