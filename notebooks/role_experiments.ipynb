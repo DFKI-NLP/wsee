{
 "cells": [
  {
   "cell_type": "markdown",
   "metadata": {
    "jupyter": {
     "outputs_hidden": true
    }
   },
   "source": [
    "# Role Experiments\n",
    "\n",
    "Here we try to compare different strategies for role labeling functions and show how & why we arrived at our currently used labeling functions.\n",
    "\n",
    "For the role labeling functions we first used some basic criteria to filter out negative trigger argument pairs using simple heuristics. We let the labeling functions abstain, if trigger and argument according to our sentence splitting were not in the same sentence, the trigger was not labeled by any of the trigger labeling functions or the trigger and argument were too distant from each other for cases where the sentence splitting may have overlooked a sentence boundary. From our experience with the sentence splitting experiments we chose SoMajo over stanfordnlp to determine whether trigger and argument belonged to the same sentence. Using this strategy together with a too-far-apart heuristic helped filtering out a majority of the trigger argument pairs, which were the result of working on a document level instead of on a sentence level.\n",
    "Then we looked at the entity type to see if it matched an argument role class, e.g. duration entity type with role class delay, distance entity type with jam_length or location_route for route. The most prevalent and most important location role class required more fine-grained location entity types for specific event types, such as location_route for CanceledRoute events or location_stop for CanceledStop events.\n",
    "\n",
    "For some of the role classes we looked for typical context words such as: \n",
    "- \"Richtung\" for the direction\n",
    "- \"von\" and \"bis\" for start_location and end_location, respectively if the entity type was location\n",
    "- \"von\" and \"bis\" for start_date and end_date, respectively if the entity type was location\n",
    "- \"wegen\" for cause\n",
    "\n",
    "This worked well for most of the role classes except for the location class as there were multiple role classes requiring a location entity type (location, direction, start_location, end_location, route). We tried approaches that would label the examples as location, when all the other labeling functions for the more specific location role classes would abstain.\n",
    "We found that some heuristics and patterns worked best, such as:\n",
    "- the first location entity in the sentence is usually the location argument as we tend to put the most import information first\n",
    "- the delay argument of a Delay event usually occurs right before the event trigger\n",
    "- the jam length argument of a TrafficJam event usually occurs right before the event trigger\n",
    "\n",
    "In addition we reused existing patterns from past projects. There were some revisions in the NER annotations, which lowered the coverage of these patterns. We created a version of the patterns, where we relaxed the fine-grained location requirements, i.e. replaced all the more fine-grained locations with all the location entity types.\n",
    "We found that while the accuracy of our labeling functions were relatively high, the coverage was relatively low, especially for the location class. Relaxing some of the conditions in the labeling functions resulted in bad accuracy."
   ]
  },
  {
   "cell_type": "code",
   "execution_count": 1,
   "metadata": {},
   "outputs": [],
   "source": [
    "import sys\n",
    "sys.path.append(\"../\")"
   ]
  },
  {
   "cell_type": "markdown",
   "metadata": {},
   "source": [
    "## Data preparation\n",
    "We first load the SD4M gold train data, build the trigger examples and add some information to help us during the experiments"
   ]
  },
  {
   "cell_type": "code",
   "execution_count": 2,
   "metadata": {},
   "outputs": [
    {
     "data": {
      "text/plain": [
       "{'# Docs': 567,\n",
       " '# Docs with event triggers': 413,\n",
       " '# Event triggers with positive label': 488,\n",
       " '# Event triggers with negative label': 289,\n",
       " '# Event triggers with abstain': 0,\n",
       " 'Trigger class frequencies': {'Accident': 59,\n",
       "  'CanceledRoute': 61,\n",
       "  'CanceledStop': 25,\n",
       "  'Delay': 65,\n",
       "  'Obstruction': 101,\n",
       "  'RailReplacementService': 22,\n",
       "  'TrafficJam': 155,\n",
       "  'O': 289},\n",
       " '# Docs with event roles': 413,\n",
       " '# Event role with positive label': 2001,\n",
       " '# Event roles with negative label': 5284,\n",
       " '# Event roles with abstain': 0,\n",
       " 'Role class frequencies': {'location': 571,\n",
       "  'delay': 87,\n",
       "  'direction': 277,\n",
       "  'start_loc': 377,\n",
       "  'end_loc': 352,\n",
       "  'start_date': 35,\n",
       "  'end_date': 41,\n",
       "  'cause': 103,\n",
       "  'jam_length': 135,\n",
       "  'route': 23,\n",
       "  'no_arg': 5284}}"
      ]
     },
     "execution_count": 2,
     "metadata": {},
     "output_type": "execute_result"
    }
   ],
   "source": [
    "import pandas as pd\n",
    "from wsee.utils import corpus_statistics\n",
    "sd4m_train = pd.read_json(\"../data/daystream_corpus/train/train_with_events_and_defaults.jsonl\", lines=True, encoding='utf8')\n",
    "filtered_sd4m_train = sd4m_train[sd4m_train.apply(lambda document: corpus_statistics.has_triggers(document), axis=1)]\n",
    "corpus_statistics.get_snorkel_event_stats(filtered_sd4m_train)"
   ]
  },
  {
   "cell_type": "code",
   "execution_count": 3,
   "metadata": {},
   "outputs": [
    {
     "name": "stderr",
     "output_type": "stream",
     "text": [
      "INFO:root:Building event role examples\n",
      "INFO:root:DataFrame has 567 rows\n",
      "INFO:root:Adding the following attributes to each document: entity_type_freqs, somajo_doc, mixed_ner, mixed_ner_spans\n",
      "567it [00:12, 45.89it/s]\n",
      "INFO:root:Adding the following attributes to each role example: not_an_event, arg_type_event_type_match, between_distance, is_multiple_same_event_type\n",
      "INFO:root:Number of event roles: 2001\n",
      "INFO:root:Number of event role examples: 7285\n"
     ]
    }
   ],
   "source": [
    "from wsee.data import pipeline\n",
    "\n",
    "df_sd_train, Y_sd_train = pipeline.build_event_role_examples(filtered_sd4m_train)"
   ]
  },
  {
   "cell_type": "code",
   "execution_count": 24,
   "metadata": {},
   "outputs": [],
   "source": [
    "from wsee.preprocessors import preprocessors\n",
    "from wsee import SD4M_RELATION_TYPES\n",
    "import numpy as np\n",
    "\n",
    "def get_simple_trigger(doc):\n",
    "    trigger = doc.trigger\n",
    "    simple_trigger = {\n",
    "        'text': trigger['text'],\n",
    "        'entity_type': trigger['entity_type'],\n",
    "        'char_start': trigger['char_start'],\n",
    "        'char_end': trigger['char_end']\n",
    "    }\n",
    "    return simple_trigger\n",
    "        \n",
    "def get_simple_argument(doc):\n",
    "    argument = doc['argument']\n",
    "    simple_argument = {\n",
    "        'text': argument['text'],\n",
    "        'entity_type': argument['entity_type'],\n",
    "        'char_start': argument['char_start'],\n",
    "        'char_end': argument['char_end']\n",
    "    }\n",
    "    return simple_argument\n",
    "\n",
    "def get_simple_triggers(x):\n",
    "    simple_triggers = []\n",
    "    for trigger in x['event_triggers']:\n",
    "        entity = preprocessors.get_entity(trigger['id'], x['entities'])\n",
    "        simple_trigger = {\n",
    "            'text': entity['text'],\n",
    "            'entity_type': entity['entity_type'],\n",
    "            'start': entity['start'],\n",
    "            'end': entity['end'],\n",
    "            'event_type': SD4M_RELATION_TYPES[np.argmax(trigger['event_type_probs'])]\n",
    "        }\n",
    "        simple_triggers.append(simple_trigger)\n",
    "    return simple_triggers\n",
    "\n",
    "def get_simple_somajo_sentences(doc):\n",
    "    sentences = doc.somajo_doc['sentences']\n",
    "    return [{'text': doc.text[sentence['char_start']:sentence['char_end']], 'char_start': sentence['char_start'], 'char_end': sentence['char_end']} for sentence in sentences]\n",
    "\n",
    "\n",
    "def add_simple_columns(df):\n",
    "    df['trigger_sm'] = df.apply(lambda doc: get_simple_trigger(doc), axis=1)\n",
    "    df['argument_sm'] = df.apply(lambda doc: get_simple_argument(doc), axis=1)\n",
    "    df['somajo_sm'] = df.apply(lambda doc: get_simple_somajo_sentences(doc), axis=1)\n",
    "    df['simple_triggers'] = df.apply(lambda doc: get_simple_triggers(doc), axis=1)\n",
    "    df['between_tokens'] = df.apply(lambda doc: preprocessors.get_between_tokens(doc), axis=1)\n",
    "    df['between_distance'] = df.apply(lambda doc: preprocessors.get_between_distance(doc), axis=1)\n",
    "    return df"
   ]
  },
  {
   "cell_type": "code",
   "execution_count": 25,
   "metadata": {},
   "outputs": [],
   "source": [
    "from wsee import ROLE_LABELS\n",
    "pd.set_option('display.max_colwidth', None)\n",
    "labeled_sd4m_roles = df_sd_train.copy()\n",
    "labeled_sd4m_roles['label'] = Y_sd_train\n",
    "labeled_sd4m_roles['role'] = [ROLE_LABELS[label_idx] for label_idx in Y_sd_train]\n",
    "labeled_sd4m_roles = add_simple_columns(labeled_sd4m_roles)"
   ]
  },
  {
   "cell_type": "markdown",
   "metadata": {},
   "source": [
    "## Strategies for the labeling functions\n",
    "Features:\n",
    "- Same sentence, between distance, trigger is event trigger, entity type, occurrence of required argument entity types (location + trigger) as basic criteria\n",
    "- Positional information for location, delay, jam length\n",
    "- Context words for direction, start & end location, start & date, cause\n",
    "- Negation, parentheses, multiple occurrences of argument checks\n",
    "- NER patterns\n",
    "\n",
    "Most labeling functions in our pipeline use a combination of these features."
   ]
  },
  {
   "cell_type": "code",
   "execution_count": 11,
   "metadata": {},
   "outputs": [],
   "source": [
    "from snorkel.labeling import labeling_function\n",
    "from wsee.labeling import event_argument_role_lfs as role_lfs\n",
    "\n",
    "location = 0\n",
    "delay = 1\n",
    "direction = 2\n",
    "start_loc = 3\n",
    "end_loc = 4\n",
    "start_date = 5\n",
    "end_date = 6\n",
    "cause = 7\n",
    "jam_length = 8\n",
    "route = 9\n",
    "no_arg = 10\n",
    "ABSTAIN = -1\n",
    "\n",
    "# + positional information (first location entity in the sentence)\n",
    "    \n",
    "@labeling_function(pre=[])\n",
    "def basic_checks_location(x):\n",
    "    # location entity type check, same sentence + distance + event trigger + required arguments (with location role this is a given)\n",
    "    arg_entity_type = x.argument['entity_type']\n",
    "    if not role_lfs.is_location_entity_type(arg_entity_type):\n",
    "        return ABSTAIN\n",
    "    return role_lfs.lf_location(x, same_sentence=True, nearest=False, check_event_type=True)\n",
    "    \n",
    "@labeling_function(pre=[])\n",
    "def basic_checks_exclusions_location(x):\n",
    "    # ABSTAIN if more specific location related role classes match\n",
    "    arg_entity_type = x.argument['entity_type']\n",
    "    if not role_lfs.is_location_entity_type(arg_entity_type):\n",
    "        return ABSTAIN\n",
    "    if role_lfs.lf_start_location_type(x) == ABSTAIN and role_lfs.lf_end_location_type(x) == ABSTAIN and role_lfs.lf_direction(x) == ABSTAIN:\n",
    "        return role_lfs.lf_location(x, same_sentence=True, nearest=False, check_event_type=True)\n",
    "    else:\n",
    "        return ABSTAIN\n",
    "\n",
    "@labeling_function(pre=[])\n",
    "def basic_checks_exclusions_heuristics_location(x):\n",
    "    # uses heuristic that the location argument is often the first location entity while specifying more fine-grained location entity types\n",
    "    # for cases where there might be a more general context location first (location, location_city) and then the relevant location argument\n",
    "    arg_entity_type = x.argument['entity_type']\n",
    "    if not role_lfs.is_location_entity_type(arg_entity_type):\n",
    "        return ABSTAIN\n",
    "    if role_lfs.lf_start_location_type(x) == ABSTAIN and role_lfs.lf_end_location_type(x) == ABSTAIN and \\\n",
    "            role_lfs.lf_direction(x) == ABSTAIN:\n",
    "        first_street_stop_route = role_lfs.get_first_of_entity_types(\n",
    "            preprocessors.get_sentence_entities(x), ['location_route', 'location_stop', 'location_street'])\n",
    "        if first_street_stop_route and first_street_stop_route['id'] == x.argument['id']:\n",
    "            return role_lfs.lf_location(x, same_sentence=True, nearest=False, check_event_type=True)\n",
    "    return ABSTAIN"
   ]
  },
  {
   "cell_type": "code",
   "execution_count": 15,
   "metadata": {},
   "outputs": [],
   "source": [
    "from snorkel.labeling import PandasLFApplier\n",
    "\n",
    "lfs = [\n",
    "    basic_checks_location,\n",
    "    basic_checks_exclusions_location,\n",
    "    basic_checks_exclusions_heuristics_location,\n",
    "    role_lfs.lf_direction_pattern,  # may be very specific to corpus: A1 Hamburg-Bremen ..., where '-' may be a direction marker\n",
    "    role_lfs.lf_start_date_adjacent  # as the name says, without checks for some specific context word, excluding end date\n",
    "] \n",
    "applier = PandasLFApplier(lfs)"
   ]
  },
  {
   "cell_type": "code",
   "execution_count": 16,
   "metadata": {},
   "outputs": [
    {
     "name": "stderr",
     "output_type": "stream",
     "text": [
      "100%|██████████| 7285/7285 [00:18<00:00, 384.50it/s]\n"
     ]
    }
   ],
   "source": [
    "L_sd_train = applier.apply(df_sd_train)"
   ]
  },
  {
   "cell_type": "code",
   "execution_count": 17,
   "metadata": {},
   "outputs": [
    {
     "data": {
      "text/html": [
       "<div>\n",
       "<style scoped>\n",
       "    .dataframe tbody tr th:only-of-type {\n",
       "        vertical-align: middle;\n",
       "    }\n",
       "\n",
       "    .dataframe tbody tr th {\n",
       "        vertical-align: top;\n",
       "    }\n",
       "\n",
       "    .dataframe thead th {\n",
       "        text-align: right;\n",
       "    }\n",
       "</style>\n",
       "<table border=\"1\" class=\"dataframe\">\n",
       "  <thead>\n",
       "    <tr style=\"text-align: right;\">\n",
       "      <th></th>\n",
       "      <th>j</th>\n",
       "      <th>Polarity</th>\n",
       "      <th>Coverage</th>\n",
       "      <th>Overlaps</th>\n",
       "      <th>Conflicts</th>\n",
       "      <th>Correct</th>\n",
       "      <th>Incorrect</th>\n",
       "      <th>Emp. Acc.</th>\n",
       "    </tr>\n",
       "  </thead>\n",
       "  <tbody>\n",
       "    <tr>\n",
       "      <th>basic_checks_location</th>\n",
       "      <td>0</td>\n",
       "      <td>[0]</td>\n",
       "      <td>0.224296</td>\n",
       "      <td>0.128620</td>\n",
       "      <td>0.00604</td>\n",
       "      <td>534</td>\n",
       "      <td>1100</td>\n",
       "      <td>0.326805</td>\n",
       "    </tr>\n",
       "    <tr>\n",
       "      <th>basic_checks_exclusions_location</th>\n",
       "      <td>1</td>\n",
       "      <td>[0]</td>\n",
       "      <td>0.122581</td>\n",
       "      <td>0.122581</td>\n",
       "      <td>0.00000</td>\n",
       "      <td>524</td>\n",
       "      <td>369</td>\n",
       "      <td>0.586786</td>\n",
       "    </tr>\n",
       "    <tr>\n",
       "      <th>basic_checks_exclusions_heuristics_location</th>\n",
       "      <td>2</td>\n",
       "      <td>[0]</td>\n",
       "      <td>0.057653</td>\n",
       "      <td>0.057653</td>\n",
       "      <td>0.00000</td>\n",
       "      <td>387</td>\n",
       "      <td>33</td>\n",
       "      <td>0.921429</td>\n",
       "    </tr>\n",
       "    <tr>\n",
       "      <th>lf_direction_pattern</th>\n",
       "      <td>3</td>\n",
       "      <td>[2]</td>\n",
       "      <td>0.006863</td>\n",
       "      <td>0.006040</td>\n",
       "      <td>0.00604</td>\n",
       "      <td>28</td>\n",
       "      <td>22</td>\n",
       "      <td>0.560000</td>\n",
       "    </tr>\n",
       "    <tr>\n",
       "      <th>lf_start_date_adjacent</th>\n",
       "      <td>4</td>\n",
       "      <td>[5]</td>\n",
       "      <td>0.001784</td>\n",
       "      <td>0.000000</td>\n",
       "      <td>0.00000</td>\n",
       "      <td>6</td>\n",
       "      <td>7</td>\n",
       "      <td>0.461538</td>\n",
       "    </tr>\n",
       "  </tbody>\n",
       "</table>\n",
       "</div>"
      ],
      "text/plain": [
       "                                             j Polarity  Coverage  Overlaps  \\\n",
       "basic_checks_location                        0      [0]  0.224296  0.128620   \n",
       "basic_checks_exclusions_location             1      [0]  0.122581  0.122581   \n",
       "basic_checks_exclusions_heuristics_location  2      [0]  0.057653  0.057653   \n",
       "lf_direction_pattern                         3      [2]  0.006863  0.006040   \n",
       "lf_start_date_adjacent                       4      [5]  0.001784  0.000000   \n",
       "\n",
       "                                             Conflicts  Correct  Incorrect  \\\n",
       "basic_checks_location                          0.00604      534       1100   \n",
       "basic_checks_exclusions_location               0.00000      524        369   \n",
       "basic_checks_exclusions_heuristics_location    0.00000      387         33   \n",
       "lf_direction_pattern                           0.00604       28         22   \n",
       "lf_start_date_adjacent                         0.00000        6          7   \n",
       "\n",
       "                                             Emp. Acc.  \n",
       "basic_checks_location                         0.326805  \n",
       "basic_checks_exclusions_location              0.586786  \n",
       "basic_checks_exclusions_heuristics_location   0.921429  \n",
       "lf_direction_pattern                          0.560000  \n",
       "lf_start_date_adjacent                        0.461538  "
      ]
     },
     "execution_count": 17,
     "metadata": {},
     "output_type": "execute_result"
    }
   ],
   "source": [
    "from snorkel.labeling import LFAnalysis\n",
    "\n",
    "LFAnalysis(L_sd_train, lfs).lf_summary(Y_sd_train)"
   ]
  },
  {
   "cell_type": "markdown",
   "metadata": {},
   "source": [
    "The SD4M train set contains 65 `Delay`events and 155 `TrafficJam` events. Given that the trigger lists were refined using the SD4M training data, the recall is expectedly high.\n",
    "The strategy of only checking whether the entity type of the closest entity to a potential `TrafficJam` trigger is `distance` worked fairly well with 133/155 recall and 133/137 precision.\n",
    "It did not work as well for the `Delay` event type. While the precision of 22/26 was good, the recall of 22/65 is quite low. \n",
    "However both approaches did improve on the simpler, more straightforward strategy of matching the trigger text to trigger lists."
   ]
  },
  {
   "cell_type": "markdown",
   "metadata": {},
   "source": [
    "### Error analysis:"
   ]
  },
  {
   "cell_type": "code",
   "execution_count": 18,
   "metadata": {},
   "outputs": [],
   "source": [
    "from wsee.labeling import error_analysis"
   ]
  },
  {
   "cell_type": "code",
   "execution_count": 27,
   "metadata": {},
   "outputs": [
    {
     "data": {
      "text/html": [
       "<div>\n",
       "<style scoped>\n",
       "    .dataframe tbody tr th:only-of-type {\n",
       "        vertical-align: middle;\n",
       "    }\n",
       "\n",
       "    .dataframe tbody tr th {\n",
       "        vertical-align: top;\n",
       "    }\n",
       "\n",
       "    .dataframe thead th {\n",
       "        text-align: right;\n",
       "    }\n",
       "</style>\n",
       "<table border=\"1\" class=\"dataframe\">\n",
       "  <thead>\n",
       "    <tr style=\"text-align: right;\">\n",
       "      <th></th>\n",
       "      <th>text</th>\n",
       "      <th>trigger</th>\n",
       "      <th>argument</th>\n",
       "      <th>simple_triggers</th>\n",
       "      <th>role</th>\n",
       "    </tr>\n",
       "  </thead>\n",
       "  <tbody>\n",
       "    <tr>\n",
       "      <th>5693</th>\n",
       "      <td>Auf der A1 Köln Richtung Dortmund ist die Ausfahrt Schwerte wegen Bergungsarbeiten gesperrt.\\n</td>\n",
       "      <td>{'id': 'c/576f3260-87aa-474c-ac04-95ec3293b457', 'text': 'gesperrt', 'entity_type': 'trigger', 'start': 12, 'end': 13, 'char_start': 83, 'char_end': 91}</td>\n",
       "      <td>{'id': 'c/9ce21202-5a2e-4a14-b78d-f05ce7c9b24c', 'text': 'A1', 'entity_type': 'location_street', 'start': 2, 'end': 3, 'char_start': 8, 'char_end': 10}</td>\n",
       "      <td>[{'text': 'Bergungsarbeiten', 'entity_type': 'trigger', 'start': 11, 'end': 12, 'event_type': 'O'}, {'text': 'gesperrt', 'entity_type': 'trigger', 'start': 12, 'end': 13, 'event_type': 'Obstruction'}]</td>\n",
       "      <td>no_arg</td>\n",
       "    </tr>\n",
       "    <tr>\n",
       "      <th>3827</th>\n",
       "      <td>A7 Hannover Richtung Kassel zwischen Lutterberg und Kreuz Kassel-Mitte 4 km Stau nach einem Unfall\\n</td>\n",
       "      <td>{'id': 'c/16605983-925d-4cb1-9a45-0858ee69fff1', 'text': 'Unfall', 'entity_type': 'trigger', 'start': 16, 'end': 17, 'char_start': 92, 'char_end': 98}</td>\n",
       "      <td>{'id': 'c/36ff6b63-54d2-411c-86eb-f5b222cf0cd1', 'text': 'A7', 'entity_type': 'location_street', 'start': 0, 'end': 1, 'char_start': 0, 'char_end': 2}</td>\n",
       "      <td>[{'text': 'Stau', 'entity_type': 'trigger', 'start': 13, 'end': 14, 'event_type': 'TrafficJam'}, {'text': 'Unfall', 'entity_type': 'trigger', 'start': 16, 'end': 17, 'event_type': 'O'}]</td>\n",
       "      <td>no_arg</td>\n",
       "    </tr>\n",
       "  </tbody>\n",
       "</table>\n",
       "</div>"
      ],
      "text/plain": [
       "                                                                                                      text  \\\n",
       "5693        Auf der A1 Köln Richtung Dortmund ist die Ausfahrt Schwerte wegen Bergungsarbeiten gesperrt.\\n   \n",
       "3827  A7 Hannover Richtung Kassel zwischen Lutterberg und Kreuz Kassel-Mitte 4 km Stau nach einem Unfall\\n   \n",
       "\n",
       "                                                                                                                                                       trigger  \\\n",
       "5693  {'id': 'c/576f3260-87aa-474c-ac04-95ec3293b457', 'text': 'gesperrt', 'entity_type': 'trigger', 'start': 12, 'end': 13, 'char_start': 83, 'char_end': 91}   \n",
       "3827    {'id': 'c/16605983-925d-4cb1-9a45-0858ee69fff1', 'text': 'Unfall', 'entity_type': 'trigger', 'start': 16, 'end': 17, 'char_start': 92, 'char_end': 98}   \n",
       "\n",
       "                                                                                                                                                     argument  \\\n",
       "5693  {'id': 'c/9ce21202-5a2e-4a14-b78d-f05ce7c9b24c', 'text': 'A1', 'entity_type': 'location_street', 'start': 2, 'end': 3, 'char_start': 8, 'char_end': 10}   \n",
       "3827   {'id': 'c/36ff6b63-54d2-411c-86eb-f5b222cf0cd1', 'text': 'A7', 'entity_type': 'location_street', 'start': 0, 'end': 1, 'char_start': 0, 'char_end': 2}   \n",
       "\n",
       "                                                                                                                                                                                               simple_triggers  \\\n",
       "5693  [{'text': 'Bergungsarbeiten', 'entity_type': 'trigger', 'start': 11, 'end': 12, 'event_type': 'O'}, {'text': 'gesperrt', 'entity_type': 'trigger', 'start': 12, 'end': 13, 'event_type': 'Obstruction'}]   \n",
       "3827                 [{'text': 'Stau', 'entity_type': 'trigger', 'start': 13, 'end': 14, 'event_type': 'TrafficJam'}, {'text': 'Unfall', 'entity_type': 'trigger', 'start': 16, 'end': 17, 'event_type': 'O'}]   \n",
       "\n",
       "        role  \n",
       "5693  no_arg  \n",
       "3827  no_arg  "
      ]
     },
     "execution_count": 27,
     "metadata": {},
     "output_type": "execute_result"
    }
   ],
   "source": [
    "error_analysis.get_false_positives(labeled_df=labeled_sd4m_roles, lf_outputs=L_sd_train, lf_index=2, label_of_interest=0).sample(n=2)[['text', 'trigger', 'argument', 'simple_triggers', 'role']]"
   ]
  },
  {
   "cell_type": "code",
   "execution_count": 28,
   "metadata": {},
   "outputs": [
    {
     "data": {
      "text/html": [
       "<div>\n",
       "<style scoped>\n",
       "    .dataframe tbody tr th:only-of-type {\n",
       "        vertical-align: middle;\n",
       "    }\n",
       "\n",
       "    .dataframe tbody tr th {\n",
       "        vertical-align: top;\n",
       "    }\n",
       "\n",
       "    .dataframe thead th {\n",
       "        text-align: right;\n",
       "    }\n",
       "</style>\n",
       "<table border=\"1\" class=\"dataframe\">\n",
       "  <thead>\n",
       "    <tr style=\"text-align: right;\">\n",
       "      <th></th>\n",
       "      <th>text</th>\n",
       "      <th>trigger</th>\n",
       "      <th>argument</th>\n",
       "      <th>simple_triggers</th>\n",
       "      <th>role</th>\n",
       "    </tr>\n",
       "  </thead>\n",
       "  <tbody>\n",
       "    <tr>\n",
       "      <th>6935</th>\n",
       "      <td>■ #Hamburg: die Ohlsdorfer Straße  ist zwischen Jahnring und Winterhuder Marktplatz wegen #Bauarbeiten bis Ende Juli gesperrt.\\n</td>\n",
       "      <td>{'id': 'c/0fb7209e-2ba7-49e5-884e-aa2c3f600b88', 'text': 'gesperrt', 'entity_type': 'trigger', 'start': 17, 'end': 18, 'char_start': 117, 'char_end': 125}</td>\n",
       "      <td>{'id': 'c/bc7010e3-2401-4f6f-9787-ff75bc60b14c', 'text': '#Hamburg', 'entity_type': 'location_city', 'start': 1, 'end': 2, 'char_start': 2, 'char_end': 10}</td>\n",
       "      <td>[{'text': '#Bauarbeiten', 'entity_type': 'trigger', 'start': 13, 'end': 14, 'event_type': 'O'}, {'text': 'gesperrt', 'entity_type': 'trigger', 'start': 17, 'end': 18, 'event_type': 'Obstruction'}]</td>\n",
       "      <td>no_arg</td>\n",
       "    </tr>\n",
       "    <tr>\n",
       "      <th>5016</th>\n",
       "      <td>Die A31 Bottrop Richtung Gronau ist zwischen Lembeck und Reken wegen Bergungsarbeiten gesperrt. Eine Umleitung führt ab Lembeck über die U25\\n</td>\n",
       "      <td>{'id': 'c/96eb3033-eb65-4d72-9fbb-c3985840e6c8', 'text': 'gesperrt', 'entity_type': 'trigger', 'start': 12, 'end': 13, 'char_start': 86, 'char_end': 94}</td>\n",
       "      <td>{'id': 'c/f312238e-a7ca-4825-87eb-51f40c1b146b', 'text': 'Bottrop', 'entity_type': 'location_city', 'start': 2, 'end': 3, 'char_start': 8, 'char_end': 15}</td>\n",
       "      <td>[{'text': 'gesperrt', 'entity_type': 'trigger', 'start': 12, 'end': 13, 'event_type': 'Obstruction'}]</td>\n",
       "      <td>no_arg</td>\n",
       "    </tr>\n",
       "  </tbody>\n",
       "</table>\n",
       "</div>"
      ],
      "text/plain": [
       "                                                                                                                                                text  \\\n",
       "6935                ■ #Hamburg: die Ohlsdorfer Straße  ist zwischen Jahnring und Winterhuder Marktplatz wegen #Bauarbeiten bis Ende Juli gesperrt.\\n   \n",
       "5016  Die A31 Bottrop Richtung Gronau ist zwischen Lembeck und Reken wegen Bergungsarbeiten gesperrt. Eine Umleitung führt ab Lembeck über die U25\\n   \n",
       "\n",
       "                                                                                                                                                         trigger  \\\n",
       "6935  {'id': 'c/0fb7209e-2ba7-49e5-884e-aa2c3f600b88', 'text': 'gesperrt', 'entity_type': 'trigger', 'start': 17, 'end': 18, 'char_start': 117, 'char_end': 125}   \n",
       "5016    {'id': 'c/96eb3033-eb65-4d72-9fbb-c3985840e6c8', 'text': 'gesperrt', 'entity_type': 'trigger', 'start': 12, 'end': 13, 'char_start': 86, 'char_end': 94}   \n",
       "\n",
       "                                                                                                                                                         argument  \\\n",
       "6935  {'id': 'c/bc7010e3-2401-4f6f-9787-ff75bc60b14c', 'text': '#Hamburg', 'entity_type': 'location_city', 'start': 1, 'end': 2, 'char_start': 2, 'char_end': 10}   \n",
       "5016   {'id': 'c/f312238e-a7ca-4825-87eb-51f40c1b146b', 'text': 'Bottrop', 'entity_type': 'location_city', 'start': 2, 'end': 3, 'char_start': 8, 'char_end': 15}   \n",
       "\n",
       "                                                                                                                                                                                           simple_triggers  \\\n",
       "6935  [{'text': '#Bauarbeiten', 'entity_type': 'trigger', 'start': 13, 'end': 14, 'event_type': 'O'}, {'text': 'gesperrt', 'entity_type': 'trigger', 'start': 17, 'end': 18, 'event_type': 'Obstruction'}]   \n",
       "5016                                                                                                 [{'text': 'gesperrt', 'entity_type': 'trigger', 'start': 12, 'end': 13, 'event_type': 'Obstruction'}]   \n",
       "\n",
       "        role  \n",
       "6935  no_arg  \n",
       "5016  no_arg  "
      ]
     },
     "execution_count": 28,
     "metadata": {},
     "output_type": "execute_result"
    }
   ],
   "source": [
    "error_analysis.get_false_positives(labeled_df=labeled_sd4m_roles, lf_outputs=L_sd_train, lf_index=1, label_of_interest=0).sample(n=2)[['text', 'trigger', 'argument', 'simple_triggers', 'role']]"
   ]
  },
  {
   "cell_type": "markdown",
   "metadata": {},
   "source": [
    "For both `Delay` & `duration` and `TrafficJam` & `distance` there were false positives, where the closest entity to the trigger was of the relevant entity type, but the trigger was of a different event type."
   ]
  },
  {
   "cell_type": "code",
   "execution_count": null,
   "metadata": {},
   "outputs": [],
   "source": []
  }
 ],
 "metadata": {
  "kernelspec": {
   "display_name": "Python 3.6 (master)",
   "language": "python",
   "name": "master"
  },
  "language_info": {
   "codemirror_mode": {
    "name": "ipython",
    "version": 3
   },
   "file_extension": ".py",
   "mimetype": "text/x-python",
   "name": "python",
   "nbconvert_exporter": "python",
   "pygments_lexer": "ipython3",
   "version": "3.6.10"
  }
 },
 "nbformat": 4,
 "nbformat_minor": 4
}
