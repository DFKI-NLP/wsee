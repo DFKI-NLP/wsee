{
 "cells": [
  {
   "cell_type": "code",
   "execution_count": 1,
   "metadata": {},
   "outputs": [],
   "source": [
    "import sys\n",
    "sys.path.append(\"../../\")"
   ]
  },
  {
   "cell_type": "code",
   "execution_count": 2,
   "metadata": {},
   "outputs": [],
   "source": [
    "import eventx\n",
    "import pandas as pd\n",
    "import numpy as np\n",
    "\n",
    "from eventx.util import corpus_statistics, utils\n",
    "from eventx import SD4M_RELATION_TYPES, ROLE_LABELS, NEGATIVE_TRIGGER_LABEL, NEGATIVE_ARGUMENT_LABEL"
   ]
  },
  {
   "cell_type": "code",
   "execution_count": 3,
   "metadata": {},
   "outputs": [],
   "source": [
    "DATASET_PATH = \"../../data/daystream_corpus/\"\n",
    "\n",
    "SD4M_Train = DATASET_PATH + \"train/train_sd4m_with_events.jsonl\"\n",
    "SD4M_Dev = DATASET_PATH + \"dev/dev_sd4m_with_events.jsonl\"\n",
    "SD4M_Test = DATASET_PATH + \"test/test_sd4m_with_events.jsonl\"\n",
    "\n",
    "SD4M_Train_Snorkel_Format = DATASET_PATH + \"train/train_with_events_and_defaults.jsonl\"\n",
    "SD4M_Dev_Snorkel_Format = DATASET_PATH + \"dev/dev_with_events_and_defaults.jsonl\"\n",
    "SD4M_Test_Snorkel_Format = DATASET_PATH + \"test/test_with_events_and_defaults.jsonl\"\n",
    "\n",
    "daystream_snorkeled = DATASET_PATH + \"daystream_snorkeled_with_abstains.jsonl\""
   ]
  },
  {
   "cell_type": "code",
   "execution_count": 4,
   "metadata": {},
   "outputs": [],
   "source": [
    "sd4m_train = pd.read_json(SD4M_Train, lines=True, encoding='utf8')\n",
    "sd4m_dev = pd.read_json(SD4M_Dev, lines=True, encoding='utf8')\n",
    "sd4m_test = pd.read_json(SD4M_Test, lines=True, encoding='utf8')\n",
    "sd4m = pd.concat([sd4m_train, sd4m_dev, sd4m_test])\n",
    "\n",
    "daystream = pd.read_json(daystream_snorkeled, lines=True, encoding='utf8')"
   ]
  },
  {
   "cell_type": "code",
   "execution_count": 5,
   "metadata": {},
   "outputs": [],
   "source": [
    "sd4m_train_sf = pd.read_json(SD4M_Train_Snorkel_Format, lines=True, encoding='utf8')\n",
    "sd4m_dev_sf = pd.read_json(SD4M_Dev_Snorkel_Format, lines=True, encoding='utf8')\n",
    "sd4m_test_sf = pd.read_json(SD4M_Test_Snorkel_Format, lines=True, encoding='utf8')\n",
    "sd4m_sf = pd.concat([sd4m_train_sf, sd4m_dev_sf, sd4m_test_sf])"
   ]
  },
  {
   "cell_type": "markdown",
   "metadata": {},
   "source": [
    "## Filter out documents with no triggers\n",
    "\n",
    "It might make more sense to filter out documents that do not contain any triggers.\n",
    "We do not care for these documents as they are filtered out by the model.\n",
    "We filter out documents with no triggers/ just abstains in the Snorkel pipeline for the daystream data.\n",
    "\n",
    "|            | # Documents | # Documents with triggers |\n",
    "|------------|-------------|---------------------------|\n",
    "| SD4M Train | 1273        | 567                       |\n",
    "| SD4M Dev   | 147         | 55                        |\n",
    "| SD4M Test  | 166         | 68                        |\n",
    "| Total      | 1586        | 690                       |"
   ]
  },
  {
   "cell_type": "code",
   "execution_count": 6,
   "metadata": {},
   "outputs": [],
   "source": [
    "# Filters\n",
    "daystream_with_events = daystream.apply(lambda document: corpus_statistics.has_triggers(document), axis=1)\n",
    "sd4m_train_with_events = sd4m_train.apply(lambda document: corpus_statistics.has_triggers(document), axis=1)\n",
    "sd4m_dev_with_events = sd4m_dev.apply(lambda document: corpus_statistics.has_triggers(document), axis=1)\n",
    "sd4m_test_with_events = sd4m_test.apply(lambda document: corpus_statistics.has_triggers(document), axis=1)"
   ]
  },
  {
   "cell_type": "code",
   "execution_count": 7,
   "metadata": {},
   "outputs": [],
   "source": [
    "# Filters\n",
    "sd4m_train_with_events_sf = sd4m_train_sf.apply(lambda document: corpus_statistics.has_triggers(document), axis=1)\n",
    "sd4m_dev_with_events_sf = sd4m_dev_sf.apply(lambda document: corpus_statistics.has_triggers(document), axis=1)\n",
    "sd4m_test_with_events_sf = sd4m_test_sf.apply(lambda document: corpus_statistics.has_triggers(document), axis=1)"
   ]
  },
  {
   "cell_type": "code",
   "execution_count": 8,
   "metadata": {},
   "outputs": [],
   "source": [
    "daystream_filtered = daystream[daystream_with_events]\n",
    "sd4m_train_filtered = sd4m_train[sd4m_train_with_events]\n",
    "sd4m_dev_filtered = sd4m_dev[sd4m_dev_with_events]\n",
    "sd4m_test_filtered = sd4m_test[sd4m_test_with_events]\n",
    "sd4m_filtered = pd.concat([sd4m_train_filtered, sd4m_dev_filtered, sd4m_test_filtered])"
   ]
  },
  {
   "cell_type": "code",
   "execution_count": 9,
   "metadata": {},
   "outputs": [],
   "source": [
    "sd4m_train_filtered_sf = sd4m_train_sf[sd4m_train_with_events_sf]\n",
    "sd4m_dev_filtered_sf = sd4m_dev_sf[sd4m_dev_with_events_sf]\n",
    "sd4m_test_filtered_sf = sd4m_test_sf[sd4m_test_with_events_sf]\n",
    "sd4m_filtered_sf = pd.concat([sd4m_train_filtered_sf, sd4m_dev_filtered_sf, sd4m_test_filtered_sf])"
   ]
  },
  {
   "cell_type": "code",
   "execution_count": 10,
   "metadata": {},
   "outputs": [],
   "source": [
    "daystream_filtered_stats = corpus_statistics.get_dataset_stats(daystream_filtered)\n",
    "sd4m_train_filtered_stats = corpus_statistics.get_dataset_stats(sd4m_train_filtered)\n",
    "sd4m_dev_filtered_stats = corpus_statistics.get_dataset_stats(sd4m_dev_filtered)\n",
    "sd4m_test_filtered_stats = corpus_statistics.get_dataset_stats(sd4m_test_filtered)\n",
    "sd4m_filtered_stats = corpus_statistics.get_dataset_stats(sd4m_filtered)"
   ]
  },
  {
   "cell_type": "code",
   "execution_count": 11,
   "metadata": {},
   "outputs": [],
   "source": [
    "sd4m_train_filtered_stats_sf = corpus_statistics.get_dataset_stats(sd4m_train_filtered_sf)\n",
    "sd4m_dev_filtered_stats_sf = corpus_statistics.get_dataset_stats(sd4m_dev_filtered_sf)\n",
    "sd4m_test_filtered_stats_sf = corpus_statistics.get_dataset_stats(sd4m_test_filtered_sf)\n",
    "sd4m_filtered_stats_sf = corpus_statistics.get_dataset_stats(sd4m_filtered_sf)"
   ]
  },
  {
   "cell_type": "code",
   "execution_count": 12,
   "metadata": {},
   "outputs": [],
   "source": [
    "# General stats: LFs, Positive (Labeled positive vs. Abstains+negative), Documents, DataPoints\n",
    "trigger_lfs = 21 # 18 uniques, 3 replicated LFs (CanceledRoute, CanceledStop, RailReplacementService)\n",
    "role_lfs = 42 # 39 unique, 3 replicated LFs (start & end date, cause)"
   ]
  },
  {
   "cell_type": "code",
   "execution_count": 41,
   "metadata": {},
   "outputs": [
    {
     "data": {
      "text/plain": [
       "{'location': 713,\n",
       " 'delay': 109,\n",
       " 'direction': 340,\n",
       " 'start_loc': 447,\n",
       " 'end_loc': 421,\n",
       " 'start_date': 46,\n",
       " 'end_date': 48,\n",
       " 'cause': 127,\n",
       " 'jam_length': 160,\n",
       " 'route': 27,\n",
       " 'no_arg': 6181}"
      ]
     },
     "execution_count": 41,
     "metadata": {},
     "output_type": "execute_result"
    }
   ],
   "source": [
    "sd4m_filtered_stats_sf.iloc[0]['Role class frequencies']"
   ]
  },
  {
   "cell_type": "code",
   "execution_count": 25,
   "metadata": {},
   "outputs": [
    {
     "data": {
      "text/html": [
       "<div>\n",
       "<style scoped>\n",
       "    .dataframe tbody tr th:only-of-type {\n",
       "        vertical-align: middle;\n",
       "    }\n",
       "\n",
       "    .dataframe tbody tr th {\n",
       "        vertical-align: top;\n",
       "    }\n",
       "\n",
       "    .dataframe thead th {\n",
       "        text-align: right;\n",
       "    }\n",
       "</style>\n",
       "<table border=\"1\" class=\"dataframe\">\n",
       "  <thead>\n",
       "    <tr style=\"text-align: right;\">\n",
       "      <th></th>\n",
       "      <th>docType</th>\n",
       "      <th># Docs</th>\n",
       "      <th># Tokens</th>\n",
       "      <th># Entities</th>\n",
       "      <th># Triggers</th>\n",
       "      <th># Docs with event triggers</th>\n",
       "      <th># Event triggers with positive label</th>\n",
       "      <th># Event triggers with negative label</th>\n",
       "      <th># Event triggers with abstain</th>\n",
       "      <th>Trigger class frequencies</th>\n",
       "      <th># Docs with event roles</th>\n",
       "      <th># Event role with positive label</th>\n",
       "      <th># Event roles with negative label</th>\n",
       "      <th># Event roles with abstain</th>\n",
       "      <th>Role class frequencies</th>\n",
       "    </tr>\n",
       "  </thead>\n",
       "  <tbody>\n",
       "    <tr>\n",
       "      <th>0</th>\n",
       "      <td>MIXED</td>\n",
       "      <td>690</td>\n",
       "      <td>20609</td>\n",
       "      <td>5365</td>\n",
       "      <td>994</td>\n",
       "      <td>502</td>\n",
       "      <td>591</td>\n",
       "      <td>354</td>\n",
       "      <td>0</td>\n",
       "      <td>{'Accident': 74, 'CanceledRoute': 73, 'Cancele...</td>\n",
       "      <td>502</td>\n",
       "      <td>2438</td>\n",
       "      <td>6181</td>\n",
       "      <td>0</td>\n",
       "      <td>{'location': 713, 'delay': 109, 'direction': 3...</td>\n",
       "    </tr>\n",
       "    <tr>\n",
       "      <th>1</th>\n",
       "      <td>RSS_XML</td>\n",
       "      <td>353</td>\n",
       "      <td>14500</td>\n",
       "      <td>3700</td>\n",
       "      <td>567</td>\n",
       "      <td>330</td>\n",
       "      <td>405</td>\n",
       "      <td>147</td>\n",
       "      <td>0</td>\n",
       "      <td>{'Accident': 39, 'CanceledRoute': 60, 'Cancele...</td>\n",
       "      <td>330</td>\n",
       "      <td>1818</td>\n",
       "      <td>5057</td>\n",
       "      <td>0</td>\n",
       "      <td>{'location': 464, 'delay': 58, 'direction': 28...</td>\n",
       "    </tr>\n",
       "    <tr>\n",
       "      <th>2</th>\n",
       "      <td>TWITTER_JSONL</td>\n",
       "      <td>337</td>\n",
       "      <td>6109</td>\n",
       "      <td>1665</td>\n",
       "      <td>427</td>\n",
       "      <td>172</td>\n",
       "      <td>186</td>\n",
       "      <td>207</td>\n",
       "      <td>0</td>\n",
       "      <td>{'Accident': 35, 'CanceledRoute': 13, 'Cancele...</td>\n",
       "      <td>172</td>\n",
       "      <td>620</td>\n",
       "      <td>1124</td>\n",
       "      <td>0</td>\n",
       "      <td>{'location': 249, 'delay': 51, 'direction': 53...</td>\n",
       "    </tr>\n",
       "  </tbody>\n",
       "</table>\n",
       "</div>"
      ],
      "text/plain": [
       "         docType  # Docs  # Tokens  # Entities  # Triggers  \\\n",
       "0          MIXED     690     20609        5365         994   \n",
       "1        RSS_XML     353     14500        3700         567   \n",
       "2  TWITTER_JSONL     337      6109        1665         427   \n",
       "\n",
       "   # Docs with event triggers  # Event triggers with positive label  \\\n",
       "0                         502                                   591   \n",
       "1                         330                                   405   \n",
       "2                         172                                   186   \n",
       "\n",
       "   # Event triggers with negative label  # Event triggers with abstain  \\\n",
       "0                                   354                              0   \n",
       "1                                   147                              0   \n",
       "2                                   207                              0   \n",
       "\n",
       "                           Trigger class frequencies  # Docs with event roles  \\\n",
       "0  {'Accident': 74, 'CanceledRoute': 73, 'Cancele...                      502   \n",
       "1  {'Accident': 39, 'CanceledRoute': 60, 'Cancele...                      330   \n",
       "2  {'Accident': 35, 'CanceledRoute': 13, 'Cancele...                      172   \n",
       "\n",
       "   # Event role with positive label  # Event roles with negative label  \\\n",
       "0                              2438                               6181   \n",
       "1                              1818                               5057   \n",
       "2                               620                               1124   \n",
       "\n",
       "   # Event roles with abstain  \\\n",
       "0                           0   \n",
       "1                           0   \n",
       "2                           0   \n",
       "\n",
       "                              Role class frequencies  \n",
       "0  {'location': 713, 'delay': 109, 'direction': 3...  \n",
       "1  {'location': 464, 'delay': 58, 'direction': 28...  \n",
       "2  {'location': 249, 'delay': 51, 'direction': 53...  "
      ]
     },
     "execution_count": 25,
     "metadata": {},
     "output_type": "execute_result"
    }
   ],
   "source": [
    "sd4m_filtered_stats_sf"
   ]
  },
  {
   "cell_type": "code",
   "execution_count": 43,
   "metadata": {},
   "outputs": [
    {
     "data": {
      "text/html": [
       "<div>\n",
       "<style scoped>\n",
       "    .dataframe tbody tr th:only-of-type {\n",
       "        vertical-align: middle;\n",
       "    }\n",
       "\n",
       "    .dataframe tbody tr th {\n",
       "        vertical-align: top;\n",
       "    }\n",
       "\n",
       "    .dataframe thead th {\n",
       "        text-align: right;\n",
       "    }\n",
       "</style>\n",
       "<table border=\"1\" class=\"dataframe\">\n",
       "  <thead>\n",
       "    <tr style=\"text-align: right;\">\n",
       "      <th></th>\n",
       "      <th>docType</th>\n",
       "      <th># Docs</th>\n",
       "      <th># Tokens</th>\n",
       "      <th># Entities</th>\n",
       "      <th># Triggers</th>\n",
       "      <th># Docs with event triggers</th>\n",
       "      <th># Event triggers</th>\n",
       "      <th>Trigger class frequencies</th>\n",
       "      <th># Docs with event roles</th>\n",
       "      <th># Event roles</th>\n",
       "      <th>Role class frequencies</th>\n",
       "    </tr>\n",
       "  </thead>\n",
       "  <tbody>\n",
       "    <tr>\n",
       "      <th>0</th>\n",
       "      <td>MIXED</td>\n",
       "      <td>690</td>\n",
       "      <td>20609</td>\n",
       "      <td>5365</td>\n",
       "      <td>994</td>\n",
       "      <td>502</td>\n",
       "      <td>632</td>\n",
       "      <td>{'Accident': 74, 'CanceledRoute': 82, 'Cancele...</td>\n",
       "      <td>502</td>\n",
       "      <td>2529</td>\n",
       "      <td>{'location': 730, 'delay': 114, 'direction': 3...</td>\n",
       "    </tr>\n",
       "    <tr>\n",
       "      <th>1</th>\n",
       "      <td>RSS_XML</td>\n",
       "      <td>353</td>\n",
       "      <td>14500</td>\n",
       "      <td>3700</td>\n",
       "      <td>567</td>\n",
       "      <td>330</td>\n",
       "      <td>413</td>\n",
       "      <td>{'Accident': 39, 'CanceledRoute': 62, 'Cancele...</td>\n",
       "      <td>330</td>\n",
       "      <td>1842</td>\n",
       "      <td>{'location': 469, 'delay': 62, 'direction': 28...</td>\n",
       "    </tr>\n",
       "    <tr>\n",
       "      <th>2</th>\n",
       "      <td>TWITTER_JSONL</td>\n",
       "      <td>337</td>\n",
       "      <td>6109</td>\n",
       "      <td>1665</td>\n",
       "      <td>427</td>\n",
       "      <td>172</td>\n",
       "      <td>219</td>\n",
       "      <td>{'Accident': 35, 'CanceledRoute': 20, 'Cancele...</td>\n",
       "      <td>172</td>\n",
       "      <td>687</td>\n",
       "      <td>{'location': 261, 'delay': 52, 'direction': 58...</td>\n",
       "    </tr>\n",
       "  </tbody>\n",
       "</table>\n",
       "</div>"
      ],
      "text/plain": [
       "         docType  # Docs  # Tokens  # Entities  # Triggers  \\\n",
       "0          MIXED     690     20609        5365         994   \n",
       "1        RSS_XML     353     14500        3700         567   \n",
       "2  TWITTER_JSONL     337      6109        1665         427   \n",
       "\n",
       "   # Docs with event triggers  # Event triggers  \\\n",
       "0                         502               632   \n",
       "1                         330               413   \n",
       "2                         172               219   \n",
       "\n",
       "                           Trigger class frequencies  # Docs with event roles  \\\n",
       "0  {'Accident': 74, 'CanceledRoute': 82, 'Cancele...                      502   \n",
       "1  {'Accident': 39, 'CanceledRoute': 62, 'Cancele...                      330   \n",
       "2  {'Accident': 35, 'CanceledRoute': 20, 'Cancele...                      172   \n",
       "\n",
       "   # Event roles                             Role class frequencies  \n",
       "0           2529  {'location': 730, 'delay': 114, 'direction': 3...  \n",
       "1           1842  {'location': 469, 'delay': 62, 'direction': 28...  \n",
       "2            687  {'location': 261, 'delay': 52, 'direction': 58...  "
      ]
     },
     "execution_count": 43,
     "metadata": {},
     "output_type": "execute_result"
    }
   ],
   "source": [
    "sd4m_filtered_stats"
   ]
  },
  {
   "cell_type": "code",
   "execution_count": 15,
   "metadata": {},
   "outputs": [
    {
     "data": {
      "text/html": [
       "<div>\n",
       "<style scoped>\n",
       "    .dataframe tbody tr th:only-of-type {\n",
       "        vertical-align: middle;\n",
       "    }\n",
       "\n",
       "    .dataframe tbody tr th {\n",
       "        vertical-align: top;\n",
       "    }\n",
       "\n",
       "    .dataframe thead th {\n",
       "        text-align: right;\n",
       "    }\n",
       "</style>\n",
       "<table border=\"1\" class=\"dataframe\">\n",
       "  <thead>\n",
       "    <tr style=\"text-align: right;\">\n",
       "      <th></th>\n",
       "      <th>docType</th>\n",
       "      <th># Docs</th>\n",
       "      <th># Tokens</th>\n",
       "      <th># Entities</th>\n",
       "      <th># Triggers</th>\n",
       "      <th># Docs with event triggers</th>\n",
       "      <th># Event triggers</th>\n",
       "      <th>Trigger class frequencies</th>\n",
       "      <th># Docs with event roles</th>\n",
       "      <th># Event roles</th>\n",
       "      <th>Role class frequencies</th>\n",
       "    </tr>\n",
       "  </thead>\n",
       "  <tbody>\n",
       "    <tr>\n",
       "      <th>0</th>\n",
       "      <td>MIXED</td>\n",
       "      <td>68</td>\n",
       "      <td>1966</td>\n",
       "      <td>504</td>\n",
       "      <td>102</td>\n",
       "      <td>48</td>\n",
       "      <td>62</td>\n",
       "      <td>{'Accident': 9, 'CanceledRoute': 11, 'Canceled...</td>\n",
       "      <td>48</td>\n",
       "      <td>250</td>\n",
       "      <td>{'location': 84, 'delay': 8, 'direction': 31, ...</td>\n",
       "    </tr>\n",
       "    <tr>\n",
       "      <th>1</th>\n",
       "      <td>RSS_XML</td>\n",
       "      <td>33</td>\n",
       "      <td>1332</td>\n",
       "      <td>329</td>\n",
       "      <td>56</td>\n",
       "      <td>31</td>\n",
       "      <td>38</td>\n",
       "      <td>{'Accident': 6, 'CanceledRoute': 8, 'CanceledS...</td>\n",
       "      <td>31</td>\n",
       "      <td>172</td>\n",
       "      <td>{'location': 44, 'delay': 3, 'direction': 29, ...</td>\n",
       "    </tr>\n",
       "    <tr>\n",
       "      <th>2</th>\n",
       "      <td>TWITTER_JSONL</td>\n",
       "      <td>35</td>\n",
       "      <td>634</td>\n",
       "      <td>175</td>\n",
       "      <td>46</td>\n",
       "      <td>17</td>\n",
       "      <td>24</td>\n",
       "      <td>{'Accident': 3, 'CanceledRoute': 3, 'CanceledS...</td>\n",
       "      <td>17</td>\n",
       "      <td>78</td>\n",
       "      <td>{'location': 40, 'delay': 5, 'direction': 2, '...</td>\n",
       "    </tr>\n",
       "  </tbody>\n",
       "</table>\n",
       "</div>"
      ],
      "text/plain": [
       "         docType  # Docs  # Tokens  # Entities  # Triggers  \\\n",
       "0          MIXED      68      1966         504         102   \n",
       "1        RSS_XML      33      1332         329          56   \n",
       "2  TWITTER_JSONL      35       634         175          46   \n",
       "\n",
       "   # Docs with event triggers  # Event triggers  \\\n",
       "0                          48                62   \n",
       "1                          31                38   \n",
       "2                          17                24   \n",
       "\n",
       "                           Trigger class frequencies  # Docs with event roles  \\\n",
       "0  {'Accident': 9, 'CanceledRoute': 11, 'Canceled...                       48   \n",
       "1  {'Accident': 6, 'CanceledRoute': 8, 'CanceledS...                       31   \n",
       "2  {'Accident': 3, 'CanceledRoute': 3, 'CanceledS...                       17   \n",
       "\n",
       "   # Event roles                             Role class frequencies  \n",
       "0            250  {'location': 84, 'delay': 8, 'direction': 31, ...  \n",
       "1            172  {'location': 44, 'delay': 3, 'direction': 29, ...  \n",
       "2             78  {'location': 40, 'delay': 5, 'direction': 2, '...  "
      ]
     },
     "execution_count": 15,
     "metadata": {},
     "output_type": "execute_result"
    }
   ],
   "source": [
    "sd4m_test_filtered_stats"
   ]
  },
  {
   "cell_type": "code",
   "execution_count": 16,
   "metadata": {},
   "outputs": [
    {
     "data": {
      "text/plain": [
       "{'location': 261,\n",
       " 'delay': 52,\n",
       " 'direction': 58,\n",
       " 'start_loc': 89,\n",
       " 'end_loc': 75,\n",
       " 'start_date': 60,\n",
       " 'end_date': 28,\n",
       " 'cause': 53,\n",
       " 'jam_length': 10,\n",
       " 'route': 1,\n",
       " 'no_arg': 0}"
      ]
     },
     "execution_count": 16,
     "metadata": {},
     "output_type": "execute_result"
    }
   ],
   "source": [
    "sd4m_filtered_stats.iloc[2]['Role class frequencies']"
   ]
  },
  {
   "cell_type": "code",
   "execution_count": 17,
   "metadata": {},
   "outputs": [],
   "source": [
    "daystream = pd.read_json(DATASET_PATH + \"daystream.jsonl\", lines=True, encoding='utf8')\n",
    "sd4m = pd.concat([sd4m_train, sd4m_dev, sd4m_test])\n",
    "daystream_stats = corpus_statistics.get_dataset_stats(daystream)\n",
    "sd4m_stats = corpus_statistics.get_dataset_stats(sd4m)"
   ]
  },
  {
   "cell_type": "code",
   "execution_count": 18,
   "metadata": {},
   "outputs": [
    {
     "data": {
      "text/html": [
       "<div>\n",
       "<style scoped>\n",
       "    .dataframe tbody tr th:only-of-type {\n",
       "        vertical-align: middle;\n",
       "    }\n",
       "\n",
       "    .dataframe tbody tr th {\n",
       "        vertical-align: top;\n",
       "    }\n",
       "\n",
       "    .dataframe thead th {\n",
       "        text-align: right;\n",
       "    }\n",
       "</style>\n",
       "<table border=\"1\" class=\"dataframe\">\n",
       "  <thead>\n",
       "    <tr style=\"text-align: right;\">\n",
       "      <th></th>\n",
       "      <th>docType</th>\n",
       "      <th># Docs</th>\n",
       "      <th># Tokens</th>\n",
       "      <th># Entities</th>\n",
       "      <th># Triggers</th>\n",
       "      <th># Docs with event triggers</th>\n",
       "      <th># Event triggers with positive label</th>\n",
       "      <th># Event triggers with negative label</th>\n",
       "      <th># Event triggers with abstain</th>\n",
       "      <th>Trigger class frequencies</th>\n",
       "      <th># Docs with event roles</th>\n",
       "      <th># Event role with positive label</th>\n",
       "      <th># Event roles with negative label</th>\n",
       "      <th># Event roles with abstain</th>\n",
       "      <th>Role class frequencies</th>\n",
       "    </tr>\n",
       "  </thead>\n",
       "  <tbody>\n",
       "    <tr>\n",
       "      <th>0</th>\n",
       "      <td>MIXED</td>\n",
       "      <td>1955</td>\n",
       "      <td>66360</td>\n",
       "      <td>15708</td>\n",
       "      <td>3076</td>\n",
       "      <td>0</td>\n",
       "      <td>0</td>\n",
       "      <td>3076</td>\n",
       "      <td>0</td>\n",
       "      <td>{'Accident': 0, 'CanceledRoute': 0, 'CanceledS...</td>\n",
       "      <td>0</td>\n",
       "      <td>0</td>\n",
       "      <td>47376</td>\n",
       "      <td>0</td>\n",
       "      <td>{'location': 0, 'delay': 0, 'direction': 0, 's...</td>\n",
       "    </tr>\n",
       "    <tr>\n",
       "      <th>1</th>\n",
       "      <td>RSS_XML</td>\n",
       "      <td>141</td>\n",
       "      <td>15222</td>\n",
       "      <td>3381</td>\n",
       "      <td>601</td>\n",
       "      <td>0</td>\n",
       "      <td>0</td>\n",
       "      <td>601</td>\n",
       "      <td>0</td>\n",
       "      <td>{'Accident': 0, 'CanceledRoute': 0, 'CanceledS...</td>\n",
       "      <td>0</td>\n",
       "      <td>0</td>\n",
       "      <td>27847</td>\n",
       "      <td>0</td>\n",
       "      <td>{'location': 0, 'delay': 0, 'direction': 0, 's...</td>\n",
       "    </tr>\n",
       "    <tr>\n",
       "      <th>2</th>\n",
       "      <td>TWITTER_JSONL</td>\n",
       "      <td>1814</td>\n",
       "      <td>51138</td>\n",
       "      <td>12327</td>\n",
       "      <td>2475</td>\n",
       "      <td>0</td>\n",
       "      <td>0</td>\n",
       "      <td>2475</td>\n",
       "      <td>0</td>\n",
       "      <td>{'Accident': 0, 'CanceledRoute': 0, 'CanceledS...</td>\n",
       "      <td>0</td>\n",
       "      <td>0</td>\n",
       "      <td>19529</td>\n",
       "      <td>0</td>\n",
       "      <td>{'location': 0, 'delay': 0, 'direction': 0, 's...</td>\n",
       "    </tr>\n",
       "  </tbody>\n",
       "</table>\n",
       "</div>"
      ],
      "text/plain": [
       "         docType  # Docs  # Tokens  # Entities  # Triggers  \\\n",
       "0          MIXED    1955     66360       15708        3076   \n",
       "1        RSS_XML     141     15222        3381         601   \n",
       "2  TWITTER_JSONL    1814     51138       12327        2475   \n",
       "\n",
       "   # Docs with event triggers  # Event triggers with positive label  \\\n",
       "0                           0                                     0   \n",
       "1                           0                                     0   \n",
       "2                           0                                     0   \n",
       "\n",
       "   # Event triggers with negative label  # Event triggers with abstain  \\\n",
       "0                                  3076                              0   \n",
       "1                                   601                              0   \n",
       "2                                  2475                              0   \n",
       "\n",
       "                           Trigger class frequencies  # Docs with event roles  \\\n",
       "0  {'Accident': 0, 'CanceledRoute': 0, 'CanceledS...                        0   \n",
       "1  {'Accident': 0, 'CanceledRoute': 0, 'CanceledS...                        0   \n",
       "2  {'Accident': 0, 'CanceledRoute': 0, 'CanceledS...                        0   \n",
       "\n",
       "   # Event role with positive label  # Event roles with negative label  \\\n",
       "0                                 0                              47376   \n",
       "1                                 0                              27847   \n",
       "2                                 0                              19529   \n",
       "\n",
       "   # Event roles with abstain  \\\n",
       "0                           0   \n",
       "1                           0   \n",
       "2                           0   \n",
       "\n",
       "                              Role class frequencies  \n",
       "0  {'location': 0, 'delay': 0, 'direction': 0, 's...  \n",
       "1  {'location': 0, 'delay': 0, 'direction': 0, 's...  \n",
       "2  {'location': 0, 'delay': 0, 'direction': 0, 's...  "
      ]
     },
     "execution_count": 18,
     "metadata": {},
     "output_type": "execute_result"
    }
   ],
   "source": [
    "daystream_stats"
   ]
  },
  {
   "cell_type": "code",
   "execution_count": 19,
   "metadata": {},
   "outputs": [
    {
     "data": {
      "text/html": [
       "<div>\n",
       "<style scoped>\n",
       "    .dataframe tbody tr th:only-of-type {\n",
       "        vertical-align: middle;\n",
       "    }\n",
       "\n",
       "    .dataframe tbody tr th {\n",
       "        vertical-align: top;\n",
       "    }\n",
       "\n",
       "    .dataframe thead th {\n",
       "        text-align: right;\n",
       "    }\n",
       "</style>\n",
       "<table border=\"1\" class=\"dataframe\">\n",
       "  <thead>\n",
       "    <tr style=\"text-align: right;\">\n",
       "      <th></th>\n",
       "      <th>docType</th>\n",
       "      <th># Docs</th>\n",
       "      <th># Tokens</th>\n",
       "      <th># Entities</th>\n",
       "      <th># Triggers</th>\n",
       "      <th># Docs with event triggers</th>\n",
       "      <th># Event triggers</th>\n",
       "      <th>Trigger class frequencies</th>\n",
       "      <th># Docs with event roles</th>\n",
       "      <th># Event roles</th>\n",
       "      <th>Role class frequencies</th>\n",
       "    </tr>\n",
       "  </thead>\n",
       "  <tbody>\n",
       "    <tr>\n",
       "      <th>0</th>\n",
       "      <td>MIXED</td>\n",
       "      <td>1586</td>\n",
       "      <td>37458</td>\n",
       "      <td>7695</td>\n",
       "      <td>994</td>\n",
       "      <td>502</td>\n",
       "      <td>632</td>\n",
       "      <td>{'Accident': 74, 'CanceledRoute': 82, 'Cancele...</td>\n",
       "      <td>502</td>\n",
       "      <td>2529</td>\n",
       "      <td>{'location': 730, 'delay': 114, 'direction': 3...</td>\n",
       "    </tr>\n",
       "    <tr>\n",
       "      <th>1</th>\n",
       "      <td>RSS_XML</td>\n",
       "      <td>575</td>\n",
       "      <td>19408</td>\n",
       "      <td>4733</td>\n",
       "      <td>567</td>\n",
       "      <td>330</td>\n",
       "      <td>413</td>\n",
       "      <td>{'Accident': 39, 'CanceledRoute': 62, 'Cancele...</td>\n",
       "      <td>330</td>\n",
       "      <td>1842</td>\n",
       "      <td>{'location': 469, 'delay': 62, 'direction': 28...</td>\n",
       "    </tr>\n",
       "    <tr>\n",
       "      <th>2</th>\n",
       "      <td>TWITTER_JSONL</td>\n",
       "      <td>1011</td>\n",
       "      <td>18050</td>\n",
       "      <td>2962</td>\n",
       "      <td>427</td>\n",
       "      <td>172</td>\n",
       "      <td>219</td>\n",
       "      <td>{'Accident': 35, 'CanceledRoute': 20, 'Cancele...</td>\n",
       "      <td>172</td>\n",
       "      <td>687</td>\n",
       "      <td>{'location': 261, 'delay': 52, 'direction': 58...</td>\n",
       "    </tr>\n",
       "  </tbody>\n",
       "</table>\n",
       "</div>"
      ],
      "text/plain": [
       "         docType  # Docs  # Tokens  # Entities  # Triggers  \\\n",
       "0          MIXED    1586     37458        7695         994   \n",
       "1        RSS_XML     575     19408        4733         567   \n",
       "2  TWITTER_JSONL    1011     18050        2962         427   \n",
       "\n",
       "   # Docs with event triggers  # Event triggers  \\\n",
       "0                         502               632   \n",
       "1                         330               413   \n",
       "2                         172               219   \n",
       "\n",
       "                           Trigger class frequencies  # Docs with event roles  \\\n",
       "0  {'Accident': 74, 'CanceledRoute': 82, 'Cancele...                      502   \n",
       "1  {'Accident': 39, 'CanceledRoute': 62, 'Cancele...                      330   \n",
       "2  {'Accident': 35, 'CanceledRoute': 20, 'Cancele...                      172   \n",
       "\n",
       "   # Event roles                             Role class frequencies  \n",
       "0           2529  {'location': 730, 'delay': 114, 'direction': 3...  \n",
       "1           1842  {'location': 469, 'delay': 62, 'direction': 28...  \n",
       "2            687  {'location': 261, 'delay': 52, 'direction': 58...  "
      ]
     },
     "execution_count": 19,
     "metadata": {},
     "output_type": "execute_result"
    }
   ],
   "source": [
    "sd4m_stats"
   ]
  },
  {
   "cell_type": "code",
   "execution_count": 20,
   "metadata": {},
   "outputs": [],
   "source": [
    "daystream_entities = [entity for entities in daystream['entities'] for entity in entities]"
   ]
  },
  {
   "cell_type": "code",
   "execution_count": 21,
   "metadata": {},
   "outputs": [
    {
     "data": {
      "text/plain": [
       "3076"
      ]
     },
     "execution_count": 21,
     "metadata": {},
     "output_type": "execute_result"
    }
   ],
   "source": [
    "len([entity for entity in daystream_entities if entity['entity_type'] == 'trigger'])"
   ]
  },
  {
   "cell_type": "code",
   "execution_count": 22,
   "metadata": {},
   "outputs": [],
   "source": [
    "daystream_snorkel_labeled = pd.read_json(daystream_snorkeled, lines=True, encoding='utf8')"
   ]
  },
  {
   "cell_type": "code",
   "execution_count": 23,
   "metadata": {},
   "outputs": [],
   "source": [
    "daystream_filtered_entities = [entity for entities in daystream_snorkel_labeled['entities'] for entity in entities]"
   ]
  },
  {
   "cell_type": "code",
   "execution_count": 24,
   "metadata": {},
   "outputs": [
    {
     "data": {
      "text/plain": [
       "3076"
      ]
     },
     "execution_count": 24,
     "metadata": {},
     "output_type": "execute_result"
    }
   ],
   "source": [
    "len([entity for entity in daystream_filtered_entities if entity['entity_type'] == 'trigger'])"
   ]
  },
  {
   "cell_type": "code",
   "execution_count": null,
   "metadata": {},
   "outputs": [],
   "source": []
  }
 ],
 "metadata": {
  "kernelspec": {
   "display_name": "Python 3 (eventx)",
   "language": "python",
   "name": "eventx"
  },
  "language_info": {
   "codemirror_mode": {
    "name": "ipython",
    "version": 3
   },
   "file_extension": ".py",
   "mimetype": "text/x-python",
   "name": "python",
   "nbconvert_exporter": "python",
   "pygments_lexer": "ipython3",
   "version": "3.6.10"
  }
 },
 "nbformat": 4,
 "nbformat_minor": 4
}
