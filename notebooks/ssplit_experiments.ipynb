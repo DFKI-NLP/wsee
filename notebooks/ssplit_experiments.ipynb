{
 "cells": [
  {
   "cell_type": "markdown",
   "metadata": {
    "jupyter": {
     "outputs_hidden": true
    }
   },
   "source": [
    "# Sentence Splitting Experiments\n",
    "Here we examine the quality of the sentence splitting in the corpus.\n",
    "We found that the sentence splitting in the corpus which was done with stanfordnlp was too aggressive. Many sentences were split incorrectly and often trigger-argument pairs (from the document level annotation) ended up being in different sentences.\n",
    "We compare negative labeling functions only using the sentence splitting information from stanfordnlp vs. SoMaJo and we manually examine the sentence splitting quality on the incorrectly labeled instances."
   ]
  },
  {
   "cell_type": "code",
   "execution_count": null,
   "metadata": {},
   "outputs": [],
   "source": [
    "import sys\n",
    "sys.path.append(\"../\")"
   ]
  },
  {
   "cell_type": "markdown",
   "metadata": {},
   "source": [
    "## spaCy, stanfordnlp, SoMaJo comparison\n",
    "\n",
    "Download German spaCy core model\n",
    "```shell script\n",
    "python -m spacy download de_core_news_md\n",
    "```"
   ]
  },
  {
   "cell_type": "code",
   "execution_count": 2,
   "metadata": {},
   "outputs": [],
   "source": [
    "import spacy\n",
    "nlp_spacy = spacy.load('de_core_news_md')"
   ]
  },
  {
   "cell_type": "code",
   "execution_count": 3,
   "metadata": {},
   "outputs": [
    {
     "name": "stdout",
     "output_type": "stream",
     "text": [
      "Use device: cpu\n",
      "---\n",
      "Loading: tokenize\n",
      "With settings: \n",
      "{'model_path': '/Users/phuc/stanfordnlp_resources/de_gsd_models/de_gsd_tokenizer.pt', 'lang': 'de', 'shorthand': 'de_gsd', 'mode': 'predict'}\n",
      "---\n",
      "Loading: mwt\n",
      "With settings: \n",
      "{'model_path': '/Users/phuc/stanfordnlp_resources/de_gsd_models/de_gsd_mwt_expander.pt', 'lang': 'de', 'shorthand': 'de_gsd', 'mode': 'predict'}\n",
      "Building an attentional Seq2Seq model...\n",
      "Using a Bi-LSTM encoder\n",
      "Using soft attention for LSTM.\n",
      "Finetune all embeddings.\n",
      "---\n",
      "Loading: pos\n",
      "With settings: \n",
      "{'model_path': '/Users/phuc/stanfordnlp_resources/de_gsd_models/de_gsd_tagger.pt', 'pretrain_path': '/Users/phuc/stanfordnlp_resources/de_gsd_models/de_gsd.pretrain.pt', 'lang': 'de', 'shorthand': 'de_gsd', 'mode': 'predict'}\n",
      "---\n",
      "Loading: lemma\n",
      "With settings: \n",
      "{'model_path': '/Users/phuc/stanfordnlp_resources/de_gsd_models/de_gsd_lemmatizer.pt', 'lang': 'de', 'shorthand': 'de_gsd', 'mode': 'predict'}\n",
      "Building an attentional Seq2Seq model...\n",
      "Using a Bi-LSTM encoder\n",
      "Using soft attention for LSTM.\n",
      "Finetune all embeddings.\n",
      "[Running seq2seq lemmatizer with edit classifier]\n",
      "---\n",
      "Loading: depparse\n",
      "With settings: \n",
      "{'model_path': '/Users/phuc/stanfordnlp_resources/de_gsd_models/de_gsd_parser.pt', 'pretrain_path': '/Users/phuc/stanfordnlp_resources/de_gsd_models/de_gsd.pretrain.pt', 'lang': 'de', 'shorthand': 'de_gsd', 'mode': 'predict'}\n",
      "Done loading processors!\n",
      "---\n"
     ]
    }
   ],
   "source": [
    "import stanfordnlp\n",
    "# stanfordnlp.download('de') # uncomment if this is the first run\n",
    "nlp_stanford = stanfordnlp.Pipeline(lang='de')"
   ]
  },
  {
   "cell_type": "code",
   "execution_count": 4,
   "metadata": {},
   "outputs": [],
   "source": [
    "from somajo import SoMaJo\n",
    "tokenizer = SoMaJo(\"de_CMC\", split_camel_case=True)"
   ]
  },
  {
   "cell_type": "markdown",
   "metadata": {
    "pycharm": {
     "name": "#%% md\n"
    }
   },
   "source": [
    "### Test documents"
   ]
  },
  {
   "cell_type": "code",
   "execution_count": 6,
   "metadata": {
    "pycharm": {
     "name": "#%%\n"
    }
   },
   "outputs": [],
   "source": [
    "doc1 = \"#S1 Nach der Weichenstörung in Hohen Neuendorf verkehren die S-Bahnen wieder durchgehend, erster Zug ab #Frohnau 21:58 Uhr und erster Zug ab #Hohen_Neuendorf 22:03 Uhr.\"\n",
    "doc2 = \"Unfall\\nAbschnitt: Marzahn (Berlin)\\nGültig ab: 09.02.2016 20:06\\ngesperrt, Unfall\\n\"\n",
    "doc3 = \"■ #A1 #Bremen Richtung #Hamburg zwischen Horster Dreieck und #Stillhorn 9 km #Stau.  Dort ist wegen #Bauarbeiten nur eine Spur frei.\\n\"\n",
    "doc4 = \"Wegen einer techn. Störung an der Strecke besteht für die Linien S41, S42 u. S46 zw. Halensee <> Westkreuz <> Messe Nord <> Westend S-Bahn-Pendelverkehr im 20-Minuten-Takt. Die Linien S41 u. S42 fahren nur im 10-Minuten-Takt, die Linie S46 fährt nur Königs Wusterhausen <> Tempelhof.\"\n",
    "doc5 = \"#S3, #S5, #S7, #S9: Nach einer ärztliche Versorgung eines Fahrgastes im Zug in Bellevue kommt es noch zu Verspätungen und vereinzelten Ausfällen.\""
   ]
  },
  {
   "cell_type": "code",
   "execution_count": 7,
   "metadata": {},
   "outputs": [],
   "source": [
    "test_docs = [doc1, doc2, doc3, doc4, doc5]"
   ]
  },
  {
   "cell_type": "markdown",
   "metadata": {
    "pycharm": {
     "name": "#%% md\n"
    }
   },
   "source": [
    "### Process documents with spaCy, stanfordnlp, somajo"
   ]
  },
  {
   "cell_type": "code",
   "execution_count": 8,
   "metadata": {
    "pycharm": {
     "name": "#%%\n"
    }
   },
   "outputs": [],
   "source": [
    "spacy_docs = [nlp_spacy(doc) for doc in test_docs]"
   ]
  },
  {
   "cell_type": "code",
   "execution_count": 9,
   "metadata": {},
   "outputs": [
    {
     "name": "stderr",
     "output_type": "stream",
     "text": [
      "/tmp/pip-req-build-u9mddw1z/aten/src/ATen/native/LegacyDefinitions.cpp:19: UserWarning: masked_fill_ received a mask with dtype torch.uint8, this behavior is now deprecated,please use a mask with dtype torch.bool instead.\n",
      "/tmp/pip-req-build-u9mddw1z/aten/src/ATen/native/LegacyDefinitions.cpp:19: UserWarning: masked_fill_ received a mask with dtype torch.uint8, this behavior is now deprecated,please use a mask with dtype torch.bool instead.\n",
      "/tmp/pip-req-build-u9mddw1z/aten/src/ATen/native/LegacyDefinitions.cpp:19: UserWarning: masked_fill_ received a mask with dtype torch.uint8, this behavior is now deprecated,please use a mask with dtype torch.bool instead.\n",
      "/tmp/pip-req-build-u9mddw1z/aten/src/ATen/native/LegacyDefinitions.cpp:19: UserWarning: masked_fill_ received a mask with dtype torch.uint8, this behavior is now deprecated,please use a mask with dtype torch.bool instead.\n",
      "/tmp/pip-req-build-u9mddw1z/aten/src/ATen/native/LegacyDefinitions.cpp:19: UserWarning: masked_fill_ received a mask with dtype torch.uint8, this behavior is now deprecated,please use a mask with dtype torch.bool instead.\n"
     ]
    }
   ],
   "source": [
    "stanford_docs = [nlp_stanford(doc) for doc in test_docs]"
   ]
  },
  {
   "cell_type": "code",
   "execution_count": 11,
   "metadata": {},
   "outputs": [],
   "source": [
    "somajo_docs = [list(tokenizer.tokenize_text([doc])) for doc in test_docs]"
   ]
  },
  {
   "cell_type": "markdown",
   "metadata": {
    "pycharm": {
     "name": "#%% md\n"
    }
   },
   "source": [
    "### Tokenization comparison\n",
    "How to access tokens:\n",
    "\n",
    "#### spaCy\n",
    "`Doc` is a sequence of `Token`s. We can get the token text with `Token.text`.\n",
    "\n",
    "#### stanfordnlp\n",
    "Here we have to access the sentences of a `Doc` to access the tokens with `tokens` property. We can get the token text with `Token.text`.\n",
    "\n",
    "#### somajo\n",
    "Similar to stanfordnlp."
   ]
  },
  {
   "cell_type": "code",
   "execution_count": 12,
   "metadata": {},
   "outputs": [],
   "source": [
    "def get_spacy_doc_tokens(doc):\n",
    "    return [token.text for token in doc]\n",
    "\n",
    "def get_stanford_doc_tokens(doc):\n",
    "    return [token.text for sentence in doc.sentences for token in sentence.tokens]\n",
    "\n",
    "def get_somajo_doc_tokens(doc):\n",
    "    return [token.text for sentence in doc for token in sentence]"
   ]
  },
  {
   "cell_type": "code",
   "execution_count": 13,
   "metadata": {
    "pycharm": {
     "name": "#%%\n"
    }
   },
   "outputs": [
    {
     "name": "stdout",
     "output_type": "stream",
     "text": [
      "spaCy: ['#', 'S1', 'Nach', 'der', 'Weichenstörung', 'in', 'Hohen', 'Neuendorf', 'verkehren', 'die', 'S-Bahnen', 'wieder', 'durchgehend', ',', 'erster', 'Zug', 'ab', '#', 'Frohnau', '21:58', 'Uhr', 'und', 'erster', 'Zug', 'ab', '#', 'Hohen_Neuendorf', '22:03', 'Uhr', '.']\n",
      "stanfordnlp: ['#S1', 'Nach', 'der', 'Weichenstörung', 'in', 'Hohen', 'Neuendorf', 'verkehren', 'die', 'S-', 'Bahnen', 'wieder', 'durchgehend', ',', 'erster', 'Zug', 'ab', '#', 'Frohnau', '21:58', 'Uhr', 'und', 'erster', 'Zug', 'ab', '#', 'Hohen_Neuendorf', '22:03', 'Uhr', '.']\n",
      "stanza: ['#S1', 'Nach', 'der', 'Weichenstörung', 'in', 'Hohen', 'Neuendorf', 'verkehren', 'die', 'S-Bahnen', 'wieder', 'durchgehend', ',', 'erster', 'Zug', 'ab', '#', 'Frohnau', '21:58', 'Uhr', 'und', 'erster', 'Zug', 'ab', '#', 'Hohen_Neuendorf', '22:03', 'Uhr', '.']\n",
      "somajo: ['#S1', 'Nach', 'der', 'Weichenstörung', 'in', 'Hohen', 'Neuendorf', 'verkehren', 'die', 'S-Bahnen', 'wieder', 'durchgehend', ',', 'erster', 'Zug', 'ab', '#Frohnau', '21:58', 'Uhr', 'und', 'erster', 'Zug', 'ab', '#Hohen_Neuendorf', '22:03', 'Uhr', '.']\n",
      "\n",
      "\n",
      "spaCy: ['Unfall', '\\n', 'Abschnitt', ':', 'Marzahn', '(', 'Berlin', ')', '\\n', 'Gültig', 'ab', ':', '09.02.2016', '20:06', '\\n', 'gesperrt', ',', 'Unfall', '\\n']\n",
      "stanfordnlp: ['Unfall', 'Abschnitt', ':', 'Marzahn', '(', 'Berlin', ')', 'Gültig', 'ab', ':', '09.02.2016', '20:06', 'gesperrt', ',', 'Unfall']\n",
      "stanza: ['Unfall', 'Abschnitt', ':', 'Marzahn', '(', 'Berlin', ')', 'Gültig', 'ab', ':', '09.02.2016', '20:06', 'gesperrt', ',', 'Unfall']\n",
      "somajo: ['Unfall', 'Abschnitt', ':', 'Marzahn', '(', 'Berlin', ')', 'Gültig', 'ab', ':', '09.', '02.', '2016', '20:06', 'gesperrt', ',', 'Unfall']\n",
      "\n",
      "\n",
      "spaCy: ['■', '#', 'A1', '#', 'Bremen', 'Richtung', '#', 'Hamburg', 'zwischen', 'Horster', 'Dreieck', 'und', '#', 'Stillhorn', '9', 'km', '#', 'Stau', '.', ' ', 'Dort', 'ist', 'wegen', '#', 'Bauarbeiten', 'nur', 'eine', 'Spur', 'frei', '.', '\\n']\n",
      "stanfordnlp: ['■', '#', 'A1', '#', 'Bremen', 'Richtung', '#', 'Hamburg', 'zwischen', 'Horster', 'Dreieck', 'und', '#', 'Stillhorn', '9', 'km', '#', 'Stau', '.', 'Dort', 'ist', 'wegen', '#', 'Bauarbeiten', 'nur', 'eine', 'Spur', 'frei', '.']\n",
      "stanza: ['■', '#', 'A1', '#', 'Bremen', 'Richtung', '#', 'Hamburg', 'zwischen', 'Horster', 'Dreieck', 'und', '#', 'Stillhorn', '9', 'km', '#', 'Stau', '.', 'Dort', 'ist', 'wegen', '#', 'Bauarbeiten', 'nur', 'eine', 'Spur', 'frei', '.']\n",
      "somajo: ['■', '#A1', '#Bremen', 'Richtung', '#Hamburg', 'zwischen', 'Horster', 'Dreieck', 'und', '#Stillhorn', '9', 'km', '#Stau', '.', 'Dort', 'ist', 'wegen', '#Bauarbeiten', 'nur', 'eine', 'Spur', 'frei', '.']\n",
      "\n",
      "\n",
      "spaCy: ['Wegen', 'einer', 'techn', '.', 'Störung', 'an', 'der', 'Strecke', 'besteht', 'für', 'die', 'Linien', 'S41', ',', 'S42', 'u.', 'S46', 'zw', '.', 'Halensee', '<', '>', 'Westkreuz', '<', '>', 'Messe', 'Nord', '<', '>', 'Westend', 'S-Bahn-Pendelverkehr', 'im', '20-Minuten-Takt', '.', 'Die', 'Linien', 'S41', 'u.', 'S42', 'fahren', 'nur', 'im', '10-Minuten-Takt', ',', 'die', 'Linie', 'S46', 'fährt', 'nur', 'Königs', 'Wusterhausen', '<', '>', 'Tempelhof', '.']\n",
      "stanfordnlp: ['Wegen', 'einer', 'techn', '.', 'Störung', 'an', 'der', 'Strecke', 'besteht', 'für', 'die', 'Linien', 'S41', ',', 'S42', 'u', '.', 'S46', 'zw', '.', 'Halensee', '<>', 'Westkreuz', '<>', 'Messe', 'Nord', '<>', 'Westend', 'S', '-', 'Bahn', '-', 'Pendelverkehr', 'im', '20', '-', 'Minuten', '-', 'Takt', '.', 'Die', 'Linien', 'S41', 'u', '.', 'S42', 'fahren', 'nur', 'im', '10', '-', 'Minuten', '-', 'Takt', ',', 'die', 'Linie', 'S46', 'fährt', 'nur', 'Königs', 'Wusterhausen', '<>', 'Tempelhof', '.']\n",
      "stanza: ['Wegen', 'einer', 'techn', '.', 'Störung', 'an', 'der', 'Strecke', 'besteht', 'für', 'die', 'Linien', 'S41', ',', 'S42', 'u.', 'S46', 'zw', '.', 'Halensee', '<>', 'Westkreuz', '<>', 'Messe', 'Nord', '<>', 'Westend', 'S-', 'Bahn', '-', 'Pendelverkehr', 'im', '20-', 'Minuten', '-', 'Takt', '.', 'Die', 'Linien', 'S41', 'u', '.', 'S42', 'fahren', 'nur', 'im', '10', '-', 'Minuten', '-', 'Takt', ',', 'die', 'Linie', 'S46', 'fährt', 'nur', 'Königs', 'Wusterhausen', '<>', 'Tempelhof', '.']\n",
      "somajo: ['Wegen', 'einer', 'techn.', 'Störung', 'an', 'der', 'Strecke', 'besteht', 'für', 'die', 'Linien', 'S41', ',', 'S42', 'u.', 'S46', 'zw.', 'Halensee', '<', '>', 'Westkreuz', '<', '>', 'Messe', 'Nord', '<', '>', 'Westend', 'S-Bahn-Pendelverkehr', 'im', '20-Minuten-Takt', '.', 'Die', 'Linien', 'S41', 'u.', 'S42', 'fahren', 'nur', 'im', '10-Minuten-Takt', ',', 'die', 'Linie', 'S46', 'fährt', 'nur', 'Königs', 'Wusterhausen', '<', '>', 'Tempelhof', '.']\n",
      "\n",
      "\n",
      "spaCy: ['#', 'S3', ',', '#', 'S5', ',', '#', 'S7', ',', '#', 'S9', ':', 'Nach', 'einer', 'ärztliche', 'Versorgung', 'eines', 'Fahrgastes', 'im', 'Zug', 'in', 'Bellevue', 'kommt', 'es', 'noch', 'zu', 'Verspätungen', 'und', 'vereinzelten', 'Ausfällen', '.']\n",
      "stanfordnlp: ['#S3', ',', '#', 'S5', ',', '#', 'S7', ',', '#', 'S9', ':', 'Nach', 'einer', 'ärztliche', 'Versorgung', 'eines', 'Fahrgastes', 'im', 'Zug', 'in', 'Bellevue', 'kommt', 'es', 'noch', 'zu', 'Verspätungen', 'und', 'vereinzelten', 'Ausfällen', '.']\n",
      "stanza: ['#S3', ',', '#', 'S5', ',', '#S7', ',', '#S9', ':', 'Nach', 'einer', 'ärztliche', 'Versorgung', 'eines', 'Fahrgastes', 'im', 'Zug', 'in', 'Bellevue', 'kommt', 'es', 'noch', 'zu', 'Verspätungen', 'und', 'vereinzelten', 'Ausfällen', '.']\n",
      "somajo: ['#S3', ',', '#S5', ',', '#S7', ',', '#S9', ':', 'Nach', 'einer', 'ärztliche', 'Versorgung', 'eines', 'Fahrgastes', 'im', 'Zug', 'in', 'Bellevue', 'kommt', 'es', 'noch', 'zu', 'Verspätungen', 'und', 'vereinzelten', 'Ausfällen', '.']\n",
      "\n",
      "\n"
     ]
    }
   ],
   "source": [
    "for spacy_doc, stanford_doc, somajo_doc in zip(spacy_docs, stanford_docs, somajo_docs):\n",
    "    spacy_tokens = get_spacy_doc_tokens(spacy_doc)\n",
    "    print(\"spaCy:\", spacy_tokens)\n",
    "    stanford_tokens = get_stanford_doc_tokens(stanford_doc)\n",
    "    print(\"stanfordnlp:\", stanford_tokens)\n",
    "    somajo_tokens = get_somajo_doc_tokens(somajo_doc)\n",
    "    print(\"somajo:\", somajo_tokens)\n",
    "    print(\"\\n\")"
   ]
  },
  {
   "cell_type": "markdown",
   "metadata": {
    "pycharm": {
     "name": "#%% md\n"
    }
   },
   "source": [
    "spaCy tokenizer treats hashtags as separate tokens and keeps whitespace characters.\n",
    "stanfordnlp more often than not treats hashtags as separate token and often does not handle abbreviations well, i.e. the tokenizer treats the dot as a separate token.\n",
    "It also tends to split words containing punctuation marks more aggressively than the other tokenizers.\n",
    "SoMaJo does not treat hashtags as separate tokens and handles abbreviations better. It does however split dates into multiple tokens."
   ]
  },
  {
   "cell_type": "markdown",
   "metadata": {
    "pycharm": {
     "name": "#%% md\n"
    }
   },
   "source": [
    "### Sentence splitting comparison"
   ]
  },
  {
   "cell_type": "code",
   "execution_count": 14,
   "metadata": {
    "pycharm": {
     "name": "#%%\n"
    }
   },
   "outputs": [],
   "source": [
    "def get_spacy_doc_sentences(doc):\n",
    "    return [s.text for s in doc.sents]\n",
    "\n",
    "def get_stanford_doc_sentences(doc):\n",
    "    # introduces whitespaces\n",
    "    # see: https://github.com/stanfordnlp/stanfordnlp/blob/dev/stanfordnlp/models/common/doc.py\n",
    "    # to get original sentence text\n",
    "    return [\" \".join([token.text for token in sentence.tokens]) for sentence in doc.sentences]\n",
    "\n",
    "def get_somajo_doc_sentences(doc):\n",
    "    # introduces whitespaces\n",
    "    return [\" \".join([token.text for token in sentence]) for sentence in doc]"
   ]
  },
  {
   "cell_type": "code",
   "execution_count": 15,
   "metadata": {
    "pycharm": {
     "name": "#%%\n"
    }
   },
   "outputs": [
    {
     "name": "stdout",
     "output_type": "stream",
     "text": [
      "spaCy: 7 \n",
      " ['#S1', 'Nach der Weichenstörung in Hohen Neuendorf verkehren die S-Bahnen wieder durchgehend, erster Zug ab', '#', 'Frohnau', '21:58 Uhr und erster Zug ab', '#Hohen_Neuendorf', '22:03 Uhr.']\n",
      "stanfordnlp: 1 \n",
      " ['#S1 Nach der Weichenstörung in Hohen Neuendorf verkehren die S- Bahnen wieder durchgehend , erster Zug ab # Frohnau 21:58 Uhr und erster Zug ab # Hohen_Neuendorf 22:03 Uhr .']\n",
      "stanza: 1 \n",
      " ['#S1 Nach der Weichenstörung in Hohen Neuendorf verkehren die S-Bahnen wieder durchgehend, erster Zug ab #Frohnau 21:58 Uhr und erster Zug ab #Hohen_Neuendorf 22:03 Uhr.']\n",
      "somajo: 1 \n",
      " ['#S1 Nach der Weichenstörung in Hohen Neuendorf verkehren die S-Bahnen wieder durchgehend , erster Zug ab #Frohnau 21:58 Uhr und erster Zug ab #Hohen_Neuendorf 22:03 Uhr .']\n",
      "\n",
      "\n",
      "spaCy: 5 \n",
      " ['Unfall\\nAbschnitt: Marzahn (Berlin)\\n', 'Gültig ab', ':', '09.02.2016', '20:06\\ngesperrt, Unfall\\n']\n",
      "stanfordnlp: 1 \n",
      " ['Unfall Abschnitt : Marzahn ( Berlin ) Gültig ab : 09.02.2016 20:06 gesperrt , Unfall']\n",
      "stanza: 1 \n",
      " ['Unfall\\nAbschnitt: Marzahn (Berlin)\\nGültig ab: 09.02.2016 20:06\\ngesperrt, Unfall']\n",
      "somajo: 1 \n",
      " ['Unfall Abschnitt : Marzahn ( Berlin ) Gültig ab : 09. 02. 2016 20:06 gesperrt , Unfall']\n",
      "\n",
      "\n",
      "spaCy: 6 \n",
      " ['■', '#', 'A1 #Bremen', 'Richtung #Hamburg zwischen Horster Dreieck und #Stillhorn', '9 km #Stau.  ', 'Dort ist wegen #Bauarbeiten nur eine Spur frei.\\n']\n",
      "stanfordnlp: 2 \n",
      " ['■ # A1 # Bremen Richtung # Hamburg zwischen Horster Dreieck und # Stillhorn 9 km # Stau .', 'Dort ist wegen # Bauarbeiten nur eine Spur frei .']\n",
      "stanza: 2 \n",
      " ['■ #A1 #Bremen Richtung #Hamburg zwischen Horster Dreieck und #Stillhorn 9 km #Stau.', 'Dort ist wegen #Bauarbeiten nur eine Spur frei.']\n",
      "somajo: 2 \n",
      " ['■ #A1 #Bremen Richtung #Hamburg zwischen Horster Dreieck und #Stillhorn 9 km #Stau .', 'Dort ist wegen #Bauarbeiten nur eine Spur frei .']\n",
      "\n",
      "\n",
      "spaCy: 7 \n",
      " ['Wegen einer techn.', 'Störung an der Strecke besteht für die Linien S41, S42 u. S46 zw.', 'Halensee <>', 'Westkreuz <>', 'Messe Nord <>', 'Westend S-Bahn-Pendelverkehr im 20-Minuten-Takt.', 'Die Linien S41 u. S42 fahren nur im 10-Minuten-Takt, die Linie S46 fährt nur Königs Wusterhausen <> Tempelhof.']\n",
      "stanfordnlp: 5 \n",
      " ['Wegen einer techn .', 'Störung an der Strecke besteht für die Linien S41 , S42 u .', 'S46 zw . Halensee <> Westkreuz <> Messe Nord <> Westend S - Bahn - Pendelverkehr im 20 - Minuten - Takt .', 'Die Linien S41 u .', 'S42 fahren nur im 10 - Minuten - Takt , die Linie S46 fährt nur Königs Wusterhausen <> Tempelhof .']\n",
      "stanza: 4 \n",
      " ['Wegen einer techn.', 'Störung an der Strecke besteht für die Linien S41, S42 u. S46 zw.', 'Halensee <> Westkreuz <> Messe Nord <> Westend S-Bahn-Pendelverkehr im 20-Minuten-Takt.', 'Die Linien S41 u. S42 fahren nur im 10-Minuten-Takt, die Linie S46 fährt nur Königs Wusterhausen <> Tempelhof.']\n",
      "somajo: 2 \n",
      " ['Wegen einer techn. Störung an der Strecke besteht für die Linien S41 , S42 u. S46 zw. Halensee < > Westkreuz < > Messe Nord < > Westend S-Bahn-Pendelverkehr im 20-Minuten-Takt .', 'Die Linien S41 u. S42 fahren nur im 10-Minuten-Takt , die Linie S46 fährt nur Königs Wusterhausen < > Tempelhof .']\n",
      "\n",
      "\n",
      "spaCy: 2 \n",
      " ['#S3, #S5, #S7,', '#S9: Nach einer ärztliche Versorgung eines Fahrgastes im Zug in Bellevue kommt es noch zu Verspätungen und vereinzelten Ausfällen.']\n",
      "stanfordnlp: 1 \n",
      " ['#S3 , # S5 , # S7 , # S9 : Nach einer ärztliche Versorgung eines Fahrgastes im Zug in Bellevue kommt es noch zu Verspätungen und vereinzelten Ausfällen .']\n",
      "stanza: 1 \n",
      " ['#S3, #S5, #S7, #S9: Nach einer ärztliche Versorgung eines Fahrgastes im Zug in Bellevue kommt es noch zu Verspätungen und vereinzelten Ausfällen.']\n",
      "somajo: 1 \n",
      " ['#S3 , #S5 , #S7 , #S9 : Nach einer ärztliche Versorgung eines Fahrgastes im Zug in Bellevue kommt es noch zu Verspätungen und vereinzelten Ausfällen .']\n",
      "\n",
      "\n"
     ]
    }
   ],
   "source": [
    "for spacy_doc, stanford_doc, somajo_doc in zip(spacy_docs, stanford_docs, somajo_docs):\n",
    "    spacy_sentences = get_spacy_doc_sentences(spacy_doc)\n",
    "    print(\"spaCy:\", len(spacy_sentences), \"\\n\", spacy_sentences)\n",
    "    stanford_sentences = get_stanford_doc_sentences(stanford_doc)\n",
    "    print(\"stanfordnlp:\", len(stanford_sentences), \"\\n\", stanford_sentences)\n",
    "    somajo_sentences = get_somajo_doc_sentences(somajo_doc)\n",
    "    print(\"somajo:\", len(somajo_sentences), \"\\n\", somajo_sentences)\n",
    "    print(\"\\n\")"
   ]
  },
  {
   "cell_type": "markdown",
   "metadata": {},
   "source": [
    "In the small sample of sentences we can observe that spaCy tends to split the document text very aggressively. It seems to not be able to handle hashtags, punctuation marks and abbreviations well.\n",
    "stanfordnlp tends to do a little better, but seems rather ill-equipped to handle text data from social media containing a lot of abbreviations and use of special punctuation marks.\n",
    "SoMaJo does considerably better. In our testing we found that it only made mistakes on very few occasions where it encountered unknown abbreviations.\n",
    "Therefore we chose to do event extraction on a document level and use SoMaJo sentence splitting information for our negative labeling functions."
   ]
  },
  {
   "cell_type": "markdown",
   "metadata": {},
   "source": [
    "## Automatic approach to evaluate sentence splitting quality\n",
    "In order to automatically evaluate the quality of sentence splitting of stanfordnlp and SoMaJo we compare event role labeling functions, that label an example as `no_arg` when trigger and (potential) argument are in separate sentences according to the sentence splitting (boundary) information and abstain otherwise.\n",
    "\n",
    "Caveats: If the annotators did not pay attention to sentence boundaries when labeling event roles, then it may seem that the splitter made a mistake. This would then measure the consistency / quality of the annotation rather than the quality of the sentence splitter. This approach only covers the sentence splitting errors where trigger and argument ended up in different sentences according to the splitter. There may be other sentence splitting errors where trigger and argument still ended up in the same sentence or splitting errors in sentences with no event roles."
   ]
  },
  {
   "cell_type": "code",
   "execution_count": 18,
   "metadata": {},
   "outputs": [],
   "source": [
    "import pandas as pd\n",
    "from wsee.utils import corpus_statistics\n",
    "sd4m_train = pd.read_json(\"../data/daystream_corpus/train/train_with_events_and_defaults.jsonl\", lines=True, encoding='utf8')\n",
    "filtered_sd4m_train = sd4m_train[sd4m_train.apply(lambda document: corpus_statistics.has_triggers(document), axis=1)]\n",
    "corpus_statistics.get_snorkel_event_stats(filtered_sd4m_train)"
   ]
  },
  {
   "cell_type": "code",
   "execution_count": 19,
   "metadata": {},
   "outputs": [
    {
     "name": "stderr",
     "output_type": "stream",
     "text": [
      "100%|██████████| 7285/7285 [00:02<00:00, 2668.53it/s]\n"
     ]
    }
   ],
   "source": [
    "from wsee.data import pipeline\n",
    "\n",
    "df_sd_train, Y_sd_train = pipeline.build_event_role_examples(filtered_sd4m_train)"
   ]
  },
  {
   "cell_type": "code",
   "execution_count": 20,
   "metadata": {},
   "outputs": [
    {
     "data": {
      "text/html": [
       "<div>\n",
       "<style scoped>\n",
       "    .dataframe tbody tr th:only-of-type {\n",
       "        vertical-align: middle;\n",
       "    }\n",
       "\n",
       "    .dataframe tbody tr th {\n",
       "        vertical-align: top;\n",
       "    }\n",
       "\n",
       "    .dataframe thead th {\n",
       "        text-align: right;\n",
       "    }\n",
       "</style>\n",
       "<table border=\"1\" class=\"dataframe\">\n",
       "  <thead>\n",
       "    <tr style=\"text-align: right;\">\n",
       "      <th></th>\n",
       "      <th>j</th>\n",
       "      <th>Polarity</th>\n",
       "      <th>Coverage</th>\n",
       "      <th>Overlaps</th>\n",
       "      <th>Conflicts</th>\n",
       "      <th>Correct</th>\n",
       "      <th>Incorrect</th>\n",
       "      <th>Emp. Acc.</th>\n",
       "    </tr>\n",
       "  </thead>\n",
       "  <tbody>\n",
       "    <tr>\n",
       "      <th>lf_stanford_separate_sentence</th>\n",
       "      <td>0</td>\n",
       "      <td>[10]</td>\n",
       "      <td>0.423747</td>\n",
       "      <td>0.315305</td>\n",
       "      <td>0.0</td>\n",
       "      <td>2993</td>\n",
       "      <td>94</td>\n",
       "      <td>0.969550</td>\n",
       "    </tr>\n",
       "    <tr>\n",
       "      <th>lf_somajo_separate_sentence</th>\n",
       "      <td>1</td>\n",
       "      <td>[10]</td>\n",
       "      <td>0.288813</td>\n",
       "      <td>0.288813</td>\n",
       "      <td>0.0</td>\n",
       "      <td>2097</td>\n",
       "      <td>7</td>\n",
       "      <td>0.996673</td>\n",
       "    </tr>\n",
       "    <tr>\n",
       "      <th>lf_too_far_40</th>\n",
       "      <td>2</td>\n",
       "      <td>[10]</td>\n",
       "      <td>0.169938</td>\n",
       "      <td>0.169938</td>\n",
       "      <td>0.0</td>\n",
       "      <td>1238</td>\n",
       "      <td>0</td>\n",
       "      <td>1.000000</td>\n",
       "    </tr>\n",
       "    <tr>\n",
       "      <th>lf_somajo_separate_sentence_or_too_far_40</th>\n",
       "      <td>3</td>\n",
       "      <td>[10]</td>\n",
       "      <td>0.322443</td>\n",
       "      <td>0.322443</td>\n",
       "      <td>0.0</td>\n",
       "      <td>2342</td>\n",
       "      <td>7</td>\n",
       "      <td>0.997020</td>\n",
       "    </tr>\n",
       "  </tbody>\n",
       "</table>\n",
       "</div>"
      ],
      "text/plain": [
       "                                           j Polarity  Coverage  Overlaps  \\\n",
       "lf_stanford_separate_sentence              0     [10]  0.423747  0.315305   \n",
       "lf_somajo_separate_sentence                1     [10]  0.288813  0.288813   \n",
       "lf_too_far_40                              2     [10]  0.169938  0.169938   \n",
       "lf_somajo_separate_sentence_or_too_far_40  3     [10]  0.322443  0.322443   \n",
       "\n",
       "                                           Conflicts  Correct  Incorrect  \\\n",
       "lf_stanford_separate_sentence                    0.0     2993         94   \n",
       "lf_somajo_separate_sentence                      0.0     2097          7   \n",
       "lf_too_far_40                                    0.0     1238          0   \n",
       "lf_somajo_separate_sentence_or_too_far_40        0.0     2342          7   \n",
       "\n",
       "                                           Emp. Acc.  \n",
       "lf_stanford_separate_sentence               0.969550  \n",
       "lf_somajo_separate_sentence                 0.996673  \n",
       "lf_too_far_40                               1.000000  \n",
       "lf_somajo_separate_sentence_or_too_far_40   0.997020  "
      ]
     },
     "execution_count": 20,
     "metadata": {},
     "output_type": "execute_result"
    }
   ],
   "source": [
    "from wsee.labeling import event_argument_role_lfs as role_lfs\n",
    "from snorkel.labeling import PandasLFApplier\n",
    "\n",
    "lfs = [\n",
    "    role_lfs.lf_stanford_separate_sentence,\n",
    "    role_lfs.lf_somajo_separate_sentence,\n",
    "    role_lfs.lf_too_far_40,\n",
    "    role_lfs.lf_somajo_separate_sentence_or_too_far_40\n",
    "]\n",
    "applier = PandasLFApplier(lfs)"
   ]
  },
  {
   "cell_type": "code",
   "metadata": {
    "pycharm": {
     "name": "#%%\n"
    }
   },
   "source": [
    "L_sd_train = applier.apply(df_sd_train)"
   ],
   "execution_count": null,
   "outputs": []
  },
  {
   "cell_type": "code",
   "metadata": {
    "pycharm": {
     "name": "#%%\n"
    }
   },
   "source": [
    "from snorkel.labeling import LFAnalysis\n",
    "\n",
    "LFAnalysis(L_sd_train, lfs).lf_summary(Y_sd_train)"
   ],
   "execution_count": null,
   "outputs": []
  },
  {
   "cell_type": "markdown",
   "metadata": {
    "pycharm": {
     "name": "#%% md\n"
    }
   },
   "source": [
    "The SD4M train set contains 2001 positive event roles and 5284 negative event roles.\n",
    "`lf_stanford_separate_sentence` using the sentence splitting information from stanfordnlp correctly labels 2993 of the negative event roles, but incorrectly labels 94 of the positive event roles as `no_arg`. \n",
    "While `lf_somajo_separate_sentence` correctly labels less of of the negative event roles (2097), it only labels 7 of the positive event roles incorrectly. \n",
    "\n",
    "Event extraction on a sentence level, i.e. where the input to the model is a sentence not a document, hinges on the quality of the sentence splitting. We do not want to loose these 94 examples of positive event roles for model training.\n",
    "That is why we decided to feed documents into the model.\n",
    "As the information from the sentence splitting is crucial to the role labeling functions that only take proximity into account, we chose `lf_somajo_separate_sentence`."
   ]
  },
  {
   "cell_type": "markdown",
   "metadata": {
    "pycharm": {
     "name": "#%% md\n"
    }
   },
   "source": [
    "To make sure that those errors are not due to inconsistencies in the annotation, we will manually examine the incorrect instances."
   ]
  },
  {
   "cell_type": "code",
   "execution_count": 23,
   "metadata": {},
   "outputs": [
    {
     "data": {
      "text/html": [
       "<div>\n",
       "<style scoped>\n",
       "    .dataframe tbody tr th:only-of-type {\n",
       "        vertical-align: middle;\n",
       "    }\n",
       "\n",
       "    .dataframe tbody tr th {\n",
       "        vertical-align: top;\n",
       "    }\n",
       "\n",
       "    .dataframe thead th {\n",
       "        text-align: right;\n",
       "    }\n",
       "</style>\n",
       "<table border=\"1\" class=\"dataframe\">\n",
       "  <thead>\n",
       "    <tr style=\"text-align: right;\">\n",
       "      <th></th>\n",
       "      <th>text</th>\n",
       "      <th>between_tokens</th>\n",
       "      <th>trigger_sm</th>\n",
       "      <th>argument_sm</th>\n",
       "      <th>stanford_sm</th>\n",
       "      <th>event_role</th>\n",
       "    </tr>\n",
       "  </thead>\n",
       "  <tbody>\n",
       "    <tr>\n",
       "      <th>888</th>\n",
       "      <td>folgende Meldung ergänzt\\nam Mittwoch, 6. und Donnerstag, 7. April, jeweils 20.45 – 24.00 Uhr\\nMeldung:\\nCNL 471 nach Zürich HB (planmäßig 21.33 Uhr ab Berlin Gesundbrunnen) fährt bis zu 46 Min. früher von Berlin-Gesundbrunnen bis Bitterfeld und hält nicht in Halle (Saale) Hbf.\\nGrund:\\nSoftwareanpassungen im Elektronischen Stellwerk Halle (Saale)\\nLink zur detaillierten Meldung: \\nLink zum kompletten PDF-Dokument: \\n(142 kB)\\n------------------\\n</td>\n",
       "      <td>[nach, Zürich, HB, (, planmäßig, 21.33, Uhr, ab, Berlin, Gesundbrunnen, ), fährt, bis, zu, 46, Min, ., früher, von, Berlin, -, Gesundbrunnen, bis, Bitterfeld, und]</td>\n",
       "      <td>{'text': 'hält nicht', 'entity_type': 'trigger', 'char_start': 243, 'char_end': 253}</td>\n",
       "      <td>{'text': 'CNL 471', 'entity_type': 'location_route', 'char_start': 102, 'char_end': 109}</td>\n",
       "      <td>[{'text': 'folgende Meldung ergänzt\n",
       "am Mittwoch, 6.', 'char_start': 0, 'char_end': 40}, {'text': 'und Donnerstag, 7.', 'char_start': 41, 'char_end': 59}, {'text': 'April, jeweils 20.45 – 24.00 Uhr\n",
       "Meldung:\n",
       "CNL 471 nach Zürich HB (planmäßig 21.33 Uhr ab Berlin Gesundbrunnen) fährt bis zu 46 Min.', 'char_start': 60, 'char_end': 191}, {'text': 'früher von Berlin-Gesundbrunnen bis Bitterfeld und hält nicht in Halle (Saale) Hbf.', 'char_start': 192, 'char_end': 275}, {'text': 'Grund:\n",
       "Softwareanpassungen im Elektronischen Stellwerk Halle (Saale)\n",
       "Link zur detaillierten Meldung: \n",
       "Link zum kompletten PDF-Dokument: \n",
       "(142 kB)\n",
       "------------------', 'char_start': 276, 'char_end': 440}]</td>\n",
       "      <td>route</td>\n",
       "    </tr>\n",
       "    <tr>\n",
       "      <th>889</th>\n",
       "      <td>folgende Meldung ergänzt\\nam Mittwoch, 6. und Donnerstag, 7. April, jeweils 20.45 – 24.00 Uhr\\nMeldung:\\nCNL 471 nach Zürich HB (planmäßig 21.33 Uhr ab Berlin Gesundbrunnen) fährt bis zu 46 Min. früher von Berlin-Gesundbrunnen bis Bitterfeld und hält nicht in Halle (Saale) Hbf.\\nGrund:\\nSoftwareanpassungen im Elektronischen Stellwerk Halle (Saale)\\nLink zur detaillierten Meldung: \\nLink zum kompletten PDF-Dokument: \\n(142 kB)\\n------------------\\n</td>\n",
       "      <td>[(, planmäßig, 21.33, Uhr, ab, Berlin, Gesundbrunnen, ), fährt, bis, zu, 46, Min, ., früher, von, Berlin, -, Gesundbrunnen, bis, Bitterfeld, und]</td>\n",
       "      <td>{'text': 'hält nicht', 'entity_type': 'trigger', 'char_start': 243, 'char_end': 253}</td>\n",
       "      <td>{'text': 'Zürich HB', 'entity_type': 'location_stop', 'char_start': 115, 'char_end': 124}</td>\n",
       "      <td>[{'text': 'folgende Meldung ergänzt\n",
       "am Mittwoch, 6.', 'char_start': 0, 'char_end': 40}, {'text': 'und Donnerstag, 7.', 'char_start': 41, 'char_end': 59}, {'text': 'April, jeweils 20.45 – 24.00 Uhr\n",
       "Meldung:\n",
       "CNL 471 nach Zürich HB (planmäßig 21.33 Uhr ab Berlin Gesundbrunnen) fährt bis zu 46 Min.', 'char_start': 60, 'char_end': 191}, {'text': 'früher von Berlin-Gesundbrunnen bis Bitterfeld und hält nicht in Halle (Saale) Hbf.', 'char_start': 192, 'char_end': 275}, {'text': 'Grund:\n",
       "Softwareanpassungen im Elektronischen Stellwerk Halle (Saale)\n",
       "Link zur detaillierten Meldung: \n",
       "Link zum kompletten PDF-Dokument: \n",
       "(142 kB)\n",
       "------------------', 'char_start': 276, 'char_end': 440}]</td>\n",
       "      <td>direction</td>\n",
       "    </tr>\n",
       "  </tbody>\n",
       "</table>\n",
       "</div>"
      ],
      "text/plain": [
       "                                                                                                                                                                                                                                                                                                                                                                                                                                                                    text  \\\n",
       "888  folgende Meldung ergänzt\\nam Mittwoch, 6. und Donnerstag, 7. April, jeweils 20.45 – 24.00 Uhr\\nMeldung:\\nCNL 471 nach Zürich HB (planmäßig 21.33 Uhr ab Berlin Gesundbrunnen) fährt bis zu 46 Min. früher von Berlin-Gesundbrunnen bis Bitterfeld und hält nicht in Halle (Saale) Hbf.\\nGrund:\\nSoftwareanpassungen im Elektronischen Stellwerk Halle (Saale)\\nLink zur detaillierten Meldung: \\nLink zum kompletten PDF-Dokument: \\n(142 kB)\\n------------------\\n   \n",
       "889  folgende Meldung ergänzt\\nam Mittwoch, 6. und Donnerstag, 7. April, jeweils 20.45 – 24.00 Uhr\\nMeldung:\\nCNL 471 nach Zürich HB (planmäßig 21.33 Uhr ab Berlin Gesundbrunnen) fährt bis zu 46 Min. früher von Berlin-Gesundbrunnen bis Bitterfeld und hält nicht in Halle (Saale) Hbf.\\nGrund:\\nSoftwareanpassungen im Elektronischen Stellwerk Halle (Saale)\\nLink zur detaillierten Meldung: \\nLink zum kompletten PDF-Dokument: \\n(142 kB)\\n------------------\\n   \n",
       "\n",
       "                                                                                                                                                          between_tokens  \\\n",
       "888  [nach, Zürich, HB, (, planmäßig, 21.33, Uhr, ab, Berlin, Gesundbrunnen, ), fährt, bis, zu, 46, Min, ., früher, von, Berlin, -, Gesundbrunnen, bis, Bitterfeld, und]   \n",
       "889                    [(, planmäßig, 21.33, Uhr, ab, Berlin, Gesundbrunnen, ), fährt, bis, zu, 46, Min, ., früher, von, Berlin, -, Gesundbrunnen, bis, Bitterfeld, und]   \n",
       "\n",
       "                                                                               trigger_sm  \\\n",
       "888  {'text': 'hält nicht', 'entity_type': 'trigger', 'char_start': 243, 'char_end': 253}   \n",
       "889  {'text': 'hält nicht', 'entity_type': 'trigger', 'char_start': 243, 'char_end': 253}   \n",
       "\n",
       "                                                                                   argument_sm  \\\n",
       "888   {'text': 'CNL 471', 'entity_type': 'location_route', 'char_start': 102, 'char_end': 109}   \n",
       "889  {'text': 'Zürich HB', 'entity_type': 'location_stop', 'char_start': 115, 'char_end': 124}   \n",
       "\n",
       "                                                                                                                                                                                                                                                                                                                                                                                                                                                                                                                                                                                                                                                                                                  stanford_sm  \\\n",
       "888  [{'text': 'folgende Meldung ergänzt\n",
       "am Mittwoch, 6.', 'char_start': 0, 'char_end': 40}, {'text': 'und Donnerstag, 7.', 'char_start': 41, 'char_end': 59}, {'text': 'April, jeweils 20.45 – 24.00 Uhr\n",
       "Meldung:\n",
       "CNL 471 nach Zürich HB (planmäßig 21.33 Uhr ab Berlin Gesundbrunnen) fährt bis zu 46 Min.', 'char_start': 60, 'char_end': 191}, {'text': 'früher von Berlin-Gesundbrunnen bis Bitterfeld und hält nicht in Halle (Saale) Hbf.', 'char_start': 192, 'char_end': 275}, {'text': 'Grund:\n",
       "Softwareanpassungen im Elektronischen Stellwerk Halle (Saale)\n",
       "Link zur detaillierten Meldung: \n",
       "Link zum kompletten PDF-Dokument: \n",
       "(142 kB)\n",
       "------------------', 'char_start': 276, 'char_end': 440}]   \n",
       "889  [{'text': 'folgende Meldung ergänzt\n",
       "am Mittwoch, 6.', 'char_start': 0, 'char_end': 40}, {'text': 'und Donnerstag, 7.', 'char_start': 41, 'char_end': 59}, {'text': 'April, jeweils 20.45 – 24.00 Uhr\n",
       "Meldung:\n",
       "CNL 471 nach Zürich HB (planmäßig 21.33 Uhr ab Berlin Gesundbrunnen) fährt bis zu 46 Min.', 'char_start': 60, 'char_end': 191}, {'text': 'früher von Berlin-Gesundbrunnen bis Bitterfeld und hält nicht in Halle (Saale) Hbf.', 'char_start': 192, 'char_end': 275}, {'text': 'Grund:\n",
       "Softwareanpassungen im Elektronischen Stellwerk Halle (Saale)\n",
       "Link zur detaillierten Meldung: \n",
       "Link zum kompletten PDF-Dokument: \n",
       "(142 kB)\n",
       "------------------', 'char_start': 276, 'char_end': 440}]   \n",
       "\n",
       "    event_role  \n",
       "888      route  \n",
       "889  direction  "
      ]
     },
     "execution_count": 23,
     "metadata": {},
     "output_type": "execute_result"
    }
   ],
   "source": [
    "from wsee.preprocessors import preprocessors\n",
    "\n",
    "def get_simple_trigger(doc):\n",
    "    trigger = doc.trigger\n",
    "    simple_trigger = {\n",
    "        'text': trigger['text'],\n",
    "        'entity_type': trigger['entity_type'],\n",
    "        'char_start': trigger['char_start'],\n",
    "        'char_end': trigger['char_end']\n",
    "    }\n",
    "    return simple_trigger\n",
    "\n",
    "def get_simple_argument(doc):\n",
    "    argument = doc['argument']\n",
    "    simple_argument = {\n",
    "        'text': argument['text'],\n",
    "        'entity_type': argument['entity_type'],\n",
    "        'char_start': argument['char_start'],\n",
    "        'char_end': argument['char_end']\n",
    "    }\n",
    "    return simple_argument\n",
    "\n",
    "def get_simple_somajo_sentences(doc):\n",
    "    sentences = doc.somajo_doc['sentences']\n",
    "    return [{'text': doc.text[sentence['char_start']:sentence['char_end']], 'char_start': sentence['char_start'], 'char_end': sentence['char_end']} for sentence in sentences]\n",
    "\n",
    "def get_simple_stanford_sentences(doc):\n",
    "    sentences = doc.sentence_spans\n",
    "    return [{'text': doc.text[sentence['char_start']:sentence['char_end']], 'char_start': sentence['char_start'], 'char_end': sentence['char_end']} for sentence in sentences]\n",
    "\n",
    "def add_simple_columns(df):\n",
    "    df['trigger_sm'] = df.apply(lambda doc: get_simple_trigger(doc), axis=1)\n",
    "    df['argument_sm'] = df.apply(lambda doc: get_simple_argument(doc), axis=1)\n",
    "    df['somajo_sm'] = df.apply(lambda doc: get_simple_somajo_sentences(doc), axis=1)\n",
    "    df['stanford_sm'] = df.apply(lambda doc: get_simple_stanford_sentences(doc), axis=1)\n",
    "    df['between_tokens'] = df.apply(lambda doc: preprocessors.get_between_tokens(doc), axis=1)\n",
    "    return df"
   ]
  },
  {
   "cell_type": "code",
   "metadata": {
    "pycharm": {
     "name": "#%%\n"
    }
   },
   "source": [
    "from wsee.labeling import error_analysis\n",
    "from wsee import ROLE_LABELS\n",
    "pd.set_option('display.max_colwidth', -1)\n",
    "labeled_sd4m_roles = df_sd_train.copy()\n",
    "labeled_sd4m_roles['label'] = Y_sd_train\n",
    "labeled_sd4m_roles['event_role'] = [ROLE_LABELS[label_idx] for label_idx in Y_sd_train]\n",
    "labeled_sd4m_roles = add_simple_columns(labeled_sd4m_roles)"
   ],
   "execution_count": null,
   "outputs": []
  },
  {
   "cell_type": "markdown",
   "metadata": {},
   "source": [
    "error_analysis.get_false_positives(labeled_df=labeled_sd4m_roles, lf_outputs=L_sd_train, lf_index=1, label_of_interest=10)[['text', 'between_tokens', 'trigger_sm', 'argument_sm', 'somajo_sm', 'event_role']]"
   ]
  },
  {
   "cell_type": "code",
   "execution_count": 25,
   "metadata": {},
   "outputs": [],
   "source": [
    "somajo_uncaughts = error_analysis.get_abstained_instances(labeled_df=labeled_sd4m_roles, lf_outputs=L_sd_train, lf_index=1, label_of_interest=10)\n",
    "somajo_uncaughts_too_far = somajo_uncaughts[somajo_uncaughts['between_distance'] > 40]"
   ]
  },
  {
   "cell_type": "code",
   "execution_count": 26,
   "metadata": {},
   "outputs": [
    {
     "data": {
      "text/html": [
       "<div>\n",
       "<style scoped>\n",
       "    .dataframe tbody tr th:only-of-type {\n",
       "        vertical-align: middle;\n",
       "    }\n",
       "\n",
       "    .dataframe tbody tr th {\n",
       "        vertical-align: top;\n",
       "    }\n",
       "\n",
       "    .dataframe thead th {\n",
       "        text-align: right;\n",
       "    }\n",
       "</style>\n",
       "<table border=\"1\" class=\"dataframe\">\n",
       "  <thead>\n",
       "    <tr style=\"text-align: right;\">\n",
       "      <th></th>\n",
       "      <th>text</th>\n",
       "      <th>between_tokens</th>\n",
       "      <th>trigger_sm</th>\n",
       "      <th>argument_sm</th>\n",
       "      <th>somajo_sm</th>\n",
       "      <th>event_role</th>\n",
       "    </tr>\n",
       "  </thead>\n",
       "  <tbody>\n",
       "    <tr>\n",
       "      <th>3402</th>\n",
       "      <td>veränderte Fahrzeiten Würzburg Hbf / Nürnberg Hbf \\n Umleitung und kein Halt in Nürnberg Hbf und Ingolstadt Hbf (12. und 13.03.)\\nvon Samstag, 5. März, 23.00 Uhr bis Dienstag, 29. März, 4.00 Uhr\\nMeldung:\\n Die ICE-Züge verspäten sich von Nürnberg Hbf bis München Hbf um bis zu 10 Min.\\n Die ICE-Züge fahren bis zu 10 Min. früher von München Hbf bis Nürnberg Hbf.\\n Die ICE-Züge werden am 12. und 13.03. zwischen Würzburg Hbf und München Hbf über Augsburg Hbf umgeleitet und halten nicht in Nürnberg Hbf und Ingolstadt Hbf. Beachten Sie die 20 Min. spätere Ankunft / frühere Abfahrt in München Hbf.\\nGrund:\\nInbetriebnahme des Elektronischen Stellwerks Fischbach\\nLink zur detaillierten Meldung: \\nLink zum kompletten PDF-Dokument: \\n(191 kB)\\nSonderinformation zu dieser Meldung:\\nPlakat: Bauarbeiten Nürnberg – Ingolstadt, 06.03. – 28.03.2016 (157 kB)\\n------------------\\n</td>\n",
       "      <td>[sich, von, Nürnberg, Hbf, bis, München, Hbf, um, bis, zu, 10, Min, ., Die, ICE, -, Züge, fahren, bis, zu, 10, Min, ., früher, von, München, Hbf, bis, Nürnberg, Hbf, ., Die, ICE, -, Züge, werden, am, 12, ., und, 13.03, ., zwischen, Würzburg, Hbf, und]</td>\n",
       "      <td>{'text': 'verspäten', 'entity_type': 'trigger', 'char_start': 216, 'char_end': 225}</td>\n",
       "      <td>{'text': 'München Hbf', 'entity_type': 'location_stop', 'char_start': 424, 'char_end': 435}</td>\n",
       "      <td>[{'text': 'veränderte Fahrzeiten Würzburg Hbf / Nürnberg Hbf \n",
       " Umleitung und kein Halt in Nürnberg Hbf und Ingolstadt Hbf (12. und 13.03.)\n",
       "von Samstag, 5. März, 23.00 Uhr bis Dienstag, 29. März, 4.00 Uhr\n",
       "Meldung:\n",
       " Die ICE-Züge verspäten sich von Nürnberg Hbf bis München Hbf um bis zu 10 Min.\n",
       " Die ICE-Züge fahren bis zu 10 Min. früher von München Hbf bis Nürnberg Hbf.\n",
       " Die ICE-Züge werden am 12. und 13.03. zwischen Würzburg Hbf und München Hbf über Augsburg Hbf umgeleitet und halten nicht in Nürnberg Hbf und Ingolstadt Hbf. Beachten Sie die 20 Min. spätere Ankunft / frühere Abfahrt in München Hbf.\n",
       "Grund:\n",
       "Inbetriebnahme des Elektronischen Stellwerks Fischbach\n",
       "Link zur detaillierten Meldung: \n",
       "Link zum kompletten PDF-Dokument: \n",
       "(191 kB)\n",
       "Sonderinformation zu dieser Meldung:\n",
       "Plakat: Bauarbeiten Nürnberg – Ingolstadt, 06.03. – 28.03.2016 (157 kB)\n",
       "------------------\n",
       "', 'char_start': 0, 'char_end': 860}]</td>\n",
       "      <td>no_arg</td>\n",
       "    </tr>\n",
       "    <tr>\n",
       "      <th>6503</th>\n",
       "      <td>Umleitung und kein Halt in Langenhagen Mitte und Hannover Hbf sowie zusätzlicher Halt in Hannover Messe / Laatzen und Verspätungen \\n Verspätungen Celle &lt; &gt; Hannover Hbf\\n Zugausfall Hamburg-Altona &gt; Hannover Hbf (09.05.)\\nfolgende Meldung entfällt\\nvon Sonntag, 1. Mai, 16.00 Uhr bis Mittwoch, 18. Mai, 5.00 Uhr\\nMeldung:\\n Einige IC-Züge werden umgeleitet und halten nicht in Langenhagen Mitte und Hannover Hbf. Die Züge halten zusätzlich in Hannover Messe / Laatzen und verspäten sich um bis zu 15 Min.\\n Einige IC-Züge verspäten sich zwischen Celle und Hannover Hbf sowie darüber hinaus um 10 – 25 Min.\\n IC 2179 nach Wolfsburg Hbf (planmäßig 5.05 Uhr ab Hamburg-Altona) fällt am 09.05. von Hamburg-Altona bis Hannover Hbf aus.\\nDie Bauarbeiten wurden abgesagt – die Züge verkehren planmäßig.\\nLink zur detaillierten Meldung: \\nLink zum kompletten PDF-Dokument: \\n(196 kB)\\n---\\n</td>\n",
       "      <td>[sowie, zusätzlicher, Halt, in, Hannover, Messe, /, Laatzen, und, Verspätungen, Verspätungen, Celle, &lt;, &gt;, Hannover, Hbf, Zugausfall, Hamburg, -, Altona, &gt;, Hannover, Hbf, (, 09.05, ., ), folgende, Meldung, entfällt, von, Sonntag, ,, 1, ., Mai, ,, 16.00, Uhr, bis, Mittwoch, ,, 18, ., Mai, ,, 5.00, Uhr, Meldung, :, Einige, IC, -, Züge, werden, umgeleitet, und, halten, nicht, in, Langenhagen, Mitte, und, Hannover, Hbf, ., Die, Züge, halten, zusätzlich, in, Hannover, Messe, /, Laatzen, und, verspäten, sich, um, bis, zu, 15, Min, ., Einige, IC, -, Züge]</td>\n",
       "      <td>{'text': 'verspäten', 'entity_type': 'trigger', 'char_start': 516, 'char_end': 525}</td>\n",
       "      <td>{'text': 'Hannover Hbf', 'entity_type': 'location_stop', 'char_start': 49, 'char_end': 61}</td>\n",
       "      <td>[{'text': 'Umleitung und kein Halt in Langenhagen Mitte und Hannover Hbf sowie zusätzlicher Halt in Hannover Messe / Laatzen und Verspätungen \n",
       " Verspätungen Celle &lt; &gt; Hannover Hbf\n",
       " Zugausfall Hamburg-Altona &gt; Hannover Hbf (09.05.)\n",
       "folgende Meldung entfällt\n",
       "von Sonntag, 1. Mai, 16.00 Uhr bis Mittwoch, 18. Mai, 5.00 Uhr\n",
       "Meldung:\n",
       " Einige IC-Züge werden umgeleitet und halten nicht in Langenhagen Mitte und Hannover Hbf. Die Züge halten zusätzlich in Hannover Messe / Laatzen und verspäten sich um bis zu 15 Min.\n",
       " Einige IC-Züge verspäten sich zwischen Celle und Hannover Hbf sowie darüber hinaus um 10 – 25 Min.\n",
       " IC 2179 nach Wolfsburg Hbf (planmäßig 5.05 Uhr ab Hamburg-Altona) fällt am 09.05. von Hamburg-Altona bis Hannover Hbf aus.', 'char_start': 0, 'char_end': 723}, {'text': 'Die Bauarbeiten wurden abgesagt – die Züge verkehren planmäßig.', 'char_start': 724, 'char_end': 787}, {'text': 'Link zur detaillierten Meldung: \n",
       "Link zum kompletten PDF-Dokument: \n",
       "(196 kB)\n",
       "---', 'char_start': 788, 'char_end': 868}]</td>\n",
       "      <td>no_arg</td>\n",
       "    </tr>\n",
       "  </tbody>\n",
       "</table>\n",
       "</div>"
      ],
      "text/plain": [
       "                                                                                                                                                                                                                                                                                                                                                                                                                                                                                                                                                                                                                                                                                                                                                                                                                                                                                                                     text  \\\n",
       "3402          veränderte Fahrzeiten Würzburg Hbf / Nürnberg Hbf \\n Umleitung und kein Halt in Nürnberg Hbf und Ingolstadt Hbf (12. und 13.03.)\\nvon Samstag, 5. März, 23.00 Uhr bis Dienstag, 29. März, 4.00 Uhr\\nMeldung:\\n Die ICE-Züge verspäten sich von Nürnberg Hbf bis München Hbf um bis zu 10 Min.\\n Die ICE-Züge fahren bis zu 10 Min. früher von München Hbf bis Nürnberg Hbf.\\n Die ICE-Züge werden am 12. und 13.03. zwischen Würzburg Hbf und München Hbf über Augsburg Hbf umgeleitet und halten nicht in Nürnberg Hbf und Ingolstadt Hbf. Beachten Sie die 20 Min. spätere Ankunft / frühere Abfahrt in München Hbf.\\nGrund:\\nInbetriebnahme des Elektronischen Stellwerks Fischbach\\nLink zur detaillierten Meldung: \\nLink zum kompletten PDF-Dokument: \\n(191 kB)\\nSonderinformation zu dieser Meldung:\\nPlakat: Bauarbeiten Nürnberg – Ingolstadt, 06.03. – 28.03.2016 (157 kB)\\n------------------\\n   \n",
       "6503  Umleitung und kein Halt in Langenhagen Mitte und Hannover Hbf sowie zusätzlicher Halt in Hannover Messe / Laatzen und Verspätungen \\n Verspätungen Celle < > Hannover Hbf\\n Zugausfall Hamburg-Altona > Hannover Hbf (09.05.)\\nfolgende Meldung entfällt\\nvon Sonntag, 1. Mai, 16.00 Uhr bis Mittwoch, 18. Mai, 5.00 Uhr\\nMeldung:\\n Einige IC-Züge werden umgeleitet und halten nicht in Langenhagen Mitte und Hannover Hbf. Die Züge halten zusätzlich in Hannover Messe / Laatzen und verspäten sich um bis zu 15 Min.\\n Einige IC-Züge verspäten sich zwischen Celle und Hannover Hbf sowie darüber hinaus um 10 – 25 Min.\\n IC 2179 nach Wolfsburg Hbf (planmäßig 5.05 Uhr ab Hamburg-Altona) fällt am 09.05. von Hamburg-Altona bis Hannover Hbf aus.\\nDie Bauarbeiten wurden abgesagt – die Züge verkehren planmäßig.\\nLink zur detaillierten Meldung: \\nLink zum kompletten PDF-Dokument: \\n(196 kB)\\n---\\n   \n",
       "\n",
       "                                                                                                                                                                                                                                                                                                                                                                                                                                                                                                                                                                   between_tokens  \\\n",
       "3402                                                                                                                                                                                                                                                                                                                  [sich, von, Nürnberg, Hbf, bis, München, Hbf, um, bis, zu, 10, Min, ., Die, ICE, -, Züge, fahren, bis, zu, 10, Min, ., früher, von, München, Hbf, bis, Nürnberg, Hbf, ., Die, ICE, -, Züge, werden, am, 12, ., und, 13.03, ., zwischen, Würzburg, Hbf, und]   \n",
       "6503  [sowie, zusätzlicher, Halt, in, Hannover, Messe, /, Laatzen, und, Verspätungen, Verspätungen, Celle, <, >, Hannover, Hbf, Zugausfall, Hamburg, -, Altona, >, Hannover, Hbf, (, 09.05, ., ), folgende, Meldung, entfällt, von, Sonntag, ,, 1, ., Mai, ,, 16.00, Uhr, bis, Mittwoch, ,, 18, ., Mai, ,, 5.00, Uhr, Meldung, :, Einige, IC, -, Züge, werden, umgeleitet, und, halten, nicht, in, Langenhagen, Mitte, und, Hannover, Hbf, ., Die, Züge, halten, zusätzlich, in, Hannover, Messe, /, Laatzen, und, verspäten, sich, um, bis, zu, 15, Min, ., Einige, IC, -, Züge]   \n",
       "\n",
       "                                                                               trigger_sm  \\\n",
       "3402  {'text': 'verspäten', 'entity_type': 'trigger', 'char_start': 216, 'char_end': 225}   \n",
       "6503  {'text': 'verspäten', 'entity_type': 'trigger', 'char_start': 516, 'char_end': 525}   \n",
       "\n",
       "                                                                                      argument_sm  \\\n",
       "3402  {'text': 'München Hbf', 'entity_type': 'location_stop', 'char_start': 424, 'char_end': 435}   \n",
       "6503   {'text': 'Hannover Hbf', 'entity_type': 'location_stop', 'char_start': 49, 'char_end': 61}   \n",
       "\n",
       "                                                                                                                                                                                                                                                                                                                                                                                                                                                                                                                                                                                                                                                                                                                                                                                                                                                                                                                                                                                                                                                   somajo_sm  \\\n",
       "3402                                                                                                            [{'text': 'veränderte Fahrzeiten Würzburg Hbf / Nürnberg Hbf \n",
       " Umleitung und kein Halt in Nürnberg Hbf und Ingolstadt Hbf (12. und 13.03.)\n",
       "von Samstag, 5. März, 23.00 Uhr bis Dienstag, 29. März, 4.00 Uhr\n",
       "Meldung:\n",
       " Die ICE-Züge verspäten sich von Nürnberg Hbf bis München Hbf um bis zu 10 Min.\n",
       " Die ICE-Züge fahren bis zu 10 Min. früher von München Hbf bis Nürnberg Hbf.\n",
       " Die ICE-Züge werden am 12. und 13.03. zwischen Würzburg Hbf und München Hbf über Augsburg Hbf umgeleitet und halten nicht in Nürnberg Hbf und Ingolstadt Hbf. Beachten Sie die 20 Min. spätere Ankunft / frühere Abfahrt in München Hbf.\n",
       "Grund:\n",
       "Inbetriebnahme des Elektronischen Stellwerks Fischbach\n",
       "Link zur detaillierten Meldung: \n",
       "Link zum kompletten PDF-Dokument: \n",
       "(191 kB)\n",
       "Sonderinformation zu dieser Meldung:\n",
       "Plakat: Bauarbeiten Nürnberg – Ingolstadt, 06.03. – 28.03.2016 (157 kB)\n",
       "------------------\n",
       "', 'char_start': 0, 'char_end': 860}]   \n",
       "6503  [{'text': 'Umleitung und kein Halt in Langenhagen Mitte und Hannover Hbf sowie zusätzlicher Halt in Hannover Messe / Laatzen und Verspätungen \n",
       " Verspätungen Celle < > Hannover Hbf\n",
       " Zugausfall Hamburg-Altona > Hannover Hbf (09.05.)\n",
       "folgende Meldung entfällt\n",
       "von Sonntag, 1. Mai, 16.00 Uhr bis Mittwoch, 18. Mai, 5.00 Uhr\n",
       "Meldung:\n",
       " Einige IC-Züge werden umgeleitet und halten nicht in Langenhagen Mitte und Hannover Hbf. Die Züge halten zusätzlich in Hannover Messe / Laatzen und verspäten sich um bis zu 15 Min.\n",
       " Einige IC-Züge verspäten sich zwischen Celle und Hannover Hbf sowie darüber hinaus um 10 – 25 Min.\n",
       " IC 2179 nach Wolfsburg Hbf (planmäßig 5.05 Uhr ab Hamburg-Altona) fällt am 09.05. von Hamburg-Altona bis Hannover Hbf aus.', 'char_start': 0, 'char_end': 723}, {'text': 'Die Bauarbeiten wurden abgesagt – die Züge verkehren planmäßig.', 'char_start': 724, 'char_end': 787}, {'text': 'Link zur detaillierten Meldung: \n",
       "Link zum kompletten PDF-Dokument: \n",
       "(196 kB)\n",
       "---', 'char_start': 788, 'char_end': 868}]   \n",
       "\n",
       "     event_role  \n",
       "3402     no_arg  \n",
       "6503     no_arg  "
      ]
     },
     "execution_count": 26,
     "metadata": {},
     "output_type": "execute_result"
    }
   ],
   "source": [
    "somajo_uncaughts_too_far.loc[[3402, 6503]][['text', 'between_tokens', 'trigger_sm', 'argument_sm', 'somajo_sm', 'event_role']]"
   ]
  },
  {
   "cell_type": "code",
   "execution_count": null,
   "metadata": {},
   "outputs": [],
   "source": []
  }
 ],
 "metadata": {
  "kernelspec": {
   "display_name": "Python 3.6 (master)",
   "language": "python",
   "name": "master"
  },
  "language_info": {
   "codemirror_mode": {
    "name": "ipython",
    "version": 3
   },
   "file_extension": ".py",
   "mimetype": "text/x-python",
   "name": "python",
   "nbconvert_exporter": "python",
   "pygments_lexer": "ipython3",
   "version": "3.6.10"
  }
 },
 "nbformat": 4,
 "nbformat_minor": 4
}