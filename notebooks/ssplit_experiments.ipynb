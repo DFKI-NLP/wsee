{
 "cells": [
  {
   "cell_type": "markdown",
   "metadata": {
    "jupyter": {
     "outputs_hidden": true
    }
   },
   "source": [
    "# Sentence Splitting Experiments\n",
    "Here we examine the quality of the sentence splitting in the corpus.\n",
    "We found that the sentence splitting in the corpus which was done with stanfordnlp was too aggressive. Many sentences were split incorrectly and often trigger-argument pairs (from the document level annotation) ended up being in different sentences.\n",
    "We compare negative labeling functions only using the sentence splitting information from stanfordnlp vs. SoMaJo and we manually examine the sentence splitting quality on the incorrectly labeled instances."
   ]
  },
  {
   "cell_type": "code",
   "execution_count": 1,
   "metadata": {},
   "outputs": [],
   "source": [
    "import sys\n",
    "sys.path.append(\"../\")"
   ]
  },
  {
   "cell_type": "markdown",
   "metadata": {},
   "source": [
    "## spaCy, stanfordnlp, SoMaJo comparison"
   ]
  },
  {
   "cell_type": "code",
   "execution_count": 2,
   "metadata": {},
   "outputs": [],
   "source": [
    "import spacy\n",
    "nlp_spacy = spacy.load('de_core_news_md')"
   ]
  },
  {
   "cell_type": "code",
   "execution_count": 3,
   "metadata": {},
   "outputs": [
    {
     "name": "stdout",
     "output_type": "stream",
     "text": [
      "Use device: cpu\n",
      "---\n",
      "Loading: tokenize\n",
      "With settings: \n",
      "{'model_path': '/Users/phuc/stanfordnlp_resources/de_gsd_models/de_gsd_tokenizer.pt', 'lang': 'de', 'shorthand': 'de_gsd', 'mode': 'predict'}\n",
      "---\n",
      "Loading: mwt\n",
      "With settings: \n",
      "{'model_path': '/Users/phuc/stanfordnlp_resources/de_gsd_models/de_gsd_mwt_expander.pt', 'lang': 'de', 'shorthand': 'de_gsd', 'mode': 'predict'}\n",
      "Building an attentional Seq2Seq model...\n",
      "Using a Bi-LSTM encoder\n",
      "Using soft attention for LSTM.\n",
      "Finetune all embeddings.\n",
      "---\n",
      "Loading: pos\n",
      "With settings: \n",
      "{'model_path': '/Users/phuc/stanfordnlp_resources/de_gsd_models/de_gsd_tagger.pt', 'pretrain_path': '/Users/phuc/stanfordnlp_resources/de_gsd_models/de_gsd.pretrain.pt', 'lang': 'de', 'shorthand': 'de_gsd', 'mode': 'predict'}\n",
      "---\n",
      "Loading: lemma\n",
      "With settings: \n",
      "{'model_path': '/Users/phuc/stanfordnlp_resources/de_gsd_models/de_gsd_lemmatizer.pt', 'lang': 'de', 'shorthand': 'de_gsd', 'mode': 'predict'}\n",
      "Building an attentional Seq2Seq model...\n",
      "Using a Bi-LSTM encoder\n",
      "Using soft attention for LSTM.\n",
      "Finetune all embeddings.\n",
      "[Running seq2seq lemmatizer with edit classifier]\n",
      "---\n",
      "Loading: depparse\n",
      "With settings: \n",
      "{'model_path': '/Users/phuc/stanfordnlp_resources/de_gsd_models/de_gsd_parser.pt', 'pretrain_path': '/Users/phuc/stanfordnlp_resources/de_gsd_models/de_gsd.pretrain.pt', 'lang': 'de', 'shorthand': 'de_gsd', 'mode': 'predict'}\n",
      "Done loading processors!\n",
      "---\n"
     ]
    }
   ],
   "source": [
    "import stanfordnlp\n",
    "# stanfordnlp.download('de')\n",
    "nlp_stanford = stanfordnlp.Pipeline(lang='de')"
   ]
  },
  {
   "cell_type": "code",
   "execution_count": 4,
   "metadata": {},
   "outputs": [],
   "source": [
    "from somajo import SoMaJo\n",
    "tokenizer = SoMaJo(\"de_CMC\", split_camel_case=True)"
   ]
  },
  {
   "cell_type": "markdown",
   "metadata": {},
   "source": [
    "### Test documents"
   ]
  },
  {
   "cell_type": "code",
   "execution_count": 5,
   "metadata": {},
   "outputs": [],
   "source": [
    "doc1 = \"#S1 Nach der Weichenstörung in Hohen Neuendorf verkehren die S-Bahnen wieder durchgehend, erster Zug ab #Frohnau 21:58 Uhr und erster Zug ab #Hohen_Neuendorf 22:03 Uhr.\"\n",
    "doc2 = \"Unfall\\nAbschnitt: Marzahn (Berlin)\\nGültig ab: 09.02.2016 20:06\\ngesperrt, Unfall\\n\"\n",
    "doc3 = \"■ #A1 #Bremen Richtung #Hamburg zwischen Horster Dreieck und #Stillhorn 9 km #Stau.  Dort ist wegen #Bauarbeiten nur eine Spur frei.\\n\"\n",
    "doc4 = \"Wegen einer techn. Störung an der Strecke besteht für die Linien S41, S42 u. S46 zw. Halensee <> Westkreuz <> Messe Nord <> Westend S-Bahn-Pendelverkehr im 20-Minuten-Takt. Die Linien S41 u. S42 fahren nur im 10-Minuten-Takt, die Linie S46 fährt nur Königs Wusterhausen <> Tempelhof.\"\n",
    "doc5 = \"#S3, #S5, #S7, #S9: Nach einer ärztliche Versorgung eines Fahrgastes im Zug in Bellevue kommt es noch zu Verspätungen und vereinzelten Ausfällen.\""
   ]
  },
  {
   "cell_type": "code",
   "execution_count": 6,
   "metadata": {},
   "outputs": [],
   "source": [
    "test_docs = [doc1, doc2, doc3, doc4, doc5]"
   ]
  },
  {
   "cell_type": "markdown",
   "metadata": {},
   "source": [
    "### Process documents with spaCy, stanfordnlp, somajo"
   ]
  },
  {
   "cell_type": "code",
   "execution_count": 7,
   "metadata": {},
   "outputs": [],
   "source": [
    "spacy_docs = [nlp_spacy(doc) for doc in test_docs]"
   ]
  },
  {
   "cell_type": "code",
   "execution_count": 8,
   "metadata": {},
   "outputs": [],
   "source": [
    "stanford_docs = [nlp_stanford(doc) for doc in test_docs]"
   ]
  },
  {
   "cell_type": "code",
   "execution_count": 9,
   "metadata": {},
   "outputs": [],
   "source": [
    "somajo_docs = [list(tokenizer.tokenize_text([doc])) for doc in test_docs]"
   ]
  },
  {
   "cell_type": "markdown",
   "metadata": {},
   "source": [
    "### Tokenization comparison\n",
    "How to access tokens:\n",
    "\n",
    "#### spaCy\n",
    "`Doc` is a sequence of `Token`s. We can get the token text with `Token.text`.\n",
    "\n",
    "#### stanfordnlp\n",
    "Here we have to access the sentences of a `Doc` to access the tokens with `tokens` property. We can get the token text with `Token.text`.\n",
    "\n",
    "### somajo\n",
    "Similar to stanfordnlp."
   ]
  },
  {
   "cell_type": "code",
   "execution_count": 10,
   "metadata": {},
   "outputs": [],
   "source": [
    "def get_spacy_doc_tokens(doc):\n",
    "    return [token.text for token in doc]\n",
    "\n",
    "def get_stanford_doc_tokens(doc):\n",
    "    return [token.text for sentence in doc.sentences for token in sentence.tokens]\n",
    "\n",
    "def get_somajo_doc_tokens(doc):\n",
    "    return [token.text for sentence in doc for token in sentence]"
   ]
  },
  {
   "cell_type": "code",
   "execution_count": 11,
   "metadata": {},
   "outputs": [
    {
     "name": "stdout",
     "output_type": "stream",
     "text": [
      "spaCy: ['#', 'S1', 'Nach', 'der', 'Weichenstörung', 'in', 'Hohen', 'Neuendorf', 'verkehren', 'die', 'S-Bahnen', 'wieder', 'durchgehend', ',', 'erster', 'Zug', 'ab', '#', 'Frohnau', '21:58', 'Uhr', 'und', 'erster', 'Zug', 'ab', '#', 'Hohen_Neuendorf', '22:03', 'Uhr', '.']\n",
      "stanfordnlp: ['#S1', 'Nach', 'der', 'Weichenstörung', 'in', 'Hohen', 'Neuendorf', 'verkehren', 'die', 'S-', 'Bahnen', 'wieder', 'durchgehend', ',', 'erster', 'Zug', 'ab', '#', 'Frohnau', '21:58', 'Uhr', 'und', 'erster', 'Zug', 'ab', '#', 'Hohen_Neuendorf', '22:03', 'Uhr', '.']\n",
      "somajo: ['#S1', 'Nach', 'der', 'Weichenstörung', 'in', 'Hohen', 'Neuendorf', 'verkehren', 'die', 'S-Bahnen', 'wieder', 'durchgehend', ',', 'erster', 'Zug', 'ab', '#Frohnau', '21:58', 'Uhr', 'und', 'erster', 'Zug', 'ab', '#Hohen_Neuendorf', '22:03', 'Uhr', '.']\n",
      "\n",
      "\n",
      "spaCy: ['Unfall', '\\n', 'Abschnitt', ':', 'Marzahn', '(', 'Berlin', ')', '\\n', 'Gültig', 'ab', ':', '09.02.2016', '20:06', '\\n', 'gesperrt', ',', 'Unfall', '\\n']\n",
      "stanfordnlp: ['Unfall', 'Abschnitt', ':', 'Marzahn', '(', 'Berlin', ')', 'Gültig', 'ab', ':', '09.02.2016', '20:06', 'gesperrt', ',', 'Unfall']\n",
      "somajo: ['Unfall', 'Abschnitt', ':', 'Marzahn', '(', 'Berlin', ')', 'Gültig', 'ab', ':', '09.', '02.', '2016', '20:06', 'gesperrt', ',', 'Unfall']\n",
      "\n",
      "\n",
      "spaCy: ['■', '#', 'A1', '#', 'Bremen', 'Richtung', '#', 'Hamburg', 'zwischen', 'Horster', 'Dreieck', 'und', '#', 'Stillhorn', '9', 'km', '#', 'Stau', '.', ' ', 'Dort', 'ist', 'wegen', '#', 'Bauarbeiten', 'nur', 'eine', 'Spur', 'frei', '.', '\\n']\n",
      "stanfordnlp: ['■', '#', 'A1', '#', 'Bremen', 'Richtung', '#', 'Hamburg', 'zwischen', 'Horster', 'Dreieck', 'und', '#', 'Stillhorn', '9', 'km', '#', 'Stau', '.', 'Dort', 'ist', 'wegen', '#', 'Bauarbeiten', 'nur', 'eine', 'Spur', 'frei', '.']\n",
      "somajo: ['■', '#A1', '#Bremen', 'Richtung', '#Hamburg', 'zwischen', 'Horster', 'Dreieck', 'und', '#Stillhorn', '9', 'km', '#Stau', '.', 'Dort', 'ist', 'wegen', '#Bauarbeiten', 'nur', 'eine', 'Spur', 'frei', '.']\n",
      "\n",
      "\n",
      "spaCy: ['Wegen', 'einer', 'techn', '.', 'Störung', 'an', 'der', 'Strecke', 'besteht', 'für', 'die', 'Linien', 'S41', ',', 'S42', 'u.', 'S46', 'zw', '.', 'Halensee', '<', '>', 'Westkreuz', '<', '>', 'Messe', 'Nord', '<', '>', 'Westend', 'S-Bahn-Pendelverkehr', 'im', '20-Minuten-Takt', '.', 'Die', 'Linien', 'S41', 'u.', 'S42', 'fahren', 'nur', 'im', '10-Minuten-Takt', ',', 'die', 'Linie', 'S46', 'fährt', 'nur', 'Königs', 'Wusterhausen', '<', '>', 'Tempelhof', '.']\n",
      "stanfordnlp: ['Wegen', 'einer', 'techn', '.', 'Störung', 'an', 'der', 'Strecke', 'besteht', 'für', 'die', 'Linien', 'S41', ',', 'S42', 'u', '.', 'S46', 'zw', '.', 'Halensee', '<>', 'Westkreuz', '<>', 'Messe', 'Nord', '<>', 'Westend', 'S', '-', 'Bahn', '-', 'Pendelverkehr', 'im', '20', '-', 'Minuten', '-', 'Takt', '.', 'Die', 'Linien', 'S41', 'u', '.', 'S42', 'fahren', 'nur', 'im', '10', '-', 'Minuten', '-', 'Takt', ',', 'die', 'Linie', 'S46', 'fährt', 'nur', 'Königs', 'Wusterhausen', '<>', 'Tempelhof', '.']\n",
      "somajo: ['Wegen', 'einer', 'techn.', 'Störung', 'an', 'der', 'Strecke', 'besteht', 'für', 'die', 'Linien', 'S41', ',', 'S42', 'u.', 'S46', 'zw.', 'Halensee', '<', '>', 'Westkreuz', '<', '>', 'Messe', 'Nord', '<', '>', 'Westend', 'S-Bahn-Pendelverkehr', 'im', '20-Minuten-Takt', '.', 'Die', 'Linien', 'S41', 'u.', 'S42', 'fahren', 'nur', 'im', '10-Minuten-Takt', ',', 'die', 'Linie', 'S46', 'fährt', 'nur', 'Königs', 'Wusterhausen', '<', '>', 'Tempelhof', '.']\n",
      "\n",
      "\n",
      "spaCy: ['#', 'S3', ',', '#', 'S5', ',', '#', 'S7', ',', '#', 'S9', ':', 'Nach', 'einer', 'ärztliche', 'Versorgung', 'eines', 'Fahrgastes', 'im', 'Zug', 'in', 'Bellevue', 'kommt', 'es', 'noch', 'zu', 'Verspätungen', 'und', 'vereinzelten', 'Ausfällen', '.']\n",
      "stanfordnlp: ['#S3', ',', '#', 'S5', ',', '#', 'S7', ',', '#', 'S9', ':', 'Nach', 'einer', 'ärztliche', 'Versorgung', 'eines', 'Fahrgastes', 'im', 'Zug', 'in', 'Bellevue', 'kommt', 'es', 'noch', 'zu', 'Verspätungen', 'und', 'vereinzelten', 'Ausfällen', '.']\n",
      "somajo: ['#S3', ',', '#S5', ',', '#S7', ',', '#S9', ':', 'Nach', 'einer', 'ärztliche', 'Versorgung', 'eines', 'Fahrgastes', 'im', 'Zug', 'in', 'Bellevue', 'kommt', 'es', 'noch', 'zu', 'Verspätungen', 'und', 'vereinzelten', 'Ausfällen', '.']\n",
      "\n",
      "\n"
     ]
    }
   ],
   "source": [
    "for spacy_doc, stanford_doc, somajo_doc in zip(spacy_docs, stanford_docs, somajo_docs):\n",
    "    spacy_tokens = get_spacy_doc_tokens(spacy_doc)\n",
    "    print(\"spaCy:\", spacy_tokens)\n",
    "    stanford_tokens = get_stanford_doc_tokens(stanford_doc)\n",
    "    print(\"stanfordnlp:\", stanford_tokens)\n",
    "    somajo_tokens = get_somajo_doc_tokens(somajo_doc)\n",
    "    print(\"somajo:\", somajo_tokens)\n",
    "    print(\"\\n\")"
   ]
  },
  {
   "cell_type": "markdown",
   "metadata": {},
   "source": [
    "spaCy tokenizer treats hashtags as separate tokens and keeps whitespace characters.\n",
    "stanfordnlp more often than not treats hashtags as separate token and often does not handle abbreviations well, i.e. the tokenizer treats the dot as a separate token.\n",
    "It also tends to split words containing punctuation marks more aggressively than the other tokenizers.\n",
    "SoMaJo does not treat hashtags as separate tokens and handles abbreviations better. It does however split dates into multiple tokens."
   ]
  },
  {
   "cell_type": "markdown",
   "metadata": {},
   "source": [
    "### Sentence splitting comparison"
   ]
  },
  {
   "cell_type": "code",
   "execution_count": 12,
   "metadata": {},
   "outputs": [],
   "source": [
    "def get_spacy_doc_sentences(doc):\n",
    "    return [s.text for s in doc.sents]\n",
    "\n",
    "def get_stanford_doc_sentences(doc):\n",
    "    # introduces whitespaces\n",
    "    # see: https://github.com/stanfordnlp/stanfordnlp/blob/dev/stanfordnlp/models/common/doc.py\n",
    "    # to get original sentence text\n",
    "    return [\" \".join([token.text for token in sentence.tokens]) for sentence in doc.sentences]\n",
    "\n",
    "def get_somajo_doc_sentences(doc):\n",
    "    # introduces whitespaces\n",
    "    return [\" \".join([token.text for token in sentence]) for sentence in doc]"
   ]
  },
  {
   "cell_type": "code",
   "execution_count": 13,
   "metadata": {},
   "outputs": [
    {
     "name": "stdout",
     "output_type": "stream",
     "text": [
      "spaCy: 7 \n",
      " ['#S1', 'Nach der Weichenstörung in Hohen Neuendorf verkehren die S-Bahnen wieder durchgehend, erster Zug ab', '#', 'Frohnau', '21:58 Uhr und erster Zug ab', '#Hohen_Neuendorf', '22:03 Uhr.']\n",
      "stanfordnlp: 1 \n",
      " ['#S1 Nach der Weichenstörung in Hohen Neuendorf verkehren die S- Bahnen wieder durchgehend , erster Zug ab # Frohnau 21:58 Uhr und erster Zug ab # Hohen_Neuendorf 22:03 Uhr .']\n",
      "somajo: 1 \n",
      " ['#S1 Nach der Weichenstörung in Hohen Neuendorf verkehren die S-Bahnen wieder durchgehend , erster Zug ab #Frohnau 21:58 Uhr und erster Zug ab #Hohen_Neuendorf 22:03 Uhr .']\n",
      "\n",
      "\n",
      "spaCy: 5 \n",
      " ['Unfall\\nAbschnitt: Marzahn (Berlin)\\n', 'Gültig ab', ':', '09.02.2016', '20:06\\ngesperrt, Unfall\\n']\n",
      "stanfordnlp: 1 \n",
      " ['Unfall Abschnitt : Marzahn ( Berlin ) Gültig ab : 09.02.2016 20:06 gesperrt , Unfall']\n",
      "somajo: 1 \n",
      " ['Unfall Abschnitt : Marzahn ( Berlin ) Gültig ab : 09. 02. 2016 20:06 gesperrt , Unfall']\n",
      "\n",
      "\n",
      "spaCy: 6 \n",
      " ['■', '#', 'A1 #Bremen', 'Richtung #Hamburg zwischen Horster Dreieck und #Stillhorn', '9 km #Stau.  ', 'Dort ist wegen #Bauarbeiten nur eine Spur frei.\\n']\n",
      "stanfordnlp: 2 \n",
      " ['■ # A1 # Bremen Richtung # Hamburg zwischen Horster Dreieck und # Stillhorn 9 km # Stau .', 'Dort ist wegen # Bauarbeiten nur eine Spur frei .']\n",
      "somajo: 2 \n",
      " ['■ #A1 #Bremen Richtung #Hamburg zwischen Horster Dreieck und #Stillhorn 9 km #Stau .', 'Dort ist wegen #Bauarbeiten nur eine Spur frei .']\n",
      "\n",
      "\n",
      "spaCy: 7 \n",
      " ['Wegen einer techn.', 'Störung an der Strecke besteht für die Linien S41, S42 u. S46 zw.', 'Halensee <>', 'Westkreuz <>', 'Messe Nord <>', 'Westend S-Bahn-Pendelverkehr im 20-Minuten-Takt.', 'Die Linien S41 u. S42 fahren nur im 10-Minuten-Takt, die Linie S46 fährt nur Königs Wusterhausen <> Tempelhof.']\n",
      "stanfordnlp: 5 \n",
      " ['Wegen einer techn .', 'Störung an der Strecke besteht für die Linien S41 , S42 u .', 'S46 zw . Halensee <> Westkreuz <> Messe Nord <> Westend S - Bahn - Pendelverkehr im 20 - Minuten - Takt .', 'Die Linien S41 u .', 'S42 fahren nur im 10 - Minuten - Takt , die Linie S46 fährt nur Königs Wusterhausen <> Tempelhof .']\n",
      "somajo: 2 \n",
      " ['Wegen einer techn. Störung an der Strecke besteht für die Linien S41 , S42 u. S46 zw. Halensee < > Westkreuz < > Messe Nord < > Westend S-Bahn-Pendelverkehr im 20-Minuten-Takt .', 'Die Linien S41 u. S42 fahren nur im 10-Minuten-Takt , die Linie S46 fährt nur Königs Wusterhausen < > Tempelhof .']\n",
      "\n",
      "\n",
      "spaCy: 2 \n",
      " ['#S3, #S5, #S7,', '#S9: Nach einer ärztliche Versorgung eines Fahrgastes im Zug in Bellevue kommt es noch zu Verspätungen und vereinzelten Ausfällen.']\n",
      "stanfordnlp: 1 \n",
      " ['#S3 , # S5 , # S7 , # S9 : Nach einer ärztliche Versorgung eines Fahrgastes im Zug in Bellevue kommt es noch zu Verspätungen und vereinzelten Ausfällen .']\n",
      "somajo: 1 \n",
      " ['#S3 , #S5 , #S7 , #S9 : Nach einer ärztliche Versorgung eines Fahrgastes im Zug in Bellevue kommt es noch zu Verspätungen und vereinzelten Ausfällen .']\n",
      "\n",
      "\n"
     ]
    }
   ],
   "source": [
    "for spacy_doc, stanford_doc, somajo_doc in zip(spacy_docs, stanford_docs, somajo_docs):\n",
    "    spacy_sentences = get_spacy_doc_sentences(spacy_doc)\n",
    "    print(\"spaCy:\", len(spacy_sentences), \"\\n\", spacy_sentences)\n",
    "    stanford_sentences = get_stanford_doc_sentences(stanford_doc)\n",
    "    print(\"stanfordnlp:\", len(stanford_sentences), \"\\n\", stanford_sentences)\n",
    "    somajo_sentences = get_somajo_doc_sentences(somajo_doc)\n",
    "    print(\"somajo:\", len(somajo_sentences), \"\\n\", somajo_sentences)\n",
    "    print(\"\\n\")"
   ]
  },
  {
   "cell_type": "markdown",
   "metadata": {},
   "source": [
    "In the small sample of sentences we can observe that spaCy tends to split the document text very aggressively. It seems to not be able to handle hashtags, punctuation marks and abbreviations well.\n",
    "stanfordnlp tends to do a little better, but seems rather ill-equipped to handle text data from social media containing a lot of abbreviations and use of special punctuation marks.\n",
    "SoMaJo does considerably better. In our testing we found that it only made mistakes on very few occasions where it encountered unknown abbreviations.\n",
    "Therefore we chose to do event extraction on a document level and use SoMaJo sentence splitting information for our negative labeling functions."
   ]
  },
  {
   "cell_type": "markdown",
   "metadata": {},
   "source": [
    "## Automatic approach to evaluate sentence splitting quality\n",
    "In order to automatically evaluate the quality of sentence splitting of stanfordnlp and SoMaJo we compare event role labeling functions, that label an example as `no_arg` when trigger and (potential) argument are in separate sentences according to the sentence splitting (boundary) information and abstain otherwise.\n",
    "\n",
    "Caveats: If the annotators did not pay attention to sentence boundaries when labeling event roles, then it may seem that the splitter made a mistake. This would then measure the consistency / quality of the annotation rather than the quality of the sentence splitter. This approach only covers the sentence splitting errors where trigger and argument ended up in different sentences according to the splitter. There may be other sentence splitting errors where trigger and argument still ended up in the same sentence or splitting errors in sentences with no event roles."
   ]
  },
  {
   "cell_type": "code",
   "execution_count": 14,
   "metadata": {},
   "outputs": [
    {
     "data": {
      "text/plain": [
       "{'# Docs': 567,\n",
       " '# Docs with event triggers': 413,\n",
       " '# Event triggers with positive label': 488,\n",
       " '# Event triggers with negative label': 289,\n",
       " '# Event triggers with abstain': 0,\n",
       " 'Trigger class frequencies': {'Accident': 59,\n",
       "  'CanceledRoute': 61,\n",
       "  'CanceledStop': 25,\n",
       "  'Delay': 65,\n",
       "  'Obstruction': 101,\n",
       "  'RailReplacementService': 22,\n",
       "  'TrafficJam': 155,\n",
       "  'O': 289},\n",
       " '# Docs with event roles': 413,\n",
       " '# Event role with positive label': 2001,\n",
       " '# Event roles with negative label': 5284,\n",
       " '# Event roles with abstain': 0,\n",
       " 'Role class frequencies': {'location': 571,\n",
       "  'delay': 87,\n",
       "  'direction': 277,\n",
       "  'start_loc': 377,\n",
       "  'end_loc': 352,\n",
       "  'start_date': 35,\n",
       "  'end_date': 41,\n",
       "  'cause': 103,\n",
       "  'jam_length': 135,\n",
       "  'route': 23,\n",
       "  'no_arg': 5284}}"
      ]
     },
     "execution_count": 14,
     "metadata": {},
     "output_type": "execute_result"
    }
   ],
   "source": [
    "import pandas as pd\n",
    "from wsee.utils import corpus_statistics\n",
    "sd4m_train = pd.read_json(\"../data/daystream_corpus/train/train_with_events_and_defaults.jsonl\", lines=True, encoding='utf8')\n",
    "filtered_sd4m_train = sd4m_train[sd4m_train.apply(lambda document: corpus_statistics.has_triggers(document), axis=1)]\n",
    "corpus_statistics.get_snorkel_event_stats(filtered_sd4m_train)"
   ]
  },
  {
   "cell_type": "code",
   "execution_count": 15,
   "metadata": {},
   "outputs": [
    {
     "name": "stderr",
     "output_type": "stream",
     "text": [
      "INFO:root:Building event role examples\n",
      "INFO:root:DataFrame has 567 rows\n",
      "INFO:root:Adding the following attributes to each document: entity_type_freqs, somajo_doc, mixed_ner, mixed_ner_spans\n",
      "567it [00:12, 46.02it/s]\n",
      "INFO:root:Adding the following attributes to each role example: not_an_event, arg_type_event_type_match, between_distance, is_multiple_same_event_type\n",
      "INFO:root:Number of event roles: 2001\n",
      "INFO:root:Number of event role examples: 7285\n"
     ]
    }
   ],
   "source": [
    "from wsee.data import pipeline\n",
    "\n",
    "df_sd_train, Y_sd_train = pipeline.build_event_role_examples(filtered_sd4m_train)"
   ]
  },
  {
   "cell_type": "code",
   "execution_count": 16,
   "metadata": {},
   "outputs": [],
   "source": [
    "from wsee.labeling import event_argument_role_lfs as role_lfs\n",
    "from snorkel.labeling import PandasLFApplier\n",
    "\n",
    "lfs = [\n",
    "    role_lfs.lf_somajo_separate_sentence,\n",
    "    role_lfs.lf_stanford_separate_sentence\n",
    "]\n",
    "applier = PandasLFApplier(lfs)"
   ]
  },
  {
   "cell_type": "code",
   "execution_count": 17,
   "metadata": {},
   "outputs": [
    {
     "name": "stderr",
     "output_type": "stream",
     "text": [
      "100%|██████████| 7285/7285 [00:02<00:00, 3188.25it/s]\n"
     ]
    }
   ],
   "source": [
    "L_sd_train = applier.apply(df_sd_train)"
   ]
  },
  {
   "cell_type": "code",
   "execution_count": 18,
   "metadata": {},
   "outputs": [
    {
     "data": {
      "text/html": [
       "<div>\n",
       "<style scoped>\n",
       "    .dataframe tbody tr th:only-of-type {\n",
       "        vertical-align: middle;\n",
       "    }\n",
       "\n",
       "    .dataframe tbody tr th {\n",
       "        vertical-align: top;\n",
       "    }\n",
       "\n",
       "    .dataframe thead th {\n",
       "        text-align: right;\n",
       "    }\n",
       "</style>\n",
       "<table border=\"1\" class=\"dataframe\">\n",
       "  <thead>\n",
       "    <tr style=\"text-align: right;\">\n",
       "      <th></th>\n",
       "      <th>j</th>\n",
       "      <th>Polarity</th>\n",
       "      <th>Coverage</th>\n",
       "      <th>Overlaps</th>\n",
       "      <th>Conflicts</th>\n",
       "      <th>Correct</th>\n",
       "      <th>Incorrect</th>\n",
       "      <th>Emp. Acc.</th>\n",
       "    </tr>\n",
       "  </thead>\n",
       "  <tbody>\n",
       "    <tr>\n",
       "      <th>lf_somajo_separate_sentence</th>\n",
       "      <td>0</td>\n",
       "      <td>[10]</td>\n",
       "      <td>0.288813</td>\n",
       "      <td>0.287577</td>\n",
       "      <td>0.0</td>\n",
       "      <td>2097</td>\n",
       "      <td>7</td>\n",
       "      <td>0.996673</td>\n",
       "    </tr>\n",
       "    <tr>\n",
       "      <th>lf_stanford_separate_sentence</th>\n",
       "      <td>1</td>\n",
       "      <td>[10]</td>\n",
       "      <td>0.423747</td>\n",
       "      <td>0.287577</td>\n",
       "      <td>0.0</td>\n",
       "      <td>2993</td>\n",
       "      <td>94</td>\n",
       "      <td>0.969550</td>\n",
       "    </tr>\n",
       "  </tbody>\n",
       "</table>\n",
       "</div>"
      ],
      "text/plain": [
       "                               j Polarity  Coverage  Overlaps  Conflicts  \\\n",
       "lf_somajo_separate_sentence    0     [10]  0.288813  0.287577        0.0   \n",
       "lf_stanford_separate_sentence  1     [10]  0.423747  0.287577        0.0   \n",
       "\n",
       "                               Correct  Incorrect  Emp. Acc.  \n",
       "lf_somajo_separate_sentence       2097          7   0.996673  \n",
       "lf_stanford_separate_sentence     2993         94   0.969550  "
      ]
     },
     "execution_count": 18,
     "metadata": {},
     "output_type": "execute_result"
    }
   ],
   "source": [
    "from snorkel.labeling import LFAnalysis\n",
    "\n",
    "LFAnalysis(L_sd_train, lfs).lf_summary(Y_sd_train)"
   ]
  },
  {
   "cell_type": "markdown",
   "metadata": {},
   "source": [
    "The SD4M train set contains 2001 positive event roles and 5284 negative event roles.\n",
    "`lf_stanford_separate_sentence` using the sentence splitting information from stanfordnlp correctly labels 2993 of the negative event roles, but incorrectly labels 94 of the positive event roles as `no_arg`. \n",
    "While `lf_somajo_separate_sentence` correctly labels less of of the negative event roles (2097), it only labels 7 of the positive event roles incorrectly. \n",
    "\n",
    "Event extraction on a sentence level, i.e. where the input to the model is a sentence not a document, hinges on the quality of the sentence splitting. We do not want to loose these 94 examples of positive event roles for model training.\n",
    "That is why we decided to feed documents into the model.\n",
    "As the information from the sentence splitting is crucial to the role labeling functions that only take proximity into account, we chose `lf_somajo_separate_sentence`."
   ]
  },
  {
   "cell_type": "markdown",
   "metadata": {},
   "source": [
    "To make sure that those errors are not due to inconsistencies in the annotation, we will manually examine the incorrect instances."
   ]
  },
  {
   "cell_type": "code",
   "execution_count": 19,
   "metadata": {},
   "outputs": [],
   "source": [
    "from wsee.preprocessors import preprocessors\n",
    "\n",
    "def get_simple_trigger(doc):\n",
    "    trigger = doc.trigger\n",
    "    simple_trigger = {\n",
    "        'text': trigger['text'],\n",
    "        'entity_type': trigger['entity_type'],\n",
    "        'char_start': trigger['char_start'],\n",
    "        'char_end': trigger['char_end']\n",
    "    }\n",
    "    return simple_trigger\n",
    "\n",
    "def get_simple_argument(doc):\n",
    "    argument = doc['argument']\n",
    "    simple_argument = {\n",
    "        'text': argument['text'],\n",
    "        'entity_type': argument['entity_type'],\n",
    "        'char_start': argument['char_start'],\n",
    "        'char_end': argument['char_end']\n",
    "    }\n",
    "    return simple_argument\n",
    "\n",
    "def get_simple_somajo_sentences(doc):\n",
    "    sentences = doc.somajo_doc['sentences']\n",
    "    return [{'text': doc.text[sentence['char_start']:sentence['char_end']], 'char_start': sentence['char_start'], 'char_end': sentence['char_end']} for sentence in sentences]\n",
    "\n",
    "def get_simple_stanford_sentences(doc):\n",
    "    sentences = doc.sentence_spans\n",
    "    return [{'text': doc.text[sentence['char_start']:sentence['char_end']], 'char_start': sentence['char_start'], 'char_end': sentence['char_end']} for sentence in sentences]\n",
    "\n",
    "def add_simple_columns(df):\n",
    "    df['trigger_sm'] = df.apply(lambda doc: get_simple_trigger(doc), axis=1)\n",
    "    df['argument_sm'] = df.apply(lambda doc: get_simple_argument(doc), axis=1)\n",
    "    df['somajo_sm'] = df.apply(lambda doc: get_simple_somajo_sentences(doc), axis=1)\n",
    "    df['stanford_sm'] = df.apply(lambda doc: get_simple_stanford_sentences(doc), axis=1)\n",
    "    df['between_tokens'] = df.apply(lambda doc: preprocessors.get_between_tokens(doc), axis=1)\n",
    "    return df"
   ]
  },
  {
   "cell_type": "code",
   "execution_count": 20,
   "metadata": {},
   "outputs": [],
   "source": [
    "from wsee.labeling import error_analysis\n",
    "from wsee import ROLE_LABELS\n",
    "pd.set_option('display.max_colwidth', None)\n",
    "labeled_sd4m_roles = df_sd_train.copy()\n",
    "labeled_sd4m_roles['label'] = Y_sd_train\n",
    "labeled_sd4m_roles['event_role'] = [ROLE_LABELS[label_idx] for label_idx in Y_sd_train]\n",
    "labeled_sd4m_roles = add_simple_columns(labeled_sd4m_roles)"
   ]
  },
  {
   "cell_type": "code",
   "execution_count": 21,
   "metadata": {},
   "outputs": [
    {
     "data": {
      "text/html": [
       "<div>\n",
       "<style scoped>\n",
       "    .dataframe tbody tr th:only-of-type {\n",
       "        vertical-align: middle;\n",
       "    }\n",
       "\n",
       "    .dataframe tbody tr th {\n",
       "        vertical-align: top;\n",
       "    }\n",
       "\n",
       "    .dataframe thead th {\n",
       "        text-align: right;\n",
       "    }\n",
       "</style>\n",
       "<table border=\"1\" class=\"dataframe\">\n",
       "  <thead>\n",
       "    <tr style=\"text-align: right;\">\n",
       "      <th></th>\n",
       "      <th>text</th>\n",
       "      <th>between_tokens</th>\n",
       "      <th>trigger_sm</th>\n",
       "      <th>argument_sm</th>\n",
       "      <th>somajo_sm</th>\n",
       "      <th>event_role</th>\n",
       "    </tr>\n",
       "  </thead>\n",
       "  <tbody>\n",
       "    <tr>\n",
       "      <th>5054</th>\n",
       "      <td>Kreis Breisgau-Hochschwarzwald Störungen im Schienenverkehr, Erdrutsch Die Zugverbindung Freiburg i.Br. - Titisee-Neustadt (Höllentalbahn) ist im Bereich Falkensteig unterbrochen. Ein Schienenersatzverkehr ist eingerichtet. Mit Behinderungen ist zu rechnen.\\n</td>\n",
       "      <td>[ist, im, Bereich, Falkensteig]</td>\n",
       "      <td>{'text': 'unterbrochen', 'entity_type': 'trigger', 'char_start': 166, 'char_end': 178}</td>\n",
       "      <td>{'text': 'Zugverbindung Freiburg i.Br. - Titisee-Neustadt (Höllentalbahn)', 'entity_type': 'location_route', 'char_start': 75, 'char_end': 138}</td>\n",
       "      <td>[{'text': 'Kreis Breisgau-Hochschwarzwald Störungen im Schienenverkehr, Erdrutsch Die Zugverbindung Freiburg i.', 'char_start': 0, 'char_end': 100}, {'text': 'Br. - Titisee-Neustadt (Höllentalbahn) ist im Bereich Falkensteig unterbrochen.', 'char_start': 100, 'char_end': 179}, {'text': 'Ein Schienenersatzverkehr ist eingerichtet.', 'char_start': 180, 'char_end': 223}, {'text': 'Mit Behinderungen ist zu rechnen.', 'char_start': 224, 'char_end': 257}]</td>\n",
       "      <td>location</td>\n",
       "    </tr>\n",
       "    <tr>\n",
       "      <th>5081</th>\n",
       "      <td>#RE4 wird ab #Düsseldorf Hbf (17:26) bis #Mönchengladbach (17:48) ohne Halt umgeleitet.Mit 20 Minuten Verspätung muss in MG gerechnet werden\\n</td>\n",
       "      <td>[wird, ab, #Düsseldorf, Hbf, (, 17:26, ), bis, #Mönchengladbach, (, 17:48, ), ohne, Halt]</td>\n",
       "      <td>{'text': 'umgeleitet.Mit', 'entity_type': 'trigger', 'char_start': 76, 'char_end': 90}</td>\n",
       "      <td>{'text': '#RE4', 'entity_type': 'location_route', 'char_start': 0, 'char_end': 4}</td>\n",
       "      <td>[{'text': '#RE4 wird ab #Düsseldorf Hbf (17:26) bis #Mönchengladbach (17:48) ohne Halt umgeleitet.', 'char_start': 0, 'char_end': 87}, {'text': 'Mit 20 Minuten Verspätung muss in MG gerechnet werden', 'char_start': 87, 'char_end': 140}]</td>\n",
       "      <td>location</td>\n",
       "    </tr>\n",
       "    <tr>\n",
       "      <th>5082</th>\n",
       "      <td>#RE4 wird ab #Düsseldorf Hbf (17:26) bis #Mönchengladbach (17:48) ohne Halt umgeleitet.Mit 20 Minuten Verspätung muss in MG gerechnet werden\\n</td>\n",
       "      <td>[(, 17:26, ), bis, #Mönchengladbach, (, 17:48, ), ohne, Halt]</td>\n",
       "      <td>{'text': 'umgeleitet.Mit', 'entity_type': 'trigger', 'char_start': 76, 'char_end': 90}</td>\n",
       "      <td>{'text': '#Düsseldorf Hbf', 'entity_type': 'location_stop', 'char_start': 13, 'char_end': 28}</td>\n",
       "      <td>[{'text': '#RE4 wird ab #Düsseldorf Hbf (17:26) bis #Mönchengladbach (17:48) ohne Halt umgeleitet.', 'char_start': 0, 'char_end': 87}, {'text': 'Mit 20 Minuten Verspätung muss in MG gerechnet werden', 'char_start': 87, 'char_end': 140}]</td>\n",
       "      <td>start_loc</td>\n",
       "    </tr>\n",
       "    <tr>\n",
       "      <th>5084</th>\n",
       "      <td>#RE4 wird ab #Düsseldorf Hbf (17:26) bis #Mönchengladbach (17:48) ohne Halt umgeleitet.Mit 20 Minuten Verspätung muss in MG gerechnet werden\\n</td>\n",
       "      <td>[(, 17:48, ), ohne, Halt]</td>\n",
       "      <td>{'text': 'umgeleitet.Mit', 'entity_type': 'trigger', 'char_start': 76, 'char_end': 90}</td>\n",
       "      <td>{'text': '#Mönchengladbach', 'entity_type': 'location_stop', 'char_start': 41, 'char_end': 57}</td>\n",
       "      <td>[{'text': '#RE4 wird ab #Düsseldorf Hbf (17:26) bis #Mönchengladbach (17:48) ohne Halt umgeleitet.', 'char_start': 0, 'char_end': 87}, {'text': 'Mit 20 Minuten Verspätung muss in MG gerechnet werden', 'char_start': 87, 'char_end': 140}]</td>\n",
       "      <td>end_loc</td>\n",
       "    </tr>\n",
       "    <tr>\n",
       "      <th>5643</th>\n",
       "      <td>A43 Wuppertal Richtung Recklinghausen zwischen Witten-Herbede und Bochum-Querenburg Unfall 5 km Stau. Dort wird der Verkehr über die Parallelfahrbahn geleitet. (Zeitverlust: etwa eine halbe Stunde)\\n</td>\n",
       "      <td>[5, km, Stau, ., Dort, wird, der, Verkehr, über, die, Parallelfahrbahn, geleitet, ., (, Zeitverlust, :, etwa, eine]</td>\n",
       "      <td>{'text': 'Unfall', 'entity_type': 'trigger', 'char_start': 84, 'char_end': 90}</td>\n",
       "      <td>{'text': 'halbe Stunde', 'entity_type': 'duration', 'char_start': 184, 'char_end': 196}</td>\n",
       "      <td>[{'text': 'A43 Wuppertal Richtung Recklinghausen zwischen Witten-Herbede und Bochum-Querenburg Unfall 5 km Stau.', 'char_start': 0, 'char_end': 101}, {'text': 'Dort wird der Verkehr über die Parallelfahrbahn geleitet.', 'char_start': 102, 'char_end': 159}, {'text': '(Zeitverlust: etwa eine halbe Stunde)', 'char_start': 160, 'char_end': 197}]</td>\n",
       "      <td>delay</td>\n",
       "    </tr>\n",
       "    <tr>\n",
       "      <th>5651</th>\n",
       "      <td>A43 Wuppertal Richtung Recklinghausen zwischen Witten-Herbede und Bochum-Querenburg Unfall 5 km Stau. Dort wird der Verkehr über die Parallelfahrbahn geleitet. (Zeitverlust: etwa eine halbe Stunde)\\n</td>\n",
       "      <td>[., Dort, wird, der, Verkehr, über, die, Parallelfahrbahn, geleitet, ., (, Zeitverlust, :, etwa, eine]</td>\n",
       "      <td>{'text': 'Stau', 'entity_type': 'trigger', 'char_start': 96, 'char_end': 100}</td>\n",
       "      <td>{'text': 'halbe Stunde', 'entity_type': 'duration', 'char_start': 184, 'char_end': 196}</td>\n",
       "      <td>[{'text': 'A43 Wuppertal Richtung Recklinghausen zwischen Witten-Herbede und Bochum-Querenburg Unfall 5 km Stau.', 'char_start': 0, 'char_end': 101}, {'text': 'Dort wird der Verkehr über die Parallelfahrbahn geleitet.', 'char_start': 102, 'char_end': 159}, {'text': '(Zeitverlust: etwa eine halbe Stunde)', 'char_start': 160, 'char_end': 197}]</td>\n",
       "      <td>delay</td>\n",
       "    </tr>\n",
       "    <tr>\n",
       "      <th>6947</th>\n",
       "      <td>A6 Nürnberg Richtung Heilbronn zwischen Herrieden und Kreuz Feuchtwangen / Crailsheim 18 km Stau. Zeitverlust von bis zu ein-einhalb Stunden.\\n</td>\n",
       "      <td>[Zeitverlust, von, bis, zu]</td>\n",
       "      <td>{'text': 'Stau.', 'entity_type': 'trigger', 'char_start': 92, 'char_end': 97}</td>\n",
       "      <td>{'text': 'ein-einhalb Stunden.', 'entity_type': 'duration', 'char_start': 121, 'char_end': 141}</td>\n",
       "      <td>[{'text': 'A6 Nürnberg Richtung Heilbronn zwischen Herrieden und Kreuz Feuchtwangen / Crailsheim 18 km Stau.', 'char_start': 0, 'char_end': 97}, {'text': 'Zeitverlust von bis zu ein-einhalb Stunden.', 'char_start': 98, 'char_end': 141}]</td>\n",
       "      <td>delay</td>\n",
       "    </tr>\n",
       "  </tbody>\n",
       "</table>\n",
       "</div>"
      ],
      "text/plain": [
       "                                                                                                                                                                                                                                                                     text  \\\n",
       "5054  Kreis Breisgau-Hochschwarzwald Störungen im Schienenverkehr, Erdrutsch Die Zugverbindung Freiburg i.Br. - Titisee-Neustadt (Höllentalbahn) ist im Bereich Falkensteig unterbrochen. Ein Schienenersatzverkehr ist eingerichtet. Mit Behinderungen ist zu rechnen.\\n   \n",
       "5081                                                                                                                       #RE4 wird ab #Düsseldorf Hbf (17:26) bis #Mönchengladbach (17:48) ohne Halt umgeleitet.Mit 20 Minuten Verspätung muss in MG gerechnet werden\\n   \n",
       "5082                                                                                                                       #RE4 wird ab #Düsseldorf Hbf (17:26) bis #Mönchengladbach (17:48) ohne Halt umgeleitet.Mit 20 Minuten Verspätung muss in MG gerechnet werden\\n   \n",
       "5084                                                                                                                       #RE4 wird ab #Düsseldorf Hbf (17:26) bis #Mönchengladbach (17:48) ohne Halt umgeleitet.Mit 20 Minuten Verspätung muss in MG gerechnet werden\\n   \n",
       "5643                                                              A43 Wuppertal Richtung Recklinghausen zwischen Witten-Herbede und Bochum-Querenburg Unfall 5 km Stau. Dort wird der Verkehr über die Parallelfahrbahn geleitet. (Zeitverlust: etwa eine halbe Stunde)\\n   \n",
       "5651                                                              A43 Wuppertal Richtung Recklinghausen zwischen Witten-Herbede und Bochum-Querenburg Unfall 5 km Stau. Dort wird der Verkehr über die Parallelfahrbahn geleitet. (Zeitverlust: etwa eine halbe Stunde)\\n   \n",
       "6947                                                                                                                      A6 Nürnberg Richtung Heilbronn zwischen Herrieden und Kreuz Feuchtwangen / Crailsheim 18 km Stau. Zeitverlust von bis zu ein-einhalb Stunden.\\n   \n",
       "\n",
       "                                                                                                           between_tokens  \\\n",
       "5054                                                                                      [ist, im, Bereich, Falkensteig]   \n",
       "5081                            [wird, ab, #Düsseldorf, Hbf, (, 17:26, ), bis, #Mönchengladbach, (, 17:48, ), ohne, Halt]   \n",
       "5082                                                        [(, 17:26, ), bis, #Mönchengladbach, (, 17:48, ), ohne, Halt]   \n",
       "5084                                                                                            [(, 17:48, ), ohne, Halt]   \n",
       "5643  [5, km, Stau, ., Dort, wird, der, Verkehr, über, die, Parallelfahrbahn, geleitet, ., (, Zeitverlust, :, etwa, eine]   \n",
       "5651               [., Dort, wird, der, Verkehr, über, die, Parallelfahrbahn, geleitet, ., (, Zeitverlust, :, etwa, eine]   \n",
       "6947                                                                                          [Zeitverlust, von, bis, zu]   \n",
       "\n",
       "                                                                                  trigger_sm  \\\n",
       "5054  {'text': 'unterbrochen', 'entity_type': 'trigger', 'char_start': 166, 'char_end': 178}   \n",
       "5081  {'text': 'umgeleitet.Mit', 'entity_type': 'trigger', 'char_start': 76, 'char_end': 90}   \n",
       "5082  {'text': 'umgeleitet.Mit', 'entity_type': 'trigger', 'char_start': 76, 'char_end': 90}   \n",
       "5084  {'text': 'umgeleitet.Mit', 'entity_type': 'trigger', 'char_start': 76, 'char_end': 90}   \n",
       "5643          {'text': 'Unfall', 'entity_type': 'trigger', 'char_start': 84, 'char_end': 90}   \n",
       "5651           {'text': 'Stau', 'entity_type': 'trigger', 'char_start': 96, 'char_end': 100}   \n",
       "6947           {'text': 'Stau.', 'entity_type': 'trigger', 'char_start': 92, 'char_end': 97}   \n",
       "\n",
       "                                                                                                                                          argument_sm  \\\n",
       "5054  {'text': 'Zugverbindung Freiburg i.Br. - Titisee-Neustadt (Höllentalbahn)', 'entity_type': 'location_route', 'char_start': 75, 'char_end': 138}   \n",
       "5081                                                                {'text': '#RE4', 'entity_type': 'location_route', 'char_start': 0, 'char_end': 4}   \n",
       "5082                                                    {'text': '#Düsseldorf Hbf', 'entity_type': 'location_stop', 'char_start': 13, 'char_end': 28}   \n",
       "5084                                                   {'text': '#Mönchengladbach', 'entity_type': 'location_stop', 'char_start': 41, 'char_end': 57}   \n",
       "5643                                                          {'text': 'halbe Stunde', 'entity_type': 'duration', 'char_start': 184, 'char_end': 196}   \n",
       "5651                                                          {'text': 'halbe Stunde', 'entity_type': 'duration', 'char_start': 184, 'char_end': 196}   \n",
       "6947                                                  {'text': 'ein-einhalb Stunden.', 'entity_type': 'duration', 'char_start': 121, 'char_end': 141}   \n",
       "\n",
       "                                                                                                                                                                                                                                                                                                                                                                                                                                                                  somajo_sm  \\\n",
       "5054  [{'text': 'Kreis Breisgau-Hochschwarzwald Störungen im Schienenverkehr, Erdrutsch Die Zugverbindung Freiburg i.', 'char_start': 0, 'char_end': 100}, {'text': 'Br. - Titisee-Neustadt (Höllentalbahn) ist im Bereich Falkensteig unterbrochen.', 'char_start': 100, 'char_end': 179}, {'text': 'Ein Schienenersatzverkehr ist eingerichtet.', 'char_start': 180, 'char_end': 223}, {'text': 'Mit Behinderungen ist zu rechnen.', 'char_start': 224, 'char_end': 257}]   \n",
       "5081                                                                                                                                                                                                                           [{'text': '#RE4 wird ab #Düsseldorf Hbf (17:26) bis #Mönchengladbach (17:48) ohne Halt umgeleitet.', 'char_start': 0, 'char_end': 87}, {'text': 'Mit 20 Minuten Verspätung muss in MG gerechnet werden', 'char_start': 87, 'char_end': 140}]   \n",
       "5082                                                                                                                                                                                                                           [{'text': '#RE4 wird ab #Düsseldorf Hbf (17:26) bis #Mönchengladbach (17:48) ohne Halt umgeleitet.', 'char_start': 0, 'char_end': 87}, {'text': 'Mit 20 Minuten Verspätung muss in MG gerechnet werden', 'char_start': 87, 'char_end': 140}]   \n",
       "5084                                                                                                                                                                                                                           [{'text': '#RE4 wird ab #Düsseldorf Hbf (17:26) bis #Mönchengladbach (17:48) ohne Halt umgeleitet.', 'char_start': 0, 'char_end': 87}, {'text': 'Mit 20 Minuten Verspätung muss in MG gerechnet werden', 'char_start': 87, 'char_end': 140}]   \n",
       "5643                                                                                                                [{'text': 'A43 Wuppertal Richtung Recklinghausen zwischen Witten-Herbede und Bochum-Querenburg Unfall 5 km Stau.', 'char_start': 0, 'char_end': 101}, {'text': 'Dort wird der Verkehr über die Parallelfahrbahn geleitet.', 'char_start': 102, 'char_end': 159}, {'text': '(Zeitverlust: etwa eine halbe Stunde)', 'char_start': 160, 'char_end': 197}]   \n",
       "5651                                                                                                                [{'text': 'A43 Wuppertal Richtung Recklinghausen zwischen Witten-Herbede und Bochum-Querenburg Unfall 5 km Stau.', 'char_start': 0, 'char_end': 101}, {'text': 'Dort wird der Verkehr über die Parallelfahrbahn geleitet.', 'char_start': 102, 'char_end': 159}, {'text': '(Zeitverlust: etwa eine halbe Stunde)', 'char_start': 160, 'char_end': 197}]   \n",
       "6947                                                                                                                                                                                                                           [{'text': 'A6 Nürnberg Richtung Heilbronn zwischen Herrieden und Kreuz Feuchtwangen / Crailsheim 18 km Stau.', 'char_start': 0, 'char_end': 97}, {'text': 'Zeitverlust von bis zu ein-einhalb Stunden.', 'char_start': 98, 'char_end': 141}]   \n",
       "\n",
       "     event_role  \n",
       "5054   location  \n",
       "5081   location  \n",
       "5082  start_loc  \n",
       "5084    end_loc  \n",
       "5643      delay  \n",
       "5651      delay  \n",
       "6947      delay  "
      ]
     },
     "execution_count": 21,
     "metadata": {},
     "output_type": "execute_result"
    }
   ],
   "source": [
    "error_analysis.get_false_positives(labeled_df=labeled_sd4m_roles, lf_outputs=L_sd_train, lf_index=0, label_of_interest=10)[['text', 'between_tokens', 'trigger_sm', 'argument_sm', 'somajo_sm', 'event_role']]"
   ]
  },
  {
   "cell_type": "markdown",
   "metadata": {},
   "source": [
    "Out of the 7 instances SoMaJo only split one sentence incorrectly after an unknown abbreviation (Freiburg i.|Br.):\n",
    "- Kreis Breisgau-Hochschwarzwald Störungen im Schienenverkehr, Erdrutsch Die **Zugverbindung Freiburg i.Br. - Titisee-Neustadt (Höllentalbahn)** ist im Bereich Falkensteig **unterbrochen**. Ein Schienenersatzverkehr ist eingerichtet. Mit Behinderungen ist zu rechnen.\\n\n",
    "    - Kreis Breisgau-Hochschwarzwald Störungen im Schienenverkehr, Erdrutsch Die **Zugverbindung Freiburg i.**\n",
    "    - Br. - Titisee-Neustadt (Höllentalbahn)** ist im Bereich Falkensteig **unterbrochen**.\n",
    "    - Ein Schienenersatzverkehr ist eingerichtet. Mit Behinderungen ist zu rechnen.\\n\n",
    "\n",
    "3 instances were incorrectly labeled because of a tokenization error from the annotation. The text 'umgeleitet.Mit' was not correctly tokenized into \\['umgeleitet', '.', 'Mit'\\] in the original annotation and ended up being the trigger text. The character offsets of the trigger were consequently incorrect as well.\n",
    "SoMaJo correctly identified the sentence boundary within the trigger.\n",
    "- **#RE4** wird ab **#Düsseldorf Hbf** (17:26) bis **#Mönchengladbach** (17:48) ohne Halt **umgeleitet.Mit** 20 Minuten Verspätung muss in MG gerechnet werden\\n\n",
    "    - **#RE4** wird ab **#Düsseldorf Hbf** (17:26) bis **#Mönchengladbach** (17:48) ohne Halt **umgeleitet.**\n",
    "    - **Mit** 20 Minuten Verspätung muss in MG gerechnet werden\\n\n",
    "\n",
    "The remaining 3 instances are due to inconsistencies in the annotation: \n",
    "- A43 Wuppertal Richtung Recklinghausen zwischen Witten-Herbede und Bochum-Querenburg **Unfall** 5 km **Stau**. Dort wird der Verkehr über die Parallelfahrbahn geleitet. (Zeitverlust: etwa eine **halbe Stunde**)\\n\n",
    "    - A43 Wuppertal Richtung Recklinghausen zwischen Witten-Herbede und Bochum-Querenburg **Unfall** 5 km **Stau**. \n",
    "    - Dort wird der Verkehr über die Parallelfahrbahn geleitet.\n",
    "    - (Zeitverlust: etwa eine **halbe Stunde**)\\n\n",
    "- A6 Nürnberg Richtung Heilbronn zwischen Herrieden und Kreuz Feuchtwangen / Crailsheim 18 km **Stau**. Zeitverlust von bis zu **ein-einhalb Stunden**.\\n\n",
    "    - A6 Nürnberg Richtung Heilbronn zwischen Herrieden und Kreuz Feuchtwangen / Crailsheim 18 km **Stau**.\n",
    "    - Zeitverlust von bis zu **ein-einhalb Stunden**.\\n\n",
    "\n",
    "Trigger and argument are in separate sentences. According to the annotation guidelines these pairs should not have been annotated.\n",
    "> Annotate only explicit relation mentions that occur within a single sentence with all required arguments."
   ]
  },
  {
   "cell_type": "code",
   "execution_count": 22,
   "metadata": {},
   "outputs": [
    {
     "data": {
      "text/html": [
       "<div>\n",
       "<style scoped>\n",
       "    .dataframe tbody tr th:only-of-type {\n",
       "        vertical-align: middle;\n",
       "    }\n",
       "\n",
       "    .dataframe tbody tr th {\n",
       "        vertical-align: top;\n",
       "    }\n",
       "\n",
       "    .dataframe thead th {\n",
       "        text-align: right;\n",
       "    }\n",
       "</style>\n",
       "<table border=\"1\" class=\"dataframe\">\n",
       "  <thead>\n",
       "    <tr style=\"text-align: right;\">\n",
       "      <th></th>\n",
       "      <th>text</th>\n",
       "      <th>between_tokens</th>\n",
       "      <th>trigger_sm</th>\n",
       "      <th>argument_sm</th>\n",
       "      <th>stanford_sm</th>\n",
       "      <th>event_role</th>\n",
       "    </tr>\n",
       "  </thead>\n",
       "  <tbody>\n",
       "    <tr>\n",
       "      <th>888</th>\n",
       "      <td>folgende Meldung ergänzt\\nam Mittwoch, 6. und Donnerstag, 7. April, jeweils 20.45 – 24.00 Uhr\\nMeldung:\\nCNL 471 nach Zürich HB (planmäßig 21.33 Uhr ab Berlin Gesundbrunnen) fährt bis zu 46 Min. früher von Berlin-Gesundbrunnen bis Bitterfeld und hält nicht in Halle (Saale) Hbf.\\nGrund:\\nSoftwareanpassungen im Elektronischen Stellwerk Halle (Saale)\\nLink zur detaillierten Meldung: \\nLink zum kompletten PDF-Dokument: \\n(142 kB)\\n------------------\\n</td>\n",
       "      <td>[nach, Zürich, HB, (, planmäßig, 21.33, Uhr, ab, Berlin, Gesundbrunnen, ), fährt, bis, zu, 46, Min, ., früher, von, Berlin, -, Gesundbrunnen, bis, Bitterfeld, und]</td>\n",
       "      <td>{'text': 'hält nicht', 'entity_type': 'trigger', 'char_start': 243, 'char_end': 253}</td>\n",
       "      <td>{'text': 'CNL 471', 'entity_type': 'location_route', 'char_start': 102, 'char_end': 109}</td>\n",
       "      <td>[{'text': 'folgende Meldung ergänzt\n",
       "am Mittwoch, 6.', 'char_start': 0, 'char_end': 40}, {'text': 'und Donnerstag, 7.', 'char_start': 41, 'char_end': 59}, {'text': 'April, jeweils 20.45 – 24.00 Uhr\n",
       "Meldung:\n",
       "CNL 471 nach Zürich HB (planmäßig 21.33 Uhr ab Berlin Gesundbrunnen) fährt bis zu 46 Min.', 'char_start': 60, 'char_end': 191}, {'text': 'früher von Berlin-Gesundbrunnen bis Bitterfeld und hält nicht in Halle (Saale) Hbf.', 'char_start': 192, 'char_end': 275}, {'text': 'Grund:\n",
       "Softwareanpassungen im Elektronischen Stellwerk Halle (Saale)\n",
       "Link zur detaillierten Meldung: \n",
       "Link zum kompletten PDF-Dokument: \n",
       "(142 kB)\n",
       "------------------', 'char_start': 276, 'char_end': 440}]</td>\n",
       "      <td>route</td>\n",
       "    </tr>\n",
       "    <tr>\n",
       "      <th>889</th>\n",
       "      <td>folgende Meldung ergänzt\\nam Mittwoch, 6. und Donnerstag, 7. April, jeweils 20.45 – 24.00 Uhr\\nMeldung:\\nCNL 471 nach Zürich HB (planmäßig 21.33 Uhr ab Berlin Gesundbrunnen) fährt bis zu 46 Min. früher von Berlin-Gesundbrunnen bis Bitterfeld und hält nicht in Halle (Saale) Hbf.\\nGrund:\\nSoftwareanpassungen im Elektronischen Stellwerk Halle (Saale)\\nLink zur detaillierten Meldung: \\nLink zum kompletten PDF-Dokument: \\n(142 kB)\\n------------------\\n</td>\n",
       "      <td>[(, planmäßig, 21.33, Uhr, ab, Berlin, Gesundbrunnen, ), fährt, bis, zu, 46, Min, ., früher, von, Berlin, -, Gesundbrunnen, bis, Bitterfeld, und]</td>\n",
       "      <td>{'text': 'hält nicht', 'entity_type': 'trigger', 'char_start': 243, 'char_end': 253}</td>\n",
       "      <td>{'text': 'Zürich HB', 'entity_type': 'location_stop', 'char_start': 115, 'char_end': 124}</td>\n",
       "      <td>[{'text': 'folgende Meldung ergänzt\n",
       "am Mittwoch, 6.', 'char_start': 0, 'char_end': 40}, {'text': 'und Donnerstag, 7.', 'char_start': 41, 'char_end': 59}, {'text': 'April, jeweils 20.45 – 24.00 Uhr\n",
       "Meldung:\n",
       "CNL 471 nach Zürich HB (planmäßig 21.33 Uhr ab Berlin Gesundbrunnen) fährt bis zu 46 Min.', 'char_start': 60, 'char_end': 191}, {'text': 'früher von Berlin-Gesundbrunnen bis Bitterfeld und hält nicht in Halle (Saale) Hbf.', 'char_start': 192, 'char_end': 275}, {'text': 'Grund:\n",
       "Softwareanpassungen im Elektronischen Stellwerk Halle (Saale)\n",
       "Link zur detaillierten Meldung: \n",
       "Link zum kompletten PDF-Dokument: \n",
       "(142 kB)\n",
       "------------------', 'char_start': 276, 'char_end': 440}]</td>\n",
       "      <td>direction</td>\n",
       "    </tr>\n",
       "  </tbody>\n",
       "</table>\n",
       "</div>"
      ],
      "text/plain": [
       "                                                                                                                                                                                                                                                                                                                                                                                                                                                                    text  \\\n",
       "888  folgende Meldung ergänzt\\nam Mittwoch, 6. und Donnerstag, 7. April, jeweils 20.45 – 24.00 Uhr\\nMeldung:\\nCNL 471 nach Zürich HB (planmäßig 21.33 Uhr ab Berlin Gesundbrunnen) fährt bis zu 46 Min. früher von Berlin-Gesundbrunnen bis Bitterfeld und hält nicht in Halle (Saale) Hbf.\\nGrund:\\nSoftwareanpassungen im Elektronischen Stellwerk Halle (Saale)\\nLink zur detaillierten Meldung: \\nLink zum kompletten PDF-Dokument: \\n(142 kB)\\n------------------\\n   \n",
       "889  folgende Meldung ergänzt\\nam Mittwoch, 6. und Donnerstag, 7. April, jeweils 20.45 – 24.00 Uhr\\nMeldung:\\nCNL 471 nach Zürich HB (planmäßig 21.33 Uhr ab Berlin Gesundbrunnen) fährt bis zu 46 Min. früher von Berlin-Gesundbrunnen bis Bitterfeld und hält nicht in Halle (Saale) Hbf.\\nGrund:\\nSoftwareanpassungen im Elektronischen Stellwerk Halle (Saale)\\nLink zur detaillierten Meldung: \\nLink zum kompletten PDF-Dokument: \\n(142 kB)\\n------------------\\n   \n",
       "\n",
       "                                                                                                                                                          between_tokens  \\\n",
       "888  [nach, Zürich, HB, (, planmäßig, 21.33, Uhr, ab, Berlin, Gesundbrunnen, ), fährt, bis, zu, 46, Min, ., früher, von, Berlin, -, Gesundbrunnen, bis, Bitterfeld, und]   \n",
       "889                    [(, planmäßig, 21.33, Uhr, ab, Berlin, Gesundbrunnen, ), fährt, bis, zu, 46, Min, ., früher, von, Berlin, -, Gesundbrunnen, bis, Bitterfeld, und]   \n",
       "\n",
       "                                                                               trigger_sm  \\\n",
       "888  {'text': 'hält nicht', 'entity_type': 'trigger', 'char_start': 243, 'char_end': 253}   \n",
       "889  {'text': 'hält nicht', 'entity_type': 'trigger', 'char_start': 243, 'char_end': 253}   \n",
       "\n",
       "                                                                                   argument_sm  \\\n",
       "888   {'text': 'CNL 471', 'entity_type': 'location_route', 'char_start': 102, 'char_end': 109}   \n",
       "889  {'text': 'Zürich HB', 'entity_type': 'location_stop', 'char_start': 115, 'char_end': 124}   \n",
       "\n",
       "                                                                                                                                                                                                                                                                                                                                                                                                                                                                                                                                                                                                                                                                                                  stanford_sm  \\\n",
       "888  [{'text': 'folgende Meldung ergänzt\n",
       "am Mittwoch, 6.', 'char_start': 0, 'char_end': 40}, {'text': 'und Donnerstag, 7.', 'char_start': 41, 'char_end': 59}, {'text': 'April, jeweils 20.45 – 24.00 Uhr\n",
       "Meldung:\n",
       "CNL 471 nach Zürich HB (planmäßig 21.33 Uhr ab Berlin Gesundbrunnen) fährt bis zu 46 Min.', 'char_start': 60, 'char_end': 191}, {'text': 'früher von Berlin-Gesundbrunnen bis Bitterfeld und hält nicht in Halle (Saale) Hbf.', 'char_start': 192, 'char_end': 275}, {'text': 'Grund:\n",
       "Softwareanpassungen im Elektronischen Stellwerk Halle (Saale)\n",
       "Link zur detaillierten Meldung: \n",
       "Link zum kompletten PDF-Dokument: \n",
       "(142 kB)\n",
       "------------------', 'char_start': 276, 'char_end': 440}]   \n",
       "889  [{'text': 'folgende Meldung ergänzt\n",
       "am Mittwoch, 6.', 'char_start': 0, 'char_end': 40}, {'text': 'und Donnerstag, 7.', 'char_start': 41, 'char_end': 59}, {'text': 'April, jeweils 20.45 – 24.00 Uhr\n",
       "Meldung:\n",
       "CNL 471 nach Zürich HB (planmäßig 21.33 Uhr ab Berlin Gesundbrunnen) fährt bis zu 46 Min.', 'char_start': 60, 'char_end': 191}, {'text': 'früher von Berlin-Gesundbrunnen bis Bitterfeld und hält nicht in Halle (Saale) Hbf.', 'char_start': 192, 'char_end': 275}, {'text': 'Grund:\n",
       "Softwareanpassungen im Elektronischen Stellwerk Halle (Saale)\n",
       "Link zur detaillierten Meldung: \n",
       "Link zum kompletten PDF-Dokument: \n",
       "(142 kB)\n",
       "------------------', 'char_start': 276, 'char_end': 440}]   \n",
       "\n",
       "    event_role  \n",
       "888      route  \n",
       "889  direction  "
      ]
     },
     "execution_count": 22,
     "metadata": {},
     "output_type": "execute_result"
    }
   ],
   "source": [
    "error_analysis.get_false_positives(labeled_df=labeled_sd4m_roles, lf_outputs=L_sd_train, lf_index=1, label_of_interest=10).iloc[0:2][['text', 'between_tokens', 'trigger_sm', 'argument_sm', 'stanford_sm', 'event_role']]"
   ]
  },
  {
   "cell_type": "markdown",
   "metadata": {},
   "source": [
    "As before mentioned stanfordnlp seems to struggle with abbreviations and dates.\n",
    "Manually examining all the examples, where the `lf_stanford_separate_sentence` falsely labeled positive event roles as `no_arg`, we found that in 2 cases the ssplitter worked correctly, but the error was due to annotation inconsistency (Zeitverlust same as SoMaJo).\n",
    "The remaining 92 of 94 examples were labeled incorrectly because of ssplitting errors. 4 of those 92 (from one document) were due to the use of an exclamation mark within a sentence, which was full of hashtags and without a classical sentence structure. In one instance there was wrong use of a punctuation mark.\n",
    "The 94 stemmed from 38 unique documents. We found 84 ssplitting erros. In 31 cases the ssplitter did not recognize the punctuation mark as part of an abbreviation and instead treated it as a sentence boundary marker. In 51 cases the ssplitter split the sentence in the middle of a date.\n",
    "\n",
    "- 2 Cases of correct split, but error due to annotation inconsistency\n",
    "    - Same Zeitverlust examples (2)\n",
    "- 92 Errors due to wrong split: 2, 5, 4, 2, 4, 4, 1, 2, 1, 1, 1, 2, 7, (4), 2, 3, 1, 2, 5, 1, 2, 2, 2, 2, 2, 1, 5, 1, 0, 3, 3, 2, 2, 2, (1), 1, 1, 4, 0, 2\n",
    "    - (4): due to unconventional use of exclamation mark, very loose sentence structure\n",
    "    - (1): wrong use of punctuation mark\n",
    "\n",
    "- Sentence splitting errors in 94 examples (38 unique documents with 84 ssplit errors + 2 where ssplitter cannot do much):\n",
    "    - Abbreviations (31): 1, 2, 1, 1, 1, 1, 1, 1, 0, 1, 0, 0, 0, 0, 1, 1, 2, 3, 2, 0, 0, 0, 0, 2, 1, 0, 0, 0, 1, 2, 0, 1, 0, 0, 2, 1, 0, 2  \n",
    "    - Dates (51): 2, 4, 0, 0, 0, 1, 1, 2, 1, 1, 1, 6, 0, 2, 6, 0, 2, 1, 1, 1, 2, 2, 1, 1, 0, 1, 1, 0, 1, 0, 5, 0, 3, 0, 1, 0, 0, 1\n",
    "    - Unconventional use of punctuation marks: 1 (bunch of hashtags, one followed by exclamation mark)\n",
    "    - Wrong use of punctuation mark in text data: 1\n",
    "    \n"
   ]
  },
  {
   "cell_type": "code",
   "execution_count": null,
   "metadata": {},
   "outputs": [],
   "source": []
  }
 ],
 "metadata": {
  "kernelspec": {
   "display_name": "Python 3.6 (master)",
   "language": "python",
   "name": "master"
  },
  "language_info": {
   "codemirror_mode": {
    "name": "ipython",
    "version": 3
   },
   "file_extension": ".py",
   "mimetype": "text/x-python",
   "name": "python",
   "nbconvert_exporter": "python",
   "pygments_lexer": "ipython3",
   "version": "3.6.10"
  }
 },
 "nbformat": 4,
 "nbformat_minor": 4
}
