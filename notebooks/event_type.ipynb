{
 "cells": [
  {
   "cell_type": "markdown",
   "metadata": {},
   "source": [
    "# Transform the data to work with Snorkel: Part 1 - Event Type\n",
    "\n",
    "Essentially we will have to create two labeling models.\n",
    "One assigns labels to event types and the other assigns labels to argument roles in event mentions.\n",
    "\n",
    "In any case we need to create a row for each event (trigger) to do event type labeling.\n",
    "\n",
    "For this we need 1 additional column:\n",
    "- trigger_id\n",
    "\n",
    "One numpy array containing the:\n",
    "- event_type\n",
    "\n",
    "We will probably focus on keyword lists and some heuristics to create our labeling functions."
   ]
  },
  {
   "cell_type": "code",
   "execution_count": 1,
   "metadata": {},
   "outputs": [],
   "source": [
    "import sys\n",
    "sys.path.append(\"../\")\n",
    "import warnings\n",
    "import pandas as pd\n",
    "import numpy as np\n",
    "from wsee.utils import utils\n",
    "from wsee.data import pipeline"
   ]
  },
  {
   "cell_type": "code",
   "execution_count": 2,
   "metadata": {},
   "outputs": [],
   "source": [
    "warnings.filterwarnings(action='once')\n",
    "pd.set_option('display.max_colwidth', None)\n",
    "DATA_DIR = '../data/daystream_corpus'  # replace path to corpus"
   ]
  },
  {
   "cell_type": "markdown",
   "metadata": {},
   "source": [
    "### SD4M Event Types\n",
    "\n",
    "| Number | Code                   | Description                                                                             |\n",
    "|--------|------------------------|-----------------------------------------------------------------------------------------|\n",
    "| -1     | ABSTAIN                | No vote, for Labeling Functions                                                         |\n",
    "| 0      | Accident               | Collision of a vehicle with another vehicle, person, or obstruction                     |\n",
    "| 1      | CanceledRoute          | Cancellation of public transport routes                                                 |\n",
    "| 2      | CanceledStop           | Cancellation of public transport stops                                                  |\n",
    "| 3      | Delay                  | Delay resulting from remaining traffic disturbances                                     |\n",
    "| 4      | Obstruction            | Temporary installation to control traffic                                               |\n",
    "| 5      | RailReplacementService | Replacement of a passenger train by buses or other substitute public transport services |\n",
    "| 6      | TrafficJam             | Line of stationary or very slow-moving traffic                                          |\n",
    "| 7      | O                      | No SD4M event.                                                                          |"
   ]
  },
  {
   "cell_type": "code",
   "execution_count": 3,
   "metadata": {},
   "outputs": [
    {
     "name": "stderr",
     "output_type": "stream",
     "text": [
      "INFO:wsee:Reading train data from: ../data/daystream_corpus/train/train_with_events_and_defaults.jsonl\n",
      "INFO:wsee:Reading dev data from: ../data/daystream_corpus/dev/dev_with_events_and_defaults.jsonl\n",
      "INFO:wsee:Reading test data from: ../data/daystream_corpus/test/test_with_events_and_defaults.jsonl\n",
      "INFO:wsee:Reading daystream data from: ../data/daystream_corpus/daystream.jsonl\n"
     ]
    }
   ],
   "source": [
    "loaded_data = pipeline.load_data(DATA_DIR)\n",
    "sd_train = loaded_data['train']\n",
    "sd_dev = loaded_data['dev']\n",
    "sd_test = loaded_data['test']\n",
    "\n",
    "daystream = loaded_data['daystream']"
   ]
  },
  {
   "cell_type": "markdown",
   "metadata": {},
   "source": [
    "## Step 1: Create one row for every event trigger\n",
    "\n",
    "We will use the (labeled) SD4M training set as our development data to create our labeling functions.\n",
    "In this notebook we will run our labeling functions and our LabelModel on that data.\n",
    "In the real pipeline we will instead label the Daystream data that does not have event type and event argument role labels."
   ]
  },
  {
   "cell_type": "code",
   "execution_count": 4,
   "metadata": {},
   "outputs": [
    {
     "name": "stderr",
     "output_type": "stream",
     "text": [
      "INFO:wsee:Building event trigger examples\n",
      "INFO:wsee:DataFrame has 1273 rows\n",
      "1273it [00:00, 1402.61it/s]\n",
      "INFO:wsee:Number of events: 488\n",
      "INFO:wsee:Number of event trigger examples: 777\n"
     ]
    }
   ],
   "source": [
    "df_sd_train, Y_sd_train = pipeline.build_event_trigger_examples(sd_train)"
   ]
  },
  {
   "cell_type": "markdown",
   "metadata": {},
   "source": [
    "We use the (labeled) SD4m development set as our \"test set\" to measure the performance of our LabelModel."
   ]
  },
  {
   "cell_type": "code",
   "execution_count": 5,
   "metadata": {},
   "outputs": [
    {
     "name": "stderr",
     "output_type": "stream",
     "text": [
      "INFO:wsee:Building event trigger examples\n",
      "INFO:wsee:DataFrame has 147 rows\n",
      "147it [00:00, 1639.88it/s]\n",
      "INFO:wsee:Number of events: 46\n",
      "INFO:wsee:Number of event trigger examples: 71\n"
     ]
    }
   ],
   "source": [
    "df_sd_dev, Y_sd_dev = pipeline.build_event_trigger_examples(sd_dev)"
   ]
  },
  {
   "cell_type": "code",
   "execution_count": 6,
   "metadata": {},
   "outputs": [
    {
     "name": "stdout",
     "output_type": "stream",
     "text": [
      "['Accident', 'CanceledRoute', 'CanceledStop', 'Delay', 'Obstruction', 'RailReplacementService', 'TrafficJam', 'O']\n"
     ]
    }
   ],
   "source": [
    "from wsee import SD4M_RELATION_TYPES\n",
    "print(SD4M_RELATION_TYPES)"
   ]
  },
  {
   "cell_type": "markdown",
   "metadata": {},
   "source": [
    "## Step 2: Explore the data"
   ]
  },
  {
   "cell_type": "code",
   "execution_count": 7,
   "metadata": {},
   "outputs": [],
   "source": [
    "from wsee.preprocessors.preprocessors import *\n",
    "from wsee.data import explore, pipeline"
   ]
  },
  {
   "cell_type": "markdown",
   "metadata": {},
   "source": [
    "We can apply all our preprocessors on our data and see if we can find something interesting for our labeling functions.\n",
    "Let's first sample the SD4M training data, which is labeled."
   ]
  },
  {
   "cell_type": "code",
   "execution_count": 8,
   "metadata": {},
   "outputs": [
    {
     "name": "stderr",
     "output_type": "stream",
     "text": [
      "100%|██████████| 3/3 [00:05<00:00,  1.95s/it]\n"
     ]
    }
   ],
   "source": [
    "labeled_sd4m_triggers = explore.add_labels(df_sd_train, Y_sd_train)\n",
    "labeled_sd4m_triggers = explore.apply_preprocessors(labeled_sd4m_triggers, [pre_trigger_left_tokens, pre_mixed_ner, pre_trigger_right_tokens])\n",
    "labeled_sd4m_triggers = explore.add_event_types(labeled_sd4m_triggers)"
   ]
  },
  {
   "cell_type": "code",
   "execution_count": 9,
   "metadata": {},
   "outputs": [
    {
     "name": "stdout",
     "output_type": "stream",
     "text": [
      "Number of events: 777\n",
      "\n",
      "Accident: 59 instances\n",
      "CanceledRoute: 61 instances\n",
      "CanceledStop: 25 instances\n",
      "Delay: 65 instances\n",
      "Obstruction: 101 instances\n",
      "RailReplacementService: 22 instances\n",
      "TrafficJam: 155 instances\n",
      "O: 289 instances\n"
     ]
    }
   ],
   "source": [
    "filtered_sd4m_triggers = labeled_sd4m_triggers[labeled_sd4m_triggers['label'] != 7]\n",
    "print(f\"Number of events: {len(labeled_sd4m_triggers)}\\n\")\n",
    "for idx, class_name in enumerate(SD4M_RELATION_TYPES):\n",
    "    class_sd4m_triggers = labeled_sd4m_triggers[labeled_sd4m_triggers['label'] == idx]\n",
    "    print(f\"{class_name}: {len(class_sd4m_triggers)} instances\")"
   ]
  },
  {
   "cell_type": "markdown",
   "metadata": {},
   "source": [
    "## Step 3: Evaluate the labeling functions on the SD4M training data"
   ]
  },
  {
   "cell_type": "code",
   "execution_count": 10,
   "metadata": {},
   "outputs": [],
   "source": [
    "from wsee.labeling import event_trigger_lfs as trigger_lfs"
   ]
  },
  {
   "cell_type": "code",
   "execution_count": 11,
   "metadata": {},
   "outputs": [],
   "source": [
    "from snorkel.labeling import PandasLFApplier\n",
    "from wsee.data.pipeline import get_trigger_list_lfs\n",
    "\n",
    "lfs = get_trigger_list_lfs()\n",
    "\n",
    "applier = PandasLFApplier(lfs)"
   ]
  },
  {
   "cell_type": "code",
   "execution_count": 12,
   "metadata": {},
   "outputs": [
    {
     "name": "stderr",
     "output_type": "stream",
     "text": [
      "100%|██████████| 777/777 [00:30<00:00, 25.65it/s]\n"
     ]
    }
   ],
   "source": [
    "L_sd_train = applier.apply(df_sd_train)"
   ]
  },
  {
   "cell_type": "code",
   "execution_count": 13,
   "metadata": {},
   "outputs": [
    {
     "data": {
      "text/html": [
       "<div>\n",
       "<style scoped>\n",
       "    .dataframe tbody tr th:only-of-type {\n",
       "        vertical-align: middle;\n",
       "    }\n",
       "\n",
       "    .dataframe tbody tr th {\n",
       "        vertical-align: top;\n",
       "    }\n",
       "\n",
       "    .dataframe thead th {\n",
       "        text-align: right;\n",
       "    }\n",
       "</style>\n",
       "<table border=\"1\" class=\"dataframe\">\n",
       "  <thead>\n",
       "    <tr style=\"text-align: right;\">\n",
       "      <th></th>\n",
       "      <th>j</th>\n",
       "      <th>Polarity</th>\n",
       "      <th>Coverage</th>\n",
       "      <th>Overlaps</th>\n",
       "      <th>Conflicts</th>\n",
       "      <th>Correct</th>\n",
       "      <th>Incorrect</th>\n",
       "      <th>Emp. Acc.</th>\n",
       "    </tr>\n",
       "  </thead>\n",
       "  <tbody>\n",
       "    <tr>\n",
       "      <th>lf_accident</th>\n",
       "      <td>0</td>\n",
       "      <td>[0]</td>\n",
       "      <td>0.084942</td>\n",
       "      <td>0.084942</td>\n",
       "      <td>0.000000</td>\n",
       "      <td>57</td>\n",
       "      <td>9</td>\n",
       "      <td>0.863636</td>\n",
       "    </tr>\n",
       "    <tr>\n",
       "      <th>lf_accident_street</th>\n",
       "      <td>1</td>\n",
       "      <td>[0]</td>\n",
       "      <td>0.054054</td>\n",
       "      <td>0.054054</td>\n",
       "      <td>0.000000</td>\n",
       "      <td>39</td>\n",
       "      <td>3</td>\n",
       "      <td>0.928571</td>\n",
       "    </tr>\n",
       "    <tr>\n",
       "      <th>lf_accident_no_cause_check</th>\n",
       "      <td>2</td>\n",
       "      <td>[0]</td>\n",
       "      <td>0.105534</td>\n",
       "      <td>0.105534</td>\n",
       "      <td>0.020592</td>\n",
       "      <td>59</td>\n",
       "      <td>23</td>\n",
       "      <td>0.719512</td>\n",
       "    </tr>\n",
       "    <tr>\n",
       "      <th>lf_canceledroute_cat</th>\n",
       "      <td>3</td>\n",
       "      <td>[1]</td>\n",
       "      <td>0.088803</td>\n",
       "      <td>0.088803</td>\n",
       "      <td>0.018018</td>\n",
       "      <td>60</td>\n",
       "      <td>9</td>\n",
       "      <td>0.869565</td>\n",
       "    </tr>\n",
       "    <tr>\n",
       "      <th>lf_canceledroute_replicated</th>\n",
       "      <td>4</td>\n",
       "      <td>[1]</td>\n",
       "      <td>0.088803</td>\n",
       "      <td>0.088803</td>\n",
       "      <td>0.018018</td>\n",
       "      <td>60</td>\n",
       "      <td>9</td>\n",
       "      <td>0.869565</td>\n",
       "    </tr>\n",
       "    <tr>\n",
       "      <th>lf_canceledstop_cat</th>\n",
       "      <td>5</td>\n",
       "      <td>[2]</td>\n",
       "      <td>0.033462</td>\n",
       "      <td>0.033462</td>\n",
       "      <td>0.001287</td>\n",
       "      <td>25</td>\n",
       "      <td>1</td>\n",
       "      <td>0.961538</td>\n",
       "    </tr>\n",
       "    <tr>\n",
       "      <th>lf_canceledstop_replicated</th>\n",
       "      <td>6</td>\n",
       "      <td>[2]</td>\n",
       "      <td>0.033462</td>\n",
       "      <td>0.033462</td>\n",
       "      <td>0.001287</td>\n",
       "      <td>25</td>\n",
       "      <td>1</td>\n",
       "      <td>0.961538</td>\n",
       "    </tr>\n",
       "    <tr>\n",
       "      <th>lf_delay_cat</th>\n",
       "      <td>7</td>\n",
       "      <td>[3]</td>\n",
       "      <td>0.083655</td>\n",
       "      <td>0.083655</td>\n",
       "      <td>0.000000</td>\n",
       "      <td>65</td>\n",
       "      <td>0</td>\n",
       "      <td>1.000000</td>\n",
       "    </tr>\n",
       "    <tr>\n",
       "      <th>lf_delay_duration_positional_check</th>\n",
       "      <td>8</td>\n",
       "      <td>[3]</td>\n",
       "      <td>0.028314</td>\n",
       "      <td>0.028314</td>\n",
       "      <td>0.002574</td>\n",
       "      <td>20</td>\n",
       "      <td>2</td>\n",
       "      <td>0.909091</td>\n",
       "    </tr>\n",
       "    <tr>\n",
       "      <th>lf_delay_priorities</th>\n",
       "      <td>9</td>\n",
       "      <td>[3]</td>\n",
       "      <td>0.087516</td>\n",
       "      <td>0.087516</td>\n",
       "      <td>0.003861</td>\n",
       "      <td>65</td>\n",
       "      <td>3</td>\n",
       "      <td>0.955882</td>\n",
       "    </tr>\n",
       "    <tr>\n",
       "      <th>lf_delay_duration</th>\n",
       "      <td>10</td>\n",
       "      <td>[3]</td>\n",
       "      <td>0.072072</td>\n",
       "      <td>0.072072</td>\n",
       "      <td>0.000000</td>\n",
       "      <td>56</td>\n",
       "      <td>0</td>\n",
       "      <td>1.000000</td>\n",
       "    </tr>\n",
       "    <tr>\n",
       "      <th>lf_obstruction_cat</th>\n",
       "      <td>11</td>\n",
       "      <td>[4]</td>\n",
       "      <td>0.120978</td>\n",
       "      <td>0.120978</td>\n",
       "      <td>0.020592</td>\n",
       "      <td>85</td>\n",
       "      <td>9</td>\n",
       "      <td>0.904255</td>\n",
       "    </tr>\n",
       "    <tr>\n",
       "      <th>lf_obstruction_street</th>\n",
       "      <td>12</td>\n",
       "      <td>[4]</td>\n",
       "      <td>0.102960</td>\n",
       "      <td>0.099099</td>\n",
       "      <td>0.001287</td>\n",
       "      <td>76</td>\n",
       "      <td>4</td>\n",
       "      <td>0.950000</td>\n",
       "    </tr>\n",
       "    <tr>\n",
       "      <th>lf_obstruction_priorities</th>\n",
       "      <td>13</td>\n",
       "      <td>[4]</td>\n",
       "      <td>0.141570</td>\n",
       "      <td>0.137709</td>\n",
       "      <td>0.025740</td>\n",
       "      <td>97</td>\n",
       "      <td>13</td>\n",
       "      <td>0.881818</td>\n",
       "    </tr>\n",
       "    <tr>\n",
       "      <th>lf_railreplacementservice_cat</th>\n",
       "      <td>14</td>\n",
       "      <td>[5]</td>\n",
       "      <td>0.032175</td>\n",
       "      <td>0.032175</td>\n",
       "      <td>0.000000</td>\n",
       "      <td>22</td>\n",
       "      <td>3</td>\n",
       "      <td>0.880000</td>\n",
       "    </tr>\n",
       "    <tr>\n",
       "      <th>lf_railreplacementservice_replicated</th>\n",
       "      <td>15</td>\n",
       "      <td>[5]</td>\n",
       "      <td>0.032175</td>\n",
       "      <td>0.032175</td>\n",
       "      <td>0.000000</td>\n",
       "      <td>22</td>\n",
       "      <td>3</td>\n",
       "      <td>0.880000</td>\n",
       "    </tr>\n",
       "    <tr>\n",
       "      <th>lf_trafficjam_cat</th>\n",
       "      <td>16</td>\n",
       "      <td>[6]</td>\n",
       "      <td>0.203346</td>\n",
       "      <td>0.203346</td>\n",
       "      <td>0.000000</td>\n",
       "      <td>155</td>\n",
       "      <td>3</td>\n",
       "      <td>0.981013</td>\n",
       "    </tr>\n",
       "    <tr>\n",
       "      <th>lf_trafficjam_distance_positional_check</th>\n",
       "      <td>17</td>\n",
       "      <td>[6]</td>\n",
       "      <td>0.172458</td>\n",
       "      <td>0.172458</td>\n",
       "      <td>0.000000</td>\n",
       "      <td>133</td>\n",
       "      <td>1</td>\n",
       "      <td>0.992537</td>\n",
       "    </tr>\n",
       "    <tr>\n",
       "      <th>lf_trafficjam_street</th>\n",
       "      <td>18</td>\n",
       "      <td>[6]</td>\n",
       "      <td>0.199485</td>\n",
       "      <td>0.199485</td>\n",
       "      <td>0.000000</td>\n",
       "      <td>153</td>\n",
       "      <td>2</td>\n",
       "      <td>0.987097</td>\n",
       "    </tr>\n",
       "    <tr>\n",
       "      <th>lf_trafficjam_order</th>\n",
       "      <td>19</td>\n",
       "      <td>[6]</td>\n",
       "      <td>0.196911</td>\n",
       "      <td>0.196911</td>\n",
       "      <td>0.000000</td>\n",
       "      <td>152</td>\n",
       "      <td>1</td>\n",
       "      <td>0.993464</td>\n",
       "    </tr>\n",
       "    <tr>\n",
       "      <th>lf_negative</th>\n",
       "      <td>20</td>\n",
       "      <td>[7]</td>\n",
       "      <td>0.326898</td>\n",
       "      <td>0.079794</td>\n",
       "      <td>0.000000</td>\n",
       "      <td>250</td>\n",
       "      <td>4</td>\n",
       "      <td>0.984252</td>\n",
       "    </tr>\n",
       "    <tr>\n",
       "      <th>lf_cause_negative</th>\n",
       "      <td>21</td>\n",
       "      <td>[7]</td>\n",
       "      <td>0.100386</td>\n",
       "      <td>0.100386</td>\n",
       "      <td>0.020592</td>\n",
       "      <td>73</td>\n",
       "      <td>5</td>\n",
       "      <td>0.935897</td>\n",
       "    </tr>\n",
       "    <tr>\n",
       "      <th>lf_obstruction_negative</th>\n",
       "      <td>22</td>\n",
       "      <td>[]</td>\n",
       "      <td>0.000000</td>\n",
       "      <td>0.000000</td>\n",
       "      <td>0.000000</td>\n",
       "      <td>0</td>\n",
       "      <td>0</td>\n",
       "      <td>0.000000</td>\n",
       "    </tr>\n",
       "  </tbody>\n",
       "</table>\n",
       "</div>"
      ],
      "text/plain": [
       "                                          j Polarity  Coverage  Overlaps  \\\n",
       "lf_accident                               0      [0]  0.084942  0.084942   \n",
       "lf_accident_street                        1      [0]  0.054054  0.054054   \n",
       "lf_accident_no_cause_check                2      [0]  0.105534  0.105534   \n",
       "lf_canceledroute_cat                      3      [1]  0.088803  0.088803   \n",
       "lf_canceledroute_replicated               4      [1]  0.088803  0.088803   \n",
       "lf_canceledstop_cat                       5      [2]  0.033462  0.033462   \n",
       "lf_canceledstop_replicated                6      [2]  0.033462  0.033462   \n",
       "lf_delay_cat                              7      [3]  0.083655  0.083655   \n",
       "lf_delay_duration_positional_check        8      [3]  0.028314  0.028314   \n",
       "lf_delay_priorities                       9      [3]  0.087516  0.087516   \n",
       "lf_delay_duration                        10      [3]  0.072072  0.072072   \n",
       "lf_obstruction_cat                       11      [4]  0.120978  0.120978   \n",
       "lf_obstruction_street                    12      [4]  0.102960  0.099099   \n",
       "lf_obstruction_priorities                13      [4]  0.141570  0.137709   \n",
       "lf_railreplacementservice_cat            14      [5]  0.032175  0.032175   \n",
       "lf_railreplacementservice_replicated     15      [5]  0.032175  0.032175   \n",
       "lf_trafficjam_cat                        16      [6]  0.203346  0.203346   \n",
       "lf_trafficjam_distance_positional_check  17      [6]  0.172458  0.172458   \n",
       "lf_trafficjam_street                     18      [6]  0.199485  0.199485   \n",
       "lf_trafficjam_order                      19      [6]  0.196911  0.196911   \n",
       "lf_negative                              20      [7]  0.326898  0.079794   \n",
       "lf_cause_negative                        21      [7]  0.100386  0.100386   \n",
       "lf_obstruction_negative                  22       []  0.000000  0.000000   \n",
       "\n",
       "                                         Conflicts  Correct  Incorrect  \\\n",
       "lf_accident                               0.000000       57          9   \n",
       "lf_accident_street                        0.000000       39          3   \n",
       "lf_accident_no_cause_check                0.020592       59         23   \n",
       "lf_canceledroute_cat                      0.018018       60          9   \n",
       "lf_canceledroute_replicated               0.018018       60          9   \n",
       "lf_canceledstop_cat                       0.001287       25          1   \n",
       "lf_canceledstop_replicated                0.001287       25          1   \n",
       "lf_delay_cat                              0.000000       65          0   \n",
       "lf_delay_duration_positional_check        0.002574       20          2   \n",
       "lf_delay_priorities                       0.003861       65          3   \n",
       "lf_delay_duration                         0.000000       56          0   \n",
       "lf_obstruction_cat                        0.020592       85          9   \n",
       "lf_obstruction_street                     0.001287       76          4   \n",
       "lf_obstruction_priorities                 0.025740       97         13   \n",
       "lf_railreplacementservice_cat             0.000000       22          3   \n",
       "lf_railreplacementservice_replicated      0.000000       22          3   \n",
       "lf_trafficjam_cat                         0.000000      155          3   \n",
       "lf_trafficjam_distance_positional_check   0.000000      133          1   \n",
       "lf_trafficjam_street                      0.000000      153          2   \n",
       "lf_trafficjam_order                       0.000000      152          1   \n",
       "lf_negative                               0.000000      250          4   \n",
       "lf_cause_negative                         0.020592       73          5   \n",
       "lf_obstruction_negative                   0.000000        0          0   \n",
       "\n",
       "                                         Emp. Acc.  \n",
       "lf_accident                               0.863636  \n",
       "lf_accident_street                        0.928571  \n",
       "lf_accident_no_cause_check                0.719512  \n",
       "lf_canceledroute_cat                      0.869565  \n",
       "lf_canceledroute_replicated               0.869565  \n",
       "lf_canceledstop_cat                       0.961538  \n",
       "lf_canceledstop_replicated                0.961538  \n",
       "lf_delay_cat                              1.000000  \n",
       "lf_delay_duration_positional_check        0.909091  \n",
       "lf_delay_priorities                       0.955882  \n",
       "lf_delay_duration                         1.000000  \n",
       "lf_obstruction_cat                        0.904255  \n",
       "lf_obstruction_street                     0.950000  \n",
       "lf_obstruction_priorities                 0.881818  \n",
       "lf_railreplacementservice_cat             0.880000  \n",
       "lf_railreplacementservice_replicated      0.880000  \n",
       "lf_trafficjam_cat                         0.981013  \n",
       "lf_trafficjam_distance_positional_check   0.992537  \n",
       "lf_trafficjam_street                      0.987097  \n",
       "lf_trafficjam_order                       0.993464  \n",
       "lf_negative                               0.984252  \n",
       "lf_cause_negative                         0.935897  \n",
       "lf_obstruction_negative                   0.000000  "
      ]
     },
     "execution_count": 13,
     "metadata": {},
     "output_type": "execute_result"
    }
   ],
   "source": [
    "from snorkel.labeling import LFAnalysis\n",
    "\n",
    "LFAnalysis(L_sd_train, lfs).lf_summary(Y_sd_train)"
   ]
  },
  {
   "cell_type": "markdown",
   "metadata": {},
   "source": [
    "## Step 4: Error Analysis \n",
    "Now we can look at the LabelMatrix for errors. We can use the DataFrame from the exploration section, which includes the information from the preprocessors.\n",
    "We can then specifically look for the instances that were labeled incorrectly."
   ]
  },
  {
   "cell_type": "code",
   "execution_count": 14,
   "metadata": {},
   "outputs": [],
   "source": [
    "from wsee.labeling import error_analysis\n",
    "relevant_cols = ['text','trigger', 'event_types']"
   ]
  },
  {
   "cell_type": "code",
   "execution_count": 15,
   "metadata": {},
   "outputs": [
    {
     "data": {
      "text/html": [
       "<div>\n",
       "<style scoped>\n",
       "    .dataframe tbody tr th:only-of-type {\n",
       "        vertical-align: middle;\n",
       "    }\n",
       "\n",
       "    .dataframe tbody tr th {\n",
       "        vertical-align: top;\n",
       "    }\n",
       "\n",
       "    .dataframe thead th {\n",
       "        text-align: right;\n",
       "    }\n",
       "</style>\n",
       "<table border=\"1\" class=\"dataframe\">\n",
       "  <thead>\n",
       "    <tr style=\"text-align: right;\">\n",
       "      <th></th>\n",
       "      <th>text</th>\n",
       "      <th>trigger</th>\n",
       "      <th>label</th>\n",
       "    </tr>\n",
       "  </thead>\n",
       "  <tbody>\n",
       "    <tr>\n",
       "      <th>1257</th>\n",
       "      <td>am Donnerstag, 24. März, 7.00 – 10.00 Uhr&lt;br /&gt;\\n&lt;br /&gt;\\nMeldung:&lt;br /&gt;\\nEN 459 von Leipzig Hbf (planmäßige Ankunft 9.28 Uhr in Praha hl.n.) fällt von Dresden Hbf bis Děčín hl.n. aus. Als Ersatz nutzen Sie den Bus von Dresden Hbf (ab 7.14 Uhr) bis Ústí nad Labem (an 8.20 Uhr). In Ústí nad Labem besteht Anschluss an einen Ersatzzug nach Praha hl.n.&lt;br /&gt;\\n&lt;br /&gt;Grund:&lt;br /&gt;\\nOberleitungsarbeiten zwischen Bad Schandau und Königstein (Sächs Schw)&lt;br /&gt;\\n&lt;br /&gt;Link zur detaillierten Meldung: &lt;br /&gt;\\n&lt;a href= / &gt;&lt;br /&gt;\\nLink zum kompletten PDF-Dokument: &lt;br /&gt;\\n&lt;a href=target=_blank&gt;(141 kB)&lt;br /&gt;&lt;br /&gt;------------------&lt;br /&gt;&lt;br /&gt;\\n</td>\n",
       "      <td>{'id': 'c/2cc43ab7-ce99-480d-86d0-2bd5777d8171', 'text': 'fällt', 'entity_type': 'trigger', 'start': 31, 'end': 32, 'char_start': 138, 'char_end': 143}</td>\n",
       "      <td>1</td>\n",
       "    </tr>\n",
       "  </tbody>\n",
       "</table>\n",
       "</div>"
      ],
      "text/plain": [
       "                                                                                                                                                                                                                                                                                                                                                                                                                                                                                                                                                                                                                                                               text  \\\n",
       "1257  am Donnerstag, 24. März, 7.00 – 10.00 Uhr<br />\\n<br />\\nMeldung:<br />\\nEN 459 von Leipzig Hbf (planmäßige Ankunft 9.28 Uhr in Praha hl.n.) fällt von Dresden Hbf bis Děčín hl.n. aus. Als Ersatz nutzen Sie den Bus von Dresden Hbf (ab 7.14 Uhr) bis Ústí nad Labem (an 8.20 Uhr). In Ústí nad Labem besteht Anschluss an einen Ersatzzug nach Praha hl.n.<br />\\n<br />Grund:<br />\\nOberleitungsarbeiten zwischen Bad Schandau und Königstein (Sächs Schw)<br />\\n<br />Link zur detaillierten Meldung: <br />\\n<a href= / ><br />\\nLink zum kompletten PDF-Dokument: <br />\\n<a href=target=_blank>(141 kB)<br /><br />------------------<br /><br />\\n   \n",
       "\n",
       "                                                                                                                                                      trigger  \\\n",
       "1257  {'id': 'c/2cc43ab7-ce99-480d-86d0-2bd5777d8171', 'text': 'fällt', 'entity_type': 'trigger', 'start': 31, 'end': 32, 'char_start': 138, 'char_end': 143}   \n",
       "\n",
       "      label  \n",
       "1257      1  "
      ]
     },
     "execution_count": 15,
     "metadata": {},
     "output_type": "execute_result"
    }
   ],
   "source": [
    "labeled_sd4m_triggers.iloc[L_sd_train[:, 3] == 1].sample()[['text', 'trigger', 'label']]"
   ]
  },
  {
   "cell_type": "code",
   "execution_count": 16,
   "metadata": {},
   "outputs": [
    {
     "data": {
      "text/html": [
       "<div>\n",
       "<style scoped>\n",
       "    .dataframe tbody tr th:only-of-type {\n",
       "        vertical-align: middle;\n",
       "    }\n",
       "\n",
       "    .dataframe tbody tr th {\n",
       "        vertical-align: top;\n",
       "    }\n",
       "\n",
       "    .dataframe thead th {\n",
       "        text-align: right;\n",
       "    }\n",
       "</style>\n",
       "<table border=\"1\" class=\"dataframe\">\n",
       "  <thead>\n",
       "    <tr style=\"text-align: right;\">\n",
       "      <th></th>\n",
       "      <th>text</th>\n",
       "      <th>trigger</th>\n",
       "      <th>event_types</th>\n",
       "    </tr>\n",
       "  </thead>\n",
       "  <tbody>\n",
       "    <tr>\n",
       "      <th>616</th>\n",
       "      <td>#RE10: Wegen eines Unfalls ist der Abschnitt Kleve - Goch aktuell gesperrt. Ein Busnotverkehr ist eingerichtet. https://t.co/ivZS6KPKvj\\n</td>\n",
       "      <td>{'id': 'c/8ba9b59f-3e29-409e-a3f3-02066ff57857', 'text': 'gesperrt', 'entity_type': 'trigger', 'start': 12, 'end': 13, 'char_start': 66, 'char_end': 74}</td>\n",
       "      <td>[(Unfalls, (19, 26), 7), (gesperrt, (66, 74), 4)]</td>\n",
       "    </tr>\n",
       "  </tbody>\n",
       "</table>\n",
       "</div>"
      ],
      "text/plain": [
       "                                                                                                                                          text  \\\n",
       "616  #RE10: Wegen eines Unfalls ist der Abschnitt Kleve - Goch aktuell gesperrt. Ein Busnotverkehr ist eingerichtet. https://t.co/ivZS6KPKvj\\n   \n",
       "\n",
       "                                                                                                                                                      trigger  \\\n",
       "616  {'id': 'c/8ba9b59f-3e29-409e-a3f3-02066ff57857', 'text': 'gesperrt', 'entity_type': 'trigger', 'start': 12, 'end': 13, 'char_start': 66, 'char_end': 74}   \n",
       "\n",
       "                                           event_types  \n",
       "616  [(Unfalls, (19, 26), 7), (gesperrt, (66, 74), 4)]  "
      ]
     },
     "execution_count": 16,
     "metadata": {},
     "output_type": "execute_result"
    }
   ],
   "source": [
    "error_analysis.sample_fp(labeled_df=labeled_sd4m_triggers, lf_outputs=L_sd_train, lf_index=3, label_of_interest=1, sample_size=1)[relevant_cols]"
   ]
  },
  {
   "cell_type": "code",
   "execution_count": 17,
   "metadata": {},
   "outputs": [
    {
     "data": {
      "text/html": [
       "<div>\n",
       "<style scoped>\n",
       "    .dataframe tbody tr th:only-of-type {\n",
       "        vertical-align: middle;\n",
       "    }\n",
       "\n",
       "    .dataframe tbody tr th {\n",
       "        vertical-align: top;\n",
       "    }\n",
       "\n",
       "    .dataframe thead th {\n",
       "        text-align: right;\n",
       "    }\n",
       "</style>\n",
       "<table border=\"1\" class=\"dataframe\">\n",
       "  <thead>\n",
       "    <tr style=\"text-align: right;\">\n",
       "      <th></th>\n",
       "      <th>text</th>\n",
       "      <th>trigger</th>\n",
       "      <th>event_types</th>\n",
       "    </tr>\n",
       "  </thead>\n",
       "  <tbody>\n",
       "    <tr>\n",
       "      <th>145</th>\n",
       "      <td>Die A21 Bargteheide - Kiel ist zwischen Bad Oldesloe-Nord und Leezen nach einem Unfall in beiden Richtungen gesperrt.\\n</td>\n",
       "      <td>{'id': 'c/9d4f26fe-e709-40b0-bfac-2793d9efd146', 'text': 'gesperrt', 'entity_type': 'trigger', 'start': 19, 'end': 20, 'char_start': 108, 'char_end': 116}</td>\n",
       "      <td>[(Unfall, (80, 86), 0), (gesperrt, (108, 116), 4)]</td>\n",
       "    </tr>\n",
       "  </tbody>\n",
       "</table>\n",
       "</div>"
      ],
      "text/plain": [
       "                                                                                                                        text  \\\n",
       "145  Die A21 Bargteheide - Kiel ist zwischen Bad Oldesloe-Nord und Leezen nach einem Unfall in beiden Richtungen gesperrt.\\n   \n",
       "\n",
       "                                                                                                                                                        trigger  \\\n",
       "145  {'id': 'c/9d4f26fe-e709-40b0-bfac-2793d9efd146', 'text': 'gesperrt', 'entity_type': 'trigger', 'start': 19, 'end': 20, 'char_start': 108, 'char_end': 116}   \n",
       "\n",
       "                                            event_types  \n",
       "145  [(Unfall, (80, 86), 0), (gesperrt, (108, 116), 4)]  "
      ]
     },
     "execution_count": 17,
     "metadata": {},
     "output_type": "execute_result"
    }
   ],
   "source": [
    "error_analysis.sample_abstained_instances(labeled_df=labeled_sd4m_triggers, lf_outputs=L_sd_train, lf_index=10, label_of_interest=4, sample_size=1)[relevant_cols]"
   ]
  },
  {
   "cell_type": "markdown",
   "metadata": {},
   "source": [
    "## Step 5: Train the label model and label the data"
   ]
  },
  {
   "cell_type": "markdown",
   "metadata": {},
   "source": [
    "### Training the label model"
   ]
  },
  {
   "cell_type": "code",
   "execution_count": 18,
   "metadata": {},
   "outputs": [],
   "source": [
    "from snorkel.labeling import LabelModel\n",
    "from snorkel.labeling import filter_unlabeled_dataframe"
   ]
  },
  {
   "cell_type": "code",
   "execution_count": 19,
   "metadata": {},
   "outputs": [
    {
     "name": "stderr",
     "output_type": "stream",
     "text": [
      "INFO:wsee:Building event trigger examples\n",
      "INFO:wsee:DataFrame has 1955 rows\n",
      "1955it [00:03, 626.34it/s]\n",
      "INFO:wsee:Number of events: 0\n",
      "INFO:wsee:Number of event trigger examples: 3076\n",
      "100%|██████████| 3076/3076 [02:02<00:00, 25.04it/s]\n"
     ]
    }
   ],
   "source": [
    "df_daystream, Y_daystream = pipeline.build_event_trigger_examples(daystream)\n",
    "L_daystream = applier.apply(df_daystream)"
   ]
  },
  {
   "cell_type": "code",
   "execution_count": 20,
   "metadata": {},
   "outputs": [
    {
     "data": {
      "text/html": [
       "<div>\n",
       "<style scoped>\n",
       "    .dataframe tbody tr th:only-of-type {\n",
       "        vertical-align: middle;\n",
       "    }\n",
       "\n",
       "    .dataframe tbody tr th {\n",
       "        vertical-align: top;\n",
       "    }\n",
       "\n",
       "    .dataframe thead th {\n",
       "        text-align: right;\n",
       "    }\n",
       "</style>\n",
       "<table border=\"1\" class=\"dataframe\">\n",
       "  <thead>\n",
       "    <tr style=\"text-align: right;\">\n",
       "      <th></th>\n",
       "      <th>j</th>\n",
       "      <th>Polarity</th>\n",
       "      <th>Coverage</th>\n",
       "      <th>Overlaps</th>\n",
       "      <th>Conflicts</th>\n",
       "    </tr>\n",
       "  </thead>\n",
       "  <tbody>\n",
       "    <tr>\n",
       "      <th>lf_accident</th>\n",
       "      <td>0</td>\n",
       "      <td>[0]</td>\n",
       "      <td>0.116710</td>\n",
       "      <td>0.116710</td>\n",
       "      <td>0.002601</td>\n",
       "    </tr>\n",
       "    <tr>\n",
       "      <th>lf_accident_street</th>\n",
       "      <td>1</td>\n",
       "      <td>[0]</td>\n",
       "      <td>0.108257</td>\n",
       "      <td>0.108257</td>\n",
       "      <td>0.002276</td>\n",
       "    </tr>\n",
       "    <tr>\n",
       "      <th>lf_accident_no_cause_check</th>\n",
       "      <td>2</td>\n",
       "      <td>[0]</td>\n",
       "      <td>0.132640</td>\n",
       "      <td>0.132640</td>\n",
       "      <td>0.019506</td>\n",
       "    </tr>\n",
       "    <tr>\n",
       "      <th>lf_canceledroute_cat</th>\n",
       "      <td>3</td>\n",
       "      <td>[1]</td>\n",
       "      <td>0.168075</td>\n",
       "      <td>0.168075</td>\n",
       "      <td>0.047789</td>\n",
       "    </tr>\n",
       "    <tr>\n",
       "      <th>lf_canceledroute_replicated</th>\n",
       "      <td>4</td>\n",
       "      <td>[1]</td>\n",
       "      <td>0.168075</td>\n",
       "      <td>0.168075</td>\n",
       "      <td>0.047789</td>\n",
       "    </tr>\n",
       "    <tr>\n",
       "      <th>lf_canceledstop_cat</th>\n",
       "      <td>5</td>\n",
       "      <td>[2]</td>\n",
       "      <td>0.020806</td>\n",
       "      <td>0.020806</td>\n",
       "      <td>0.009753</td>\n",
       "    </tr>\n",
       "    <tr>\n",
       "      <th>lf_canceledstop_replicated</th>\n",
       "      <td>6</td>\n",
       "      <td>[2]</td>\n",
       "      <td>0.020806</td>\n",
       "      <td>0.020806</td>\n",
       "      <td>0.009753</td>\n",
       "    </tr>\n",
       "    <tr>\n",
       "      <th>lf_delay_cat</th>\n",
       "      <td>7</td>\n",
       "      <td>[3]</td>\n",
       "      <td>0.126463</td>\n",
       "      <td>0.126463</td>\n",
       "      <td>0.000325</td>\n",
       "    </tr>\n",
       "    <tr>\n",
       "      <th>lf_delay_duration_positional_check</th>\n",
       "      <td>8</td>\n",
       "      <td>[3]</td>\n",
       "      <td>0.033160</td>\n",
       "      <td>0.033160</td>\n",
       "      <td>0.008453</td>\n",
       "    </tr>\n",
       "    <tr>\n",
       "      <th>lf_delay_priorities</th>\n",
       "      <td>9</td>\n",
       "      <td>[3]</td>\n",
       "      <td>0.179129</td>\n",
       "      <td>0.164824</td>\n",
       "      <td>0.038687</td>\n",
       "    </tr>\n",
       "    <tr>\n",
       "      <th>lf_delay_duration</th>\n",
       "      <td>10</td>\n",
       "      <td>[3]</td>\n",
       "      <td>0.056242</td>\n",
       "      <td>0.056242</td>\n",
       "      <td>0.000000</td>\n",
       "    </tr>\n",
       "    <tr>\n",
       "      <th>lf_obstruction_cat</th>\n",
       "      <td>11</td>\n",
       "      <td>[4]</td>\n",
       "      <td>0.121261</td>\n",
       "      <td>0.121261</td>\n",
       "      <td>0.032185</td>\n",
       "    </tr>\n",
       "    <tr>\n",
       "      <th>lf_obstruction_street</th>\n",
       "      <td>12</td>\n",
       "      <td>[4]</td>\n",
       "      <td>0.054616</td>\n",
       "      <td>0.051365</td>\n",
       "      <td>0.003901</td>\n",
       "    </tr>\n",
       "    <tr>\n",
       "      <th>lf_obstruction_priorities</th>\n",
       "      <td>13</td>\n",
       "      <td>[4]</td>\n",
       "      <td>0.210338</td>\n",
       "      <td>0.162549</td>\n",
       "      <td>0.069571</td>\n",
       "    </tr>\n",
       "    <tr>\n",
       "      <th>lf_railreplacementservice_cat</th>\n",
       "      <td>14</td>\n",
       "      <td>[5]</td>\n",
       "      <td>0.061118</td>\n",
       "      <td>0.061118</td>\n",
       "      <td>0.000650</td>\n",
       "    </tr>\n",
       "    <tr>\n",
       "      <th>lf_railreplacementservice_replicated</th>\n",
       "      <td>15</td>\n",
       "      <td>[5]</td>\n",
       "      <td>0.061118</td>\n",
       "      <td>0.061118</td>\n",
       "      <td>0.000650</td>\n",
       "    </tr>\n",
       "    <tr>\n",
       "      <th>lf_trafficjam_cat</th>\n",
       "      <td>16</td>\n",
       "      <td>[6]</td>\n",
       "      <td>0.018856</td>\n",
       "      <td>0.018856</td>\n",
       "      <td>0.001625</td>\n",
       "    </tr>\n",
       "    <tr>\n",
       "      <th>lf_trafficjam_distance_positional_check</th>\n",
       "      <td>17</td>\n",
       "      <td>[6]</td>\n",
       "      <td>0.006177</td>\n",
       "      <td>0.006177</td>\n",
       "      <td>0.000000</td>\n",
       "    </tr>\n",
       "    <tr>\n",
       "      <th>lf_trafficjam_street</th>\n",
       "      <td>18</td>\n",
       "      <td>[6]</td>\n",
       "      <td>0.016905</td>\n",
       "      <td>0.016905</td>\n",
       "      <td>0.000650</td>\n",
       "    </tr>\n",
       "    <tr>\n",
       "      <th>lf_trafficjam_order</th>\n",
       "      <td>19</td>\n",
       "      <td>[6]</td>\n",
       "      <td>0.017880</td>\n",
       "      <td>0.017880</td>\n",
       "      <td>0.001300</td>\n",
       "    </tr>\n",
       "    <tr>\n",
       "      <th>lf_negative</th>\n",
       "      <td>20</td>\n",
       "      <td>[7]</td>\n",
       "      <td>0.284785</td>\n",
       "      <td>0.092003</td>\n",
       "      <td>0.002276</td>\n",
       "    </tr>\n",
       "    <tr>\n",
       "      <th>lf_cause_negative</th>\n",
       "      <td>21</td>\n",
       "      <td>[7]</td>\n",
       "      <td>0.116710</td>\n",
       "      <td>0.116710</td>\n",
       "      <td>0.026983</td>\n",
       "    </tr>\n",
       "    <tr>\n",
       "      <th>lf_obstruction_negative</th>\n",
       "      <td>22</td>\n",
       "      <td>[]</td>\n",
       "      <td>0.000000</td>\n",
       "      <td>0.000000</td>\n",
       "      <td>0.000000</td>\n",
       "    </tr>\n",
       "  </tbody>\n",
       "</table>\n",
       "</div>"
      ],
      "text/plain": [
       "                                          j Polarity  Coverage  Overlaps  \\\n",
       "lf_accident                               0      [0]  0.116710  0.116710   \n",
       "lf_accident_street                        1      [0]  0.108257  0.108257   \n",
       "lf_accident_no_cause_check                2      [0]  0.132640  0.132640   \n",
       "lf_canceledroute_cat                      3      [1]  0.168075  0.168075   \n",
       "lf_canceledroute_replicated               4      [1]  0.168075  0.168075   \n",
       "lf_canceledstop_cat                       5      [2]  0.020806  0.020806   \n",
       "lf_canceledstop_replicated                6      [2]  0.020806  0.020806   \n",
       "lf_delay_cat                              7      [3]  0.126463  0.126463   \n",
       "lf_delay_duration_positional_check        8      [3]  0.033160  0.033160   \n",
       "lf_delay_priorities                       9      [3]  0.179129  0.164824   \n",
       "lf_delay_duration                        10      [3]  0.056242  0.056242   \n",
       "lf_obstruction_cat                       11      [4]  0.121261  0.121261   \n",
       "lf_obstruction_street                    12      [4]  0.054616  0.051365   \n",
       "lf_obstruction_priorities                13      [4]  0.210338  0.162549   \n",
       "lf_railreplacementservice_cat            14      [5]  0.061118  0.061118   \n",
       "lf_railreplacementservice_replicated     15      [5]  0.061118  0.061118   \n",
       "lf_trafficjam_cat                        16      [6]  0.018856  0.018856   \n",
       "lf_trafficjam_distance_positional_check  17      [6]  0.006177  0.006177   \n",
       "lf_trafficjam_street                     18      [6]  0.016905  0.016905   \n",
       "lf_trafficjam_order                      19      [6]  0.017880  0.017880   \n",
       "lf_negative                              20      [7]  0.284785  0.092003   \n",
       "lf_cause_negative                        21      [7]  0.116710  0.116710   \n",
       "lf_obstruction_negative                  22       []  0.000000  0.000000   \n",
       "\n",
       "                                         Conflicts  \n",
       "lf_accident                               0.002601  \n",
       "lf_accident_street                        0.002276  \n",
       "lf_accident_no_cause_check                0.019506  \n",
       "lf_canceledroute_cat                      0.047789  \n",
       "lf_canceledroute_replicated               0.047789  \n",
       "lf_canceledstop_cat                       0.009753  \n",
       "lf_canceledstop_replicated                0.009753  \n",
       "lf_delay_cat                              0.000325  \n",
       "lf_delay_duration_positional_check        0.008453  \n",
       "lf_delay_priorities                       0.038687  \n",
       "lf_delay_duration                         0.000000  \n",
       "lf_obstruction_cat                        0.032185  \n",
       "lf_obstruction_street                     0.003901  \n",
       "lf_obstruction_priorities                 0.069571  \n",
       "lf_railreplacementservice_cat             0.000650  \n",
       "lf_railreplacementservice_replicated      0.000650  \n",
       "lf_trafficjam_cat                         0.001625  \n",
       "lf_trafficjam_distance_positional_check   0.000000  \n",
       "lf_trafficjam_street                      0.000650  \n",
       "lf_trafficjam_order                       0.001300  \n",
       "lf_negative                               0.002276  \n",
       "lf_cause_negative                         0.026983  \n",
       "lf_obstruction_negative                   0.000000  "
      ]
     },
     "execution_count": 20,
     "metadata": {},
     "output_type": "execute_result"
    }
   ],
   "source": [
    "LFAnalysis(L_daystream, lfs).lf_summary()"
   ]
  },
  {
   "cell_type": "code",
   "execution_count": 22,
   "metadata": {},
   "outputs": [
    {
     "name": "stdout",
     "output_type": "stream",
     "text": [
      "Number of trigger labeling functions: \t23\n",
      "Coverage: \t1.0\n",
      "Overlap: \t0.7418725617685306\n",
      "Conflicts: \t0.10988296488946683\n"
     ]
    }
   ],
   "source": [
    "# Labeling functions summary statistics over all LFs\n",
    "\n",
    "print(f\"Number of trigger labeling functions: \\t{len(get_trigger_list_lfs())}\")\n",
    "print(f\"Coverage: \\t{LFAnalysis(L_daystream, lfs).label_coverage()}\")  # percentage of objects that had at least one label\n",
    "print(f\"Overlap: \\t{LFAnalysis(L_daystream, lfs).label_overlap()}\")  # percentage of objects with more than one label\n",
    "print(f\"Conflicts: \\t{LFAnalysis(L_daystream, lfs).label_conflict()}\")  # percentage of objects with conflicting labels"
   ]
  },
  {
   "cell_type": "code",
   "execution_count": 23,
   "metadata": {},
   "outputs": [
    {
     "name": "stderr",
     "output_type": "stream",
     "text": [
      "/Users/phuc/opt/miniconda3/envs/master/lib/python3.6/site-packages/networkx/algorithms/components/connected.py:86: DeprecationWarning: connected_component_subgraphs is deprecated and will be removedin 2.2. Use (G.subgraph(c).copy() for c in connected_components(G))\n",
      "  _warnings.warn(msg, DeprecationWarning)\n",
      "INFO:root:Computing O...\n",
      "INFO:root:Estimating \\mu...\n",
      "/tmp/pip-req-build-u9mddw1z/aten/src/ATen/native/IndexingUtils.h:20: UserWarning: indexing with dtype torch.uint8 is now deprecated, please use a dtype torch.bool instead.\n",
      "INFO:root:[0 epochs]: TRAIN:[loss=0.133]\n",
      "INFO:root:[500 epochs]: TRAIN:[loss=0.004]\n",
      "INFO:root:[1000 epochs]: TRAIN:[loss=0.003]\n",
      "INFO:root:[1500 epochs]: TRAIN:[loss=0.002]\n",
      "INFO:root:[2000 epochs]: TRAIN:[loss=0.002]\n",
      "INFO:root:[2500 epochs]: TRAIN:[loss=0.002]\n",
      "INFO:root:[3000 epochs]: TRAIN:[loss=0.002]\n",
      "INFO:root:[3500 epochs]: TRAIN:[loss=0.002]\n",
      "INFO:root:[4000 epochs]: TRAIN:[loss=0.002]\n",
      "INFO:root:[4500 epochs]: TRAIN:[loss=0.002]\n",
      "INFO:root:Finished Training\n"
     ]
    }
   ],
   "source": [
    "daystream_model = LabelModel(cardinality=8, verbose=True)\n",
    "daystream_model.fit(L_train=L_daystream,n_epochs=5000, log_freq=500, seed=12345, Y_dev=Y_sd_train)"
   ]
  },
  {
   "cell_type": "markdown",
   "metadata": {},
   "source": [
    "### Look at label model performance"
   ]
  },
  {
   "cell_type": "markdown",
   "metadata": {},
   "source": [
    "Here we evaluate the LabelModel on the SD4M development data, because we used the SD4M training data to develop our labeling functions our model is likely overfitted on the SD4M training data. The included `score` function from Snorkel is limited and more easily applicable in a binary classification setting. We will instead use the predictions and sklearn metrics ourselves.\n",
    "For each model we will first report the metrics for all classes and then the metrics without the majority negative class."
   ]
  },
  {
   "cell_type": "code",
   "execution_count": 24,
   "metadata": {},
   "outputs": [],
   "source": [
    "from wsee.utils.scorer import score_model\n",
    "\n",
    "positive_event_type_indices = [idx for idx, _ in enumerate(SD4M_RELATION_TYPES)][:-1]"
   ]
  },
  {
   "cell_type": "markdown",
   "metadata": {},
   "source": [
    "We create a MajorityLabelVoter and a LabelModel version that does not use the SD4M training data to infer a class balance prior for comparison."
   ]
  },
  {
   "cell_type": "code",
   "execution_count": 25,
   "metadata": {},
   "outputs": [
    {
     "name": "stderr",
     "output_type": "stream",
     "text": [
      "/Users/phuc/opt/miniconda3/envs/master/lib/python3.6/site-packages/networkx/algorithms/components/connected.py:86: DeprecationWarning: connected_component_subgraphs is deprecated and will be removedin 2.2. Use (G.subgraph(c).copy() for c in connected_components(G))\n",
      "  _warnings.warn(msg, DeprecationWarning)\n",
      "INFO:root:Computing O...\n",
      "INFO:root:Estimating \\mu...\n",
      "/tmp/pip-req-build-u9mddw1z/aten/src/ATen/native/IndexingUtils.h:20: UserWarning: indexing with dtype torch.uint8 is now deprecated, please use a dtype torch.bool instead.\n",
      "INFO:root:[0 epochs]: TRAIN:[loss=0.130]\n",
      "INFO:root:[500 epochs]: TRAIN:[loss=0.003]\n",
      "INFO:root:[1000 epochs]: TRAIN:[loss=0.002]\n",
      "INFO:root:[1500 epochs]: TRAIN:[loss=0.002]\n",
      "INFO:root:[2000 epochs]: TRAIN:[loss=0.002]\n",
      "INFO:root:[2500 epochs]: TRAIN:[loss=0.002]\n",
      "INFO:root:[3000 epochs]: TRAIN:[loss=0.002]\n",
      "INFO:root:[3500 epochs]: TRAIN:[loss=0.002]\n",
      "INFO:root:[4000 epochs]: TRAIN:[loss=0.002]\n",
      "INFO:root:[4500 epochs]: TRAIN:[loss=0.002]\n",
      "INFO:root:Finished Training\n"
     ]
    }
   ],
   "source": [
    "from snorkel.labeling import MajorityLabelVoter\n",
    "\n",
    "daystream_mlv = MajorityLabelVoter(cardinality=8, verbose=True)\n",
    "daystream_without_sd4m_cb = LabelModel(cardinality=8, verbose=True)\n",
    "daystream_without_sd4m_cb.fit(L_train=L_daystream,n_epochs=5000, log_freq=500, seed=12345)"
   ]
  },
  {
   "cell_type": "code",
   "execution_count": 26,
   "metadata": {},
   "outputs": [
    {
     "name": "stderr",
     "output_type": "stream",
     "text": [
      "100%|██████████| 71/71 [00:02<00:00, 25.08it/s]\n"
     ]
    }
   ],
   "source": [
    "L_sd_dev = applier.apply(df_sd_dev)"
   ]
  },
  {
   "cell_type": "markdown",
   "metadata": {},
   "source": [
    "#### With tie_break_policy set to \"random\"\n",
    "Sometimes there might be instances where all the labeling functions abstain or where we might encounter a tie between the labeling functions.\n",
    "Here we use the tie break policy \"random\", where the label models randomly choose among tied option using deterministic hash.\n",
    "(When all labeling functions abstain all options/classes are tied.)\n",
    "Note that coverage is still calculated as normal, i.e. as the ratio of labeled data points and all data points."
   ]
  },
  {
   "cell_type": "markdown",
   "metadata": {},
   "source": [
    "**Label Model**"
   ]
  },
  {
   "cell_type": "code",
   "execution_count": 27,
   "metadata": {},
   "outputs": [
    {
     "name": "stderr",
     "output_type": "stream",
     "text": [
      "/Users/phuc/opt/miniconda3/envs/master/lib/python3.6/site-packages/sklearn/metrics/classification.py:1437: UndefinedMetricWarning: Precision and F-score are ill-defined and being set to 0.0 in labels with no predicted samples.\n",
      "  'precision', 'predicted', average, warn_for)\n"
     ]
    },
    {
     "data": {
      "text/html": [
       "<div>\n",
       "<style scoped>\n",
       "    .dataframe tbody tr th:only-of-type {\n",
       "        vertical-align: middle;\n",
       "    }\n",
       "\n",
       "    .dataframe tbody tr th {\n",
       "        vertical-align: top;\n",
       "    }\n",
       "\n",
       "    .dataframe thead th {\n",
       "        text-align: right;\n",
       "    }\n",
       "</style>\n",
       "<table border=\"1\" class=\"dataframe\">\n",
       "  <thead>\n",
       "    <tr style=\"text-align: right;\">\n",
       "      <th></th>\n",
       "      <th>Metric</th>\n",
       "      <th>Micro Average</th>\n",
       "      <th>Macro Average</th>\n",
       "    </tr>\n",
       "  </thead>\n",
       "  <tbody>\n",
       "    <tr>\n",
       "      <th>0</th>\n",
       "      <td>precision</td>\n",
       "      <td>0.929577</td>\n",
       "      <td>0.795521</td>\n",
       "    </tr>\n",
       "    <tr>\n",
       "      <th>1</th>\n",
       "      <td>recall</td>\n",
       "      <td>0.929577</td>\n",
       "      <td>0.828333</td>\n",
       "    </tr>\n",
       "    <tr>\n",
       "      <th>2</th>\n",
       "      <td>f1</td>\n",
       "      <td>0.929577</td>\n",
       "      <td>0.805606</td>\n",
       "    </tr>\n",
       "    <tr>\n",
       "      <th>3</th>\n",
       "      <td>accuracy</td>\n",
       "      <td>0.929577</td>\n",
       "      <td>0.929577</td>\n",
       "    </tr>\n",
       "    <tr>\n",
       "      <th>4</th>\n",
       "      <td>coverage</td>\n",
       "      <td>1.000000</td>\n",
       "      <td>1.000000</td>\n",
       "    </tr>\n",
       "  </tbody>\n",
       "</table>\n",
       "</div>"
      ],
      "text/plain": [
       "      Metric  Micro Average  Macro Average\n",
       "0  precision       0.929577       0.795521\n",
       "1     recall       0.929577       0.828333\n",
       "2         f1       0.929577       0.805606\n",
       "3   accuracy       0.929577       0.929577\n",
       "4   coverage       1.000000       1.000000"
      ]
     },
     "execution_count": 27,
     "metadata": {},
     "output_type": "execute_result"
    }
   ],
   "source": [
    "score_model(model=daystream_model, L=L_sd_dev, Y=Y_sd_dev, tie_break_policy=\"random\")"
   ]
  },
  {
   "cell_type": "code",
   "execution_count": 28,
   "metadata": {},
   "outputs": [
    {
     "name": "stderr",
     "output_type": "stream",
     "text": [
      "/Users/phuc/opt/miniconda3/envs/master/lib/python3.6/site-packages/sklearn/metrics/classification.py:1437: UndefinedMetricWarning: Precision and F-score are ill-defined and being set to 0.0 in labels with no predicted samples.\n",
      "  'precision', 'predicted', average, warn_for)\n"
     ]
    },
    {
     "data": {
      "text/html": [
       "<div>\n",
       "<style scoped>\n",
       "    .dataframe tbody tr th:only-of-type {\n",
       "        vertical-align: middle;\n",
       "    }\n",
       "\n",
       "    .dataframe tbody tr th {\n",
       "        vertical-align: top;\n",
       "    }\n",
       "\n",
       "    .dataframe thead th {\n",
       "        text-align: right;\n",
       "    }\n",
       "</style>\n",
       "<table border=\"1\" class=\"dataframe\">\n",
       "  <thead>\n",
       "    <tr style=\"text-align: right;\">\n",
       "      <th></th>\n",
       "      <th>Metric</th>\n",
       "      <th>Micro Average</th>\n",
       "      <th>Macro Average</th>\n",
       "    </tr>\n",
       "  </thead>\n",
       "  <tbody>\n",
       "    <tr>\n",
       "      <th>0</th>\n",
       "      <td>precision</td>\n",
       "      <td>0.913043</td>\n",
       "      <td>0.772024</td>\n",
       "    </tr>\n",
       "    <tr>\n",
       "      <th>1</th>\n",
       "      <td>recall</td>\n",
       "      <td>0.913043</td>\n",
       "      <td>0.809524</td>\n",
       "    </tr>\n",
       "    <tr>\n",
       "      <th>2</th>\n",
       "      <td>f1</td>\n",
       "      <td>0.913043</td>\n",
       "      <td>0.783550</td>\n",
       "    </tr>\n",
       "    <tr>\n",
       "      <th>3</th>\n",
       "      <td>accuracy</td>\n",
       "      <td>0.929577</td>\n",
       "      <td>0.929577</td>\n",
       "    </tr>\n",
       "    <tr>\n",
       "      <th>4</th>\n",
       "      <td>coverage</td>\n",
       "      <td>1.000000</td>\n",
       "      <td>1.000000</td>\n",
       "    </tr>\n",
       "  </tbody>\n",
       "</table>\n",
       "</div>"
      ],
      "text/plain": [
       "      Metric  Micro Average  Macro Average\n",
       "0  precision       0.913043       0.772024\n",
       "1     recall       0.913043       0.809524\n",
       "2         f1       0.913043       0.783550\n",
       "3   accuracy       0.929577       0.929577\n",
       "4   coverage       1.000000       1.000000"
      ]
     },
     "execution_count": 28,
     "metadata": {},
     "output_type": "execute_result"
    }
   ],
   "source": [
    "score_model(model=daystream_model, L=L_sd_dev, Y=Y_sd_dev, tie_break_policy=\"random\", labels=positive_event_type_indices)"
   ]
  },
  {
   "cell_type": "markdown",
   "metadata": {},
   "source": [
    "**Label model without a class balance prior inferred from SD4M training set**"
   ]
  },
  {
   "cell_type": "code",
   "execution_count": 29,
   "metadata": {},
   "outputs": [
    {
     "name": "stderr",
     "output_type": "stream",
     "text": [
      "/Users/phuc/opt/miniconda3/envs/master/lib/python3.6/site-packages/sklearn/metrics/classification.py:1437: UndefinedMetricWarning: Precision and F-score are ill-defined and being set to 0.0 in labels with no predicted samples.\n",
      "  'precision', 'predicted', average, warn_for)\n"
     ]
    },
    {
     "data": {
      "text/html": [
       "<div>\n",
       "<style scoped>\n",
       "    .dataframe tbody tr th:only-of-type {\n",
       "        vertical-align: middle;\n",
       "    }\n",
       "\n",
       "    .dataframe tbody tr th {\n",
       "        vertical-align: top;\n",
       "    }\n",
       "\n",
       "    .dataframe thead th {\n",
       "        text-align: right;\n",
       "    }\n",
       "</style>\n",
       "<table border=\"1\" class=\"dataframe\">\n",
       "  <thead>\n",
       "    <tr style=\"text-align: right;\">\n",
       "      <th></th>\n",
       "      <th>Metric</th>\n",
       "      <th>Micro Average</th>\n",
       "      <th>Macro Average</th>\n",
       "    </tr>\n",
       "  </thead>\n",
       "  <tbody>\n",
       "    <tr>\n",
       "      <th>0</th>\n",
       "      <td>precision</td>\n",
       "      <td>0.859155</td>\n",
       "      <td>0.742361</td>\n",
       "    </tr>\n",
       "    <tr>\n",
       "      <th>1</th>\n",
       "      <td>recall</td>\n",
       "      <td>0.859155</td>\n",
       "      <td>0.803333</td>\n",
       "    </tr>\n",
       "    <tr>\n",
       "      <th>2</th>\n",
       "      <td>f1</td>\n",
       "      <td>0.859155</td>\n",
       "      <td>0.758428</td>\n",
       "    </tr>\n",
       "    <tr>\n",
       "      <th>3</th>\n",
       "      <td>accuracy</td>\n",
       "      <td>0.859155</td>\n",
       "      <td>0.859155</td>\n",
       "    </tr>\n",
       "    <tr>\n",
       "      <th>4</th>\n",
       "      <td>coverage</td>\n",
       "      <td>1.000000</td>\n",
       "      <td>1.000000</td>\n",
       "    </tr>\n",
       "  </tbody>\n",
       "</table>\n",
       "</div>"
      ],
      "text/plain": [
       "      Metric  Micro Average  Macro Average\n",
       "0  precision       0.859155       0.742361\n",
       "1     recall       0.859155       0.803333\n",
       "2         f1       0.859155       0.758428\n",
       "3   accuracy       0.859155       0.859155\n",
       "4   coverage       1.000000       1.000000"
      ]
     },
     "execution_count": 29,
     "metadata": {},
     "output_type": "execute_result"
    }
   ],
   "source": [
    "score_model(model=daystream_without_sd4m_cb, L=L_sd_dev, Y=Y_sd_dev, tie_break_policy=\"random\")"
   ]
  },
  {
   "cell_type": "code",
   "execution_count": 30,
   "metadata": {},
   "outputs": [
    {
     "name": "stderr",
     "output_type": "stream",
     "text": [
      "/Users/phuc/opt/miniconda3/envs/master/lib/python3.6/site-packages/sklearn/metrics/classification.py:1437: UndefinedMetricWarning: Precision and F-score are ill-defined and being set to 0.0 in labels with no predicted samples.\n",
      "  'precision', 'predicted', average, warn_for)\n"
     ]
    },
    {
     "data": {
      "text/html": [
       "<div>\n",
       "<style scoped>\n",
       "    .dataframe tbody tr th:only-of-type {\n",
       "        vertical-align: middle;\n",
       "    }\n",
       "\n",
       "    .dataframe tbody tr th {\n",
       "        vertical-align: top;\n",
       "    }\n",
       "\n",
       "    .dataframe thead th {\n",
       "        text-align: right;\n",
       "    }\n",
       "</style>\n",
       "<table border=\"1\" class=\"dataframe\">\n",
       "  <thead>\n",
       "    <tr style=\"text-align: right;\">\n",
       "      <th></th>\n",
       "      <th>Metric</th>\n",
       "      <th>Micro Average</th>\n",
       "      <th>Macro Average</th>\n",
       "    </tr>\n",
       "  </thead>\n",
       "  <tbody>\n",
       "    <tr>\n",
       "      <th>0</th>\n",
       "      <td>precision</td>\n",
       "      <td>0.823529</td>\n",
       "      <td>0.712698</td>\n",
       "    </tr>\n",
       "    <tr>\n",
       "      <th>1</th>\n",
       "      <td>recall</td>\n",
       "      <td>0.913043</td>\n",
       "      <td>0.809524</td>\n",
       "    </tr>\n",
       "    <tr>\n",
       "      <th>2</th>\n",
       "      <td>f1</td>\n",
       "      <td>0.865979</td>\n",
       "      <td>0.746140</td>\n",
       "    </tr>\n",
       "    <tr>\n",
       "      <th>3</th>\n",
       "      <td>accuracy</td>\n",
       "      <td>0.859155</td>\n",
       "      <td>0.859155</td>\n",
       "    </tr>\n",
       "    <tr>\n",
       "      <th>4</th>\n",
       "      <td>coverage</td>\n",
       "      <td>1.000000</td>\n",
       "      <td>1.000000</td>\n",
       "    </tr>\n",
       "  </tbody>\n",
       "</table>\n",
       "</div>"
      ],
      "text/plain": [
       "      Metric  Micro Average  Macro Average\n",
       "0  precision       0.823529       0.712698\n",
       "1     recall       0.913043       0.809524\n",
       "2         f1       0.865979       0.746140\n",
       "3   accuracy       0.859155       0.859155\n",
       "4   coverage       1.000000       1.000000"
      ]
     },
     "execution_count": 30,
     "metadata": {},
     "output_type": "execute_result"
    }
   ],
   "source": [
    "score_model(model=daystream_without_sd4m_cb, L=L_sd_dev, Y=Y_sd_dev, tie_break_policy=\"random\", labels=positive_event_type_indices)"
   ]
  },
  {
   "cell_type": "markdown",
   "metadata": {},
   "source": [
    "**Majority Label Voter**"
   ]
  },
  {
   "cell_type": "code",
   "execution_count": 31,
   "metadata": {},
   "outputs": [
    {
     "name": "stderr",
     "output_type": "stream",
     "text": [
      "/Users/phuc/opt/miniconda3/envs/master/lib/python3.6/site-packages/sklearn/metrics/classification.py:1437: UndefinedMetricWarning: Precision and F-score are ill-defined and being set to 0.0 in labels with no predicted samples.\n",
      "  'precision', 'predicted', average, warn_for)\n"
     ]
    },
    {
     "data": {
      "text/html": [
       "<div>\n",
       "<style scoped>\n",
       "    .dataframe tbody tr th:only-of-type {\n",
       "        vertical-align: middle;\n",
       "    }\n",
       "\n",
       "    .dataframe tbody tr th {\n",
       "        vertical-align: top;\n",
       "    }\n",
       "\n",
       "    .dataframe thead th {\n",
       "        text-align: right;\n",
       "    }\n",
       "</style>\n",
       "<table border=\"1\" class=\"dataframe\">\n",
       "  <thead>\n",
       "    <tr style=\"text-align: right;\">\n",
       "      <th></th>\n",
       "      <th>Metric</th>\n",
       "      <th>Micro Average</th>\n",
       "      <th>Macro Average</th>\n",
       "    </tr>\n",
       "  </thead>\n",
       "  <tbody>\n",
       "    <tr>\n",
       "      <th>0</th>\n",
       "      <td>precision</td>\n",
       "      <td>0.901408</td>\n",
       "      <td>0.796412</td>\n",
       "    </tr>\n",
       "    <tr>\n",
       "      <th>1</th>\n",
       "      <td>recall</td>\n",
       "      <td>0.901408</td>\n",
       "      <td>0.818333</td>\n",
       "    </tr>\n",
       "    <tr>\n",
       "      <th>2</th>\n",
       "      <td>f1</td>\n",
       "      <td>0.901408</td>\n",
       "      <td>0.802069</td>\n",
       "    </tr>\n",
       "    <tr>\n",
       "      <th>3</th>\n",
       "      <td>accuracy</td>\n",
       "      <td>0.901408</td>\n",
       "      <td>0.901408</td>\n",
       "    </tr>\n",
       "    <tr>\n",
       "      <th>4</th>\n",
       "      <td>coverage</td>\n",
       "      <td>0.929577</td>\n",
       "      <td>0.929577</td>\n",
       "    </tr>\n",
       "  </tbody>\n",
       "</table>\n",
       "</div>"
      ],
      "text/plain": [
       "      Metric  Micro Average  Macro Average\n",
       "0  precision       0.901408       0.796412\n",
       "1     recall       0.901408       0.818333\n",
       "2         f1       0.901408       0.802069\n",
       "3   accuracy       0.901408       0.901408\n",
       "4   coverage       0.929577       0.929577"
      ]
     },
     "execution_count": 31,
     "metadata": {},
     "output_type": "execute_result"
    }
   ],
   "source": [
    "score_model(model=daystream_mlv, L=L_sd_dev, Y=Y_sd_dev, tie_break_policy=\"random\")"
   ]
  },
  {
   "cell_type": "code",
   "execution_count": 32,
   "metadata": {},
   "outputs": [
    {
     "name": "stderr",
     "output_type": "stream",
     "text": [
      "/Users/phuc/opt/miniconda3/envs/master/lib/python3.6/site-packages/sklearn/metrics/classification.py:1437: UndefinedMetricWarning: Precision and F-score are ill-defined and being set to 0.0 in labels with no predicted samples.\n",
      "  'precision', 'predicted', average, warn_for)\n"
     ]
    },
    {
     "data": {
      "text/html": [
       "<div>\n",
       "<style scoped>\n",
       "    .dataframe tbody tr th:only-of-type {\n",
       "        vertical-align: middle;\n",
       "    }\n",
       "\n",
       "    .dataframe tbody tr th {\n",
       "        vertical-align: top;\n",
       "    }\n",
       "\n",
       "    .dataframe thead th {\n",
       "        text-align: right;\n",
       "    }\n",
       "</style>\n",
       "<table border=\"1\" class=\"dataframe\">\n",
       "  <thead>\n",
       "    <tr style=\"text-align: right;\">\n",
       "      <th></th>\n",
       "      <th>Metric</th>\n",
       "      <th>Micro Average</th>\n",
       "      <th>Macro Average</th>\n",
       "    </tr>\n",
       "  </thead>\n",
       "  <tbody>\n",
       "    <tr>\n",
       "      <th>0</th>\n",
       "      <td>precision</td>\n",
       "      <td>0.875000</td>\n",
       "      <td>0.773539</td>\n",
       "    </tr>\n",
       "    <tr>\n",
       "      <th>1</th>\n",
       "      <td>recall</td>\n",
       "      <td>0.913043</td>\n",
       "      <td>0.809524</td>\n",
       "    </tr>\n",
       "    <tr>\n",
       "      <th>2</th>\n",
       "      <td>f1</td>\n",
       "      <td>0.893617</td>\n",
       "      <td>0.785698</td>\n",
       "    </tr>\n",
       "    <tr>\n",
       "      <th>3</th>\n",
       "      <td>accuracy</td>\n",
       "      <td>0.901408</td>\n",
       "      <td>0.901408</td>\n",
       "    </tr>\n",
       "    <tr>\n",
       "      <th>4</th>\n",
       "      <td>coverage</td>\n",
       "      <td>0.929577</td>\n",
       "      <td>0.929577</td>\n",
       "    </tr>\n",
       "  </tbody>\n",
       "</table>\n",
       "</div>"
      ],
      "text/plain": [
       "      Metric  Micro Average  Macro Average\n",
       "0  precision       0.875000       0.773539\n",
       "1     recall       0.913043       0.809524\n",
       "2         f1       0.893617       0.785698\n",
       "3   accuracy       0.901408       0.901408\n",
       "4   coverage       0.929577       0.929577"
      ]
     },
     "execution_count": 32,
     "metadata": {},
     "output_type": "execute_result"
    }
   ],
   "source": [
    "score_model(model=daystream_mlv, L=L_sd_dev, Y=Y_sd_dev, tie_break_policy=\"random\", labels=positive_event_type_indices)"
   ]
  },
  {
   "cell_type": "markdown",
   "metadata": {},
   "source": [
    "### Do predictions on the daystream data"
   ]
  },
  {
   "cell_type": "code",
   "execution_count": 33,
   "metadata": {},
   "outputs": [],
   "source": [
    "daystream_probs = daystream_model.predict_proba(L=L_daystream)"
   ]
  },
  {
   "cell_type": "markdown",
   "metadata": {},
   "source": [
    "In the proposed workflow one would filter out all the datapoints that were not labeled by any of the labeling functions.\n",
    "There will not be such a case here because we use a negative labeling functions that outputs the negative trigger label, when all the other labeling functions abstain.\n",
    "If it was not the case, we would instead multiply the probabilities of abstains with zero so that they look like padding instances, when fed into the end model.\n",
    "We propose this workaround since examples that are filtered out here are treated as negative examples per default in the end model.\n",
    "We also cannot afford to filter out the whole document if just one trigger/role example was not labeled."
   ]
  },
  {
   "cell_type": "code",
   "execution_count": 34,
   "metadata": {},
   "outputs": [
    {
     "name": "stderr",
     "output_type": "stream",
     "text": [
      "INFO:wsee:Merging event trigger examples that belong to the same document\n"
     ]
    }
   ],
   "source": [
    "labeled_daystream = pipeline.merge_event_trigger_examples(df_daystream, daystream_probs)"
   ]
  },
  {
   "cell_type": "code",
   "execution_count": 35,
   "metadata": {},
   "outputs": [],
   "source": [
    "labeled_daystream.reset_index(level=0).to_json(DATA_DIR + \"/save_daystreamv6_triggers.jsonl\", orient='records', lines=True, force_ascii=False)"
   ]
  },
  {
   "cell_type": "markdown",
   "metadata": {},
   "source": [
    "## Step 7: Check Daystream Labeling\n",
    "\n",
    "To look at the daystream labeling it would be best to remove the abstains."
   ]
  },
  {
   "cell_type": "code",
   "execution_count": 36,
   "metadata": {},
   "outputs": [],
   "source": [
    "from snorkel.labeling import filter_unlabeled_dataframe\n",
    "\n",
    "df_daystream_filtered, probs_daystream_filtered = filter_unlabeled_dataframe(\n",
    "    X=df_daystream, y=daystream_probs, L=L_daystream\n",
    ")"
   ]
  },
  {
   "cell_type": "code",
   "execution_count": 37,
   "metadata": {},
   "outputs": [],
   "source": [
    "df_daystream_filtered['trigger_probs'] = list(probs_daystream_filtered)\n",
    "df_daystream_filtered['most_probable_class'] = [SD4M_RELATION_TYPES[label_idx] for label_idx in probs_daystream_filtered.argmax(axis=1)]\n",
    "df_daystream_filtered['max_class_prob'] = [\"{:.2f}\".format(class_prob) for class_prob in probs_daystream_filtered.max(axis=1)]"
   ]
  },
  {
   "cell_type": "code",
   "execution_count": 38,
   "metadata": {},
   "outputs": [
    {
     "name": "stdout",
     "output_type": "stream",
     "text": [
      "Accident: 359 instances\n",
      "CanceledRoute: 427 instances\n",
      "CanceledStop: 35 instances\n",
      "Delay: 432 instances\n",
      "Obstruction: 644 instances\n",
      "RailReplacementService: 186 instances\n",
      "TrafficJam: 65 instances\n",
      "O: 928 instances\n"
     ]
    }
   ],
   "source": [
    "for trigger_class in SD4M_RELATION_TYPES:\n",
    "    print(f\"{trigger_class}: {len(df_daystream_filtered[df_daystream_filtered['most_probable_class'] == trigger_class])} instances\")"
   ]
  },
  {
   "cell_type": "markdown",
   "metadata": {},
   "source": [
    "Code to display all the rows of the dataframe:\n",
    "```python\n",
    "with pd.option_context('display.max_rows', None, 'display.max_columns', None):  # more options can be specified also\n",
    "    display(df_daystream_filtered[df_daystream_filtered['most_probable_class'] == 'O'][['text', 'trigger', 'most_probable_class', 'max_class_prob', 'trigger_probs']])\n",
    "```"
   ]
  },
  {
   "cell_type": "code",
   "execution_count": 39,
   "metadata": {},
   "outputs": [
    {
     "data": {
      "text/html": [
       "<div>\n",
       "<style scoped>\n",
       "    .dataframe tbody tr th:only-of-type {\n",
       "        vertical-align: middle;\n",
       "    }\n",
       "\n",
       "    .dataframe tbody tr th {\n",
       "        vertical-align: top;\n",
       "    }\n",
       "\n",
       "    .dataframe thead th {\n",
       "        text-align: right;\n",
       "    }\n",
       "</style>\n",
       "<table border=\"1\" class=\"dataframe\">\n",
       "  <thead>\n",
       "    <tr style=\"text-align: right;\">\n",
       "      <th></th>\n",
       "      <th>text</th>\n",
       "      <th>trigger</th>\n",
       "      <th>most_probable_class</th>\n",
       "      <th>max_class_prob</th>\n",
       "      <th>trigger_probs</th>\n",
       "    </tr>\n",
       "  </thead>\n",
       "  <tbody>\n",
       "    <tr>\n",
       "      <th>139</th>\n",
       "      <td>Störung Z10 S4 S5 S6 S60: Nordbahnhof - Hauptbahnhof (tief): Verspätungen und Fahrtausfälle wegen https://t.co/OvqLQqQd8B</td>\n",
       "      <td>{'id': 'c/eae0a52f-7215-4fbf-b0ab-207d65bc8458', 'text': 'Fahrtausfälle', 'entity_type': 'trigger', 'start': 16, 'end': 17, 'char_start': 78, 'char_end': 91}</td>\n",
       "      <td>CanceledRoute</td>\n",
       "      <td>0.92</td>\n",
       "      <td>[8.88346316577926e-09, 0.9182762726984268, 0.0007755455670196107, 9.786866199587348e-09, 0.033630494738167004, 3.312477790629557e-09, 0.04133703932971479, 0.0059806256838644545]</td>\n",
       "    </tr>\n",
       "  </tbody>\n",
       "</table>\n",
       "</div>"
      ],
      "text/plain": [
       "                                                                                                                          text  \\\n",
       "139  Störung Z10 S4 S5 S6 S60: Nordbahnhof - Hauptbahnhof (tief): Verspätungen und Fahrtausfälle wegen https://t.co/OvqLQqQd8B   \n",
       "\n",
       "                                                                                                                                                           trigger  \\\n",
       "139  {'id': 'c/eae0a52f-7215-4fbf-b0ab-207d65bc8458', 'text': 'Fahrtausfälle', 'entity_type': 'trigger', 'start': 16, 'end': 17, 'char_start': 78, 'char_end': 91}   \n",
       "\n",
       "    most_probable_class max_class_prob  \\\n",
       "139       CanceledRoute           0.92   \n",
       "\n",
       "                                                                                                                                                                         trigger_probs  \n",
       "139  [8.88346316577926e-09, 0.9182762726984268, 0.0007755455670196107, 9.786866199587348e-09, 0.033630494738167004, 3.312477790629557e-09, 0.04133703932971479, 0.0059806256838644545]  "
      ]
     },
     "execution_count": 39,
     "metadata": {},
     "output_type": "execute_result"
    }
   ],
   "source": [
    "df_daystream_filtered[df_daystream_filtered['most_probable_class'] == 'CanceledRoute'].sample(1)[['text', 'trigger', 'most_probable_class', 'max_class_prob', 'trigger_probs']]"
   ]
  },
  {
   "cell_type": "code",
   "execution_count": null,
   "metadata": {},
   "outputs": [],
   "source": []
  }
 ],
 "metadata": {
  "kernelspec": {
   "display_name": "Python 3.6 (master)",
   "language": "python",
   "name": "master"
  },
  "language_info": {
   "codemirror_mode": {
    "name": "ipython",
    "version": 3
   },
   "file_extension": ".py",
   "mimetype": "text/x-python",
   "name": "python",
   "nbconvert_exporter": "python",
   "pygments_lexer": "ipython3",
   "version": "3.6.10"
  },
  "pycharm": {
   "stem_cell": {
    "cell_type": "raw",
    "metadata": {
     "collapsed": false
    },
    "source": []
   }
  }
 },
 "nbformat": 4,
 "nbformat_minor": 4
}
