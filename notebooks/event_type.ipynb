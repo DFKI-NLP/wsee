{
 "cells": [
  {
   "cell_type": "markdown",
   "metadata": {},
   "source": [
    "# Transform the data to work with Snorkel: Part 1 - Event Type\n",
    "\n",
    "Essentially we will have to create two labeling models.\n",
    "One assigns labels to event types and the other assigns labels to argument roles in event mentions.\n",
    "\n",
    "In any case we need to create a row for each event (trigger) to do event type labeling.\n",
    "\n",
    "For this we need 1 additional column:\n",
    "- trigger_id\n",
    "\n",
    "One numpy array containing the:\n",
    "- event_type\n",
    "\n",
    "We will probably focus on keyword lists and some heuristics to create our labeling functions."
   ]
  },
  {
   "cell_type": "code",
   "execution_count": 1,
   "metadata": {},
   "outputs": [],
   "source": [
    "import sys\n",
    "sys.path.append(\"../\")\n",
    "from wsee.utils import utils\n",
    "from wsee.data import pipeline\n",
    "\n",
    "DATA_DIR = '/Users/phuc/data/snorkel-daystreamv5'  # replace path to corpus"
   ]
  },
  {
   "cell_type": "markdown",
   "metadata": {},
   "source": [
    "### SD4M Event Types\n",
    "\n",
    "| Number | Code                   | Description                                                                             |\n",
    "|--------|------------------------|-----------------------------------------------------------------------------------------|\n",
    "| -1     | ABSTAIN                | No vote, for Labeling Functions                                                         |\n",
    "| 0      | Accident               | Collision of a vehicle with another vehicle, person, or obstruction                     |\n",
    "| 1      | CanceledRoute          | Cancellation of public transport routes                                                 |\n",
    "| 2      | CanceledStop           | Cancellation of public transport stops                                                  |\n",
    "| 3      | Delay                  | Delay resulting from remaining traffic disturbances                                     |\n",
    "| 4      | Obstruction            | Temporary installation to control traffic                                               |\n",
    "| 5      | RailReplacementService | Replacement of a passenger train by buses or other substitute public transport services |\n",
    "| 6      | TrafficJam             | Line of stationary or very slow-moving traffic                                          |\n",
    "| 7      | O                      | No SD4M event.                                                                          |"
   ]
  },
  {
   "cell_type": "code",
   "execution_count": 2,
   "metadata": {},
   "outputs": [],
   "source": [
    "loaded_data = pipeline.load_data(DATA_DIR)\n",
    "sd_train = loaded_data['train']\n",
    "sd_dev = loaded_data['dev']\n",
    "sd_test = loaded_data['test']\n",
    "\n",
    "daystream = loaded_data['daystream']"
   ]
  },
  {
   "cell_type": "code",
   "execution_count": 3,
   "metadata": {},
   "outputs": [
    {
     "data": {
      "text/html": [
       "<div>\n",
       "<style scoped>\n",
       "    .dataframe tbody tr th:only-of-type {\n",
       "        vertical-align: middle;\n",
       "    }\n",
       "\n",
       "    .dataframe tbody tr th {\n",
       "        vertical-align: top;\n",
       "    }\n",
       "\n",
       "    .dataframe thead th {\n",
       "        text-align: right;\n",
       "    }\n",
       "</style>\n",
       "<table border=\"1\" class=\"dataframe\">\n",
       "  <thead>\n",
       "    <tr style=\"text-align: right;\">\n",
       "      <th></th>\n",
       "      <th>id</th>\n",
       "      <th>text</th>\n",
       "      <th>tokens</th>\n",
       "      <th>pos_tags</th>\n",
       "      <th>ner_tags</th>\n",
       "      <th>entities</th>\n",
       "      <th>event_triggers</th>\n",
       "      <th>event_roles</th>\n",
       "    </tr>\n",
       "  </thead>\n",
       "  <tbody>\n",
       "    <tr>\n",
       "      <th>0</th>\n",
       "      <td>http://www.viz-info.de/LMS-BR_r_LMS-BR_60517@2...</td>\n",
       "      <td>Unfall\\nAbschnitt: Marzahn (Berlin)\\nGültig ab...</td>\n",
       "      <td>[Unfall, Abschnitt, :, Marzahn, (, Berlin, ), ...</td>\n",
       "      <td>[NN, NN, $., NE, TRUNC, NE, TRUNC, NN, PTKVZ, ...</td>\n",
       "      <td>[B-TRIGGER, O, O, B-LOCATION, O, B-LOCATION_CI...</td>\n",
       "      <td>[{'id': 'c/e6ad8c7f-24a4-4742-a52d-90207de04f0...</td>\n",
       "      <td>[{'id': 'c/e6ad8c7f-24a4-4742-a52d-90207de04f0...</td>\n",
       "      <td>[{'trigger': 'c/e6ad8c7f-24a4-4742-a52d-90207d...</td>\n",
       "    </tr>\n",
       "    <tr>\n",
       "      <th>1</th>\n",
       "      <td>http://www.deutschlandradio.de/#17@2016-04-04T...</td>\n",
       "      <td>Vorsicht auf der A7 Ulm Richtung Füssen zwisch...</td>\n",
       "      <td>[Vorsicht, auf, der, A7, Ulm, Richtung, Füssen...</td>\n",
       "      <td>[NN, APPR, ART, NE, NE, NN, NN, APPR, NN, NE, ...</td>\n",
       "      <td>[O, O, O, B-LOCATION_STREET, B-LOCATION_CITY, ...</td>\n",
       "      <td>[{'id': 'c/2db85836-812f-4ced-90d3-46df9495782...</td>\n",
       "      <td>[]</td>\n",
       "      <td>[]</td>\n",
       "    </tr>\n",
       "    <tr>\n",
       "      <th>2</th>\n",
       "      <td>667383197769048064</td>\n",
       "      <td>Genau in dem Bus sitzen, der im Stau steht. Fü...</td>\n",
       "      <td>[Genau, in, dem, Bus, sitzen, ,, der, im, Stau...</td>\n",
       "      <td>[ADV, APPR, ART, NN, VVFIN, $,, PRELS, APPRART...</td>\n",
       "      <td>[O, O, O, O, O, O, O, O, O, O, O, O, O, O, O]</td>\n",
       "      <td>[]</td>\n",
       "      <td>[]</td>\n",
       "      <td>[]</td>\n",
       "    </tr>\n",
       "    <tr>\n",
       "      <th>3</th>\n",
       "      <td>603844236484550658</td>\n",
       "      <td>Große Carsharing-Übernahme: Der französische C...</td>\n",
       "      <td>[Große, Carsharing, -, Übernahme, :, Der, fran...</td>\n",
       "      <td>[ADJA, NN, $[, NN, $., ART, ADJA, NN, $[, NN, ...</td>\n",
       "      <td>[O, O, O, O, O, O, B-LOCATION, O, O, O, B-ORGA...</td>\n",
       "      <td>[{'id': 'c/f0fdb663-677e-4353-9159-8a9530f9777...</td>\n",
       "      <td>[]</td>\n",
       "      <td>[]</td>\n",
       "    </tr>\n",
       "    <tr>\n",
       "      <th>4</th>\n",
       "      <td>http://bauarbeiten.bahn.de/fernverkehr/Linie/I...</td>\n",
       "      <td>an mehreren Terminen\\n an den Freitagen, 3. un...</td>\n",
       "      <td>[an, mehreren, Terminen, an, den, Freitagen, ,...</td>\n",
       "      <td>[APPR, PIAT, NN, APPR, ART, NN, $,, CARD, $., ...</td>\n",
       "      <td>[O, O, O, O, O, B-DATE, I-DATE, I-DATE, I-DATE...</td>\n",
       "      <td>[{'id': 'c/f46384bf-20c6-47f5-a019-2a11fc52079...</td>\n",
       "      <td>[{'id': 'c/f84a50a1-b58f-4077-a68c-ae95a4f81e3...</td>\n",
       "      <td>[{'trigger': 'c/f84a50a1-b58f-4077-a68c-ae95a4...</td>\n",
       "    </tr>\n",
       "  </tbody>\n",
       "</table>\n",
       "</div>"
      ],
      "text/plain": [
       "                                                  id  \\\n",
       "0  http://www.viz-info.de/LMS-BR_r_LMS-BR_60517@2...   \n",
       "1  http://www.deutschlandradio.de/#17@2016-04-04T...   \n",
       "2                                 667383197769048064   \n",
       "3                                 603844236484550658   \n",
       "4  http://bauarbeiten.bahn.de/fernverkehr/Linie/I...   \n",
       "\n",
       "                                                text  \\\n",
       "0  Unfall\\nAbschnitt: Marzahn (Berlin)\\nGültig ab...   \n",
       "1  Vorsicht auf der A7 Ulm Richtung Füssen zwisch...   \n",
       "2  Genau in dem Bus sitzen, der im Stau steht. Fü...   \n",
       "3  Große Carsharing-Übernahme: Der französische C...   \n",
       "4  an mehreren Terminen\\n an den Freitagen, 3. un...   \n",
       "\n",
       "                                              tokens  \\\n",
       "0  [Unfall, Abschnitt, :, Marzahn, (, Berlin, ), ...   \n",
       "1  [Vorsicht, auf, der, A7, Ulm, Richtung, Füssen...   \n",
       "2  [Genau, in, dem, Bus, sitzen, ,, der, im, Stau...   \n",
       "3  [Große, Carsharing, -, Übernahme, :, Der, fran...   \n",
       "4  [an, mehreren, Terminen, an, den, Freitagen, ,...   \n",
       "\n",
       "                                            pos_tags  \\\n",
       "0  [NN, NN, $., NE, TRUNC, NE, TRUNC, NN, PTKVZ, ...   \n",
       "1  [NN, APPR, ART, NE, NE, NN, NN, APPR, NN, NE, ...   \n",
       "2  [ADV, APPR, ART, NN, VVFIN, $,, PRELS, APPRART...   \n",
       "3  [ADJA, NN, $[, NN, $., ART, ADJA, NN, $[, NN, ...   \n",
       "4  [APPR, PIAT, NN, APPR, ART, NN, $,, CARD, $., ...   \n",
       "\n",
       "                                            ner_tags  \\\n",
       "0  [B-TRIGGER, O, O, B-LOCATION, O, B-LOCATION_CI...   \n",
       "1  [O, O, O, B-LOCATION_STREET, B-LOCATION_CITY, ...   \n",
       "2      [O, O, O, O, O, O, O, O, O, O, O, O, O, O, O]   \n",
       "3  [O, O, O, O, O, O, B-LOCATION, O, O, O, B-ORGA...   \n",
       "4  [O, O, O, O, O, B-DATE, I-DATE, I-DATE, I-DATE...   \n",
       "\n",
       "                                            entities  \\\n",
       "0  [{'id': 'c/e6ad8c7f-24a4-4742-a52d-90207de04f0...   \n",
       "1  [{'id': 'c/2db85836-812f-4ced-90d3-46df9495782...   \n",
       "2                                                 []   \n",
       "3  [{'id': 'c/f0fdb663-677e-4353-9159-8a9530f9777...   \n",
       "4  [{'id': 'c/f46384bf-20c6-47f5-a019-2a11fc52079...   \n",
       "\n",
       "                                      event_triggers  \\\n",
       "0  [{'id': 'c/e6ad8c7f-24a4-4742-a52d-90207de04f0...   \n",
       "1                                                 []   \n",
       "2                                                 []   \n",
       "3                                                 []   \n",
       "4  [{'id': 'c/f84a50a1-b58f-4077-a68c-ae95a4f81e3...   \n",
       "\n",
       "                                         event_roles  \n",
       "0  [{'trigger': 'c/e6ad8c7f-24a4-4742-a52d-90207d...  \n",
       "1                                                 []  \n",
       "2                                                 []  \n",
       "3                                                 []  \n",
       "4  [{'trigger': 'c/f84a50a1-b58f-4077-a68c-ae95a4...  "
      ]
     },
     "execution_count": 3,
     "metadata": {},
     "output_type": "execute_result"
    }
   ],
   "source": [
    "sd_train.head()"
   ]
  },
  {
   "cell_type": "markdown",
   "metadata": {},
   "source": [
    "## Step 1: Create one row for every event trigger\n",
    "\n",
    "We will use the (labeled) SD4M training set as our development data to create our labeling functions.\n",
    "In this notebook we will run our labeling functions and our LabelModel on that data.\n",
    "In the real pipeline we will instead label the Daystream data that does not have event type and event argument role labels."
   ]
  },
  {
   "cell_type": "code",
   "execution_count": 4,
   "metadata": {},
   "outputs": [
    {
     "name": "stderr",
     "output_type": "stream",
     "text": [
      "116it [00:00, 656.26it/s]"
     ]
    },
    {
     "name": "stdout",
     "output_type": "stream",
     "text": [
      "DataFrame has 1273 rows\n"
     ]
    },
    {
     "name": "stderr",
     "output_type": "stream",
     "text": [
      "1273it [00:01, 1091.86it/s]\n"
     ]
    },
    {
     "name": "stdout",
     "output_type": "stream",
     "text": [
      "Number of events: 487\n"
     ]
    }
   ],
   "source": [
    "df_dev, Y_dev = pipeline.build_event_trigger_examples(sd_train)"
   ]
  },
  {
   "cell_type": "markdown",
   "metadata": {},
   "source": [
    "We use the (labeled) SD4m development set as our \"test set\" to measure the performance of our LabelModel."
   ]
  },
  {
   "cell_type": "code",
   "execution_count": 5,
   "metadata": {},
   "outputs": [
    {
     "name": "stderr",
     "output_type": "stream",
     "text": [
      "147it [00:00, 1465.98it/s]"
     ]
    },
    {
     "name": "stdout",
     "output_type": "stream",
     "text": [
      "DataFrame has 147 rows\n",
      "Number of events: 46\n"
     ]
    },
    {
     "name": "stderr",
     "output_type": "stream",
     "text": [
      "\n"
     ]
    }
   ],
   "source": [
    "df_test, Y_test = pipeline.build_event_trigger_examples(sd_dev)"
   ]
  },
  {
   "cell_type": "code",
   "execution_count": 6,
   "metadata": {},
   "outputs": [
    {
     "name": "stdout",
     "output_type": "stream",
     "text": [
      "['Accident', 'CanceledRoute', 'CanceledStop', 'Delay', 'Obstruction', 'RailReplacementService', 'TrafficJam', 'O']\n"
     ]
    }
   ],
   "source": [
    "from wsee import SD4M_RELATION_TYPES\n",
    "print(SD4M_RELATION_TYPES)"
   ]
  },
  {
   "cell_type": "markdown",
   "metadata": {},
   "source": [
    "## Step 2: Explore the data"
   ]
  },
  {
   "cell_type": "code",
   "execution_count": 7,
   "metadata": {},
   "outputs": [],
   "source": [
    "from wsee.preprocessors.preprocessors import *\n",
    "from wsee.data import explore, pipeline"
   ]
  },
  {
   "cell_type": "markdown",
   "metadata": {},
   "source": [
    "We can apply all our preprocessors on our data and see if we can find something interesting for our labeling functions.\n",
    "Let's first sample the SD4M training data, which is labeled."
   ]
  },
  {
   "cell_type": "code",
   "execution_count": 8,
   "metadata": {},
   "outputs": [],
   "source": [
    "labeled_sd4m_triggers = explore.add_labels(df_dev, Y_dev)"
   ]
  },
  {
   "cell_type": "code",
   "execution_count": 9,
   "metadata": {},
   "outputs": [
    {
     "name": "stderr",
     "output_type": "stream",
     "text": [
      "100%|██████████| 6/6 [00:07<00:00,  1.30s/it]\n"
     ]
    }
   ],
   "source": [
    "labeled_sd4m_triggers = explore.apply_preprocessors(labeled_sd4m_triggers, [get_trigger, get_trigger_text, get_trigger_left_tokens, get_trigger_right_tokens, get_entity_type_freqs, get_mixed_ner])"
   ]
  },
  {
   "cell_type": "code",
   "execution_count": 10,
   "metadata": {},
   "outputs": [],
   "source": [
    "labeled_sd4m_triggers = explore.add_event_types(labeled_sd4m_triggers)"
   ]
  },
  {
   "cell_type": "markdown",
   "metadata": {},
   "source": [
    "Let's first take a look at the trigger text."
   ]
  },
  {
   "cell_type": "code",
   "execution_count": 11,
   "metadata": {},
   "outputs": [],
   "source": [
    "import pandas as pd\n",
    "pd.set_option('display.max_colwidth', -1)"
   ]
  },
  {
   "cell_type": "code",
   "execution_count": 12,
   "metadata": {},
   "outputs": [
    {
     "data": {
      "text/html": [
       "<div>\n",
       "<style scoped>\n",
       "    .dataframe tbody tr th:only-of-type {\n",
       "        vertical-align: middle;\n",
       "    }\n",
       "\n",
       "    .dataframe tbody tr th {\n",
       "        vertical-align: top;\n",
       "    }\n",
       "\n",
       "    .dataframe thead th {\n",
       "        text-align: right;\n",
       "    }\n",
       "</style>\n",
       "<table border=\"1\" class=\"dataframe\">\n",
       "  <thead>\n",
       "    <tr style=\"text-align: right;\">\n",
       "      <th></th>\n",
       "      <th>trigger_left_tokens</th>\n",
       "      <th>trigger_text</th>\n",
       "      <th>trigger_right_tokens</th>\n",
       "      <th>entity_type_freqs</th>\n",
       "      <th>mixed_ner</th>\n",
       "      <th>label</th>\n",
       "      <th>event_types</th>\n",
       "    </tr>\n",
       "  </thead>\n",
       "  <tbody>\n",
       "    <tr>\n",
       "      <th>296</th>\n",
       "      <td>[Die, A61, Mönchengladbach, Richtung, Venlo, ist, zwischen, Viersen, und, Nettetal, wegen, Bergungsarbeiten]</td>\n",
       "      <td>gesperrt</td>\n",
       "      <td>[., Zurzeit, 2, km, Stau, .]</td>\n",
       "      <td>{'location_street': 1, 'location_city': 2, 'location': 2, 'trigger': 2, 'distance': 1}</td>\n",
       "      <td>Die LOCATION_STREET LOCATION_CITY Richtung LOCATION_CITY ist zwischen LOCATION und LOCATION wegen TRIGGER TRIGGER. Zurzeit DISTANCE Stau.\\n</td>\n",
       "      <td>4</td>\n",
       "      <td>[(Bergungsarbeiten, 7), (gesperrt, 4)]</td>\n",
       "    </tr>\n",
       "    <tr>\n",
       "      <th>823</th>\n",
       "      <td>[]</td>\n",
       "      <td>Vorsicht</td>\n",
       "      <td>[bitte, in, beiden, Richtungen, auf, der, A20, Lübeck, -, Rostock, zwischen, Grevesmühlen, und, Rastplatz, Bretthäger, Wisch, laufen, Tiere, !]</td>\n",
       "      <td>{'trigger': 2, 'location': 3, 'location_street': 1, 'location_city': 2}</td>\n",
       "      <td>TRIGGER bitte in LOCATION auf der LOCATION_STREET LOCATION_CITY - LOCATION_CITY zwischen LOCATION und LOCATION laufen TRIGGER!\\n</td>\n",
       "      <td>4</td>\n",
       "      <td>[(Vorsicht, 4), (Tiere, 7)]</td>\n",
       "    </tr>\n",
       "    <tr>\n",
       "      <th>723</th>\n",
       "      <td>[■, #Hamburg, :, Auf, der, #B4]</td>\n",
       "      <td>behindern</td>\n",
       "      <td>[im, Verlauf, Stresemannstraße, -, Neuer, Pferdemarkt, #Bauarbeiten, den, Verkehr, .]</td>\n",
       "      <td>{'location_city': 1, 'location_street': 3, 'trigger': 2}</td>\n",
       "      <td>■ LOCATION_CITY: Auf der LOCATION_STREET  TRIGGER im Verlauf LOCATION_STREET - LOCATION_STREET TRIGGER den Verkehr.\\n</td>\n",
       "      <td>4</td>\n",
       "      <td>[(behindern, 4), (#Bauarbeiten, 7)]</td>\n",
       "    </tr>\n",
       "    <tr>\n",
       "      <th>665</th>\n",
       "      <td>[Kreis, Schleswig, -, Flensburg, :, Die, Kreisstraße, zwischen, Selk, und, Geltorf, ist, wegen, Überflutung, der, dortigen, Wiesen]</td>\n",
       "      <td>gesperrt</td>\n",
       "      <td>[., Eine, Umleitung, ist, eingerichtet, .]</td>\n",
       "      <td>{'location': 1, 'location_street': 1, 'location_city': 2, 'trigger': 2}</td>\n",
       "      <td>Kreis LOCATION: Die LOCATION_STREET zwischen LOCATION_CITY und LOCATION_CITY ist wegen TRIGGER der dortigen Wiesen TRIGGER. Eine Umleitung ist eingerichtet.\\n</td>\n",
       "      <td>4</td>\n",
       "      <td>[(Überflutung, 7), (gesperrt, 4)]</td>\n",
       "    </tr>\n",
       "    <tr>\n",
       "      <th>811</th>\n",
       "      <td>[Auf, der, A2, Hannover, Richtung, Dortmund, ist, die, Anschlussstelle, Vlotho, -, West, wegen, Bauarbeiten, voraussichtlich, bis, zum, 15, ., Dezember]</td>\n",
       "      <td>gesperrt</td>\n",
       "      <td>[., Weichen, Sie, über, die, Anschlussstellen, Bad, Oyenhausen, oder, Herford, -, Ost, aus, .]</td>\n",
       "      <td>{'location_street': 1, 'location_city': 2, 'location': 3, 'trigger': 2, 'date': 1}</td>\n",
       "      <td>Auf der LOCATION_STREET LOCATION_CITY Richtung LOCATION_CITY ist die Anschlussstelle LOCATION wegen TRIGGER voraussichtlich bis zum DATE TRIGGER. Weichen Sie über die Anschlussstellen LOCATION oder LOCATION aus.\\n</td>\n",
       "      <td>4</td>\n",
       "      <td>[(Bauarbeiten, 7), (gesperrt, 4)]</td>\n",
       "    </tr>\n",
       "    <tr>\n",
       "      <th>877</th>\n",
       "      <td>[A27, Bremerhaven, Richtung, Bremen, die, Ausfahrt, Bremen, -, Vahr, ist, nach, einem, Unfall]</td>\n",
       "      <td>gesperrt</td>\n",
       "      <td>[.]</td>\n",
       "      <td>{'location_street': 1, 'location_city': 2, 'location': 1, 'trigger': 2}</td>\n",
       "      <td>LOCATION_STREET LOCATION_CITY Richtung LOCATION_CITY die LOCATION ist nach einem TRIGGER TRIGGER.\\n</td>\n",
       "      <td>4</td>\n",
       "      <td>[(Unfall, 7), (gesperrt, 4)]</td>\n",
       "    </tr>\n",
       "    <tr>\n",
       "      <th>430</th>\n",
       "      <td>[Kreis, Biberach, ,, K7588, zwischen, Daugendorf, und, Unlingen, in, beiden, Richtungen, Gefahr, durch, Hochwasser, ,, Verbindungsfahrbahn]</td>\n",
       "      <td>gesperrt</td>\n",
       "      <td>[,, eine, örtliche, Umleitung, ist, eingerichtet, ,, bis, 19.04.2016, 17:00, Uhr]</td>\n",
       "      <td>{'location': 1, 'location_street': 1, 'location_city': 2, 'trigger': 3, 'date': 1, 'time': 1}</td>\n",
       "      <td>LOCATION, LOCATION_STREET zwischen LOCATION_CITY und LOCATION_CITY in beiden Richtungen Gefahr durch TRIGGER, Verbindungsfahrbahn TRIGGER, eine örtliche TRIGGER ist eingerichtet, bis DATE TIME\\n</td>\n",
       "      <td>4</td>\n",
       "      <td>[(Hochwasser, 7), (gesperrt, 4), (Umleitung, 4)]</td>\n",
       "    </tr>\n",
       "    <tr>\n",
       "      <th>1016</th>\n",
       "      <td>[RT, @hannover, :, Ab, Montag, (, 18.7, ., ), wird, die, Dragonerstr, ., zw, ., Isernhagener, &amp;, Vahrenwalder, Str, .]</td>\n",
       "      <td>gesperrt</td>\n",
       "      <td>[:, https://t.co/dcztfI3JF6, ^, SW, https://t.…]</td>\n",
       "      <td>{'location_city': 1, 'date': 2, 'location_street': 3, 'trigger': 1}</td>\n",
       "      <td>RT LOCATION_CITY: Ab DATE (DATE) wird die LOCATION_STREET. zw. LOCATION_STREET &amp; LOCATION_STREET TRIGGER: https://t.co/dcztfI3JF6 ^SW https://t.…\\n</td>\n",
       "      <td>4</td>\n",
       "      <td>[(gesperrt, 4)]</td>\n",
       "    </tr>\n",
       "    <tr>\n",
       "      <th>663</th>\n",
       "      <td>[Die, B217, Springe, Richtung, Hannover, ist, in, Höhe, Alvesrode, /, Wisentgehege, wegen, Bauarbeiten, bis, Samstag, 17:00, Uhr]</td>\n",
       "      <td>gesperrt.</td>\n",
       "      <td>[Eine, Umleitung, ist, eingerichtet, .]</td>\n",
       "      <td>{'location_street': 1, 'location_city': 2, 'location': 1, 'trigger': 2, 'date': 1, 'time': 1}</td>\n",
       "      <td>Die LOCATION_STREET LOCATION_CITY Richtung LOCATION_CITY ist in Höhe LOCATION wegen TRIGGER bis DATE TIME TRIGGER Eine Umleitung ist eingerichtet.\\n</td>\n",
       "      <td>4</td>\n",
       "      <td>[(Bauarbeiten, 7), (gesperrt., 4)]</td>\n",
       "    </tr>\n",
       "    <tr>\n",
       "      <th>371</th>\n",
       "      <td>[Hamburg, :, Der, Schiffbeker, Weg, ist, zwischen, Billstedter, Hauptstraße, und, Reclamstraße, nach, einem, Unfall]</td>\n",
       "      <td>gesperrt</td>\n",
       "      <td>[.]</td>\n",
       "      <td>{'location_city': 1, 'location_street': 3, 'trigger': 2}</td>\n",
       "      <td>LOCATION_CITY: Der LOCATION_STREET ist zwischen LOCATION_STREET und LOCATION_STREET nach einem TRIGGER TRIGGER.\\n</td>\n",
       "      <td>4</td>\n",
       "      <td>[(Unfall, 7), (gesperrt, 4)]</td>\n",
       "    </tr>\n",
       "  </tbody>\n",
       "</table>\n",
       "</div>"
      ],
      "text/plain": [
       "                                                                                                                                           trigger_left_tokens  \\\n",
       "296   [Die, A61, Mönchengladbach, Richtung, Venlo, ist, zwischen, Viersen, und, Nettetal, wegen, Bergungsarbeiten]                                               \n",
       "823   []                                                                                                                                                         \n",
       "723   [■, #Hamburg, :, Auf, der, #B4]                                                                                                                            \n",
       "665   [Kreis, Schleswig, -, Flensburg, :, Die, Kreisstraße, zwischen, Selk, und, Geltorf, ist, wegen, Überflutung, der, dortigen, Wiesen]                        \n",
       "811   [Auf, der, A2, Hannover, Richtung, Dortmund, ist, die, Anschlussstelle, Vlotho, -, West, wegen, Bauarbeiten, voraussichtlich, bis, zum, 15, ., Dezember]   \n",
       "877   [A27, Bremerhaven, Richtung, Bremen, die, Ausfahrt, Bremen, -, Vahr, ist, nach, einem, Unfall]                                                             \n",
       "430   [Kreis, Biberach, ,, K7588, zwischen, Daugendorf, und, Unlingen, in, beiden, Richtungen, Gefahr, durch, Hochwasser, ,, Verbindungsfahrbahn]                \n",
       "1016  [RT, @hannover, :, Ab, Montag, (, 18.7, ., ), wird, die, Dragonerstr, ., zw, ., Isernhagener, &, Vahrenwalder, Str, .]                                     \n",
       "663   [Die, B217, Springe, Richtung, Hannover, ist, in, Höhe, Alvesrode, /, Wisentgehege, wegen, Bauarbeiten, bis, Samstag, 17:00, Uhr]                          \n",
       "371   [Hamburg, :, Der, Schiffbeker, Weg, ist, zwischen, Billstedter, Hauptstraße, und, Reclamstraße, nach, einem, Unfall]                                       \n",
       "\n",
       "     trigger_text  \\\n",
       "296   gesperrt      \n",
       "823   Vorsicht      \n",
       "723   behindern     \n",
       "665   gesperrt      \n",
       "811   gesperrt      \n",
       "877   gesperrt      \n",
       "430   gesperrt      \n",
       "1016  gesperrt      \n",
       "663   gesperrt.     \n",
       "371   gesperrt      \n",
       "\n",
       "                                                                                                                                 trigger_right_tokens  \\\n",
       "296   [., Zurzeit, 2, km, Stau, .]                                                                                                                      \n",
       "823   [bitte, in, beiden, Richtungen, auf, der, A20, Lübeck, -, Rostock, zwischen, Grevesmühlen, und, Rastplatz, Bretthäger, Wisch, laufen, Tiere, !]   \n",
       "723   [im, Verlauf, Stresemannstraße, -, Neuer, Pferdemarkt, #Bauarbeiten, den, Verkehr, .]                                                             \n",
       "665   [., Eine, Umleitung, ist, eingerichtet, .]                                                                                                        \n",
       "811   [., Weichen, Sie, über, die, Anschlussstellen, Bad, Oyenhausen, oder, Herford, -, Ost, aus, .]                                                    \n",
       "877   [.]                                                                                                                                               \n",
       "430   [,, eine, örtliche, Umleitung, ist, eingerichtet, ,, bis, 19.04.2016, 17:00, Uhr]                                                                 \n",
       "1016  [:, https://t.co/dcztfI3JF6, ^, SW, https://t.…]                                                                                                  \n",
       "663   [Eine, Umleitung, ist, eingerichtet, .]                                                                                                           \n",
       "371   [.]                                                                                                                                               \n",
       "\n",
       "                                                                                  entity_type_freqs  \\\n",
       "296   {'location_street': 1, 'location_city': 2, 'location': 2, 'trigger': 2, 'distance': 1}          \n",
       "823   {'trigger': 2, 'location': 3, 'location_street': 1, 'location_city': 2}                         \n",
       "723   {'location_city': 1, 'location_street': 3, 'trigger': 2}                                        \n",
       "665   {'location': 1, 'location_street': 1, 'location_city': 2, 'trigger': 2}                         \n",
       "811   {'location_street': 1, 'location_city': 2, 'location': 3, 'trigger': 2, 'date': 1}              \n",
       "877   {'location_street': 1, 'location_city': 2, 'location': 1, 'trigger': 2}                         \n",
       "430   {'location': 1, 'location_street': 1, 'location_city': 2, 'trigger': 3, 'date': 1, 'time': 1}   \n",
       "1016  {'location_city': 1, 'date': 2, 'location_street': 3, 'trigger': 1}                             \n",
       "663   {'location_street': 1, 'location_city': 2, 'location': 1, 'trigger': 2, 'date': 1, 'time': 1}   \n",
       "371   {'location_city': 1, 'location_street': 3, 'trigger': 2}                                        \n",
       "\n",
       "                                                                                                                                                                                                                  mixed_ner  \\\n",
       "296   Die LOCATION_STREET LOCATION_CITY Richtung LOCATION_CITY ist zwischen LOCATION und LOCATION wegen TRIGGER TRIGGER. Zurzeit DISTANCE Stau.\\n                                                                             \n",
       "823   TRIGGER bitte in LOCATION auf der LOCATION_STREET LOCATION_CITY - LOCATION_CITY zwischen LOCATION und LOCATION laufen TRIGGER!\\n                                                                                        \n",
       "723   ■ LOCATION_CITY: Auf der LOCATION_STREET  TRIGGER im Verlauf LOCATION_STREET - LOCATION_STREET TRIGGER den Verkehr.\\n                                                                                                   \n",
       "665   Kreis LOCATION: Die LOCATION_STREET zwischen LOCATION_CITY und LOCATION_CITY ist wegen TRIGGER der dortigen Wiesen TRIGGER. Eine Umleitung ist eingerichtet.\\n                                                          \n",
       "811   Auf der LOCATION_STREET LOCATION_CITY Richtung LOCATION_CITY ist die Anschlussstelle LOCATION wegen TRIGGER voraussichtlich bis zum DATE TRIGGER. Weichen Sie über die Anschlussstellen LOCATION oder LOCATION aus.\\n   \n",
       "877   LOCATION_STREET LOCATION_CITY Richtung LOCATION_CITY die LOCATION ist nach einem TRIGGER TRIGGER.\\n                                                                                                                     \n",
       "430   LOCATION, LOCATION_STREET zwischen LOCATION_CITY und LOCATION_CITY in beiden Richtungen Gefahr durch TRIGGER, Verbindungsfahrbahn TRIGGER, eine örtliche TRIGGER ist eingerichtet, bis DATE TIME\\n                      \n",
       "1016  RT LOCATION_CITY: Ab DATE (DATE) wird die LOCATION_STREET. zw. LOCATION_STREET & LOCATION_STREET TRIGGER: https://t.co/dcztfI3JF6 ^SW https://t.…\\n                                                                     \n",
       "663   Die LOCATION_STREET LOCATION_CITY Richtung LOCATION_CITY ist in Höhe LOCATION wegen TRIGGER bis DATE TIME TRIGGER Eine Umleitung ist eingerichtet.\\n                                                                    \n",
       "371   LOCATION_CITY: Der LOCATION_STREET ist zwischen LOCATION_STREET und LOCATION_STREET nach einem TRIGGER TRIGGER.\\n                                                                                                       \n",
       "\n",
       "      label                                       event_types  \n",
       "296   4      [(Bergungsarbeiten, 7), (gesperrt, 4)]            \n",
       "823   4      [(Vorsicht, 4), (Tiere, 7)]                       \n",
       "723   4      [(behindern, 4), (#Bauarbeiten, 7)]               \n",
       "665   4      [(Überflutung, 7), (gesperrt, 4)]                 \n",
       "811   4      [(Bauarbeiten, 7), (gesperrt, 4)]                 \n",
       "877   4      [(Unfall, 7), (gesperrt, 4)]                      \n",
       "430   4      [(Hochwasser, 7), (gesperrt, 4), (Umleitung, 4)]  \n",
       "1016  4      [(gesperrt, 4)]                                   \n",
       "663   4      [(Bauarbeiten, 7), (gesperrt., 4)]                \n",
       "371   4      [(Unfall, 7), (gesperrt, 4)]                      "
      ]
     },
     "execution_count": 12,
     "metadata": {},
     "output_type": "execute_result"
    }
   ],
   "source": [
    "labeled_sd4m_triggers[labeled_sd4m_triggers['label'] == 4].sample(10)[['trigger_left_tokens','trigger_text','trigger_right_tokens','entity_type_freqs','mixed_ner','label', 'event_types']]"
   ]
  },
  {
   "cell_type": "code",
   "execution_count": 13,
   "metadata": {},
   "outputs": [
    {
     "data": {
      "text/plain": [
       "gesperrt               61\n",
       "umgeleitet             8 \n",
       "#Bauarbeiten           4 \n",
       "Vollsperrung           3 \n",
       "Behinderungen          3 \n",
       "blockiert              2 \n",
       "Schwertransport        2 \n",
       "behindern              2 \n",
       "Umleitung              2 \n",
       "Sperrung               2 \n",
       "Bauarbeiten            2 \n",
       "austelle               1 \n",
       "Vorsicht               1 \n",
       "brennender PKW         1 \n",
       "Störung:               1 \n",
       "Streckensperrung       1 \n",
       "lahm                   1 \n",
       "gesperrt.              1 \n",
       "Verkehrsbehinderung    1 \n",
       "unterbrochen           1 \n",
       "voll gesperrt          1 \n",
       "Name: trigger_text, dtype: int64"
      ]
     },
     "execution_count": 13,
     "metadata": {},
     "output_type": "execute_result"
    }
   ],
   "source": [
    "labeled_sd4m_triggers[labeled_sd4m_triggers['label'] == 4]['trigger_text'].value_counts()"
   ]
  },
  {
   "cell_type": "markdown",
   "metadata": {},
   "source": [
    "Now we can collect the trigger words per class."
   ]
  },
  {
   "cell_type": "markdown",
   "metadata": {},
   "source": [
    "## Step 3: Evaluate the labeling functions on the SD4M training data"
   ]
  },
  {
   "cell_type": "code",
   "execution_count": 14,
   "metadata": {},
   "outputs": [],
   "source": [
    "from wsee.labeling.event_trigger_lfs import *"
   ]
  },
  {
   "cell_type": "code",
   "execution_count": 15,
   "metadata": {},
   "outputs": [],
   "source": [
    "from snorkel.labeling import PandasLFApplier\n",
    "\n",
    "lfs = [\n",
    "    lf_accident_context,\n",
    "    lf_canceledroute_cat,\n",
    "    lf_canceledstop_cat,\n",
    "    lf_delay_cat,\n",
    "    lf_obstruction_cat,\n",
    "    lf_railreplacementservice_cat,\n",
    "    lf_trafficjam_cat,\n",
    "    lf_negative\n",
    "]\n",
    "\n",
    "applier = PandasLFApplier(lfs)"
   ]
  },
  {
   "cell_type": "code",
   "execution_count": 16,
   "metadata": {},
   "outputs": [
    {
     "name": "stderr",
     "output_type": "stream",
     "text": [
      "100%|██████████| 817/817 [00:42<00:00, 19.34it/s]\n",
      "100%|██████████| 75/75 [00:03<00:00, 19.55it/s]\n"
     ]
    }
   ],
   "source": [
    "L_dev = applier.apply(df_dev)\n",
    "L_test = applier.apply(df_test)"
   ]
  },
  {
   "cell_type": "code",
   "execution_count": 17,
   "metadata": {},
   "outputs": [
    {
     "data": {
      "text/html": [
       "<div>\n",
       "<style scoped>\n",
       "    .dataframe tbody tr th:only-of-type {\n",
       "        vertical-align: middle;\n",
       "    }\n",
       "\n",
       "    .dataframe tbody tr th {\n",
       "        vertical-align: top;\n",
       "    }\n",
       "\n",
       "    .dataframe thead th {\n",
       "        text-align: right;\n",
       "    }\n",
       "</style>\n",
       "<table border=\"1\" class=\"dataframe\">\n",
       "  <thead>\n",
       "    <tr style=\"text-align: right;\">\n",
       "      <th></th>\n",
       "      <th>j</th>\n",
       "      <th>Polarity</th>\n",
       "      <th>Coverage</th>\n",
       "      <th>Overlaps</th>\n",
       "      <th>Conflicts</th>\n",
       "      <th>Correct</th>\n",
       "      <th>Incorrect</th>\n",
       "      <th>Emp. Acc.</th>\n",
       "    </tr>\n",
       "  </thead>\n",
       "  <tbody>\n",
       "    <tr>\n",
       "      <th>lf_accident_context</th>\n",
       "      <td>0</td>\n",
       "      <td>[0, 7]</td>\n",
       "      <td>0.118727</td>\n",
       "      <td>0.000000</td>\n",
       "      <td>0.000000</td>\n",
       "      <td>84</td>\n",
       "      <td>13</td>\n",
       "      <td>0.865979</td>\n",
       "    </tr>\n",
       "    <tr>\n",
       "      <th>lf_canceledroute_cat</th>\n",
       "      <td>1</td>\n",
       "      <td>[1]</td>\n",
       "      <td>0.152999</td>\n",
       "      <td>0.028152</td>\n",
       "      <td>0.028152</td>\n",
       "      <td>61</td>\n",
       "      <td>64</td>\n",
       "      <td>0.488000</td>\n",
       "    </tr>\n",
       "    <tr>\n",
       "      <th>lf_canceledstop_cat</th>\n",
       "      <td>2</td>\n",
       "      <td>[2]</td>\n",
       "      <td>0.031824</td>\n",
       "      <td>0.001224</td>\n",
       "      <td>0.001224</td>\n",
       "      <td>25</td>\n",
       "      <td>1</td>\n",
       "      <td>0.961538</td>\n",
       "    </tr>\n",
       "    <tr>\n",
       "      <th>lf_delay_cat</th>\n",
       "      <td>3</td>\n",
       "      <td>[3, 7]</td>\n",
       "      <td>0.091799</td>\n",
       "      <td>0.011016</td>\n",
       "      <td>0.004896</td>\n",
       "      <td>69</td>\n",
       "      <td>6</td>\n",
       "      <td>0.920000</td>\n",
       "    </tr>\n",
       "    <tr>\n",
       "      <th>lf_obstruction_cat</th>\n",
       "      <td>4</td>\n",
       "      <td>[4, 7]</td>\n",
       "      <td>0.176255</td>\n",
       "      <td>0.040392</td>\n",
       "      <td>0.034272</td>\n",
       "      <td>103</td>\n",
       "      <td>41</td>\n",
       "      <td>0.715278</td>\n",
       "    </tr>\n",
       "    <tr>\n",
       "      <th>lf_railreplacementservice_cat</th>\n",
       "      <td>5</td>\n",
       "      <td>[5]</td>\n",
       "      <td>0.031824</td>\n",
       "      <td>0.000000</td>\n",
       "      <td>0.000000</td>\n",
       "      <td>22</td>\n",
       "      <td>4</td>\n",
       "      <td>0.846154</td>\n",
       "    </tr>\n",
       "    <tr>\n",
       "      <th>lf_trafficjam_cat</th>\n",
       "      <td>6</td>\n",
       "      <td>[6, 7]</td>\n",
       "      <td>0.198286</td>\n",
       "      <td>0.000000</td>\n",
       "      <td>0.000000</td>\n",
       "      <td>156</td>\n",
       "      <td>6</td>\n",
       "      <td>0.962963</td>\n",
       "    </tr>\n",
       "    <tr>\n",
       "      <th>lf_negative</th>\n",
       "      <td>7</td>\n",
       "      <td>[7]</td>\n",
       "      <td>0.238678</td>\n",
       "      <td>0.000000</td>\n",
       "      <td>0.000000</td>\n",
       "      <td>194</td>\n",
       "      <td>1</td>\n",
       "      <td>0.994872</td>\n",
       "    </tr>\n",
       "  </tbody>\n",
       "</table>\n",
       "</div>"
      ],
      "text/plain": [
       "                               j Polarity  Coverage  Overlaps  Conflicts  \\\n",
       "lf_accident_context            0  [0, 7]   0.118727  0.000000  0.000000    \n",
       "lf_canceledroute_cat           1  [1]      0.152999  0.028152  0.028152    \n",
       "lf_canceledstop_cat            2  [2]      0.031824  0.001224  0.001224    \n",
       "lf_delay_cat                   3  [3, 7]   0.091799  0.011016  0.004896    \n",
       "lf_obstruction_cat             4  [4, 7]   0.176255  0.040392  0.034272    \n",
       "lf_railreplacementservice_cat  5  [5]      0.031824  0.000000  0.000000    \n",
       "lf_trafficjam_cat              6  [6, 7]   0.198286  0.000000  0.000000    \n",
       "lf_negative                    7  [7]      0.238678  0.000000  0.000000    \n",
       "\n",
       "                               Correct  Incorrect  Emp. Acc.  \n",
       "lf_accident_context            84       13         0.865979   \n",
       "lf_canceledroute_cat           61       64         0.488000   \n",
       "lf_canceledstop_cat            25       1          0.961538   \n",
       "lf_delay_cat                   69       6          0.920000   \n",
       "lf_obstruction_cat             103      41         0.715278   \n",
       "lf_railreplacementservice_cat  22       4          0.846154   \n",
       "lf_trafficjam_cat              156      6          0.962963   \n",
       "lf_negative                    194      1          0.994872   "
      ]
     },
     "execution_count": 17,
     "metadata": {},
     "output_type": "execute_result"
    }
   ],
   "source": [
    "from snorkel.labeling import LFAnalysis\n",
    "\n",
    "LFAnalysis(L_dev, lfs).lf_summary(Y_dev)"
   ]
  },
  {
   "cell_type": "markdown",
   "metadata": {},
   "source": [
    "## Step 4: Error Analysis \n",
    "Now we can look at the LabelMatrix for errors. We need to use the DataFrame from the exploration section, which includes the information from the preprocessors.\n",
    "We can then specifically look for the instances that were labeled incorrectly.\n",
    "\n",
    "We will first look at the keyword based labeling function for accidents:"
   ]
  },
  {
   "cell_type": "code",
   "execution_count": 18,
   "metadata": {},
   "outputs": [],
   "source": [
    "from wsee.labeling import error_analysis"
   ]
  },
  {
   "cell_type": "code",
   "execution_count": 19,
   "metadata": {},
   "outputs": [
    {
     "data": {
      "text/html": [
       "<div>\n",
       "<style scoped>\n",
       "    .dataframe tbody tr th:only-of-type {\n",
       "        vertical-align: middle;\n",
       "    }\n",
       "\n",
       "    .dataframe tbody tr th {\n",
       "        vertical-align: top;\n",
       "    }\n",
       "\n",
       "    .dataframe thead th {\n",
       "        text-align: right;\n",
       "    }\n",
       "</style>\n",
       "<table border=\"1\" class=\"dataframe\">\n",
       "  <thead>\n",
       "    <tr style=\"text-align: right;\">\n",
       "      <th></th>\n",
       "      <th>trigger_left_tokens</th>\n",
       "      <th>trigger_text</th>\n",
       "      <th>trigger_right_tokens</th>\n",
       "      <th>entity_type_freqs</th>\n",
       "      <th>mixed_ner</th>\n",
       "      <th>label</th>\n",
       "      <th>event_types</th>\n",
       "    </tr>\n",
       "  </thead>\n",
       "  <tbody>\n",
       "    <tr>\n",
       "      <th>1040</th>\n",
       "      <td>[■, #A7, #Flensburg, -, #Hamburg, zwischen, #Hamburg, -, #Stellingen, und, #Volkspark, behindern, in, beiden, Richtungen]</td>\n",
       "      <td>#Bauarbeiten</td>\n",
       "      <td>[den, Verkehr]</td>\n",
       "      <td>{'location_street': 1, 'location_city': 2, 'location': 3, 'trigger': 2}</td>\n",
       "      <td>■ LOCATION_STREET LOCATION_CITY - LOCATION_CITY zwischen LOCATION und LOCATION TRIGGER in LOCATION TRIGGER den Verkehr\\n</td>\n",
       "      <td>7</td>\n",
       "      <td>[(behindern, 4), (#Bauarbeiten, 7)]</td>\n",
       "    </tr>\n",
       "    <tr>\n",
       "      <th>833</th>\n",
       "      <td>[]</td>\n",
       "      <td>Sperrung</td>\n",
       "      <td>[Abschnitt, :, in, beiden, Richtungen, (, Berlin, ), Gültig, ab, :, 11.03.2016, 19:00, Vollsperrung, (, bis, 04:00, )]</td>\n",
       "      <td>{'trigger': 1, 'location': 1, 'date': 1, 'time': 2}</td>\n",
       "      <td>TRIGGER\\nAbschnitt: in beiden Richtungen (LOCATION)\\nGültig ab: DATE TIME\\nVollsperrung (bis TIME)\\n</td>\n",
       "      <td>7</td>\n",
       "      <td>[(Sperrung, 7)]</td>\n",
       "    </tr>\n",
       "    <tr>\n",
       "      <th>723</th>\n",
       "      <td>[■, #Hamburg, :, Auf, der, #B4, behindern, im, Verlauf, Stresemannstraße, -, Neuer, Pferdemarkt]</td>\n",
       "      <td>#Bauarbeiten</td>\n",
       "      <td>[den, Verkehr, .]</td>\n",
       "      <td>{'location_city': 1, 'location_street': 3, 'trigger': 2}</td>\n",
       "      <td>■ LOCATION_CITY: Auf der LOCATION_STREET  TRIGGER im Verlauf LOCATION_STREET - LOCATION_STREET TRIGGER den Verkehr.\\n</td>\n",
       "      <td>7</td>\n",
       "      <td>[(behindern, 4), (#Bauarbeiten, 7)]</td>\n",
       "    </tr>\n",
       "    <tr>\n",
       "      <th>1249</th>\n",
       "      <td>[]</td>\n",
       "      <td>Bauarbeiten</td>\n",
       "      <td>[der, Deutschen, Bahn, –, Schienenersatzverkehr, beim, Donau, -, Isar, -, Express, :, Einschränkungen, Passau, -, Reisende, https://t.co/YQH78iQeSQ]</td>\n",
       "      <td>{'trigger': 2, 'organization_company': 1, 'location_route': 1, 'location_city': 1}</td>\n",
       "      <td>TRIGGER der ORGANIZATION_COMPANY – TRIGGER beim LOCATION_ROUTE: Einschränkungen LOCATION_CITY-Reisende https://t.co/YQH78iQeSQ\\n</td>\n",
       "      <td>7</td>\n",
       "      <td>[(Bauarbeiten, 7), (Schienenersatzverkehr, 5)]</td>\n",
       "    </tr>\n",
       "    <tr>\n",
       "      <th>760</th>\n",
       "      <td>[Kreis, Breisgau, -, Hochschwarzwald, Erdrutsch, ,, Störungen, im, Schienenverkehr, ,, bis, 11.02.2016, Mitternacht, Die, Zugverbindung, Freiburg, im, Breisgau, -, Titisee, -, Neustadt, (, Höllentalbahn, ), ist, im, Bereich, Falkensteig]</td>\n",
       "      <td>unterbrochen</td>\n",
       "      <td>[., Ein, Schienenersatzverkehr, ist, eingerichtet, ., Mit, Behinderungen, ist, zu, rechnen, .]</td>\n",
       "      <td>{'location': 1, 'date': 1, 'location_route': 1, 'location_stop': 1, 'trigger': 1}</td>\n",
       "      <td>Kreis LOCATION Erdrutsch, Störungen im Schienenverkehr, bis DATE Die LOCATION_ROUTE ist im Bereich LOCATION_STOP TRIGGER. Ein Schienenersatzverkehr ist eingerichtet. Mit Behinderungen ist zu rechnen.\\n</td>\n",
       "      <td>1</td>\n",
       "      <td>[(unterbrochen, 1)]</td>\n",
       "    </tr>\n",
       "    <tr>\n",
       "      <th>228</th>\n",
       "      <td>[Aufgrund, eines, Notarzteinsatzes, ist, derzeit, die, Strecke, zwischen, Augsburg, Hbf, und, Mering]</td>\n",
       "      <td>gesperrt</td>\n",
       "      <td>[., Die, Züge, aus, Richtung, Ulm, fahren, bis, Augsburg, ., Die, Züge, aus, Richtung, München, fahren, bis, Mering, ., Aktuell, konnte, noch, kein, Schienenersatzverkehr, eingerichtet, werden, ., (, 18:00, Uhr, ), .]</td>\n",
       "      <td>{'location_route': 1, 'location_stop': 2, 'trigger': 1, 'location_city': 4, 'time': 1}</td>\n",
       "      <td>Aufgrund eines Notarzteinsatzes ist derzeit die LOCATION_ROUTE zwischen LOCATION_STOP und LOCATION_STOP TRIGGER. Die Züge aus Richtung LOCATION_CITY fahren bis LOCATION_CITY. Die Züge aus Richtung LOCATION_CITY fahren bis LOCATION_CITY. Aktuell konnte noch kein Schienenersatzverkehr eingerichtet werden. (TIME).\\n\\n\\n</td>\n",
       "      <td>1</td>\n",
       "      <td>[(gesperrt, 1)]</td>\n",
       "    </tr>\n",
       "    <tr>\n",
       "      <th>484</th>\n",
       "      <td>[■, #Hamburg, -, #Tonndorf, :, Die, Kuehnstraße, ist, wegen]</td>\n",
       "      <td>#Bauarbeiten</td>\n",
       "      <td>[ab, Wilsonstraße, in, Richtung, Jenfelder, Allee, bis, zum, 20, ., Mai, als, ...]</td>\n",
       "      <td>{'location_city': 1, 'location_street': 3, 'trigger': 1, 'date': 1}</td>\n",
       "      <td>■  LOCATION_CITY: Die LOCATION_STREET ist wegen TRIGGER ab LOCATION_STREET in Richtung LOCATION_STREET  bis zum DATE als ...\\n</td>\n",
       "      <td>7</td>\n",
       "      <td>[(#Bauarbeiten, 7)]</td>\n",
       "    </tr>\n",
       "    <tr>\n",
       "      <th>909</th>\n",
       "      <td>[■, #Hamburg, :, Die, #B75, Meiendorfer, Straße, ist, zwischen, Spitzbergenweg, und, Saseler, Straße, wegen]</td>\n",
       "      <td>#Bauarbeiten</td>\n",
       "      <td>[bis, Anfang, Oktober, ...]</td>\n",
       "      <td>{'location_city': 1, 'location_street': 3, 'trigger': 1, 'date': 1}</td>\n",
       "      <td>■  LOCATION_CITY: Die LOCATION_STREET ist zwischen LOCATION_STREET und LOCATION_STREET wegen TRIGGER bis DATE ...\\n</td>\n",
       "      <td>7</td>\n",
       "      <td>[(#Bauarbeiten, 7)]</td>\n",
       "    </tr>\n",
       "    <tr>\n",
       "      <th>150</th>\n",
       "      <td>[https://t.co/rJmMnlRvrb, Vorangegangene]</td>\n",
       "      <td>Streckensperrung</td>\n",
       "      <td>[:, BOB, 86833, (, München, Hbf, ab, 18:05, Uhr, ), fällt, zwischen, Schliersee, und, Bayrischzell, a, …]</td>\n",
       "      <td>{'trigger': 1, 'location_route': 1, 'location_stop': 3, 'time': 1}</td>\n",
       "      <td>https://t.co/rJmMnlRvrb Vorangegangene TRIGGER: LOCATION_ROUTE (LOCATION_STOP ab TIME Uhr) fällt zwischen LOCATION_STOP und LOCATION_STOP a…\\n</td>\n",
       "      <td>1</td>\n",
       "      <td>[(Streckensperrung, 1)]</td>\n",
       "    </tr>\n",
       "    <tr>\n",
       "      <th>1013</th>\n",
       "      <td>[■, #Hamburg, :, Die, Hammer, Straße, ist, zwischen, Jüthornstraße, und, Bärenallee, in, beiden, Richtungen, wegen]</td>\n",
       "      <td>#Bauarbeiten</td>\n",
       "      <td>[bis, Ende, ...]</td>\n",
       "      <td>{'location_city': 1, 'location_street': 3, 'location': 1, 'trigger': 1}</td>\n",
       "      <td>■  LOCATION_CITY: Die LOCATION_STREET ist zwischen LOCATION_STREET und LOCATION_STREET in LOCATION wegen TRIGGER bis Ende ...\\n</td>\n",
       "      <td>7</td>\n",
       "      <td>[(#Bauarbeiten, 7)]</td>\n",
       "    </tr>\n",
       "  </tbody>\n",
       "</table>\n",
       "</div>"
      ],
      "text/plain": [
       "                                                                                                                                                                                                                                trigger_left_tokens  \\\n",
       "1040  [■, #A7, #Flensburg, -, #Hamburg, zwischen, #Hamburg, -, #Stellingen, und, #Volkspark, behindern, in, beiden, Richtungen]                                                                                                                       \n",
       "833   []                                                                                                                                                                                                                                              \n",
       "723   [■, #Hamburg, :, Auf, der, #B4, behindern, im, Verlauf, Stresemannstraße, -, Neuer, Pferdemarkt]                                                                                                                                                \n",
       "1249  []                                                                                                                                                                                                                                              \n",
       "760   [Kreis, Breisgau, -, Hochschwarzwald, Erdrutsch, ,, Störungen, im, Schienenverkehr, ,, bis, 11.02.2016, Mitternacht, Die, Zugverbindung, Freiburg, im, Breisgau, -, Titisee, -, Neustadt, (, Höllentalbahn, ), ist, im, Bereich, Falkensteig]   \n",
       "228   [Aufgrund, eines, Notarzteinsatzes, ist, derzeit, die, Strecke, zwischen, Augsburg, Hbf, und, Mering]                                                                                                                                           \n",
       "484   [■, #Hamburg, -, #Tonndorf, :, Die, Kuehnstraße, ist, wegen]                                                                                                                                                                                    \n",
       "909   [■, #Hamburg, :, Die, #B75, Meiendorfer, Straße, ist, zwischen, Spitzbergenweg, und, Saseler, Straße, wegen]                                                                                                                                    \n",
       "150   [https://t.co/rJmMnlRvrb, Vorangegangene]                                                                                                                                                                                                       \n",
       "1013  [■, #Hamburg, :, Die, Hammer, Straße, ist, zwischen, Jüthornstraße, und, Bärenallee, in, beiden, Richtungen, wegen]                                                                                                                             \n",
       "\n",
       "          trigger_text  \\\n",
       "1040  #Bauarbeiten       \n",
       "833   Sperrung           \n",
       "723   #Bauarbeiten       \n",
       "1249  Bauarbeiten        \n",
       "760   unterbrochen       \n",
       "228   gesperrt           \n",
       "484   #Bauarbeiten       \n",
       "909   #Bauarbeiten       \n",
       "150   Streckensperrung   \n",
       "1013  #Bauarbeiten       \n",
       "\n",
       "                                                                                                                                                                                                           trigger_right_tokens  \\\n",
       "1040  [den, Verkehr]                                                                                                                                                                                                              \n",
       "833   [Abschnitt, :, in, beiden, Richtungen, (, Berlin, ), Gültig, ab, :, 11.03.2016, 19:00, Vollsperrung, (, bis, 04:00, )]                                                                                                      \n",
       "723   [den, Verkehr, .]                                                                                                                                                                                                           \n",
       "1249  [der, Deutschen, Bahn, –, Schienenersatzverkehr, beim, Donau, -, Isar, -, Express, :, Einschränkungen, Passau, -, Reisende, https://t.co/YQH78iQeSQ]                                                                        \n",
       "760   [., Ein, Schienenersatzverkehr, ist, eingerichtet, ., Mit, Behinderungen, ist, zu, rechnen, .]                                                                                                                              \n",
       "228   [., Die, Züge, aus, Richtung, Ulm, fahren, bis, Augsburg, ., Die, Züge, aus, Richtung, München, fahren, bis, Mering, ., Aktuell, konnte, noch, kein, Schienenersatzverkehr, eingerichtet, werden, ., (, 18:00, Uhr, ), .]   \n",
       "484   [ab, Wilsonstraße, in, Richtung, Jenfelder, Allee, bis, zum, 20, ., Mai, als, ...]                                                                                                                                          \n",
       "909   [bis, Anfang, Oktober, ...]                                                                                                                                                                                                 \n",
       "150   [:, BOB, 86833, (, München, Hbf, ab, 18:05, Uhr, ), fällt, zwischen, Schliersee, und, Bayrischzell, a, …]                                                                                                                   \n",
       "1013  [bis, Ende, ...]                                                                                                                                                                                                            \n",
       "\n",
       "                                                                           entity_type_freqs  \\\n",
       "1040  {'location_street': 1, 'location_city': 2, 'location': 3, 'trigger': 2}                  \n",
       "833   {'trigger': 1, 'location': 1, 'date': 1, 'time': 2}                                      \n",
       "723   {'location_city': 1, 'location_street': 3, 'trigger': 2}                                 \n",
       "1249  {'trigger': 2, 'organization_company': 1, 'location_route': 1, 'location_city': 1}       \n",
       "760   {'location': 1, 'date': 1, 'location_route': 1, 'location_stop': 1, 'trigger': 1}        \n",
       "228   {'location_route': 1, 'location_stop': 2, 'trigger': 1, 'location_city': 4, 'time': 1}   \n",
       "484   {'location_city': 1, 'location_street': 3, 'trigger': 1, 'date': 1}                      \n",
       "909   {'location_city': 1, 'location_street': 3, 'trigger': 1, 'date': 1}                      \n",
       "150   {'trigger': 1, 'location_route': 1, 'location_stop': 3, 'time': 1}                       \n",
       "1013  {'location_city': 1, 'location_street': 3, 'location': 1, 'trigger': 1}                  \n",
       "\n",
       "                                                                                                                                                                                                                                                                                                                            mixed_ner  \\\n",
       "1040  ■ LOCATION_STREET LOCATION_CITY - LOCATION_CITY zwischen LOCATION und LOCATION TRIGGER in LOCATION TRIGGER den Verkehr\\n                                                                                                                                                                                                          \n",
       "833   TRIGGER\\nAbschnitt: in beiden Richtungen (LOCATION)\\nGültig ab: DATE TIME\\nVollsperrung (bis TIME)\\n                                                                                                                                                                                                                              \n",
       "723   ■ LOCATION_CITY: Auf der LOCATION_STREET  TRIGGER im Verlauf LOCATION_STREET - LOCATION_STREET TRIGGER den Verkehr.\\n                                                                                                                                                                                                             \n",
       "1249  TRIGGER der ORGANIZATION_COMPANY – TRIGGER beim LOCATION_ROUTE: Einschränkungen LOCATION_CITY-Reisende https://t.co/YQH78iQeSQ\\n                                                                                                                                                                                                  \n",
       "760   Kreis LOCATION Erdrutsch, Störungen im Schienenverkehr, bis DATE Die LOCATION_ROUTE ist im Bereich LOCATION_STOP TRIGGER. Ein Schienenersatzverkehr ist eingerichtet. Mit Behinderungen ist zu rechnen.\\n                                                                                                                         \n",
       "228    Aufgrund eines Notarzteinsatzes ist derzeit die LOCATION_ROUTE zwischen LOCATION_STOP und LOCATION_STOP TRIGGER. Die Züge aus Richtung LOCATION_CITY fahren bis LOCATION_CITY. Die Züge aus Richtung LOCATION_CITY fahren bis LOCATION_CITY. Aktuell konnte noch kein Schienenersatzverkehr eingerichtet werden. (TIME).\\n\\n\\n   \n",
       "484   ■  LOCATION_CITY: Die LOCATION_STREET ist wegen TRIGGER ab LOCATION_STREET in Richtung LOCATION_STREET  bis zum DATE als ...\\n                                                                                                                                                                                                    \n",
       "909   ■  LOCATION_CITY: Die LOCATION_STREET ist zwischen LOCATION_STREET und LOCATION_STREET wegen TRIGGER bis DATE ...\\n                                                                                                                                                                                                               \n",
       "150   https://t.co/rJmMnlRvrb Vorangegangene TRIGGER: LOCATION_ROUTE (LOCATION_STOP ab TIME Uhr) fällt zwischen LOCATION_STOP und LOCATION_STOP a…\\n                                                                                                                                                                                    \n",
       "1013  ■  LOCATION_CITY: Die LOCATION_STREET ist zwischen LOCATION_STREET und LOCATION_STREET in LOCATION wegen TRIGGER bis Ende ...\\n                                                                                                                                                                                                   \n",
       "\n",
       "      label                                     event_types  \n",
       "1040  7      [(behindern, 4), (#Bauarbeiten, 7)]             \n",
       "833   7      [(Sperrung, 7)]                                 \n",
       "723   7      [(behindern, 4), (#Bauarbeiten, 7)]             \n",
       "1249  7      [(Bauarbeiten, 7), (Schienenersatzverkehr, 5)]  \n",
       "760   1      [(unterbrochen, 1)]                             \n",
       "228   1      [(gesperrt, 1)]                                 \n",
       "484   7      [(#Bauarbeiten, 7)]                             \n",
       "909   7      [(#Bauarbeiten, 7)]                             \n",
       "150   1      [(Streckensperrung, 1)]                         \n",
       "1013  7      [(#Bauarbeiten, 7)]                             "
      ]
     },
     "execution_count": 19,
     "metadata": {},
     "output_type": "execute_result"
    }
   ],
   "source": [
    "error_analysis.sample_fp(labeled_df=labeled_sd4m_triggers, lf_outputs=L_dev, lf_index=4, label_of_interest=4)"
   ]
  },
  {
   "cell_type": "code",
   "execution_count": 20,
   "metadata": {},
   "outputs": [
    {
     "data": {
      "text/plain": [
       "#Bauarbeiten           6\n",
       "gesperrt               4\n",
       "unterbrochen           2\n",
       "Bauarbeiten            1\n",
       "Sperrung               1\n",
       "Betriebsstörung        1\n",
       "Verkehrsbehinderung    1\n",
       "Technische Störung     1\n",
       "Wanderbaustelle        1\n",
       "Baustelle              1\n",
       "umgeleitet.Mit         1\n",
       "#Störung               1\n",
       "Streckensperrung       1\n",
       "Name: trigger_text, dtype: int64"
      ]
     },
     "execution_count": 20,
     "metadata": {},
     "output_type": "execute_result"
    }
   ],
   "source": [
    "error_analysis.trigger_text_counts_fp(labeled_df=labeled_sd4m_triggers, lf_outputs=L_dev, lf_index=4, label_of_interest=4)"
   ]
  },
  {
   "cell_type": "code",
   "execution_count": 21,
   "metadata": {},
   "outputs": [
    {
     "data": {
      "text/html": [
       "<div>\n",
       "<style scoped>\n",
       "    .dataframe tbody tr th:only-of-type {\n",
       "        vertical-align: middle;\n",
       "    }\n",
       "\n",
       "    .dataframe tbody tr th {\n",
       "        vertical-align: top;\n",
       "    }\n",
       "\n",
       "    .dataframe thead th {\n",
       "        text-align: right;\n",
       "    }\n",
       "</style>\n",
       "<table border=\"1\" class=\"dataframe\">\n",
       "  <thead>\n",
       "    <tr style=\"text-align: right;\">\n",
       "      <th></th>\n",
       "      <th>trigger_left_tokens</th>\n",
       "      <th>trigger_text</th>\n",
       "      <th>trigger_right_tokens</th>\n",
       "      <th>entity_type_freqs</th>\n",
       "      <th>mixed_ner</th>\n",
       "      <th>label</th>\n",
       "      <th>event_types</th>\n",
       "    </tr>\n",
       "  </thead>\n",
       "  <tbody>\n",
       "    <tr>\n",
       "      <th>108</th>\n",
       "      <td>[Stuttgart, Richtung, Karlsruhe, zwischen, Stuttgart, -, Möhringen, und, Kreuz, Stuttgart, 3, km]</td>\n",
       "      <td>stockender Verkehr</td>\n",
       "      <td>[]</td>\n",
       "      <td>{'location_city': 2, 'location': 2, 'distance': 1, 'trigger': 1}</td>\n",
       "      <td>LOCATION_CITY Richtung LOCATION_CITY zwischen LOCATION und LOCATION DISTANCE TRIGGER\\n</td>\n",
       "      <td>7</td>\n",
       "      <td>[(stockender Verkehr, 7)]</td>\n",
       "    </tr>\n",
       "    <tr>\n",
       "      <th>533</th>\n",
       "      <td>[#A2, -, Basel, Richtung, Luzern, -, Zwischen, Egerkingen, und, Autobahndreieck, Verzweigung, Härkingen, stockender, Verkehr, ,]</td>\n",
       "      <td>Verkehrsüberlastung</td>\n",
       "      <td>[]</td>\n",
       "      <td>{'location_street': 1, 'location_city': 2, 'location': 2, 'trigger': 2}</td>\n",
       "      <td>LOCATION_STREET - LOCATION_CITY Richtung LOCATION_CITY - Zwischen  LOCATION und LOCATION TRIGGER, TRIGGER\\n</td>\n",
       "      <td>7</td>\n",
       "      <td>[(stockender Verkehr, 6), (Verkehrsüberlastung, 7)]</td>\n",
       "    </tr>\n",
       "    <tr>\n",
       "      <th>706</th>\n",
       "      <td>[Stuttgart, Richtung, Karlsruhe, zwischen, Kreuz, Stuttgart, und, Rutesheim, 12, km]</td>\n",
       "      <td>stockender Verkehr</td>\n",
       "      <td>[]</td>\n",
       "      <td>{'location_city': 2, 'location': 2, 'distance': 1, 'trigger': 1}</td>\n",
       "      <td>LOCATION_CITY Richtung LOCATION_CITY zwischen LOCATION und LOCATION DISTANCE TRIGGER\\n</td>\n",
       "      <td>7</td>\n",
       "      <td>[(stockender Verkehr, 7)]</td>\n",
       "    </tr>\n",
       "    <tr>\n",
       "      <th>708</th>\n",
       "      <td>[A14, Magdeburg, Richtung, Halle, zwischen, Löbejün, und, Halle, -, Tornau, stockender, Verkehr, an, einer, 10, km]</td>\n",
       "      <td>Stau</td>\n",
       "      <td>[an, einer, Baustelle]</td>\n",
       "      <td>{'location_street': 1, 'location_city': 2, 'location': 2, 'trigger': 2, 'distance': 1}</td>\n",
       "      <td>LOCATION_STREET LOCATION_CITY Richtung LOCATION_CITY zwischen LOCATION und LOCATION TRIGGER an einer DISTANCE TRIGGER an einer Baustelle\\n</td>\n",
       "      <td>7</td>\n",
       "      <td>[(stockender Verkehr, 6), (Stau, 7)]</td>\n",
       "    </tr>\n",
       "    <tr>\n",
       "      <th>999</th>\n",
       "      <td>[#A1, -, Bern, -, &gt;, Zürich, -, Zwischen, Aarau, -, West, und, Lenzburg, Stau, ,]</td>\n",
       "      <td>Überlastung</td>\n",
       "      <td>[]</td>\n",
       "      <td>{'location_street': 1, 'location_city': 2, 'location': 2, 'trigger': 2}</td>\n",
       "      <td>LOCATION_STREET - LOCATION_CITY -&gt; LOCATION_CITY - Zwischen  LOCATION und  LOCATION TRIGGER, TRIGGER\\n</td>\n",
       "      <td>7</td>\n",
       "      <td>[(Stau, 6), (Überlastung, 7)]</td>\n",
       "    </tr>\n",
       "    <tr>\n",
       "      <th>1266</th>\n",
       "      <td>[170, :]</td>\n",
       "      <td>Hohes Verkehrsaufkommen</td>\n",
       "      <td>[Verspätungen, von, bis, zu, 20, Minuten, ..., ., https://t.co/9NM2UUzbpK]</td>\n",
       "      <td>{'location_route': 1, 'trigger': 2, 'duration': 1}</td>\n",
       "      <td>LOCATION_ROUTE: TRIGGER TRIGGER von bis zu DURATION.... https://t.co/9NM2UUzbpK\\n</td>\n",
       "      <td>7</td>\n",
       "      <td>[(Hohes Verkehrsaufkommen, 7), (Verspätungen, 3)]</td>\n",
       "    </tr>\n",
       "  </tbody>\n",
       "</table>\n",
       "</div>"
      ],
      "text/plain": [
       "                                                                                                                   trigger_left_tokens  \\\n",
       "108   [Stuttgart, Richtung, Karlsruhe, zwischen, Stuttgart, -, Möhringen, und, Kreuz, Stuttgart, 3, km]                                  \n",
       "533   [#A2, -, Basel, Richtung, Luzern, -, Zwischen, Egerkingen, und, Autobahndreieck, Verzweigung, Härkingen, stockender, Verkehr, ,]   \n",
       "706   [Stuttgart, Richtung, Karlsruhe, zwischen, Kreuz, Stuttgart, und, Rutesheim, 12, km]                                               \n",
       "708   [A14, Magdeburg, Richtung, Halle, zwischen, Löbejün, und, Halle, -, Tornau, stockender, Verkehr, an, einer, 10, km]                \n",
       "999   [#A1, -, Bern, -, >, Zürich, -, Zwischen, Aarau, -, West, und, Lenzburg, Stau, ,]                                                  \n",
       "1266  [170, :]                                                                                                                           \n",
       "\n",
       "                 trigger_text  \\\n",
       "108   stockender Verkehr        \n",
       "533   Verkehrsüberlastung       \n",
       "706   stockender Verkehr        \n",
       "708   Stau                      \n",
       "999   Überlastung               \n",
       "1266  Hohes Verkehrsaufkommen   \n",
       "\n",
       "                                                            trigger_right_tokens  \\\n",
       "108   []                                                                           \n",
       "533   []                                                                           \n",
       "706   []                                                                           \n",
       "708   [an, einer, Baustelle]                                                       \n",
       "999   []                                                                           \n",
       "1266  [Verspätungen, von, bis, zu, 20, Minuten, ..., ., https://t.co/9NM2UUzbpK]   \n",
       "\n",
       "                                                                           entity_type_freqs  \\\n",
       "108   {'location_city': 2, 'location': 2, 'distance': 1, 'trigger': 1}                         \n",
       "533   {'location_street': 1, 'location_city': 2, 'location': 2, 'trigger': 2}                  \n",
       "706   {'location_city': 2, 'location': 2, 'distance': 1, 'trigger': 1}                         \n",
       "708   {'location_street': 1, 'location_city': 2, 'location': 2, 'trigger': 2, 'distance': 1}   \n",
       "999   {'location_street': 1, 'location_city': 2, 'location': 2, 'trigger': 2}                  \n",
       "1266  {'location_route': 1, 'trigger': 2, 'duration': 1}                                       \n",
       "\n",
       "                                                                                                                                       mixed_ner  \\\n",
       "108   LOCATION_CITY Richtung LOCATION_CITY zwischen LOCATION und LOCATION DISTANCE TRIGGER\\n                                                       \n",
       "533   LOCATION_STREET - LOCATION_CITY Richtung LOCATION_CITY - Zwischen  LOCATION und LOCATION TRIGGER, TRIGGER\\n                                  \n",
       "706   LOCATION_CITY Richtung LOCATION_CITY zwischen LOCATION und LOCATION DISTANCE TRIGGER\\n                                                       \n",
       "708   LOCATION_STREET LOCATION_CITY Richtung LOCATION_CITY zwischen LOCATION und LOCATION TRIGGER an einer DISTANCE TRIGGER an einer Baustelle\\n   \n",
       "999   LOCATION_STREET - LOCATION_CITY -> LOCATION_CITY - Zwischen  LOCATION und  LOCATION TRIGGER, TRIGGER\\n                                       \n",
       "1266  LOCATION_ROUTE: TRIGGER TRIGGER von bis zu DURATION.... https://t.co/9NM2UUzbpK\\n                                                            \n",
       "\n",
       "      label                                          event_types  \n",
       "108   7      [(stockender Verkehr, 7)]                            \n",
       "533   7      [(stockender Verkehr, 6), (Verkehrsüberlastung, 7)]  \n",
       "706   7      [(stockender Verkehr, 7)]                            \n",
       "708   7      [(stockender Verkehr, 6), (Stau, 7)]                 \n",
       "999   7      [(Stau, 6), (Überlastung, 7)]                        \n",
       "1266  7      [(Hohes Verkehrsaufkommen, 7), (Verspätungen, 3)]    "
      ]
     },
     "execution_count": 21,
     "metadata": {},
     "output_type": "execute_result"
    }
   ],
   "source": [
    "error_analysis.sample_fp(labeled_df=labeled_sd4m_triggers, lf_outputs=L_dev, lf_index=6, label_of_interest=6)"
   ]
  },
  {
   "cell_type": "markdown",
   "metadata": {},
   "source": [
    "## Step 5: Train the Labeling model and label the data"
   ]
  },
  {
   "cell_type": "code",
   "execution_count": 22,
   "metadata": {},
   "outputs": [],
   "source": [
    "from snorkel.labeling import LabelModel\n",
    "\n",
    "label_model = LabelModel(cardinality=8, verbose=True)\n",
    "label_model.fit(L_train=L_dev, n_epochs=500, log_freq=100, seed=123)"
   ]
  },
  {
   "cell_type": "code",
   "execution_count": 23,
   "metadata": {},
   "outputs": [
    {
     "name": "stdout",
     "output_type": "stream",
     "text": [
      "Label Model Accuracy:     82.7%\n"
     ]
    }
   ],
   "source": [
    "label_model_acc = label_model.score(L=L_test, Y=Y_test, tie_break_policy=\"random\")[\n",
    "    \"accuracy\"\n",
    "]\n",
    "print(f\"{'Label Model Accuracy:':<25} {label_model_acc * 100:.1f}%\")"
   ]
  },
  {
   "cell_type": "code",
   "execution_count": 24,
   "metadata": {},
   "outputs": [],
   "source": [
    "probs_train = label_model.predict_proba(L=L_dev)"
   ]
  },
  {
   "cell_type": "markdown",
   "metadata": {},
   "source": [
    "In the proposed workflow one would filter out all the datapoints that were not labeled by any of the labeling functions.\n",
    "We will follow this approach as that does not affect the merging process in our Snorkel processing pipeline.\n",
    "While it may result in sentences missing certain events, they would then be processed as dummy events in the AllenNLP model and factored out during the loss calculation (?)."
   ]
  },
  {
   "cell_type": "code",
   "execution_count": 25,
   "metadata": {},
   "outputs": [],
   "source": [
    "from snorkel.labeling import filter_unlabeled_dataframe\n",
    "\n",
    "df_train_filtered, probs_train_filtered = filter_unlabeled_dataframe(\n",
    "    X=df_dev, y=probs_train, L=L_dev\n",
    ")"
   ]
  },
  {
   "cell_type": "markdown",
   "metadata": {},
   "source": [
    "In the Snorkel processing pipeline we would merge the labeled dataframes back together that belong to the same document and proceed with labeling the event argument roles."
   ]
  },
  {
   "cell_type": "markdown",
   "metadata": {},
   "source": [
    "## Step 6: Label the Daystream data with Snorkel"
   ]
  },
  {
   "cell_type": "code",
   "execution_count": 26,
   "metadata": {},
   "outputs": [
    {
     "name": "stderr",
     "output_type": "stream",
     "text": [
      "191it [00:00, 888.19it/s]"
     ]
    },
    {
     "name": "stdout",
     "output_type": "stream",
     "text": [
      "DataFrame has 1955 rows\n"
     ]
    },
    {
     "name": "stderr",
     "output_type": "stream",
     "text": [
      "1955it [00:04, 431.08it/s]\n",
      "  0%|          | 0/1845 [00:00<?, ?it/s]"
     ]
    },
    {
     "name": "stdout",
     "output_type": "stream",
     "text": [
      "Number of events: 0\n"
     ]
    },
    {
     "name": "stderr",
     "output_type": "stream",
     "text": [
      "100%|██████████| 1845/1845 [02:48<00:00, 10.93it/s]\n"
     ]
    }
   ],
   "source": [
    "df_train, Y_train = pipeline.build_event_trigger_examples(daystream)\n",
    "L_train = applier.apply(df_train)"
   ]
  },
  {
   "cell_type": "code",
   "execution_count": 27,
   "metadata": {},
   "outputs": [
    {
     "data": {
      "text/html": [
       "<div>\n",
       "<style scoped>\n",
       "    .dataframe tbody tr th:only-of-type {\n",
       "        vertical-align: middle;\n",
       "    }\n",
       "\n",
       "    .dataframe tbody tr th {\n",
       "        vertical-align: top;\n",
       "    }\n",
       "\n",
       "    .dataframe thead th {\n",
       "        text-align: right;\n",
       "    }\n",
       "</style>\n",
       "<table border=\"1\" class=\"dataframe\">\n",
       "  <thead>\n",
       "    <tr style=\"text-align: right;\">\n",
       "      <th></th>\n",
       "      <th>j</th>\n",
       "      <th>Polarity</th>\n",
       "      <th>Coverage</th>\n",
       "      <th>Overlaps</th>\n",
       "      <th>Conflicts</th>\n",
       "    </tr>\n",
       "  </thead>\n",
       "  <tbody>\n",
       "    <tr>\n",
       "      <th>lf_accident_context</th>\n",
       "      <td>0</td>\n",
       "      <td>[0, 7]</td>\n",
       "      <td>0.018970</td>\n",
       "      <td>0.002168</td>\n",
       "      <td>0.002168</td>\n",
       "    </tr>\n",
       "    <tr>\n",
       "      <th>lf_canceledroute_cat</th>\n",
       "      <td>1</td>\n",
       "      <td>[1]</td>\n",
       "      <td>0.310027</td>\n",
       "      <td>0.080759</td>\n",
       "      <td>0.080759</td>\n",
       "    </tr>\n",
       "    <tr>\n",
       "      <th>lf_canceledstop_cat</th>\n",
       "      <td>2</td>\n",
       "      <td>[2]</td>\n",
       "      <td>0.013550</td>\n",
       "      <td>0.005420</td>\n",
       "      <td>0.005420</td>\n",
       "    </tr>\n",
       "    <tr>\n",
       "      <th>lf_delay_cat</th>\n",
       "      <td>3</td>\n",
       "      <td>[3, 7]</td>\n",
       "      <td>0.225474</td>\n",
       "      <td>0.007046</td>\n",
       "      <td>0.007046</td>\n",
       "    </tr>\n",
       "    <tr>\n",
       "      <th>lf_obstruction_cat</th>\n",
       "      <td>4</td>\n",
       "      <td>[4, 7]</td>\n",
       "      <td>0.161518</td>\n",
       "      <td>0.083469</td>\n",
       "      <td>0.083469</td>\n",
       "    </tr>\n",
       "    <tr>\n",
       "      <th>lf_railreplacementservice_cat</th>\n",
       "      <td>5</td>\n",
       "      <td>[5]</td>\n",
       "      <td>0.097019</td>\n",
       "      <td>0.001626</td>\n",
       "      <td>0.001626</td>\n",
       "    </tr>\n",
       "    <tr>\n",
       "      <th>lf_trafficjam_cat</th>\n",
       "      <td>6</td>\n",
       "      <td>[6]</td>\n",
       "      <td>0.028184</td>\n",
       "      <td>0.001084</td>\n",
       "      <td>0.001084</td>\n",
       "    </tr>\n",
       "    <tr>\n",
       "      <th>lf_negative</th>\n",
       "      <td>7</td>\n",
       "      <td>[7]</td>\n",
       "      <td>0.240108</td>\n",
       "      <td>0.000000</td>\n",
       "      <td>0.000000</td>\n",
       "    </tr>\n",
       "  </tbody>\n",
       "</table>\n",
       "</div>"
      ],
      "text/plain": [
       "                               j Polarity  Coverage  Overlaps  Conflicts\n",
       "lf_accident_context            0  [0, 7]   0.018970  0.002168  0.002168 \n",
       "lf_canceledroute_cat           1  [1]      0.310027  0.080759  0.080759 \n",
       "lf_canceledstop_cat            2  [2]      0.013550  0.005420  0.005420 \n",
       "lf_delay_cat                   3  [3, 7]   0.225474  0.007046  0.007046 \n",
       "lf_obstruction_cat             4  [4, 7]   0.161518  0.083469  0.083469 \n",
       "lf_railreplacementservice_cat  5  [5]      0.097019  0.001626  0.001626 \n",
       "lf_trafficjam_cat              6  [6]      0.028184  0.001084  0.001084 \n",
       "lf_negative                    7  [7]      0.240108  0.000000  0.000000 "
      ]
     },
     "execution_count": 27,
     "metadata": {},
     "output_type": "execute_result"
    }
   ],
   "source": [
    "LFAnalysis(L_train, lfs).lf_summary()"
   ]
  },
  {
   "cell_type": "code",
   "execution_count": 28,
   "metadata": {},
   "outputs": [],
   "source": [
    "daystream_model = LabelModel(cardinality=8, verbose=True)\n",
    "daystream_model.fit(L_train=L_dev, n_epochs=500, log_freq=100, seed=123)"
   ]
  },
  {
   "cell_type": "code",
   "execution_count": 29,
   "metadata": {},
   "outputs": [
    {
     "name": "stdout",
     "output_type": "stream",
     "text": [
      "Label Model Accuracy:     82.7%\n"
     ]
    }
   ],
   "source": [
    "daystream_model_acc = daystream_model.score(L=L_test, Y=Y_test, tie_break_policy=\"random\")[\n",
    "    \"accuracy\"\n",
    "]\n",
    "print(f\"{'Label Model Accuracy:':<25} {daystream_model_acc * 100:.1f}%\")"
   ]
  },
  {
   "cell_type": "code",
   "execution_count": 30,
   "metadata": {},
   "outputs": [],
   "source": [
    "daystream_probs = daystream_model.predict_proba(L=L_train)"
   ]
  },
  {
   "cell_type": "code",
   "execution_count": 31,
   "metadata": {},
   "outputs": [],
   "source": [
    "labeled_daystream = pipeline.merge_event_trigger_examples(df_train, daystream_probs)"
   ]
  },
  {
   "cell_type": "code",
   "execution_count": 32,
   "metadata": {},
   "outputs": [
    {
     "data": {
      "text/html": [
       "<div>\n",
       "<style scoped>\n",
       "    .dataframe tbody tr th:only-of-type {\n",
       "        vertical-align: middle;\n",
       "    }\n",
       "\n",
       "    .dataframe tbody tr th {\n",
       "        vertical-align: top;\n",
       "    }\n",
       "\n",
       "    .dataframe thead th {\n",
       "        text-align: right;\n",
       "    }\n",
       "</style>\n",
       "<table border=\"1\" class=\"dataframe\">\n",
       "  <thead>\n",
       "    <tr style=\"text-align: right;\">\n",
       "      <th></th>\n",
       "      <th>event_triggers</th>\n",
       "    </tr>\n",
       "    <tr>\n",
       "      <th>id</th>\n",
       "      <th></th>\n",
       "    </tr>\n",
       "  </thead>\n",
       "  <tbody>\n",
       "    <tr>\n",
       "      <th>1106219278641045504</th>\n",
       "      <td>[{'id': 'c/c45026ac-2537-4d19-ad8c-010c1587c7bd', 'event_type_probs': [0.07253840792860496, 0.0021861230594413775, 0.09911352885515469, 0.6419880343341251, 0.08190383931926444, 0.09916077749651382, 0.001554644503447738, 0.001554644503447738]}, {'id': 'c/758086f7-c213-45a5-b9d0-981431fe5df4', 'event_type_probs': [0.054288361561215734, 0.6069224587923946, 0.07651211082020527, 0.05010262656385902, 0.13398453139224548, 0.07656778713122799, 0.0008110618694258922, 0.0008110618694258922]}, {'id': 'c/b597d583-7fe2-4616-950b-d32b2b2c435a', 'event_type_probs': [0.0872568889544155, 0.009897017097536279, 0.11418104248845252, 0.0815559595112779, 0.03210530437146285, 0.6662757083087492, 0.004364039634052925, 0.004364039634052925]}]</td>\n",
       "    </tr>\n",
       "    <tr>\n",
       "      <th>1106220052636975105</th>\n",
       "      <td>[{'id': 'c/e08ede13-b420-4b0e-9b96-f1c71595f631', 'event_type_probs': [0.07253840792860496, 0.0021861230594413775, 0.09911352885515469, 0.6419880343341251, 0.08190383931926444, 0.09916077749651382, 0.001554644503447738, 0.001554644503447738]}, {'id': 'c/08f09097-94cb-4342-ae4e-cf1cfb94572b', 'event_type_probs': [0.054288361561215734, 0.6069224587923946, 0.07651211082020527, 0.05010262656385902, 0.13398453139224548, 0.07656778713122799, 0.0008110618694258922, 0.0008110618694258922]}]</td>\n",
       "    </tr>\n",
       "    <tr>\n",
       "      <th>1106221297904816130</th>\n",
       "      <td>[{'id': 'c/d3812715-f08f-411e-904a-c69bcafd5b86', 'event_type_probs': [0.0872568889544155, 0.009897017097536279, 0.11418104248845252, 0.0815559595112779, 0.03210530437146285, 0.6662757083087492, 0.004364039634052925, 0.004364039634052925]}]</td>\n",
       "    </tr>\n",
       "    <tr>\n",
       "      <th>1106222498524344320</th>\n",
       "      <td>[{'id': 'c/9b2d513a-e521-4344-9776-4350235792eb', 'event_type_probs': [0.08530603024738755, 0.028533060799313028, 0.10895953478683099, 0.08257228315807126, 0.04689411732841202, 0.10936859660325718, 0.005775321204889781, 0.5325910558718383]}]</td>\n",
       "    </tr>\n",
       "    <tr>\n",
       "      <th>1106230914458238976</th>\n",
       "      <td>[{'id': 'c/d2dff8c6-4e5f-4c30-b216-c4f578fc1390', 'event_type_probs': [0.054288361561215734, 0.6069224587923946, 0.07651211082020527, 0.05010262656385902, 0.13398453139224548, 0.07656778713122799, 0.0008110618694258922, 0.0008110618694258922]}]</td>\n",
       "    </tr>\n",
       "  </tbody>\n",
       "</table>\n",
       "</div>"
      ],
      "text/plain": [
       "                                                                                                                                                                                                                                                                                                                                                                                                                                                                                                                                                                                                                                                                                                                                                              event_triggers\n",
       "id                                                                                                                                                                                                                                                                                                                                                                                                                                                                                                                                                                                                                                                                                                                                                                          \n",
       "1106219278641045504  [{'id': 'c/c45026ac-2537-4d19-ad8c-010c1587c7bd', 'event_type_probs': [0.07253840792860496, 0.0021861230594413775, 0.09911352885515469, 0.6419880343341251, 0.08190383931926444, 0.09916077749651382, 0.001554644503447738, 0.001554644503447738]}, {'id': 'c/758086f7-c213-45a5-b9d0-981431fe5df4', 'event_type_probs': [0.054288361561215734, 0.6069224587923946, 0.07651211082020527, 0.05010262656385902, 0.13398453139224548, 0.07656778713122799, 0.0008110618694258922, 0.0008110618694258922]}, {'id': 'c/b597d583-7fe2-4616-950b-d32b2b2c435a', 'event_type_probs': [0.0872568889544155, 0.009897017097536279, 0.11418104248845252, 0.0815559595112779, 0.03210530437146285, 0.6662757083087492, 0.004364039634052925, 0.004364039634052925]}]\n",
       "1106220052636975105  [{'id': 'c/e08ede13-b420-4b0e-9b96-f1c71595f631', 'event_type_probs': [0.07253840792860496, 0.0021861230594413775, 0.09911352885515469, 0.6419880343341251, 0.08190383931926444, 0.09916077749651382, 0.001554644503447738, 0.001554644503447738]}, {'id': 'c/08f09097-94cb-4342-ae4e-cf1cfb94572b', 'event_type_probs': [0.054288361561215734, 0.6069224587923946, 0.07651211082020527, 0.05010262656385902, 0.13398453139224548, 0.07656778713122799, 0.0008110618694258922, 0.0008110618694258922]}]                                                                                                                                                                                                                                                \n",
       "1106221297904816130  [{'id': 'c/d3812715-f08f-411e-904a-c69bcafd5b86', 'event_type_probs': [0.0872568889544155, 0.009897017097536279, 0.11418104248845252, 0.0815559595112779, 0.03210530437146285, 0.6662757083087492, 0.004364039634052925, 0.004364039634052925]}]                                                                                                                                                                                                                                                                                                                                                                                                                                                                                                       \n",
       "1106222498524344320  [{'id': 'c/9b2d513a-e521-4344-9776-4350235792eb', 'event_type_probs': [0.08530603024738755, 0.028533060799313028, 0.10895953478683099, 0.08257228315807126, 0.04689411732841202, 0.10936859660325718, 0.005775321204889781, 0.5325910558718383]}]                                                                                                                                                                                                                                                                                                                                                                                                                                                                                                      \n",
       "1106230914458238976  [{'id': 'c/d2dff8c6-4e5f-4c30-b216-c4f578fc1390', 'event_type_probs': [0.054288361561215734, 0.6069224587923946, 0.07651211082020527, 0.05010262656385902, 0.13398453139224548, 0.07656778713122799, 0.0008110618694258922, 0.0008110618694258922]}]                                                                                                                                                                                                                                                                                                                                                                                                                                                                                                   "
      ]
     },
     "execution_count": 32,
     "metadata": {},
     "output_type": "execute_result"
    }
   ],
   "source": [
    "labeled_daystream.head()"
   ]
  },
  {
   "cell_type": "code",
   "execution_count": null,
   "metadata": {},
   "outputs": [],
   "source": []
  }
 ],
 "metadata": {
  "kernelspec": {
   "display_name": "Python 3.6 (master)",
   "language": "python",
   "name": "master"
  },
  "language_info": {
   "codemirror_mode": {
    "name": "ipython",
    "version": 3
   },
   "file_extension": ".py",
   "mimetype": "text/x-python",
   "name": "python",
   "nbconvert_exporter": "python",
   "pygments_lexer": "ipython3",
   "version": "3.6.10"
  },
  "pycharm": {
   "stem_cell": {
    "cell_type": "raw",
    "metadata": {
     "collapsed": false
    },
    "source": []
   }
  }
 },
 "nbformat": 4,
 "nbformat_minor": 4
}
