{
 "cells": [
  {
   "cell_type": "markdown",
   "metadata": {},
   "source": [
    "# Transform the data to work with Snorkel: Part 1 - Event Type\n",
    "\n",
    "Essentially we will have to create two labeling models.\n",
    "One assigns labels to event types and the other assigns labels to argument roles in event mentions.\n",
    "\n",
    "In any case we need to create a row for each event (trigger) to do event type labeling.\n",
    "\n",
    "For this we need 1 additional column:\n",
    "- trigger_id\n",
    "\n",
    "One numpy array containing the:\n",
    "- event_type\n",
    "\n",
    "We will probably focus on keyword lists and some heuristics to create our labeling functions."
   ]
  },
  {
   "cell_type": "code",
   "execution_count": null,
   "metadata": {},
   "outputs": [],
   "source": [
    "import sys\n",
    "sys.path.append(\"../\")\n",
    "import os\n",
    "from tqdm import tqdm\n",
    "import pandas as pd\n",
    "from wsee.utils import utils\n",
    "\n",
    "DATA_DIR = '/Users/phuc/data/snorkel-daystreamv5'  # replace path to corpus"
   ]
  },
  {
   "cell_type": "code",
   "execution_count": null,
   "metadata": {},
   "outputs": [],
   "source": [
    "sd_train_path = os.path.join(DATA_DIR, 'train/train_with_events.jsonl')\n",
    "sd_dev_path = os.path.join(DATA_DIR, 'dev/dev_with_events.jsonl')\n",
    "sd_test_path = os.path.join(DATA_DIR, 'test/test_with_events.jsonl')\n",
    "\n",
    "daystream_path = os.path.join(DATA_DIR, 'daystream.jsonl')"
   ]
  },
  {
   "cell_type": "code",
   "execution_count": null,
   "metadata": {},
   "outputs": [],
   "source": [
    "sd_train = pd.read_json(sd_train_path, lines=True)\n",
    "sd_dev = pd.read_json(sd_dev_path, lines=True)\n",
    "sd_test = pd.read_json(sd_test_path, lines=True)\n",
    "\n",
    "daystream = pd.read_json(daystream_path, lines=True)"
   ]
  },
  {
   "cell_type": "code",
   "execution_count": null,
   "metadata": {},
   "outputs": [],
   "source": [
    "sd_train.head()"
   ]
  },
  {
   "cell_type": "code",
   "execution_count": null,
   "metadata": {},
   "outputs": [],
   "source": [
    "utils.pretty_print_json(sd_train[['id', 'text', 'entities', 'event_triggers', 'event_roles']].iloc[6])"
   ]
  },
  {
   "cell_type": "markdown",
   "metadata": {},
   "source": [
    "## Step 1: Create one row for every event trigger"
   ]
  },
  {
   "cell_type": "code",
   "execution_count": null,
   "metadata": {},
   "outputs": [],
   "source": [
    "sd_train.iloc[1].event_triggers"
   ]
  },
  {
   "cell_type": "code",
   "execution_count": null,
   "metadata": {},
   "outputs": [],
   "source": [
    "import pandas as pd \n",
    "import numpy as np\n",
    "\n",
    "event_type_rows = []\n",
    "event_type_rows_y = []\n",
    "\n",
    "event_count = 0\n",
    "\n",
    "print(f\"DataFrame has {len(sd_train.index)} rows\")\n",
    "for index, row in sd_train.iterrows():\n",
    "    \"\"\"if i > 4:\n",
    "        break\"\"\"\n",
    "    for event_trigger in tqdm(row.event_triggers):\n",
    "        augmented_row = utils.get_deep_copy(row)\n",
    "        augmented_row['trigger_id'] = event_trigger['id']\n",
    "        event_type_rows.append(augmented_row)\n",
    "        event_type_num = np.asarray(event_trigger['event_type_probs']).argmax()\n",
    "        event_type_rows_y.append(event_type_num)\n",
    "        if event_type_num != 7:\n",
    "            event_count += 1\n",
    "    \n",
    "print(\"Number of events:\", event_count)"
   ]
  },
  {
   "cell_type": "code",
   "execution_count": null,
   "metadata": {},
   "outputs": [],
   "source": [
    "event_type_rows = pd.DataFrame(event_type_rows)\n",
    "event_type_rows.head()"
   ]
  },
  {
   "cell_type": "code",
   "execution_count": null,
   "metadata": {},
   "outputs": [],
   "source": [
    "import numpy as np\n",
    "\n",
    "event_type_rows_y = np.asarray(event_type_rows_y)"
   ]
  },
  {
   "cell_type": "code",
   "execution_count": null,
   "metadata": {},
   "outputs": [],
   "source": [
    "event_type_rows_y.shape"
   ]
  },
  {
   "cell_type": "markdown",
   "metadata": {},
   "source": [
    "## Step 2: Configure Snorkel"
   ]
  },
  {
   "cell_type": "code",
   "execution_count": null,
   "metadata": {},
   "outputs": [],
   "source": [
    "from wsee import SD4M_RELATION_TYPES\n",
    "print(SD4M_RELATION_TYPES)"
   ]
  },
  {
   "cell_type": "code",
   "execution_count": null,
   "metadata": {},
   "outputs": [],
   "source": [
    "from wsee.labeling.event_trigger_lfs import lf_accident_cat, lf_canceledroute_cat, lf_delay_cat, \\\n",
    "    lf_obstruction_cat, lf_railreplacementservice_cat, lf_trafficjam_cat"
   ]
  },
  {
   "cell_type": "code",
   "execution_count": null,
   "metadata": {},
   "outputs": [],
   "source": [
    "from snorkel.labeling import PandasLFApplier\n",
    "\n",
    "lfs = [\n",
    "    lf_accident_cat,\n",
    "    lf_canceledroute_cat,\n",
    "    # lf_canceledstop_cat\n",
    "    lf_delay_cat,\n",
    "    lf_obstruction_cat,\n",
    "    lf_railreplacementservice_cat,\n",
    "    lf_trafficjam_cat\n",
    "]\n",
    "\n",
    "applier = PandasLFApplier(lfs)\n",
    "L_valid = applier.apply(event_type_rows)"
   ]
  },
  {
   "cell_type": "code",
   "execution_count": null,
   "metadata": {},
   "outputs": [],
   "source": [
    "from snorkel.labeling import LFAnalysis\n",
    "\n",
    "Y_valid = event_type_rows_y\n",
    "LFAnalysis(L_valid, lfs).lf_summary(Y_valid)"
   ]
  },
  {
   "cell_type": "code",
   "execution_count": null,
   "metadata": {},
   "outputs": [],
   "source": []
  }
 ],
 "metadata": {
  "kernelspec": {
   "display_name": "Python 3.6 (master)",
   "language": "python",
   "name": "master"
  },
  "language_info": {
   "codemirror_mode": {
    "name": "ipython",
    "version": 3
   },
   "file_extension": ".py",
   "mimetype": "text/x-python",
   "name": "python",
   "nbconvert_exporter": "python",
   "pygments_lexer": "ipython3",
   "version": "3.6.10"
  },
  "pycharm": {
   "stem_cell": {
    "cell_type": "raw",
    "metadata": {
     "collapsed": false
    },
    "source": []
   }
  }
 },
 "nbformat": 4,
 "nbformat_minor": 4
}
