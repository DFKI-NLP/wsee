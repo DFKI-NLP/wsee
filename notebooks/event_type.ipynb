{
 "cells": [
  {
   "cell_type": "markdown",
   "metadata": {},
   "source": [
    "# Transform the data to work with Snorkel: Part 1 - Event Type\n",
    "\n",
    "Essentially we will have to create two labeling models.\n",
    "One assigns labels to event types and the other assigns labels to argument roles in event mentions.\n",
    "\n",
    "In any case we need to create a row for each event (trigger) to do event type labeling.\n",
    "\n",
    "For this we need 1 additional column:\n",
    "- trigger_id\n",
    "\n",
    "One numpy array containing the:\n",
    "- event_type\n",
    "\n",
    "We will probably focus on keyword lists and some heuristics to create our labeling functions."
   ]
  },
  {
   "cell_type": "code",
   "execution_count": 1,
   "metadata": {},
   "outputs": [],
   "source": [
    "import sys\n",
    "sys.path.append(\"../\")\n",
    "from wsee.utils import utils\n",
    "from wsee.data import pipeline\n",
    "\n",
    "DATA_DIR = '/Users/phuc/data/snorkel-daystreamv5'  # replace path to corpus"
   ]
  },
  {
   "cell_type": "markdown",
   "metadata": {},
   "source": [
    "### SD4M Event Types\n",
    "\n",
    "| Number | Code                   | Description                                                                                                                                          |   |   |\n",
    "|--------|------------------------|------------------------------------------------------------------------------------------------------------------------------------------------------|---|---|\n",
    "| -1     | ABSTAIN                | No vote, for Labeling Functions                                                                                                                      |   |   |\n",
    "| 0      | Accident               | Occurs when a vehicle collides with another vehicle, person, or obstruction.                                                                         |   |   |\n",
    "| 1      | CanceledRoute          | Cancellation of public transport routes or stops                                                                                                     |   |   |\n",
    "| 2      | CanceledStop           | Cancellation of public transport stops. Includes airports / train stations shutdowns, even without mentioning a specific route                       |   |   |\n",
    "| 3      | Delay                  | Remaining traffic disturbances should be labelled as delay                                                                                           |   |   |\n",
    "| 4      | Obstruction            | A temporary installation to control traffic.                                                                                                         |   |   |\n",
    "| 5      | RailReplacementService | A replacement service uses buses (or another transport service) to replacea passenger train on temporary or permanent basis.                         |   |   |\n",
    "| 6      | TrafficJam             | Condition on road networks that occurs as use increases, and is characterised by slower speeds, longer trip times, and increases vehicular queueing. |   |   |\n",
    "| 7      | O                      | No SD4M event.                                                                                                                                       |   |   |\n",
    "|        |                        |                                                                                                                                                      |   |   |\n",
    "|        |                        |                                                                                                                                                      |   |   |"
   ]
  },
  {
   "cell_type": "code",
   "execution_count": 2,
   "metadata": {},
   "outputs": [],
   "source": [
    "loaded_data = pipeline.load_data(DATA_DIR)\n",
    "sd_train = loaded_data['train']\n",
    "sd_dev = loaded_data['dev']\n",
    "sd_test = loaded_data['test']\n",
    "\n",
    "daystream = loaded_data['daystream']"
   ]
  },
  {
   "cell_type": "code",
   "execution_count": 3,
   "metadata": {},
   "outputs": [
    {
     "data": {
      "text/html": [
       "<div>\n",
       "<style scoped>\n",
       "    .dataframe tbody tr th:only-of-type {\n",
       "        vertical-align: middle;\n",
       "    }\n",
       "\n",
       "    .dataframe tbody tr th {\n",
       "        vertical-align: top;\n",
       "    }\n",
       "\n",
       "    .dataframe thead th {\n",
       "        text-align: right;\n",
       "    }\n",
       "</style>\n",
       "<table border=\"1\" class=\"dataframe\">\n",
       "  <thead>\n",
       "    <tr style=\"text-align: right;\">\n",
       "      <th></th>\n",
       "      <th>id</th>\n",
       "      <th>text</th>\n",
       "      <th>tokens</th>\n",
       "      <th>pos_tags</th>\n",
       "      <th>ner_tags</th>\n",
       "      <th>entities</th>\n",
       "      <th>event_triggers</th>\n",
       "      <th>event_roles</th>\n",
       "    </tr>\n",
       "  </thead>\n",
       "  <tbody>\n",
       "    <tr>\n",
       "      <th>0</th>\n",
       "      <td>http://www.viz-info.de/LMS-BR_r_LMS-BR_60517@2...</td>\n",
       "      <td>Unfall\\nAbschnitt: Marzahn (Berlin)\\nGültig ab...</td>\n",
       "      <td>[Unfall, Abschnitt, :, Marzahn, (, Berlin, ), ...</td>\n",
       "      <td>[NN, NN, $., NE, TRUNC, NE, TRUNC, NN, PTKVZ, ...</td>\n",
       "      <td>[B-TRIGGER, O, O, B-LOCATION, O, B-LOCATION_CI...</td>\n",
       "      <td>[{'id': 'c/e6ad8c7f-24a4-4742-a52d-90207de04f0...</td>\n",
       "      <td>[{'id': 'c/e6ad8c7f-24a4-4742-a52d-90207de04f0...</td>\n",
       "      <td>[{'trigger': 'c/e6ad8c7f-24a4-4742-a52d-90207d...</td>\n",
       "    </tr>\n",
       "    <tr>\n",
       "      <th>1</th>\n",
       "      <td>http://www.deutschlandradio.de/#17@2016-04-04T...</td>\n",
       "      <td>Vorsicht auf der A7 Ulm Richtung Füssen zwisch...</td>\n",
       "      <td>[Vorsicht, auf, der, A7, Ulm, Richtung, Füssen...</td>\n",
       "      <td>[NN, APPR, ART, NE, NE, NN, NN, APPR, NN, NE, ...</td>\n",
       "      <td>[O, O, O, B-LOCATION_STREET, B-LOCATION_CITY, ...</td>\n",
       "      <td>[{'id': 'c/2db85836-812f-4ced-90d3-46df9495782...</td>\n",
       "      <td>[]</td>\n",
       "      <td>[]</td>\n",
       "    </tr>\n",
       "    <tr>\n",
       "      <th>2</th>\n",
       "      <td>667383197769048064</td>\n",
       "      <td>Genau in dem Bus sitzen, der im Stau steht. Fü...</td>\n",
       "      <td>[Genau, in, dem, Bus, sitzen, ,, der, im, Stau...</td>\n",
       "      <td>[ADV, APPR, ART, NN, VVFIN, $,, PRELS, APPRART...</td>\n",
       "      <td>[O, O, O, O, O, O, O, O, O, O, O, O, O, O, O]</td>\n",
       "      <td>[]</td>\n",
       "      <td>[]</td>\n",
       "      <td>[]</td>\n",
       "    </tr>\n",
       "    <tr>\n",
       "      <th>3</th>\n",
       "      <td>603844236484550658</td>\n",
       "      <td>Große Carsharing-Übernahme: Der französische C...</td>\n",
       "      <td>[Große, Carsharing, -, Übernahme, :, Der, fran...</td>\n",
       "      <td>[ADJA, NN, $[, NN, $., ART, ADJA, NN, $[, NN, ...</td>\n",
       "      <td>[O, O, O, O, O, O, B-LOCATION, O, O, O, B-ORGA...</td>\n",
       "      <td>[{'id': 'c/f0fdb663-677e-4353-9159-8a9530f9777...</td>\n",
       "      <td>[]</td>\n",
       "      <td>[]</td>\n",
       "    </tr>\n",
       "    <tr>\n",
       "      <th>4</th>\n",
       "      <td>http://bauarbeiten.bahn.de/fernverkehr/Linie/I...</td>\n",
       "      <td>an mehreren Terminen\\n an den Freitagen, 3. un...</td>\n",
       "      <td>[an, mehreren, Terminen, an, den, Freitagen, ,...</td>\n",
       "      <td>[APPR, PIAT, NN, APPR, ART, NN, $,, CARD, $., ...</td>\n",
       "      <td>[O, O, O, O, O, B-DATE, I-DATE, I-DATE, I-DATE...</td>\n",
       "      <td>[{'id': 'c/f46384bf-20c6-47f5-a019-2a11fc52079...</td>\n",
       "      <td>[{'id': 'c/f84a50a1-b58f-4077-a68c-ae95a4f81e3...</td>\n",
       "      <td>[{'trigger': 'c/f84a50a1-b58f-4077-a68c-ae95a4...</td>\n",
       "    </tr>\n",
       "  </tbody>\n",
       "</table>\n",
       "</div>"
      ],
      "text/plain": [
       "                                                  id  \\\n",
       "0  http://www.viz-info.de/LMS-BR_r_LMS-BR_60517@2...   \n",
       "1  http://www.deutschlandradio.de/#17@2016-04-04T...   \n",
       "2                                 667383197769048064   \n",
       "3                                 603844236484550658   \n",
       "4  http://bauarbeiten.bahn.de/fernverkehr/Linie/I...   \n",
       "\n",
       "                                                text  \\\n",
       "0  Unfall\\nAbschnitt: Marzahn (Berlin)\\nGültig ab...   \n",
       "1  Vorsicht auf der A7 Ulm Richtung Füssen zwisch...   \n",
       "2  Genau in dem Bus sitzen, der im Stau steht. Fü...   \n",
       "3  Große Carsharing-Übernahme: Der französische C...   \n",
       "4  an mehreren Terminen\\n an den Freitagen, 3. un...   \n",
       "\n",
       "                                              tokens  \\\n",
       "0  [Unfall, Abschnitt, :, Marzahn, (, Berlin, ), ...   \n",
       "1  [Vorsicht, auf, der, A7, Ulm, Richtung, Füssen...   \n",
       "2  [Genau, in, dem, Bus, sitzen, ,, der, im, Stau...   \n",
       "3  [Große, Carsharing, -, Übernahme, :, Der, fran...   \n",
       "4  [an, mehreren, Terminen, an, den, Freitagen, ,...   \n",
       "\n",
       "                                            pos_tags  \\\n",
       "0  [NN, NN, $., NE, TRUNC, NE, TRUNC, NN, PTKVZ, ...   \n",
       "1  [NN, APPR, ART, NE, NE, NN, NN, APPR, NN, NE, ...   \n",
       "2  [ADV, APPR, ART, NN, VVFIN, $,, PRELS, APPRART...   \n",
       "3  [ADJA, NN, $[, NN, $., ART, ADJA, NN, $[, NN, ...   \n",
       "4  [APPR, PIAT, NN, APPR, ART, NN, $,, CARD, $., ...   \n",
       "\n",
       "                                            ner_tags  \\\n",
       "0  [B-TRIGGER, O, O, B-LOCATION, O, B-LOCATION_CI...   \n",
       "1  [O, O, O, B-LOCATION_STREET, B-LOCATION_CITY, ...   \n",
       "2      [O, O, O, O, O, O, O, O, O, O, O, O, O, O, O]   \n",
       "3  [O, O, O, O, O, O, B-LOCATION, O, O, O, B-ORGA...   \n",
       "4  [O, O, O, O, O, B-DATE, I-DATE, I-DATE, I-DATE...   \n",
       "\n",
       "                                            entities  \\\n",
       "0  [{'id': 'c/e6ad8c7f-24a4-4742-a52d-90207de04f0...   \n",
       "1  [{'id': 'c/2db85836-812f-4ced-90d3-46df9495782...   \n",
       "2                                                 []   \n",
       "3  [{'id': 'c/f0fdb663-677e-4353-9159-8a9530f9777...   \n",
       "4  [{'id': 'c/f46384bf-20c6-47f5-a019-2a11fc52079...   \n",
       "\n",
       "                                      event_triggers  \\\n",
       "0  [{'id': 'c/e6ad8c7f-24a4-4742-a52d-90207de04f0...   \n",
       "1                                                 []   \n",
       "2                                                 []   \n",
       "3                                                 []   \n",
       "4  [{'id': 'c/f84a50a1-b58f-4077-a68c-ae95a4f81e3...   \n",
       "\n",
       "                                         event_roles  \n",
       "0  [{'trigger': 'c/e6ad8c7f-24a4-4742-a52d-90207d...  \n",
       "1                                                 []  \n",
       "2                                                 []  \n",
       "3                                                 []  \n",
       "4  [{'trigger': 'c/f84a50a1-b58f-4077-a68c-ae95a4...  "
      ]
     },
     "execution_count": 3,
     "metadata": {},
     "output_type": "execute_result"
    }
   ],
   "source": [
    "sd_train.head()"
   ]
  },
  {
   "cell_type": "markdown",
   "metadata": {},
   "source": [
    "## Step 1: Create one row for every event trigger\n",
    "\n",
    "We will use the (labeled) SD4M training set as our development data to create our labeling functions.\n",
    "In this notebook we will run our labeling functions and our LabelModel on that data.\n",
    "In the real pipeline we will instead label the Daystream data that does not have event type and event argument role labels."
   ]
  },
  {
   "cell_type": "code",
   "execution_count": 4,
   "metadata": {},
   "outputs": [
    {
     "name": "stderr",
     "output_type": "stream",
     "text": [
      "116it [00:00, 685.09it/s]"
     ]
    },
    {
     "name": "stdout",
     "output_type": "stream",
     "text": [
      "DataFrame has 1273 rows\n"
     ]
    },
    {
     "name": "stderr",
     "output_type": "stream",
     "text": [
      "1273it [00:01, 1138.36it/s]"
     ]
    },
    {
     "name": "stdout",
     "output_type": "stream",
     "text": [
      "Number of events: 487\n"
     ]
    },
    {
     "name": "stderr",
     "output_type": "stream",
     "text": [
      "\n"
     ]
    }
   ],
   "source": [
    "df_dev, Y_dev = pipeline.build_event_trigger_examples(sd_train)"
   ]
  },
  {
   "cell_type": "markdown",
   "metadata": {},
   "source": [
    "We use the (labeled) SD4m development set as our \"test set\" to measure the performance of our LabelModel."
   ]
  },
  {
   "cell_type": "code",
   "execution_count": 5,
   "metadata": {},
   "outputs": [
    {
     "name": "stderr",
     "output_type": "stream",
     "text": [
      "147it [00:00, 1530.77it/s]"
     ]
    },
    {
     "name": "stdout",
     "output_type": "stream",
     "text": [
      "DataFrame has 147 rows\n",
      "Number of events: 46\n"
     ]
    },
    {
     "name": "stderr",
     "output_type": "stream",
     "text": [
      "\n"
     ]
    }
   ],
   "source": [
    "df_test, Y_test = pipeline.build_event_trigger_examples(sd_dev)"
   ]
  },
  {
   "cell_type": "code",
   "execution_count": 6,
   "metadata": {},
   "outputs": [
    {
     "name": "stdout",
     "output_type": "stream",
     "text": [
      "['Accident', 'CanceledRoute', 'CanceledStop', 'Delay', 'Obstruction', 'RailReplacementService', 'TrafficJam', 'O']\n"
     ]
    }
   ],
   "source": [
    "from wsee import SD4M_RELATION_TYPES\n",
    "print(SD4M_RELATION_TYPES)"
   ]
  },
  {
   "cell_type": "markdown",
   "metadata": {},
   "source": [
    "## Step 2: Explore the data"
   ]
  },
  {
   "cell_type": "code",
   "execution_count": 7,
   "metadata": {},
   "outputs": [],
   "source": [
    "from wsee.preprocessors.preprocessors import *\n",
    "from wsee.data import explore, pipeline"
   ]
  },
  {
   "cell_type": "markdown",
   "metadata": {},
   "source": [
    "We can apply all our preprocessors on our data and see if we can find something interesting for our labeling functions.\n",
    "Let's first sample the SD4M training data, which is labeled."
   ]
  },
  {
   "cell_type": "code",
   "execution_count": 8,
   "metadata": {},
   "outputs": [],
   "source": [
    "labeled_sd4m_triggers = explore.add_labels(df_dev, Y_dev)"
   ]
  },
  {
   "cell_type": "code",
   "execution_count": 9,
   "metadata": {},
   "outputs": [
    {
     "name": "stderr",
     "output_type": "stream",
     "text": [
      "100%|██████████| 6/6 [00:07<00:00,  1.23s/it]\n"
     ]
    }
   ],
   "source": [
    "labeled_sd4m_triggers = explore.apply_preprocessors(labeled_sd4m_triggers, [get_trigger, get_trigger_text, get_trigger_left_tokens, get_trigger_right_tokens, get_entity_type_freqs, get_mixed_ner])"
   ]
  },
  {
   "cell_type": "code",
   "execution_count": 10,
   "metadata": {},
   "outputs": [],
   "source": [
    "labeled_sd4m_triggers = explore.add_event_types(labeled_sd4m_triggers)"
   ]
  },
  {
   "cell_type": "markdown",
   "metadata": {},
   "source": [
    "Let's first take a look at the trigger text."
   ]
  },
  {
   "cell_type": "code",
   "execution_count": 11,
   "metadata": {},
   "outputs": [],
   "source": [
    "import pandas as pd\n",
    "pd.set_option('display.max_colwidth', -1)"
   ]
  },
  {
   "cell_type": "code",
   "execution_count": 12,
   "metadata": {},
   "outputs": [
    {
     "data": {
      "text/html": [
       "<div>\n",
       "<style scoped>\n",
       "    .dataframe tbody tr th:only-of-type {\n",
       "        vertical-align: middle;\n",
       "    }\n",
       "\n",
       "    .dataframe tbody tr th {\n",
       "        vertical-align: top;\n",
       "    }\n",
       "\n",
       "    .dataframe thead th {\n",
       "        text-align: right;\n",
       "    }\n",
       "</style>\n",
       "<table border=\"1\" class=\"dataframe\">\n",
       "  <thead>\n",
       "    <tr style=\"text-align: right;\">\n",
       "      <th></th>\n",
       "      <th>trigger_left_tokens</th>\n",
       "      <th>trigger_text</th>\n",
       "      <th>trigger_right_tokens</th>\n",
       "      <th>entity_type_freqs</th>\n",
       "      <th>mixed_ner</th>\n",
       "      <th>label</th>\n",
       "      <th>event_types</th>\n",
       "    </tr>\n",
       "  </thead>\n",
       "  <tbody>\n",
       "    <tr>\n",
       "      <th>0</th>\n",
       "      <td>[Unfall, Abschnitt, :, Marzahn, (, Berlin, ), Gültig, ab, :, 09.02.2016, 20:06]</td>\n",
       "      <td>gesperrt</td>\n",
       "      <td>[,, Unfall]</td>\n",
       "      <td>{'trigger': 2, 'location': 1, 'location_city': 1, 'date': 1, 'time': 1}</td>\n",
       "      <td>TRIGGER\\nAbschnitt: LOCATION (LOCATION_CITY)\\nGültig ab: DATE TIME\\nTRIGGER, Unfall\\n</td>\n",
       "      <td>4</td>\n",
       "      <td>[(Unfall, 0), (gesperrt, 4)]</td>\n",
       "    </tr>\n",
       "    <tr>\n",
       "      <th>1264</th>\n",
       "      <td>[■, #Hamburg, :, Die, Bundesstraße, ist, zwischen, Sedanstraße, und, Papendamm, wegen, #Bauarbeiten, in, beiden, Richtungen, bis, Ende, Juli]</td>\n",
       "      <td>gesperrt</td>\n",
       "      <td>[.]</td>\n",
       "      <td>{'location_city': 1, 'location_street': 3, 'trigger': 2, 'location': 1, 'date': 1}</td>\n",
       "      <td>■ LOCATION_CITY: Die LOCATION_STREET ist zwischen LOCATION_STREET und LOCATION_STREET wegen TRIGGER in LOCATION bis DATE TRIGGER.\\n</td>\n",
       "      <td>4</td>\n",
       "      <td>[(#Bauarbeiten, 7), (gesperrt, 4)]</td>\n",
       "    </tr>\n",
       "    <tr>\n",
       "      <th>735</th>\n",
       "      <td>[A255, Zweig, Hamburg, -, Veddel, stadtauswärts, zwischen, Hamburg, -, Süd, und, dem, Kreuz, Hamburg, -, Süd, ist, wegen, Bauarbeiten, eine, Spur]</td>\n",
       "      <td>gesperrt</td>\n",
       "      <td>[.]</td>\n",
       "      <td>{'location_street': 1, 'location': 4, 'trigger': 2}</td>\n",
       "      <td>LOCATION_STREET Zweig LOCATION LOCATION zwischen LOCATION und dem LOCATION ist wegen TRIGGER eine Spur TRIGGER.\\n</td>\n",
       "      <td>4</td>\n",
       "      <td>[(Bauarbeiten, 7), (gesperrt, 4)]</td>\n",
       "    </tr>\n",
       "    <tr>\n",
       "      <th>663</th>\n",
       "      <td>[Die, B217, Springe, Richtung, Hannover, ist, in, Höhe, Alvesrode, /, Wisentgehege, wegen, Bauarbeiten, bis, Samstag, 17:00, Uhr]</td>\n",
       "      <td>gesperrt.</td>\n",
       "      <td>[Eine, Umleitung, ist, eingerichtet, .]</td>\n",
       "      <td>{'location_street': 1, 'location_city': 2, 'location': 1, 'trigger': 2, 'date': 1, 'time': 1}</td>\n",
       "      <td>Die LOCATION_STREET LOCATION_CITY Richtung LOCATION_CITY ist in Höhe LOCATION wegen TRIGGER bis DATE TIME TRIGGER Eine Umleitung ist eingerichtet.\\n</td>\n",
       "      <td>4</td>\n",
       "      <td>[(Bauarbeiten, 7), (gesperrt., 4)]</td>\n",
       "    </tr>\n",
       "    <tr>\n",
       "      <th>1154</th>\n",
       "      <td>[B95, ,, B173, Grenzübergang, Oberwiesenthal, Richtung, Zwickau, zwischen, Thum, und, Einfahrt, A72, ,, Chemnitz, -, Süd]</td>\n",
       "      <td>Schwertransport</td>\n",
       "      <td>[,, Überholen, nicht, möglich]</td>\n",
       "      <td>{'location_street': 2, 'location': 4, 'location_city': 1, 'trigger': 1}</td>\n",
       "      <td>LOCATION_STREET, LOCATION_STREET LOCATION Richtung LOCATION_CITY zwischen LOCATION und LOCATION, LOCATION TRIGGER, Überholen nicht möglich\\n</td>\n",
       "      <td>4</td>\n",
       "      <td>[(Schwertransport, 4)]</td>\n",
       "    </tr>\n",
       "    <tr>\n",
       "      <th>776</th>\n",
       "      <td>[1, ., Aktualisierung, Nürnberg, -, Bamberg, :, Notarzteinsatz, am, Gleis, /, Schienenersatzverkehr, eingerichtet, (, Stand, 24.03.2016, ,, 12:45, Uhr, ), KBS820, :, Nürnberg, -, Bamberg, -, Lichtenfels, -, Sonneberg, S, 1, :, Hartmannshof, -, Nürnberg, -, Bamberg, Meldung, :, wegen, eines, Notarzteinsatzes, am, Gleis, ist, die, Strecke, zwischen, Hirschaid, und, Forchheim, weiterhin]</td>\n",
       "      <td>gesperrt</td>\n",
       "      <td>[., Die, S, -, Bahnen, der, Linie, S, 1, aus, Richtung, Bamberg, verkehren, bis, Hirschaid, und, enden, dort, vorzeitig, ., Die, S, -, Bahnen, aus, Richtung, Hartmannshof, verkehren, bis, Forchheim, und, enden, vorzeitig, ., Die, Regionalzüge, aus, Richtung, Nürnberg, verkehren, bis, Forchheim, und, enden, dort, vorzeitig, ., Die, Züge, aus, Richtung, Lichtenfels, verkehren, bis, Bamberg, und, enden, vorzeitig, ., Ein, Schienenersatzverkehr, mit, Bus, zwischen, Hirschaid, und, Forchheim, ist, für, Sie, eingerichtet, ., Letzte, Aktualisierung, :, 2016, -03-24, 12:48:41, Meldehistorie, zu, dieser, Störung, einsehen, Ältere, Meldungen, :, Nürnberg, -, Bamberg, :, No]</td>\n",
       "      <td>{'location_stop': 23, 'trigger': 3, 'date': 2, 'time': 2, 'location_route': 7}</td>\n",
       "      <td>1. Aktualisierung LOCATION_STOP - LOCATION_STOP: Notarzteinsatz am Gleis / TRIGGER eingerichtet (Stand DATE, TIME)\\nLOCATION_ROUTE:\\n LOCATION_STOP - LOCATION_STOP - LOCATION_STOP - LOCATION_STOP\\nLOCATION_ROUTE:\\n LOCATION_STOP - LOCATION_STOP - LOCATION_STOP\\nMeldung:\\n wegen eines Notarzteinsatzes am Gleis ist die LOCATION_ROUTE zwischen LOCATION_STOP und LOCATION_STOP weiterhin TRIGGER. Die S-Bahnen der Linie LOCATION_ROUTE aus Richtung LOCATION_STOP verkehren bis LOCATION_STOP und enden dort vorzeitig. Die LOCATION_ROUTE aus Richtung LOCATION_STOP verkehren bis LOCATION_STOP und enden vorzeitig. \\nDie LOCATION_ROUTE aus Richtung LOCATION_STOP verkehren bis LOCATION_STOP und enden dort vorzeitig. Die LOCATION_ROUTE aus Richtung LOCATION_STOP verkehren bis LOCATION_STOP und TRIGGER. \\nEin Schienenersatzverkehr mit Bus zwischen LOCATION_STOP und LOCATION_STOP ist für Sie eingerichtet.\\n \\n Letzte Aktualisierung: DATE TIME\\n \\nMeldehistorie zu dieser Störung einsehen\\nÄltere Meldungen:\\nLOCATION_STOP - LOCATION_STOP: No\\n</td>\n",
       "      <td>4</td>\n",
       "      <td>[(Schienenersatzverkehr, 7), (gesperrt, 4), (enden vorzeitig, 7)]</td>\n",
       "    </tr>\n",
       "    <tr>\n",
       "      <th>960</th>\n",
       "      <td>[A17, Prag, Richtung, Dresden, zwischen, Dresden, -, Südvorstadt, und, Dresden, -, Gorbitz, rechter, Fahrstreifen]</td>\n",
       "      <td>blockiert</td>\n",
       "      <td>[,, defekter, LKW]</td>\n",
       "      <td>{'location_street': 1, 'location_city': 2, 'location': 2, 'trigger': 1}</td>\n",
       "      <td>LOCATION_STREET LOCATION_CITY Richtung LOCATION_CITY zwischen LOCATION und LOCATION rechter Fahrstreifen TRIGGER, defekter LKW\\n</td>\n",
       "      <td>4</td>\n",
       "      <td>[(blockiert, 4)]</td>\n",
       "    </tr>\n",
       "    <tr>\n",
       "      <th>1195</th>\n",
       "      <td>[A61, Koblenz, Richtung, Mönchengladbach, zwischen, Swisttal, und, Kreuz, Bliesheim, 2, km, Stau, wegen, der]</td>\n",
       "      <td>Sperrung</td>\n",
       "      <td>[der, A1]</td>\n",
       "      <td>{'location_street': 2, 'location_city': 2, 'location': 2, 'distance': 1, 'trigger': 2}</td>\n",
       "      <td>LOCATION_STREET LOCATION_CITY Richtung LOCATION_CITY zwischen LOCATION und LOCATION DISTANCE TRIGGER wegen der TRIGGER der LOCATION_STREET\\n</td>\n",
       "      <td>4</td>\n",
       "      <td>[(Stau, 6), (Sperrung, 4)]</td>\n",
       "    </tr>\n",
       "    <tr>\n",
       "      <th>962</th>\n",
       "      <td>[Unfall, bei, Dessau, -, Roßlau, :, A9, bleibt, nach, Lkw, -, Unfall, bis, Freitag]</td>\n",
       "      <td>gesperrt</td>\n",
       "      <td>[-, FOCUS, Online, https://t.co/xwLYw8Vqq2, #dessau, #rosslau]</td>\n",
       "      <td>{'location': 1, 'location_street': 1, 'trigger': 2, 'date': 1, 'organization_company': 1, 'location_city': 2}</td>\n",
       "      <td>Unfall bei LOCATION: LOCATION_STREET bleibt nach TRIGGER bis DATE TRIGGER - ORGANIZATION_COMPANY https://t.co/xwLYw8Vqq2 LOCATION_CITY LOCATION_CITY\\n</td>\n",
       "      <td>4</td>\n",
       "      <td>[(Lkw-Unfall, 7), (gesperrt, 4)]</td>\n",
       "    </tr>\n",
       "    <tr>\n",
       "      <th>328</th>\n",
       "      <td>[am, Sonntag, ,, 1, ., Mai, ,, 21.10, –, 23.45, Uhr, Meldung, :, IC, 2437, von, Emden, Hbf, (, planmäßige, Ankunft, 23.00, Uhr, in, Magdeburg, Hbf, ), wird, von, Hannover, Hbf, bis, Braunschweig, Hbf]</td>\n",
       "      <td>umgeleitet</td>\n",
       "      <td>[und, hält, nicht, in, Peine, ., Aufgrund, der, Umleitung, verspätet, sich, der, Zug, um, bis, zu, 20, Min, ., IC, 2030, von, Dresden, Hbf, (, planmäßige, Ankunft, 23.23, Uhr, in, Hannover, Hbf, ), wird, von, Braunschweig, Hbf, bis, Hannover, Hbf, umgeleitet, und, verspätet, sich, um, bis, zu, 20, Min, ., Grund, :, Weichenarbeiten, in, Hannover, Hbf, Link, zur, detaillierten, Meldung, :, Link, zum, kompletten, PDF, -, Dokument, :, (, 88, kB, ), ------------------]</td>\n",
       "      <td>{'date': 1, 'time': 4, 'location_route': 2, 'location_stop': 10, 'trigger': 4, 'duration': 2, 'number': 1}</td>\n",
       "      <td>am DATE, TIME – TIME\\nMeldung:\\n LOCATION_ROUTE von LOCATION_STOP (planmäßige Ankunft TIME in LOCATION_STOP) wird von LOCATION_STOP bis LOCATION_STOP TRIGGER und TRIGGER in LOCATION_STOP. Aufgrund der Umleitung verspätet sich der Zug um bis zu DURATION\\n LOCATION_ROUTE von LOCATION_STOP (planmäßige Ankunft TIME in LOCATION_STOP) wird von LOCATION_STOP bis LOCATION_STOP TRIGGER und TRIGGER sich um bis zu DURATION\\nGrund:\\nWeichenarbeiten in LOCATION_STOP\\nLink zur detaillierten Meldung: \\nLink zum kompletten PDF-Dokument: \\n(NUMBER kB)\\n------------------\\n</td>\n",
       "      <td>4</td>\n",
       "      <td>[(umgeleitet, 4), (hält nicht, 2), (umgeleitet, 4), (verspätet, 3)]</td>\n",
       "    </tr>\n",
       "  </tbody>\n",
       "</table>\n",
       "</div>"
      ],
      "text/plain": [
       "                                                                                                                                                                                                                                                                                                                                                                                      trigger_left_tokens  \\\n",
       "0     [Unfall, Abschnitt, :, Marzahn, (, Berlin, ), Gültig, ab, :, 09.02.2016, 20:06]                                                                                                                                                                                                                                                                                                                       \n",
       "1264  [■, #Hamburg, :, Die, Bundesstraße, ist, zwischen, Sedanstraße, und, Papendamm, wegen, #Bauarbeiten, in, beiden, Richtungen, bis, Ende, Juli]                                                                                                                                                                                                                                                         \n",
       "735   [A255, Zweig, Hamburg, -, Veddel, stadtauswärts, zwischen, Hamburg, -, Süd, und, dem, Kreuz, Hamburg, -, Süd, ist, wegen, Bauarbeiten, eine, Spur]                                                                                                                                                                                                                                                    \n",
       "663   [Die, B217, Springe, Richtung, Hannover, ist, in, Höhe, Alvesrode, /, Wisentgehege, wegen, Bauarbeiten, bis, Samstag, 17:00, Uhr]                                                                                                                                                                                                                                                                     \n",
       "1154  [B95, ,, B173, Grenzübergang, Oberwiesenthal, Richtung, Zwickau, zwischen, Thum, und, Einfahrt, A72, ,, Chemnitz, -, Süd]                                                                                                                                                                                                                                                                             \n",
       "776   [1, ., Aktualisierung, Nürnberg, -, Bamberg, :, Notarzteinsatz, am, Gleis, /, Schienenersatzverkehr, eingerichtet, (, Stand, 24.03.2016, ,, 12:45, Uhr, ), KBS820, :, Nürnberg, -, Bamberg, -, Lichtenfels, -, Sonneberg, S, 1, :, Hartmannshof, -, Nürnberg, -, Bamberg, Meldung, :, wegen, eines, Notarzteinsatzes, am, Gleis, ist, die, Strecke, zwischen, Hirschaid, und, Forchheim, weiterhin]   \n",
       "960   [A17, Prag, Richtung, Dresden, zwischen, Dresden, -, Südvorstadt, und, Dresden, -, Gorbitz, rechter, Fahrstreifen]                                                                                                                                                                                                                                                                                    \n",
       "1195  [A61, Koblenz, Richtung, Mönchengladbach, zwischen, Swisttal, und, Kreuz, Bliesheim, 2, km, Stau, wegen, der]                                                                                                                                                                                                                                                                                         \n",
       "962   [Unfall, bei, Dessau, -, Roßlau, :, A9, bleibt, nach, Lkw, -, Unfall, bis, Freitag]                                                                                                                                                                                                                                                                                                                   \n",
       "328   [am, Sonntag, ,, 1, ., Mai, ,, 21.10, –, 23.45, Uhr, Meldung, :, IC, 2437, von, Emden, Hbf, (, planmäßige, Ankunft, 23.00, Uhr, in, Magdeburg, Hbf, ), wird, von, Hannover, Hbf, bis, Braunschweig, Hbf]                                                                                                                                                                                              \n",
       "\n",
       "         trigger_text  \\\n",
       "0     gesperrt          \n",
       "1264  gesperrt          \n",
       "735   gesperrt          \n",
       "663   gesperrt.         \n",
       "1154  Schwertransport   \n",
       "776   gesperrt          \n",
       "960   blockiert         \n",
       "1195  Sperrung          \n",
       "962   gesperrt          \n",
       "328   umgeleitet        \n",
       "\n",
       "                                                                                                                                                                                                                                                                                                                                                                                                                                                                                                                                                                                                                                                                                  trigger_right_tokens  \\\n",
       "0     [,, Unfall]                                                                                                                                                                                                                                                                                                                                                                                                                                                                                                                                                                                                                                                                                        \n",
       "1264  [.]                                                                                                                                                                                                                                                                                                                                                                                                                                                                                                                                                                                                                                                                                                \n",
       "735   [.]                                                                                                                                                                                                                                                                                                                                                                                                                                                                                                                                                                                                                                                                                                \n",
       "663   [Eine, Umleitung, ist, eingerichtet, .]                                                                                                                                                                                                                                                                                                                                                                                                                                                                                                                                                                                                                                                            \n",
       "1154  [,, Überholen, nicht, möglich]                                                                                                                                                                                                                                                                                                                                                                                                                                                                                                                                                                                                                                                                     \n",
       "776   [., Die, S, -, Bahnen, der, Linie, S, 1, aus, Richtung, Bamberg, verkehren, bis, Hirschaid, und, enden, dort, vorzeitig, ., Die, S, -, Bahnen, aus, Richtung, Hartmannshof, verkehren, bis, Forchheim, und, enden, vorzeitig, ., Die, Regionalzüge, aus, Richtung, Nürnberg, verkehren, bis, Forchheim, und, enden, dort, vorzeitig, ., Die, Züge, aus, Richtung, Lichtenfels, verkehren, bis, Bamberg, und, enden, vorzeitig, ., Ein, Schienenersatzverkehr, mit, Bus, zwischen, Hirschaid, und, Forchheim, ist, für, Sie, eingerichtet, ., Letzte, Aktualisierung, :, 2016, -03-24, 12:48:41, Meldehistorie, zu, dieser, Störung, einsehen, Ältere, Meldungen, :, Nürnberg, -, Bamberg, :, No]   \n",
       "960   [,, defekter, LKW]                                                                                                                                                                                                                                                                                                                                                                                                                                                                                                                                                                                                                                                                                 \n",
       "1195  [der, A1]                                                                                                                                                                                                                                                                                                                                                                                                                                                                                                                                                                                                                                                                                          \n",
       "962   [-, FOCUS, Online, https://t.co/xwLYw8Vqq2, #dessau, #rosslau]                                                                                                                                                                                                                                                                                                                                                                                                                                                                                                                                                                                                                                     \n",
       "328   [und, hält, nicht, in, Peine, ., Aufgrund, der, Umleitung, verspätet, sich, der, Zug, um, bis, zu, 20, Min, ., IC, 2030, von, Dresden, Hbf, (, planmäßige, Ankunft, 23.23, Uhr, in, Hannover, Hbf, ), wird, von, Braunschweig, Hbf, bis, Hannover, Hbf, umgeleitet, und, verspätet, sich, um, bis, zu, 20, Min, ., Grund, :, Weichenarbeiten, in, Hannover, Hbf, Link, zur, detaillierten, Meldung, :, Link, zum, kompletten, PDF, -, Dokument, :, (, 88, kB, ), ------------------]                                                                                                                                                                                                               \n",
       "\n",
       "                                                                                                  entity_type_freqs  \\\n",
       "0     {'trigger': 2, 'location': 1, 'location_city': 1, 'date': 1, 'time': 1}                                         \n",
       "1264  {'location_city': 1, 'location_street': 3, 'trigger': 2, 'location': 1, 'date': 1}                              \n",
       "735   {'location_street': 1, 'location': 4, 'trigger': 2}                                                             \n",
       "663   {'location_street': 1, 'location_city': 2, 'location': 1, 'trigger': 2, 'date': 1, 'time': 1}                   \n",
       "1154  {'location_street': 2, 'location': 4, 'location_city': 1, 'trigger': 1}                                         \n",
       "776   {'location_stop': 23, 'trigger': 3, 'date': 2, 'time': 2, 'location_route': 7}                                  \n",
       "960   {'location_street': 1, 'location_city': 2, 'location': 2, 'trigger': 1}                                         \n",
       "1195  {'location_street': 2, 'location_city': 2, 'location': 2, 'distance': 1, 'trigger': 2}                          \n",
       "962   {'location': 1, 'location_street': 1, 'trigger': 2, 'date': 1, 'organization_company': 1, 'location_city': 2}   \n",
       "328   {'date': 1, 'time': 4, 'location_route': 2, 'location_stop': 10, 'trigger': 4, 'duration': 2, 'number': 1}      \n",
       "\n",
       "                                                                                                                                                                                                                                                                                                                                                                                                                                                                                                                                                                                                                                                                                                                                                                                                                                                                                                                                                                                                                                                                           mixed_ner  \\\n",
       "0     TRIGGER\\nAbschnitt: LOCATION (LOCATION_CITY)\\nGültig ab: DATE TIME\\nTRIGGER, Unfall\\n                                                                                                                                                                                                                                                                                                                                                                                                                                                                                                                                                                                                                                                                                                                                                                                                                                                                                                                                                                                            \n",
       "1264  ■ LOCATION_CITY: Die LOCATION_STREET ist zwischen LOCATION_STREET und LOCATION_STREET wegen TRIGGER in LOCATION bis DATE TRIGGER.\\n                                                                                                                                                                                                                                                                                                                                                                                                                                                                                                                                                                                                                                                                                                                                                                                                                                                                                                                                              \n",
       "735   LOCATION_STREET Zweig LOCATION LOCATION zwischen LOCATION und dem LOCATION ist wegen TRIGGER eine Spur TRIGGER.\\n                                                                                                                                                                                                                                                                                                                                                                                                                                                                                                                                                                                                                                                                                                                                                                                                                                                                                                                                                                \n",
       "663   Die LOCATION_STREET LOCATION_CITY Richtung LOCATION_CITY ist in Höhe LOCATION wegen TRIGGER bis DATE TIME TRIGGER Eine Umleitung ist eingerichtet.\\n                                                                                                                                                                                                                                                                                                                                                                                                                                                                                                                                                                                                                                                                                                                                                                                                                                                                                                                             \n",
       "1154  LOCATION_STREET, LOCATION_STREET LOCATION Richtung LOCATION_CITY zwischen LOCATION und LOCATION, LOCATION TRIGGER, Überholen nicht möglich\\n                                                                                                                                                                                                                                                                                                                                                                                                                                                                                                                                                                                                                                                                                                                                                                                                                                                                                                                                     \n",
       "776   1. Aktualisierung LOCATION_STOP - LOCATION_STOP: Notarzteinsatz am Gleis / TRIGGER eingerichtet (Stand DATE, TIME)\\nLOCATION_ROUTE:\\n LOCATION_STOP - LOCATION_STOP - LOCATION_STOP - LOCATION_STOP\\nLOCATION_ROUTE:\\n LOCATION_STOP - LOCATION_STOP - LOCATION_STOP\\nMeldung:\\n wegen eines Notarzteinsatzes am Gleis ist die LOCATION_ROUTE zwischen LOCATION_STOP und LOCATION_STOP weiterhin TRIGGER. Die S-Bahnen der Linie LOCATION_ROUTE aus Richtung LOCATION_STOP verkehren bis LOCATION_STOP und enden dort vorzeitig. Die LOCATION_ROUTE aus Richtung LOCATION_STOP verkehren bis LOCATION_STOP und enden vorzeitig. \\nDie LOCATION_ROUTE aus Richtung LOCATION_STOP verkehren bis LOCATION_STOP und enden dort vorzeitig. Die LOCATION_ROUTE aus Richtung LOCATION_STOP verkehren bis LOCATION_STOP und TRIGGER. \\nEin Schienenersatzverkehr mit Bus zwischen LOCATION_STOP und LOCATION_STOP ist für Sie eingerichtet.\\n \\n Letzte Aktualisierung: DATE TIME\\n \\nMeldehistorie zu dieser Störung einsehen\\nÄltere Meldungen:\\nLOCATION_STOP - LOCATION_STOP: No\\n   \n",
       "960   LOCATION_STREET LOCATION_CITY Richtung LOCATION_CITY zwischen LOCATION und LOCATION rechter Fahrstreifen TRIGGER, defekter LKW\\n                                                                                                                                                                                                                                                                                                                                                                                                                                                                                                                                                                                                                                                                                                                                                                                                                                                                                                                                                 \n",
       "1195  LOCATION_STREET LOCATION_CITY Richtung LOCATION_CITY zwischen LOCATION und LOCATION DISTANCE TRIGGER wegen der TRIGGER der LOCATION_STREET\\n                                                                                                                                                                                                                                                                                                                                                                                                                                                                                                                                                                                                                                                                                                                                                                                                                                                                                                                                     \n",
       "962   Unfall bei LOCATION: LOCATION_STREET bleibt nach TRIGGER bis DATE TRIGGER - ORGANIZATION_COMPANY https://t.co/xwLYw8Vqq2 LOCATION_CITY LOCATION_CITY\\n                                                                                                                                                                                                                                                                                                                                                                                                                                                                                                                                                                                                                                                                                                                                                                                                                                                                                                                           \n",
       "328   am DATE, TIME – TIME\\nMeldung:\\n LOCATION_ROUTE von LOCATION_STOP (planmäßige Ankunft TIME in LOCATION_STOP) wird von LOCATION_STOP bis LOCATION_STOP TRIGGER und TRIGGER in LOCATION_STOP. Aufgrund der Umleitung verspätet sich der Zug um bis zu DURATION\\n LOCATION_ROUTE von LOCATION_STOP (planmäßige Ankunft TIME in LOCATION_STOP) wird von LOCATION_STOP bis LOCATION_STOP TRIGGER und TRIGGER sich um bis zu DURATION\\nGrund:\\nWeichenarbeiten in LOCATION_STOP\\nLink zur detaillierten Meldung: \\nLink zum kompletten PDF-Dokument: \\n(NUMBER kB)\\n------------------\\n                                                                                                                                                                                                                                                                                                                                                                                                                                                                                               \n",
       "\n",
       "      label  \\\n",
       "0     4       \n",
       "1264  4       \n",
       "735   4       \n",
       "663   4       \n",
       "1154  4       \n",
       "776   4       \n",
       "960   4       \n",
       "1195  4       \n",
       "962   4       \n",
       "328   4       \n",
       "\n",
       "                                                              event_types  \n",
       "0     [(Unfall, 0), (gesperrt, 4)]                                         \n",
       "1264  [(#Bauarbeiten, 7), (gesperrt, 4)]                                   \n",
       "735   [(Bauarbeiten, 7), (gesperrt, 4)]                                    \n",
       "663   [(Bauarbeiten, 7), (gesperrt., 4)]                                   \n",
       "1154  [(Schwertransport, 4)]                                               \n",
       "776   [(Schienenersatzverkehr, 7), (gesperrt, 4), (enden vorzeitig, 7)]    \n",
       "960   [(blockiert, 4)]                                                     \n",
       "1195  [(Stau, 6), (Sperrung, 4)]                                           \n",
       "962   [(Lkw-Unfall, 7), (gesperrt, 4)]                                     \n",
       "328   [(umgeleitet, 4), (hält nicht, 2), (umgeleitet, 4), (verspätet, 3)]  "
      ]
     },
     "execution_count": 12,
     "metadata": {},
     "output_type": "execute_result"
    }
   ],
   "source": [
    "labeled_sd4m_triggers[labeled_sd4m_triggers['label'] == 4].sample(10)[['trigger_left_tokens','trigger_text','trigger_right_tokens','entity_type_freqs','mixed_ner','label', 'event_types']]"
   ]
  },
  {
   "cell_type": "code",
   "execution_count": 13,
   "metadata": {},
   "outputs": [
    {
     "data": {
      "text/plain": [
       "gesperrt               61\n",
       "umgeleitet             8 \n",
       "#Bauarbeiten           4 \n",
       "Vollsperrung           3 \n",
       "Behinderungen          3 \n",
       "blockiert              2 \n",
       "Sperrung               2 \n",
       "behindern              2 \n",
       "Bauarbeiten            2 \n",
       "Schwertransport        2 \n",
       "Umleitung              2 \n",
       "Streckensperrung       1 \n",
       "brennender PKW         1 \n",
       "Verkehrsbehinderung    1 \n",
       "Störung:               1 \n",
       "austelle               1 \n",
       "voll gesperrt          1 \n",
       "unterbrochen           1 \n",
       "Vorsicht               1 \n",
       "gesperrt.              1 \n",
       "lahm                   1 \n",
       "Name: trigger_text, dtype: int64"
      ]
     },
     "execution_count": 13,
     "metadata": {},
     "output_type": "execute_result"
    }
   ],
   "source": [
    "labeled_sd4m_triggers[labeled_sd4m_triggers['label'] == 4]['trigger_text'].value_counts()"
   ]
  },
  {
   "cell_type": "markdown",
   "metadata": {},
   "source": [
    "Now we can collect the trigger words per class."
   ]
  },
  {
   "cell_type": "markdown",
   "metadata": {},
   "source": [
    "## Step 3: Evaluate the labeling functions on the SD4M training data"
   ]
  },
  {
   "cell_type": "code",
   "execution_count": 14,
   "metadata": {},
   "outputs": [],
   "source": [
    "from wsee.labeling.event_trigger_lfs import *"
   ]
  },
  {
   "cell_type": "code",
   "execution_count": 15,
   "metadata": {},
   "outputs": [],
   "source": [
    "from snorkel.labeling import PandasLFApplier\n",
    "\n",
    "lfs = [\n",
    "    lf_accident_context,\n",
    "    lf_canceledroute_cat,\n",
    "    lf_canceledstop_cat,\n",
    "    lf_delay_cat,\n",
    "    lf_obstruction_cat,\n",
    "    lf_railreplacementservice_cat,\n",
    "    lf_trafficjam_cat,\n",
    "    lf_negative\n",
    "]\n",
    "\n",
    "applier = PandasLFApplier(lfs)"
   ]
  },
  {
   "cell_type": "code",
   "execution_count": 16,
   "metadata": {},
   "outputs": [
    {
     "name": "stderr",
     "output_type": "stream",
     "text": [
      "100%|██████████| 817/817 [00:34<00:00, 23.77it/s]\n",
      "100%|██████████| 75/75 [00:02<00:00, 25.27it/s]\n"
     ]
    }
   ],
   "source": [
    "L_dev = applier.apply(df_dev)\n",
    "L_test = applier.apply(df_test)"
   ]
  },
  {
   "cell_type": "code",
   "execution_count": 17,
   "metadata": {},
   "outputs": [
    {
     "data": {
      "text/html": [
       "<div>\n",
       "<style scoped>\n",
       "    .dataframe tbody tr th:only-of-type {\n",
       "        vertical-align: middle;\n",
       "    }\n",
       "\n",
       "    .dataframe tbody tr th {\n",
       "        vertical-align: top;\n",
       "    }\n",
       "\n",
       "    .dataframe thead th {\n",
       "        text-align: right;\n",
       "    }\n",
       "</style>\n",
       "<table border=\"1\" class=\"dataframe\">\n",
       "  <thead>\n",
       "    <tr style=\"text-align: right;\">\n",
       "      <th></th>\n",
       "      <th>j</th>\n",
       "      <th>Polarity</th>\n",
       "      <th>Coverage</th>\n",
       "      <th>Overlaps</th>\n",
       "      <th>Conflicts</th>\n",
       "      <th>Correct</th>\n",
       "      <th>Incorrect</th>\n",
       "      <th>Emp. Acc.</th>\n",
       "    </tr>\n",
       "  </thead>\n",
       "  <tbody>\n",
       "    <tr>\n",
       "      <th>lf_accident_context</th>\n",
       "      <td>0</td>\n",
       "      <td>[0, 7]</td>\n",
       "      <td>0.118727</td>\n",
       "      <td>0.000000</td>\n",
       "      <td>0.000000</td>\n",
       "      <td>84</td>\n",
       "      <td>13</td>\n",
       "      <td>0.865979</td>\n",
       "    </tr>\n",
       "    <tr>\n",
       "      <th>lf_canceledroute_cat</th>\n",
       "      <td>1</td>\n",
       "      <td>[1]</td>\n",
       "      <td>0.152999</td>\n",
       "      <td>0.028152</td>\n",
       "      <td>0.028152</td>\n",
       "      <td>61</td>\n",
       "      <td>64</td>\n",
       "      <td>0.488000</td>\n",
       "    </tr>\n",
       "    <tr>\n",
       "      <th>lf_canceledstop_cat</th>\n",
       "      <td>2</td>\n",
       "      <td>[2]</td>\n",
       "      <td>0.031824</td>\n",
       "      <td>0.001224</td>\n",
       "      <td>0.001224</td>\n",
       "      <td>25</td>\n",
       "      <td>1</td>\n",
       "      <td>0.961538</td>\n",
       "    </tr>\n",
       "    <tr>\n",
       "      <th>lf_delay_cat</th>\n",
       "      <td>3</td>\n",
       "      <td>[3, 7]</td>\n",
       "      <td>0.091799</td>\n",
       "      <td>0.011016</td>\n",
       "      <td>0.004896</td>\n",
       "      <td>69</td>\n",
       "      <td>6</td>\n",
       "      <td>0.920000</td>\n",
       "    </tr>\n",
       "    <tr>\n",
       "      <th>lf_obstruction_cat</th>\n",
       "      <td>4</td>\n",
       "      <td>[4, 7]</td>\n",
       "      <td>0.176255</td>\n",
       "      <td>0.040392</td>\n",
       "      <td>0.034272</td>\n",
       "      <td>103</td>\n",
       "      <td>41</td>\n",
       "      <td>0.715278</td>\n",
       "    </tr>\n",
       "    <tr>\n",
       "      <th>lf_railreplacementservice_cat</th>\n",
       "      <td>5</td>\n",
       "      <td>[5]</td>\n",
       "      <td>0.033048</td>\n",
       "      <td>0.000000</td>\n",
       "      <td>0.000000</td>\n",
       "      <td>22</td>\n",
       "      <td>5</td>\n",
       "      <td>0.814815</td>\n",
       "    </tr>\n",
       "    <tr>\n",
       "      <th>lf_trafficjam_cat</th>\n",
       "      <td>6</td>\n",
       "      <td>[6]</td>\n",
       "      <td>0.200734</td>\n",
       "      <td>0.000000</td>\n",
       "      <td>0.000000</td>\n",
       "      <td>155</td>\n",
       "      <td>9</td>\n",
       "      <td>0.945122</td>\n",
       "    </tr>\n",
       "    <tr>\n",
       "      <th>lf_negative</th>\n",
       "      <td>7</td>\n",
       "      <td>[7]</td>\n",
       "      <td>0.235006</td>\n",
       "      <td>0.000000</td>\n",
       "      <td>0.000000</td>\n",
       "      <td>191</td>\n",
       "      <td>1</td>\n",
       "      <td>0.994792</td>\n",
       "    </tr>\n",
       "  </tbody>\n",
       "</table>\n",
       "</div>"
      ],
      "text/plain": [
       "                               j Polarity  Coverage  Overlaps  Conflicts  \\\n",
       "lf_accident_context            0  [0, 7]   0.118727  0.000000  0.000000    \n",
       "lf_canceledroute_cat           1  [1]      0.152999  0.028152  0.028152    \n",
       "lf_canceledstop_cat            2  [2]      0.031824  0.001224  0.001224    \n",
       "lf_delay_cat                   3  [3, 7]   0.091799  0.011016  0.004896    \n",
       "lf_obstruction_cat             4  [4, 7]   0.176255  0.040392  0.034272    \n",
       "lf_railreplacementservice_cat  5  [5]      0.033048  0.000000  0.000000    \n",
       "lf_trafficjam_cat              6  [6]      0.200734  0.000000  0.000000    \n",
       "lf_negative                    7  [7]      0.235006  0.000000  0.000000    \n",
       "\n",
       "                               Correct  Incorrect  Emp. Acc.  \n",
       "lf_accident_context            84       13         0.865979   \n",
       "lf_canceledroute_cat           61       64         0.488000   \n",
       "lf_canceledstop_cat            25       1          0.961538   \n",
       "lf_delay_cat                   69       6          0.920000   \n",
       "lf_obstruction_cat             103      41         0.715278   \n",
       "lf_railreplacementservice_cat  22       5          0.814815   \n",
       "lf_trafficjam_cat              155      9          0.945122   \n",
       "lf_negative                    191      1          0.994792   "
      ]
     },
     "execution_count": 17,
     "metadata": {},
     "output_type": "execute_result"
    }
   ],
   "source": [
    "from snorkel.labeling import LFAnalysis\n",
    "\n",
    "LFAnalysis(L_dev, lfs).lf_summary(Y_dev)"
   ]
  },
  {
   "cell_type": "markdown",
   "metadata": {},
   "source": [
    "## Step 4: Error Analysis \n",
    "Now we can look at the LabelMatrix for errors. We need to use the DataFrame from the exploration section, which includes the information from the preprocessors.\n",
    "We can then specifically look for the instances that were labeled incorrectly.\n",
    "\n",
    "We will first look at the keyword based labeling function for accidents:"
   ]
  },
  {
   "cell_type": "code",
   "execution_count": 18,
   "metadata": {},
   "outputs": [],
   "source": [
    "from wsee.labeling import error_analysis"
   ]
  },
  {
   "cell_type": "code",
   "execution_count": 19,
   "metadata": {},
   "outputs": [
    {
     "data": {
      "text/html": [
       "<div>\n",
       "<style scoped>\n",
       "    .dataframe tbody tr th:only-of-type {\n",
       "        vertical-align: middle;\n",
       "    }\n",
       "\n",
       "    .dataframe tbody tr th {\n",
       "        vertical-align: top;\n",
       "    }\n",
       "\n",
       "    .dataframe thead th {\n",
       "        text-align: right;\n",
       "    }\n",
       "</style>\n",
       "<table border=\"1\" class=\"dataframe\">\n",
       "  <thead>\n",
       "    <tr style=\"text-align: right;\">\n",
       "      <th></th>\n",
       "      <th>trigger_left_tokens</th>\n",
       "      <th>trigger_text</th>\n",
       "      <th>trigger_right_tokens</th>\n",
       "      <th>entity_type_freqs</th>\n",
       "      <th>mixed_ner</th>\n",
       "      <th>label</th>\n",
       "      <th>event_types</th>\n",
       "    </tr>\n",
       "  </thead>\n",
       "  <tbody>\n",
       "    <tr>\n",
       "      <th>1013</th>\n",
       "      <td>[■, #Hamburg, :, Die, Hammer, Straße, ist, zwischen, Jüthornstraße, und, Bärenallee, in, beiden, Richtungen, wegen]</td>\n",
       "      <td>#Bauarbeiten</td>\n",
       "      <td>[bis, Ende, ...]</td>\n",
       "      <td>{'location_city': 1, 'location_street': 3, 'location': 1, 'trigger': 1}</td>\n",
       "      <td>■  LOCATION_CITY: Die LOCATION_STREET ist zwischen LOCATION_STREET und LOCATION_STREET in LOCATION wegen TRIGGER bis Ende ...\\n</td>\n",
       "      <td>7</td>\n",
       "      <td>[(#Bauarbeiten, 7)]</td>\n",
       "    </tr>\n",
       "    <tr>\n",
       "      <th>484</th>\n",
       "      <td>[■, #Hamburg, -, #Tonndorf, :, Die, Kuehnstraße, ist, wegen]</td>\n",
       "      <td>#Bauarbeiten</td>\n",
       "      <td>[ab, Wilsonstraße, in, Richtung, Jenfelder, Allee, bis, zum, 20, ., Mai, als, ...]</td>\n",
       "      <td>{'location_city': 1, 'location_street': 3, 'trigger': 1, 'date': 1}</td>\n",
       "      <td>■  LOCATION_CITY: Die LOCATION_STREET ist wegen TRIGGER ab LOCATION_STREET in Richtung LOCATION_STREET  bis zum DATE als ...\\n</td>\n",
       "      <td>7</td>\n",
       "      <td>[(#Bauarbeiten, 7)]</td>\n",
       "    </tr>\n",
       "    <tr>\n",
       "      <th>813</th>\n",
       "      <td>[■, #Hamburg, :, Die, #B75, Bremer, Straße, ist, zwischen, Eißendorfer, Mühlenweg, und, Metzendorfer, Weg, wegen]</td>\n",
       "      <td>#Bauarbeiten</td>\n",
       "      <td>[bis, Anfang, ...]</td>\n",
       "      <td>{'location_route': 1, 'location_street': 3, 'trigger': 1}</td>\n",
       "      <td>■  LOCATION_ROUTE: Die LOCATION_STREET ist zwischen LOCATION_STREET und LOCATION_STREET wegen TRIGGER bis Anfang ...\\n</td>\n",
       "      <td>7</td>\n",
       "      <td>[(#Bauarbeiten, 7)]</td>\n",
       "    </tr>\n",
       "    <tr>\n",
       "      <th>37</th>\n",
       "      <td>[161, :]</td>\n",
       "      <td>Betriebsstörung</td>\n",
       "      <td>[Verspätungen, von, bis, zu, 20, Minuten, ..., ., https://t.co/pLUsLLsfwM]</td>\n",
       "      <td>{'location_route': 1, 'trigger': 2, 'duration': 1}</td>\n",
       "      <td>LOCATION_ROUTE: TRIGGER TRIGGER von bis zu DURATION.... https://t.co/pLUsLLsfwM\\n</td>\n",
       "      <td>7</td>\n",
       "      <td>[(Betriebsstörung, 7), (Verspätungen, 3)]</td>\n",
       "    </tr>\n",
       "    <tr>\n",
       "      <th>43</th>\n",
       "      <td>[ÖAMTC, meldet, :, Zwischen, Nußdorf, am, Attersee, -, Oberwang, und, Innerschwand, am, Mondsee]</td>\n",
       "      <td>Verkehrsbehinderung</td>\n",
       "      <td>[,, Radrennen, …, https://t.co/Hm0BwzQFXs]</td>\n",
       "      <td>{'organization': 1, 'location': 3, 'trigger': 2}</td>\n",
       "      <td>ORGANIZATION meldet: Zwischen LOCATION - LOCATION und LOCATION TRIGGER, TRIGGER… https://t.co/Hm0BwzQFXs\\n</td>\n",
       "      <td>7</td>\n",
       "      <td>[(Verkehrsbehinderung, 7), (Radrennen, 7)]</td>\n",
       "    </tr>\n",
       "    <tr>\n",
       "      <th>909</th>\n",
       "      <td>[■, #Hamburg, :, Die, #B75, Meiendorfer, Straße, ist, zwischen, Spitzbergenweg, und, Saseler, Straße, wegen]</td>\n",
       "      <td>#Bauarbeiten</td>\n",
       "      <td>[bis, Anfang, Oktober, ...]</td>\n",
       "      <td>{'location_city': 1, 'location_street': 3, 'trigger': 1, 'date': 1}</td>\n",
       "      <td>■  LOCATION_CITY: Die LOCATION_STREET ist zwischen LOCATION_STREET und LOCATION_STREET wegen TRIGGER bis DATE ...\\n</td>\n",
       "      <td>7</td>\n",
       "      <td>[(#Bauarbeiten, 7)]</td>\n",
       "    </tr>\n",
       "    <tr>\n",
       "      <th>760</th>\n",
       "      <td>[Kreis, Breisgau, -, Hochschwarzwald, Erdrutsch, ,, Störungen, im, Schienenverkehr, ,, bis, 11.02.2016, Mitternacht, Die, Zugverbindung, Freiburg, im, Breisgau, -, Titisee, -, Neustadt, (, Höllentalbahn, ), ist, im, Bereich, Falkensteig]</td>\n",
       "      <td>unterbrochen</td>\n",
       "      <td>[., Ein, Schienenersatzverkehr, ist, eingerichtet, ., Mit, Behinderungen, ist, zu, rechnen, .]</td>\n",
       "      <td>{'location': 1, 'date': 1, 'location_route': 1, 'location_stop': 1, 'trigger': 1}</td>\n",
       "      <td>Kreis LOCATION Erdrutsch, Störungen im Schienenverkehr, bis DATE Die LOCATION_ROUTE ist im Bereich LOCATION_STOP TRIGGER. Ein Schienenersatzverkehr ist eingerichtet. Mit Behinderungen ist zu rechnen.\\n</td>\n",
       "      <td>1</td>\n",
       "      <td>[(unterbrochen, 1)]</td>\n",
       "    </tr>\n",
       "    <tr>\n",
       "      <th>848</th>\n",
       "      <td>[A8, München, Richtung, Stuttgart, zwischen, Günzburg, und, Leipheim]</td>\n",
       "      <td>Wanderbaustelle</td>\n",
       "      <td>[,, die, rechte, Spur, ist, blockiert, .]</td>\n",
       "      <td>{'location_street': 1, 'location_city': 2, 'location': 2, 'trigger': 1}</td>\n",
       "      <td>LOCATION_STREET LOCATION_CITY Richtung LOCATION_CITY zwischen LOCATION und LOCATION TRIGGER, die rechte Spur ist blockiert.\\n</td>\n",
       "      <td>7</td>\n",
       "      <td>[(Wanderbaustelle, 7)]</td>\n",
       "    </tr>\n",
       "    <tr>\n",
       "      <th>650</th>\n",
       "      <td>[Wegen, eines, Notarzteinsatzes, ist, die, Strecke, zwischen, Geisenhausen, und, Landshut]</td>\n",
       "      <td>gesperrt</td>\n",
       "      <td>[., Es, fahren, ersatzweise, Busse, ., (, 06:33, )]</td>\n",
       "      <td>{'trigger': 2, 'location_route': 1, 'location_stop': 2, 'time': 1}</td>\n",
       "      <td>Wegen eines TRIGGER ist die LOCATION_ROUTE zwischen LOCATION_STOP und LOCATION_STOP TRIGGER. Es fahren ersatzweise Busse. (TIME)\\n</td>\n",
       "      <td>1</td>\n",
       "      <td>[(Notarzteinsatzes, 7), (gesperrt, 1)]</td>\n",
       "    </tr>\n",
       "    <tr>\n",
       "      <th>590</th>\n",
       "      <td>[[, DB, Regio, ], 1, ., Akt, ., #Günzburg, -, #Mindelheim, :]</td>\n",
       "      <td>#Störung</td>\n",
       "      <td>[an, einem, #Bahnübergang, /, #Schienenersatzverkehr, +, +, +, https://t.co/Ev7U6WwYnI]</td>\n",
       "      <td>{'organization_company': 1, 'number': 1, 'location_stop': 2, 'location_route': 1, 'trigger': 2}</td>\n",
       "      <td>[ORGANIZATION_COMPANY]  NUMBER. Akt. LOCATION_STOPLOCATION_ROUTELOCATION_STOP: TRIGGER an einem #Bahnübergang / TRIGGER  +++ https://t.co/Ev7U6WwYnI\\n</td>\n",
       "      <td>7</td>\n",
       "      <td>[(#Störung, 7), (#Schienenersatzverkehr, 5)]</td>\n",
       "    </tr>\n",
       "  </tbody>\n",
       "</table>\n",
       "</div>"
      ],
      "text/plain": [
       "                                                                                                                                                                                                                                trigger_left_tokens  \\\n",
       "1013  [■, #Hamburg, :, Die, Hammer, Straße, ist, zwischen, Jüthornstraße, und, Bärenallee, in, beiden, Richtungen, wegen]                                                                                                                             \n",
       "484   [■, #Hamburg, -, #Tonndorf, :, Die, Kuehnstraße, ist, wegen]                                                                                                                                                                                    \n",
       "813   [■, #Hamburg, :, Die, #B75, Bremer, Straße, ist, zwischen, Eißendorfer, Mühlenweg, und, Metzendorfer, Weg, wegen]                                                                                                                               \n",
       "37    [161, :]                                                                                                                                                                                                                                        \n",
       "43    [ÖAMTC, meldet, :, Zwischen, Nußdorf, am, Attersee, -, Oberwang, und, Innerschwand, am, Mondsee]                                                                                                                                                \n",
       "909   [■, #Hamburg, :, Die, #B75, Meiendorfer, Straße, ist, zwischen, Spitzbergenweg, und, Saseler, Straße, wegen]                                                                                                                                    \n",
       "760   [Kreis, Breisgau, -, Hochschwarzwald, Erdrutsch, ,, Störungen, im, Schienenverkehr, ,, bis, 11.02.2016, Mitternacht, Die, Zugverbindung, Freiburg, im, Breisgau, -, Titisee, -, Neustadt, (, Höllentalbahn, ), ist, im, Bereich, Falkensteig]   \n",
       "848   [A8, München, Richtung, Stuttgart, zwischen, Günzburg, und, Leipheim]                                                                                                                                                                           \n",
       "650   [Wegen, eines, Notarzteinsatzes, ist, die, Strecke, zwischen, Geisenhausen, und, Landshut]                                                                                                                                                      \n",
       "590   [[, DB, Regio, ], 1, ., Akt, ., #Günzburg, -, #Mindelheim, :]                                                                                                                                                                                   \n",
       "\n",
       "             trigger_text  \\\n",
       "1013  #Bauarbeiten          \n",
       "484   #Bauarbeiten          \n",
       "813   #Bauarbeiten          \n",
       "37    Betriebsstörung       \n",
       "43    Verkehrsbehinderung   \n",
       "909   #Bauarbeiten          \n",
       "760   unterbrochen          \n",
       "848   Wanderbaustelle       \n",
       "650   gesperrt              \n",
       "590   #Störung              \n",
       "\n",
       "                                                                                trigger_right_tokens  \\\n",
       "1013  [bis, Ende, ...]                                                                                 \n",
       "484   [ab, Wilsonstraße, in, Richtung, Jenfelder, Allee, bis, zum, 20, ., Mai, als, ...]               \n",
       "813   [bis, Anfang, ...]                                                                               \n",
       "37    [Verspätungen, von, bis, zu, 20, Minuten, ..., ., https://t.co/pLUsLLsfwM]                       \n",
       "43    [,, Radrennen, …, https://t.co/Hm0BwzQFXs]                                                       \n",
       "909   [bis, Anfang, Oktober, ...]                                                                      \n",
       "760   [., Ein, Schienenersatzverkehr, ist, eingerichtet, ., Mit, Behinderungen, ist, zu, rechnen, .]   \n",
       "848   [,, die, rechte, Spur, ist, blockiert, .]                                                        \n",
       "650   [., Es, fahren, ersatzweise, Busse, ., (, 06:33, )]                                              \n",
       "590   [an, einem, #Bahnübergang, /, #Schienenersatzverkehr, +, +, +, https://t.co/Ev7U6WwYnI]          \n",
       "\n",
       "                                                                                    entity_type_freqs  \\\n",
       "1013  {'location_city': 1, 'location_street': 3, 'location': 1, 'trigger': 1}                           \n",
       "484   {'location_city': 1, 'location_street': 3, 'trigger': 1, 'date': 1}                               \n",
       "813   {'location_route': 1, 'location_street': 3, 'trigger': 1}                                         \n",
       "37    {'location_route': 1, 'trigger': 2, 'duration': 1}                                                \n",
       "43    {'organization': 1, 'location': 3, 'trigger': 2}                                                  \n",
       "909   {'location_city': 1, 'location_street': 3, 'trigger': 1, 'date': 1}                               \n",
       "760   {'location': 1, 'date': 1, 'location_route': 1, 'location_stop': 1, 'trigger': 1}                 \n",
       "848   {'location_street': 1, 'location_city': 2, 'location': 2, 'trigger': 1}                           \n",
       "650   {'trigger': 2, 'location_route': 1, 'location_stop': 2, 'time': 1}                                \n",
       "590   {'organization_company': 1, 'number': 1, 'location_stop': 2, 'location_route': 1, 'trigger': 2}   \n",
       "\n",
       "                                                                                                                                                                                                      mixed_ner  \\\n",
       "1013  ■  LOCATION_CITY: Die LOCATION_STREET ist zwischen LOCATION_STREET und LOCATION_STREET in LOCATION wegen TRIGGER bis Ende ...\\n                                                                             \n",
       "484   ■  LOCATION_CITY: Die LOCATION_STREET ist wegen TRIGGER ab LOCATION_STREET in Richtung LOCATION_STREET  bis zum DATE als ...\\n                                                                              \n",
       "813   ■  LOCATION_ROUTE: Die LOCATION_STREET ist zwischen LOCATION_STREET und LOCATION_STREET wegen TRIGGER bis Anfang ...\\n                                                                                      \n",
       "37    LOCATION_ROUTE: TRIGGER TRIGGER von bis zu DURATION.... https://t.co/pLUsLLsfwM\\n                                                                                                                           \n",
       "43    ORGANIZATION meldet: Zwischen LOCATION - LOCATION und LOCATION TRIGGER, TRIGGER… https://t.co/Hm0BwzQFXs\\n                                                                                                  \n",
       "909   ■  LOCATION_CITY: Die LOCATION_STREET ist zwischen LOCATION_STREET und LOCATION_STREET wegen TRIGGER bis DATE ...\\n                                                                                         \n",
       "760   Kreis LOCATION Erdrutsch, Störungen im Schienenverkehr, bis DATE Die LOCATION_ROUTE ist im Bereich LOCATION_STOP TRIGGER. Ein Schienenersatzverkehr ist eingerichtet. Mit Behinderungen ist zu rechnen.\\n   \n",
       "848   LOCATION_STREET LOCATION_CITY Richtung LOCATION_CITY zwischen LOCATION und LOCATION TRIGGER, die rechte Spur ist blockiert.\\n                                                                               \n",
       "650   Wegen eines TRIGGER ist die LOCATION_ROUTE zwischen LOCATION_STOP und LOCATION_STOP TRIGGER. Es fahren ersatzweise Busse. (TIME)\\n                                                                          \n",
       "590   [ORGANIZATION_COMPANY]  NUMBER. Akt. LOCATION_STOPLOCATION_ROUTELOCATION_STOP: TRIGGER an einem #Bahnübergang / TRIGGER  +++ https://t.co/Ev7U6WwYnI\\n                                                      \n",
       "\n",
       "      label                                   event_types  \n",
       "1013  7      [(#Bauarbeiten, 7)]                           \n",
       "484   7      [(#Bauarbeiten, 7)]                           \n",
       "813   7      [(#Bauarbeiten, 7)]                           \n",
       "37    7      [(Betriebsstörung, 7), (Verspätungen, 3)]     \n",
       "43    7      [(Verkehrsbehinderung, 7), (Radrennen, 7)]    \n",
       "909   7      [(#Bauarbeiten, 7)]                           \n",
       "760   1      [(unterbrochen, 1)]                           \n",
       "848   7      [(Wanderbaustelle, 7)]                        \n",
       "650   1      [(Notarzteinsatzes, 7), (gesperrt, 1)]        \n",
       "590   7      [(#Störung, 7), (#Schienenersatzverkehr, 5)]  "
      ]
     },
     "execution_count": 19,
     "metadata": {},
     "output_type": "execute_result"
    }
   ],
   "source": [
    "error_analysis.sample_fp(labeled_df=labeled_sd4m_triggers, lf_outputs=L_dev, lf_index=4, label_of_interest=4)"
   ]
  },
  {
   "cell_type": "code",
   "execution_count": 20,
   "metadata": {},
   "outputs": [
    {
     "data": {
      "text/plain": [
       "#Bauarbeiten           6\n",
       "gesperrt               4\n",
       "unterbrochen           2\n",
       "Baustelle              1\n",
       "#Störung               1\n",
       "Streckensperrung       1\n",
       "Verkehrsbehinderung    1\n",
       "Betriebsstörung        1\n",
       "Wanderbaustelle        1\n",
       "Bauarbeiten            1\n",
       "umgeleitet.Mit         1\n",
       "Technische Störung     1\n",
       "Sperrung               1\n",
       "Name: trigger_text, dtype: int64"
      ]
     },
     "execution_count": 20,
     "metadata": {},
     "output_type": "execute_result"
    }
   ],
   "source": [
    "error_analysis.trigger_text_counts_fp(labeled_df=labeled_sd4m_triggers, lf_outputs=L_dev, lf_index=4, label_of_interest=4)"
   ]
  },
  {
   "cell_type": "markdown",
   "metadata": {},
   "source": [
    "## Step 5: Train the Labeling model and label the data"
   ]
  },
  {
   "cell_type": "code",
   "execution_count": 21,
   "metadata": {},
   "outputs": [],
   "source": [
    "from snorkel.labeling import LabelModel\n",
    "\n",
    "label_model = LabelModel(cardinality=8, verbose=True)\n",
    "label_model.fit(L_train=L_dev, n_epochs=500, log_freq=100, seed=123)"
   ]
  },
  {
   "cell_type": "code",
   "execution_count": 22,
   "metadata": {},
   "outputs": [
    {
     "name": "stdout",
     "output_type": "stream",
     "text": [
      "Label Model Accuracy:     82.7%\n"
     ]
    }
   ],
   "source": [
    "label_model_acc = label_model.score(L=L_test, Y=Y_test, tie_break_policy=\"random\")[\n",
    "    \"accuracy\"\n",
    "]\n",
    "print(f\"{'Label Model Accuracy:':<25} {label_model_acc * 100:.1f}%\")"
   ]
  },
  {
   "cell_type": "code",
   "execution_count": 23,
   "metadata": {},
   "outputs": [],
   "source": [
    "probs_train = label_model.predict_proba(L=L_dev)"
   ]
  },
  {
   "cell_type": "markdown",
   "metadata": {},
   "source": [
    "In the proposed workflow one would filter out all the datapoints that were not labeled by any of the labeling functions.\n",
    "We will follow this approach as that does not affect the merging process in our Snorkel processing pipeline.\n",
    "While it may result in sentences missing certain events, they would then be processed as dummy events in the AllenNLP model and factored out during the loss calculation (?)."
   ]
  },
  {
   "cell_type": "code",
   "execution_count": 24,
   "metadata": {},
   "outputs": [],
   "source": [
    "from snorkel.labeling import filter_unlabeled_dataframe\n",
    "\n",
    "df_train_filtered, probs_train_filtered = filter_unlabeled_dataframe(\n",
    "    X=df_dev, y=probs_train, L=L_dev\n",
    ")"
   ]
  },
  {
   "cell_type": "markdown",
   "metadata": {},
   "source": [
    "In the Snorkel processing pipeline we would merge the labeled dataframes back together that belong to the same document and proceed with labeling the event argument roles."
   ]
  },
  {
   "cell_type": "markdown",
   "metadata": {},
   "source": [
    "## Step 6: Label the Daystream data with Snorkel"
   ]
  },
  {
   "cell_type": "code",
   "execution_count": 25,
   "metadata": {},
   "outputs": [
    {
     "name": "stderr",
     "output_type": "stream",
     "text": [
      "92it [00:00, 919.52it/s]"
     ]
    },
    {
     "name": "stdout",
     "output_type": "stream",
     "text": [
      "DataFrame has 1955 rows\n"
     ]
    },
    {
     "name": "stderr",
     "output_type": "stream",
     "text": [
      "1955it [00:04, 459.09it/s]\n",
      "  0%|          | 0/1845 [00:00<?, ?it/s]"
     ]
    },
    {
     "name": "stdout",
     "output_type": "stream",
     "text": [
      "Number of events: 0\n"
     ]
    },
    {
     "name": "stderr",
     "output_type": "stream",
     "text": [
      "100%|██████████| 1845/1845 [02:02<00:00, 15.08it/s]\n"
     ]
    }
   ],
   "source": [
    "df_train, Y_train = pipeline.build_event_trigger_examples(daystream)\n",
    "L_train = applier.apply(df_train)"
   ]
  },
  {
   "cell_type": "code",
   "execution_count": 26,
   "metadata": {},
   "outputs": [
    {
     "data": {
      "text/html": [
       "<div>\n",
       "<style scoped>\n",
       "    .dataframe tbody tr th:only-of-type {\n",
       "        vertical-align: middle;\n",
       "    }\n",
       "\n",
       "    .dataframe tbody tr th {\n",
       "        vertical-align: top;\n",
       "    }\n",
       "\n",
       "    .dataframe thead th {\n",
       "        text-align: right;\n",
       "    }\n",
       "</style>\n",
       "<table border=\"1\" class=\"dataframe\">\n",
       "  <thead>\n",
       "    <tr style=\"text-align: right;\">\n",
       "      <th></th>\n",
       "      <th>j</th>\n",
       "      <th>Polarity</th>\n",
       "      <th>Coverage</th>\n",
       "      <th>Overlaps</th>\n",
       "      <th>Conflicts</th>\n",
       "    </tr>\n",
       "  </thead>\n",
       "  <tbody>\n",
       "    <tr>\n",
       "      <th>lf_accident_context</th>\n",
       "      <td>0</td>\n",
       "      <td>[0, 7]</td>\n",
       "      <td>0.018970</td>\n",
       "      <td>0.002168</td>\n",
       "      <td>0.002168</td>\n",
       "    </tr>\n",
       "    <tr>\n",
       "      <th>lf_canceledroute_cat</th>\n",
       "      <td>1</td>\n",
       "      <td>[1]</td>\n",
       "      <td>0.310027</td>\n",
       "      <td>0.080759</td>\n",
       "      <td>0.080759</td>\n",
       "    </tr>\n",
       "    <tr>\n",
       "      <th>lf_canceledstop_cat</th>\n",
       "      <td>2</td>\n",
       "      <td>[2]</td>\n",
       "      <td>0.013550</td>\n",
       "      <td>0.005420</td>\n",
       "      <td>0.005420</td>\n",
       "    </tr>\n",
       "    <tr>\n",
       "      <th>lf_delay_cat</th>\n",
       "      <td>3</td>\n",
       "      <td>[3, 7]</td>\n",
       "      <td>0.225474</td>\n",
       "      <td>0.007046</td>\n",
       "      <td>0.007046</td>\n",
       "    </tr>\n",
       "    <tr>\n",
       "      <th>lf_obstruction_cat</th>\n",
       "      <td>4</td>\n",
       "      <td>[4, 7]</td>\n",
       "      <td>0.161518</td>\n",
       "      <td>0.083469</td>\n",
       "      <td>0.083469</td>\n",
       "    </tr>\n",
       "    <tr>\n",
       "      <th>lf_railreplacementservice_cat</th>\n",
       "      <td>5</td>\n",
       "      <td>[5]</td>\n",
       "      <td>0.097561</td>\n",
       "      <td>0.002168</td>\n",
       "      <td>0.002168</td>\n",
       "    </tr>\n",
       "    <tr>\n",
       "      <th>lf_trafficjam_cat</th>\n",
       "      <td>6</td>\n",
       "      <td>[6]</td>\n",
       "      <td>0.028184</td>\n",
       "      <td>0.001084</td>\n",
       "      <td>0.001084</td>\n",
       "    </tr>\n",
       "    <tr>\n",
       "      <th>lf_negative</th>\n",
       "      <td>7</td>\n",
       "      <td>[7]</td>\n",
       "      <td>0.240108</td>\n",
       "      <td>0.000000</td>\n",
       "      <td>0.000000</td>\n",
       "    </tr>\n",
       "  </tbody>\n",
       "</table>\n",
       "</div>"
      ],
      "text/plain": [
       "                               j Polarity  Coverage  Overlaps  Conflicts\n",
       "lf_accident_context            0  [0, 7]   0.018970  0.002168  0.002168 \n",
       "lf_canceledroute_cat           1  [1]      0.310027  0.080759  0.080759 \n",
       "lf_canceledstop_cat            2  [2]      0.013550  0.005420  0.005420 \n",
       "lf_delay_cat                   3  [3, 7]   0.225474  0.007046  0.007046 \n",
       "lf_obstruction_cat             4  [4, 7]   0.161518  0.083469  0.083469 \n",
       "lf_railreplacementservice_cat  5  [5]      0.097561  0.002168  0.002168 \n",
       "lf_trafficjam_cat              6  [6]      0.028184  0.001084  0.001084 \n",
       "lf_negative                    7  [7]      0.240108  0.000000  0.000000 "
      ]
     },
     "execution_count": 26,
     "metadata": {},
     "output_type": "execute_result"
    }
   ],
   "source": [
    "LFAnalysis(L_train, lfs).lf_summary()"
   ]
  },
  {
   "cell_type": "code",
   "execution_count": 27,
   "metadata": {},
   "outputs": [],
   "source": [
    "daystream_model = LabelModel(cardinality=8, verbose=True)\n",
    "daystream_model.fit(L_train=L_dev, n_epochs=500, log_freq=100, seed=123)"
   ]
  },
  {
   "cell_type": "code",
   "execution_count": 28,
   "metadata": {},
   "outputs": [
    {
     "name": "stdout",
     "output_type": "stream",
     "text": [
      "Label Model Accuracy:     82.7%\n"
     ]
    }
   ],
   "source": [
    "daystream_model_acc = daystream_model.score(L=L_test, Y=Y_test, tie_break_policy=\"random\")[\n",
    "    \"accuracy\"\n",
    "]\n",
    "print(f\"{'Label Model Accuracy:':<25} {daystream_model_acc * 100:.1f}%\")"
   ]
  },
  {
   "cell_type": "code",
   "execution_count": 29,
   "metadata": {},
   "outputs": [],
   "source": [
    "daystream_probs = daystream_model.predict_proba(L=L_train)"
   ]
  },
  {
   "cell_type": "code",
   "execution_count": 30,
   "metadata": {},
   "outputs": [],
   "source": [
    "labeled_daystream = pipeline.merge_event_trigger_examples(df_train, daystream_probs)"
   ]
  },
  {
   "cell_type": "code",
   "execution_count": 31,
   "metadata": {},
   "outputs": [
    {
     "data": {
      "text/html": [
       "<div>\n",
       "<style scoped>\n",
       "    .dataframe tbody tr th:only-of-type {\n",
       "        vertical-align: middle;\n",
       "    }\n",
       "\n",
       "    .dataframe tbody tr th {\n",
       "        vertical-align: top;\n",
       "    }\n",
       "\n",
       "    .dataframe thead th {\n",
       "        text-align: right;\n",
       "    }\n",
       "</style>\n",
       "<table border=\"1\" class=\"dataframe\">\n",
       "  <thead>\n",
       "    <tr style=\"text-align: right;\">\n",
       "      <th></th>\n",
       "      <th>event_triggers</th>\n",
       "    </tr>\n",
       "    <tr>\n",
       "      <th>id</th>\n",
       "      <th></th>\n",
       "    </tr>\n",
       "  </thead>\n",
       "  <tbody>\n",
       "    <tr>\n",
       "      <th>1106219278641045504</th>\n",
       "      <td>[{'id': 'c/c45026ac-2537-4d19-ad8c-010c1587c7bd', 'event_type_probs': [0.07258689342951322, 0.00227831976204088, 0.09915398271049561, 0.6420814982987076, 0.0819887998844427, 0.09880081465756707, 0.0015548456286164183, 0.0015548456286164183]}, {'id': 'c/758086f7-c213-45a5-b9d0-981431fe5df4', 'event_type_probs': [0.05433896182049692, 0.607005981444464, 0.07654494493455964, 0.05015803055773239, 0.1340734475049488, 0.07625635972573566, 0.0008111370060313427, 0.0008111370060313427]}, {'id': 'c/b597d583-7fe2-4616-950b-d32b2b2c435a', 'event_type_probs': [0.08722699671500016, 0.009946107619590352, 0.11415798376947897, 0.08154182228395485, 0.03214040320302889, 0.6665829808289148, 0.004201852790015959, 0.004201852790015959]}]</td>\n",
       "    </tr>\n",
       "    <tr>\n",
       "      <th>1106220052636975105</th>\n",
       "      <td>[{'id': 'c/e08ede13-b420-4b0e-9b96-f1c71595f631', 'event_type_probs': [0.07258689342951322, 0.00227831976204088, 0.09915398271049561, 0.6420814982987076, 0.0819887998844427, 0.09880081465756707, 0.0015548456286164183, 0.0015548456286164183]}, {'id': 'c/08f09097-94cb-4342-ae4e-cf1cfb94572b', 'event_type_probs': [0.05433896182049692, 0.607005981444464, 0.07654494493455964, 0.05015803055773239, 0.1340734475049488, 0.07625635972573566, 0.0008111370060313427, 0.0008111370060313427]}]</td>\n",
       "    </tr>\n",
       "    <tr>\n",
       "      <th>1106221297904816130</th>\n",
       "      <td>[{'id': 'c/d3812715-f08f-411e-904a-c69bcafd5b86', 'event_type_probs': [0.08722699671500016, 0.009946107619590352, 0.11415798376947897, 0.08154182228395485, 0.03214040320302889, 0.6665829808289148, 0.004201852790015959, 0.004201852790015959]}]</td>\n",
       "    </tr>\n",
       "    <tr>\n",
       "      <th>1106222498524344320</th>\n",
       "      <td>[{'id': 'c/9b2d513a-e521-4344-9776-4350235792eb', 'event_type_probs': [0.08480709909559564, 0.028172826623828667, 0.10839924983590002, 0.08209961667539409, 0.04644703443396561, 0.10845480367162497, 0.0035421234553312947, 0.5380772462083598]}]</td>\n",
       "    </tr>\n",
       "    <tr>\n",
       "      <th>1106230914458238976</th>\n",
       "      <td>[{'id': 'c/d2dff8c6-4e5f-4c30-b216-c4f578fc1390', 'event_type_probs': [0.05433896182049692, 0.607005981444464, 0.07654494493455964, 0.05015803055773239, 0.1340734475049488, 0.07625635972573566, 0.0008111370060313427, 0.0008111370060313427]}]</td>\n",
       "    </tr>\n",
       "  </tbody>\n",
       "</table>\n",
       "</div>"
      ],
      "text/plain": [
       "                                                                                                                                                                                                                                                                                                                                                                                                                                                                                                                                                                                                                                                                                                                                                            event_triggers\n",
       "id                                                                                                                                                                                                                                                                                                                                                                                                                                                                                                                                                                                                                                                                                                                                                                        \n",
       "1106219278641045504  [{'id': 'c/c45026ac-2537-4d19-ad8c-010c1587c7bd', 'event_type_probs': [0.07258689342951322, 0.00227831976204088, 0.09915398271049561, 0.6420814982987076, 0.0819887998844427, 0.09880081465756707, 0.0015548456286164183, 0.0015548456286164183]}, {'id': 'c/758086f7-c213-45a5-b9d0-981431fe5df4', 'event_type_probs': [0.05433896182049692, 0.607005981444464, 0.07654494493455964, 0.05015803055773239, 0.1340734475049488, 0.07625635972573566, 0.0008111370060313427, 0.0008111370060313427]}, {'id': 'c/b597d583-7fe2-4616-950b-d32b2b2c435a', 'event_type_probs': [0.08722699671500016, 0.009946107619590352, 0.11415798376947897, 0.08154182228395485, 0.03214040320302889, 0.6665829808289148, 0.004201852790015959, 0.004201852790015959]}]\n",
       "1106220052636975105  [{'id': 'c/e08ede13-b420-4b0e-9b96-f1c71595f631', 'event_type_probs': [0.07258689342951322, 0.00227831976204088, 0.09915398271049561, 0.6420814982987076, 0.0819887998844427, 0.09880081465756707, 0.0015548456286164183, 0.0015548456286164183]}, {'id': 'c/08f09097-94cb-4342-ae4e-cf1cfb94572b', 'event_type_probs': [0.05433896182049692, 0.607005981444464, 0.07654494493455964, 0.05015803055773239, 0.1340734475049488, 0.07625635972573566, 0.0008111370060313427, 0.0008111370060313427]}]                                                                                                                                                                                                                                                  \n",
       "1106221297904816130  [{'id': 'c/d3812715-f08f-411e-904a-c69bcafd5b86', 'event_type_probs': [0.08722699671500016, 0.009946107619590352, 0.11415798376947897, 0.08154182228395485, 0.03214040320302889, 0.6665829808289148, 0.004201852790015959, 0.004201852790015959]}]                                                                                                                                                                                                                                                                                                                                                                                                                                                                                                   \n",
       "1106222498524344320  [{'id': 'c/9b2d513a-e521-4344-9776-4350235792eb', 'event_type_probs': [0.08480709909559564, 0.028172826623828667, 0.10839924983590002, 0.08209961667539409, 0.04644703443396561, 0.10845480367162497, 0.0035421234553312947, 0.5380772462083598]}]                                                                                                                                                                                                                                                                                                                                                                                                                                                                                                   \n",
       "1106230914458238976  [{'id': 'c/d2dff8c6-4e5f-4c30-b216-c4f578fc1390', 'event_type_probs': [0.05433896182049692, 0.607005981444464, 0.07654494493455964, 0.05015803055773239, 0.1340734475049488, 0.07625635972573566, 0.0008111370060313427, 0.0008111370060313427]}]                                                                                                                                                                                                                                                                                                                                                                                                                                                                                                    "
      ]
     },
     "execution_count": 31,
     "metadata": {},
     "output_type": "execute_result"
    }
   ],
   "source": [
    "labeled_daystream.head()"
   ]
  }
 ],
 "metadata": {
  "kernelspec": {
   "display_name": "Python 3.6 (master)",
   "language": "python",
   "name": "master"
  },
  "language_info": {
   "codemirror_mode": {
    "name": "ipython",
    "version": 3
   },
   "file_extension": ".py",
   "mimetype": "text/x-python",
   "name": "python",
   "nbconvert_exporter": "python",
   "pygments_lexer": "ipython3",
   "version": "3.6.10"
  },
  "pycharm": {
   "stem_cell": {
    "cell_type": "raw",
    "metadata": {
     "collapsed": false
    },
    "source": []
   }
  }
 },
 "nbformat": 4,
 "nbformat_minor": 4
}
